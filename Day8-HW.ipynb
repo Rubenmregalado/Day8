{
 "cells": [
  {
   "cell_type": "markdown",
   "id": "a9215f5c-525b-4508-8b0d-700f55cbd252",
   "metadata": {},
   "source": [
    "## Introduction to Data Science\n",
    "\n",
    "#### University of Redlands - DATA 101\n",
    "#### Prof: Joanna Bieri [joanna_bieri@redlands.edu](mailto:joanna_bieri@redlands.edu)\n",
    "#### [Class Website: data101.joannabieri.com](https://joannabieri.com/data101.html)\n",
    "\n",
    "---------------------------------------\n",
    "# Homework Day 8\n",
    "---------------------------------------\n",
    "\n",
    "GOALS:\n",
    "\n",
    "1. Load data into Python that you find online\n",
    "2. Understand data types and fix some errors\n",
    "3. Find your own data to play with\n",
    "\n",
    "----------------------------------------------------------\n",
    "\n",
    "This homework has **5 questions** and **1 problem**.\n",
    "\n",
    "NOTE: Be kind to yourself. Working with data can be hard! Every data set is different. **Seriously** come get help! Come to lab!\n"
   ]
  },
  {
   "cell_type": "code",
   "execution_count": 193,
   "id": "049c24b6-a6c1-4ccc-b2de-5ea0366d09f8",
   "metadata": {},
   "outputs": [],
   "source": [
    "import numpy as np\n",
    "import pandas as pd\n",
    "\n",
    "import matplotlib.pyplot as plt\n",
    "import plotly.express as px\n",
    "from plotly.subplots import make_subplots\n",
    "import plotly.io as pio\n",
    "pio.renderers.defaule = 'colab'\n",
    "\n",
    "from itables import show"
   ]
  },
  {
   "cell_type": "markdown",
   "id": "23773272-c059-4148-a5a8-91e9da594c46",
   "metadata": {},
   "source": [
    "## Try reading in some data - csv\n",
    "\n",
    "Go to the [Cal Fire Website](https://www.fire.ca.gov/incidents) and scroll to the bottom to see the Incident Data. We will download the file named **ALL DATA AS CSV** this should put the data file into your Downloads folder. \n",
    "\n",
    "Next you need to move the file **mapdataall.csv** from your Downloads folder into your Day8 folder where you are doing your homework. You can open your Downloads folder and drag the file into JupyterLab side bar. Then I can run the command\n",
    "\n",
    "    DF_raw = pd.read_csv('mapdataall.csv')\n",
    "\n",
    "to load the data and look at the data frame."
   ]
  },
  {
   "cell_type": "code",
   "execution_count": 195,
   "id": "e90fdd5f-bd17-4c94-b3f4-7ddc998bd001",
   "metadata": {},
   "outputs": [
    {
     "data": {
      "text/html": [
       "<table id=\"itables_27242dcf_a404_465a_9a02_80fa405c47da\" class=\"display nowrap\" data-quarto-disable-processing=\"true\" style=\"table-layout:auto;width:auto;margin:auto;caption-side:bottom\">\n",
       "<thead>\n",
       "    <tr style=\"text-align: right;\">\n",
       "      \n",
       "      <th>incident_name</th>\n",
       "      <th>incident_is_final</th>\n",
       "      <th>incident_date_last_update</th>\n",
       "      <th>incident_date_created</th>\n",
       "      <th>incident_administrative_unit</th>\n",
       "      <th>incident_administrative_unit_url</th>\n",
       "      <th>incident_county</th>\n",
       "      <th>incident_location</th>\n",
       "      <th>incident_acres_burned</th>\n",
       "      <th>incident_containment</th>\n",
       "      <th>incident_control</th>\n",
       "      <th>incident_cooperating_agencies</th>\n",
       "      <th>incident_longitude</th>\n",
       "      <th>incident_latitude</th>\n",
       "      <th>incident_type</th>\n",
       "      <th>incident_id</th>\n",
       "      <th>incident_url</th>\n",
       "      <th>incident_date_extinguished</th>\n",
       "      <th>incident_dateonly_extinguished</th>\n",
       "      <th>incident_dateonly_created</th>\n",
       "      <th>is_active</th>\n",
       "      <th>calfire_incident</th>\n",
       "      <th>notification_desired</th>\n",
       "    </tr>\n",
       "  </thead><tbody><tr>\n",
       "<td style=\"vertical-align:middle; text-align:left\">\n",
       "<div style=\"float:left; margin-right: 10px;\">\n",
       "<a href=https://mwouts.github.io/itables/><svg class=\"main-svg\" xmlns=\"http://www.w3.org/2000/svg\" xmlns:xlink=\"http://www.w3.org/1999/xlink\"\n",
       "width=\"64\" viewBox=\"0 0 500 400\" style=\"font-family: 'Droid Sans', sans-serif;\">\n",
       "    <g style=\"fill:#d9d7fc\">\n",
       "        <path d=\"M100,400H500V357H100Z\" />\n",
       "        <path d=\"M100,300H400V257H100Z\" />\n",
       "        <path d=\"M0,200H400V157H0Z\" />\n",
       "        <path d=\"M100,100H500V57H100Z\" />\n",
       "        <path d=\"M100,350H500V307H100Z\" />\n",
       "        <path d=\"M100,250H400V207H100Z\" />\n",
       "        <path d=\"M0,150H400V107H0Z\" />\n",
       "        <path d=\"M100,50H500V7H100Z\" />\n",
       "    </g>\n",
       "    <g style=\"fill:#1a1366;stroke:#1a1366;\">\n",
       "   <rect x=\"100\" y=\"7\" width=\"400\" height=\"43\">\n",
       "    <animate\n",
       "      attributeName=\"width\"\n",
       "      values=\"0;400;0\"\n",
       "      dur=\"5s\"\n",
       "      repeatCount=\"indefinite\" />\n",
       "      <animate\n",
       "      attributeName=\"x\"\n",
       "      values=\"100;100;500\"\n",
       "      dur=\"5s\"\n",
       "      repeatCount=\"indefinite\" />\n",
       "  </rect>\n",
       "        <rect x=\"0\" y=\"107\" width=\"400\" height=\"43\">\n",
       "    <animate\n",
       "      attributeName=\"width\"\n",
       "      values=\"0;400;0\"\n",
       "      dur=\"3.5s\"\n",
       "      repeatCount=\"indefinite\" />\n",
       "    <animate\n",
       "      attributeName=\"x\"\n",
       "      values=\"0;0;400\"\n",
       "      dur=\"3.5s\"\n",
       "      repeatCount=\"indefinite\" />\n",
       "  </rect>\n",
       "        <rect x=\"100\" y=\"207\" width=\"300\" height=\"43\">\n",
       "    <animate\n",
       "      attributeName=\"width\"\n",
       "      values=\"0;300;0\"\n",
       "      dur=\"3s\"\n",
       "      repeatCount=\"indefinite\" />\n",
       "    <animate\n",
       "      attributeName=\"x\"\n",
       "      values=\"100;100;400\"\n",
       "      dur=\"3s\"\n",
       "      repeatCount=\"indefinite\" />\n",
       "  </rect>\n",
       "        <rect x=\"100\" y=\"307\" width=\"400\" height=\"43\">\n",
       "    <animate\n",
       "      attributeName=\"width\"\n",
       "      values=\"0;400;0\"\n",
       "      dur=\"4s\"\n",
       "      repeatCount=\"indefinite\" />\n",
       "      <animate\n",
       "      attributeName=\"x\"\n",
       "      values=\"100;100;500\"\n",
       "      dur=\"4s\"\n",
       "      repeatCount=\"indefinite\" />\n",
       "  </rect>\n",
       "        <g style=\"fill:transparent;stroke-width:8; stroke-linejoin:round\" rx=\"5\">\n",
       "            <g transform=\"translate(45 50) rotate(-45)\">\n",
       "                <circle r=\"33\" cx=\"0\" cy=\"0\" />\n",
       "                <rect x=\"-8\" y=\"32\" width=\"16\" height=\"30\" />\n",
       "            </g>\n",
       "\n",
       "            <g transform=\"translate(450 152)\">\n",
       "                <polyline points=\"-15,-20 -35,-20 -35,40 25,40 25,20\" />\n",
       "                <rect x=\"-15\" y=\"-40\" width=\"60\" height=\"60\" />\n",
       "            </g>\n",
       "\n",
       "            <g transform=\"translate(50 352)\">\n",
       "                <polygon points=\"-35,-5 0,-40 35,-5\" />\n",
       "                <polygon points=\"-35,10 0,45 35,10\" />\n",
       "            </g>\n",
       "\n",
       "            <g transform=\"translate(75 250)\">\n",
       "                <polyline points=\"-30,30 -60,0 -30,-30\" />\n",
       "                <polyline points=\"0,30 -30,0 0,-30\" />\n",
       "            </g>\n",
       "\n",
       "            <g transform=\"translate(425 250) rotate(180)\">\n",
       "                <polyline points=\"-30,30 -60,0 -30,-30\" />\n",
       "                <polyline points=\"0,30 -30,0 0,-30\" />\n",
       "            </g>\n",
       "        </g>\n",
       "    </g>\n",
       "</svg>\n",
       "</a>\n",
       "</div>\n",
       "<div>\n",
       "Loading ITables v2.1.4 from the internet...\n",
       "(need <a href=https://mwouts.github.io/itables/troubleshooting.html>help</a>?)</td>\n",
       "</div>\n",
       "</tr></tbody>\n",
       "\n",
       "</table>\n",
       "<link href=\"https://www.unpkg.com/dt_for_itables@2.0.11/dt_bundle.css\" rel=\"stylesheet\">\n",
       "<script type=\"module\">\n",
       "    import {DataTable, jQuery as $} from 'https://www.unpkg.com/dt_for_itables@2.0.11/dt_bundle.js';\n",
       "\n",
       "    document.querySelectorAll(\"#itables_27242dcf_a404_465a_9a02_80fa405c47da:not(.dataTable)\").forEach(table => {\n",
       "        // Define the table data\n",
       "        const data = [[\" Bridge Fire\", \"Y\", \"2018-01-09T13:46:00Z\", \"2017-10-31T11:22:00Z\", \" Shasta-Trinity National Forest \", NaN, \"Shasta\", \"I-5 and Turntable Bay, 7 miles NE of Shasta Lake \", 37.0, 100.0, \"NaN\", \" Shasta-Trinity National Forest \", -122.309, 40.774, \"NaN\", \"2ca11d45-8139-4c16-8af0-880d99b21e82\", \"https://www.fire.ca.gov/incidents/2017/10/31/bridge-fire/\", \"2018-01-09T13:46:00Z\", \"2018-01-09\", \"2017-10-31\", \"N\", false, false], [\"Pala Fire\", \"Y\", \"2020-09-16T14:07:35Z\", \"2009-05-24T14:56:00Z\", \"CAL FIRE San Diego Unit\", NaN, \"San Diego\", \"Hwy 76 and Pala Temecula, northwest of Pala\", 122.0, 100.0, \"NaN\", \"CAL FIRE San Diego Unit\", 1.0, 1.0, \"Wildfire\", \"8f61f461-552d-4538-b186-35ab030da416\", \"https://www.fire.ca.gov/incidents/2009/5/24/pala-fire/\", \"2009-05-25T00:00:00Z\", \"2009-05-25\", \"2009-05-24\", \"N\", true, false], [\"River Fire\", \"Y\", \"2022-10-24T11:39:23Z\", \"2013-02-24T08:16:00Z\", \"CAL FIRE San Bernardino Unit\", NaN, \"Inyo\", \"south of Narrow Gauge Rd & north of Hwy 136, east of Lone Pine\", 407.0, 100.0, \"NaN\", \"CAL FIRE San Bernardino Unit, Inyo County Sheriff, US Forest Service, BLM, LADWP, Lone Pine Volunteer Fire Department, Big Pine Volunteer Fire Department, Olancha Volunteer Fire Department, Independence Volunteer Fire Department.\", -118.01651, 36.602575, \"NaN\", \"094719ba-a47b-4abb-9ec5-a506b2b9fd23\", \"https://www.fire.ca.gov/incidents/2013/2/24/river-fire/\", \"2013-02-28T20:00:00Z\", \"2013-02-28\", \"2013-02-24\", \"N\", true, false], [\"Fawnskin Fire\", \"Y\", \"2013-04-22T09:00:00Z\", \"2013-04-20T17:30:00Z\", \"San Bernardino National Forest\", NaN, \"San Bernardino\", \"west of Delamar Mountain, north of the community of Fawnskin, northside of Big Bear Lake\", 30.0, 100.0, \"NaN\", \"San Bernardino National Forest\", -116.941311, 34.288877, \"NaN\", \"58f89ff8-bd3e-4355-b1c0-8fa05c747d3f\", \"https://www.fire.ca.gov/incidents/2013/4/20/fawnskin-fire/\", \"2013-04-22T09:00:00Z\", \"2013-04-22\", \"2013-04-20\", \"N\", false, false], [\"Gold Fire\", \"Y\", \"2013-05-01T07:00:00Z\", \"2013-04-30T12:59:00Z\", \"CAL FIRE Madera-Mariposa-Merced Unit\", NaN, \"Madera\", \"Between Road 210 and Road 200 near Fine Gold Creek in the community of O\", 274.0, 100.0, \"NaN\", \"CAL FIRE Madera-Mariposa-Merced Unit\", -119.635004, 37.116295, \"NaN\", \"357ffc13-bef9-48eb-810f-c5de851972eb\", \"https://www.fire.ca.gov/incidents/2013/4/30/gold-fire/\", \"2013-05-01T07:00:00Z\", \"2013-05-01\", \"2013-04-30\", \"N\", true, false], [\"Panther Fire\", \"Y\", \"2022-10-24T11:40:03Z\", \"2013-05-01T09:12:00Z\", \"CAL FIRE Butte Unit\", NaN, \"Tehama\", \"140K3 Line, 8 miles northwest of Butte Meadows\", 6896.0, 100.0, \"NaN\", \"CAL FIRE Butte Unit, CAL FIRE, USFS (Lassen and Plumas NF), CDCR, SPI, Collins Pine, Chico Fire Department\", -121.595555, 40.190062, \"NaN\", \"53122f0f-fefc-4dbf-b2d8-566b42ced66d\", \"https://www.fire.ca.gov/incidents/2013/5/1/panther-fire/\", \"2013-05-09T09:00:00Z\", \"2013-05-09\", \"2013-05-01\", \"N\", true, false], [\"Silverado Fire\", \"Y\", \"2013-05-01T17:15:00Z\", \"2013-04-30T23:44:00Z\", \"CAL FIRE Sonoma-Lake-Napa Unit\", NaN, \"Napa\", \"7300 block of Silverado Trail, north of Napa\", 75.0, 100.0, \"NaN\", \"CAL FIRE Sonoma-Lake-Napa Unit\", -122.350844, 38.441792, \"NaN\", \"d8d1c943-7b5d-4885-9043-f41075d6eded\", \"https://www.fire.ca.gov/incidents/2013/4/30/silverado-fire/\", \"2013-05-01T17:15:00Z\", \"2013-05-01\", \"2013-04-30\", \"N\", true, false], [\"Yellow Fire\", \"Y\", \"2013-05-03T06:15:00Z\", \"2013-05-01T02:01:00Z\", \"CAL FIRE Sonoma-Lake-Napa Unit\", NaN, \"Sonoma\", \"Hwy 128 & Yellow Jacket Ranch Rd in Knights Valley, northwest of Calistoga\", 125.0, 100.0, \"NaN\", \"CAL FIRE Sonoma-Lake-Napa Unit\", -122.655616, 38.638828, \"NaN\", \"64e4f81e-d872-44c4-ba8d-111fa77124ba\", \"https://www.fire.ca.gov/incidents/2013/5/1/yellow-fire/\", \"2013-05-03T06:15:00Z\", \"2013-05-03\", \"2013-05-01\", \"N\", true, false], [\"Summit Fire\", \"Y\", \"2022-10-24T11:40:42Z\", \"2013-05-01T12:38:00Z\", \"CAL FIRE/Riverside County Fire \", NaN, \"Riverside\", \"Mias Canyon and Bluff Road in Banning\", 2956.0, 100.0, \"NaN\", \"CAL FIRE/Riverside County Fire \", -116.941311, 34.288877, \"NaN\", \"a1b14be5-a8cf-4e40-8588-96becf4c5879\", \"https://www.fire.ca.gov/incidents/2013/5/1/summit-fire/\", \"2013-05-04T18:30:00Z\", \"2013-05-04\", \"2013-05-01\", \"N\", true, false], [\"Tres Pinos Fire\", \"Y\", \"2013-05-03T18:45:00Z\", \"2013-05-03T11:42:00Z\", \"CAL FIRE San Benito-Monterey \", NaN, \"San Benito\", \"Highway 25 and Horizon Rd, Community of Tres \", 354.0, 100.0, \"NaN\", \"CAL FIRE San Benito-Monterey \", -120.937494, 37.160346, \"NaN\", \"ca68f3c4-4906-4952-b794-4531d7da8369\", \"https://www.fire.ca.gov/incidents/2013/5/3/tres-pinos-fire/\", \"2013-05-03T18:45:00Z\", \"2013-05-03\", \"2013-05-03\", \"N\", true, false], [\"306 Fire\", \"Y\", \"2013-05-05T18:00:00Z\", \"2013-05-01T19:00:00Z\", \"CAL FIRE Tehama-Glenn Unit\", NaN, \"Glenn\", \"2 miles south of the community of Elk Creek\", 217.0, 100.0, \"NaN\", \"CAL FIRE Tehama-Glenn Unit\", -122.560862, 39.514139, \"NaN\", \"5649e78d-7c26-4698-89a0-b0fa9a35cf78\", \"https://www.fire.ca.gov/incidents/2013/5/1/306-fire/\", \"2013-05-05T18:00:00Z\", \"2013-05-05\", \"2013-05-01\", \"N\", true, false], [\"Lytle Fire\", \"Y\", \"2013-05-15T08:15:00Z\", \"2013-05-13T13:30:00Z\", \"USFS San Bernardino National Forest, CAL FIRE San Bernardino Unit\", NaN, \"San Bernardino\", \"I-15 at Sierra Ave, near Lytle Creek\", 75.0, 100.0, \"NaN\", \"USFS San Bernardino National Forest, CAL FIRE San Bernardino Unit, CAL FIRE, USFS, San Bernardino Co., San Bernardino City, Rialto, Rancho, Ontario, CHP, San Bernardino Sheriff's Office\", -117.4408, 34.1834, \"NaN\", \"e2c4b308-9a2d-483b-8434-999bef9adc7c\", \"https://www.fire.ca.gov/incidents/2013/5/13/lytle-fire/\", \"2013-05-15T08:15:00Z\", \"2013-05-15\", \"2013-05-13\", \"N\", true, false], [\"Gorgonio Fire\", \"Y\", \"2022-10-24T11:40:58Z\", \"2013-05-04T11:43:00Z\", \"CAL FIRE/Riverside County Fire\", NaN, \"Riverside\", \"Highway 243, south of Banning and north of Pine Cove\", 650.0, 100.0, \"NaN\", \"CAL FIRE/Riverside County Fire\", -116.855019, 33.894055, \"NaN\", \"958ce6d2-97f9-4848-8620-d14ab87f329d\", \"https://www.fire.ca.gov/incidents/2013/5/4/gorgonio-fire/\", \"2013-05-05T18:45:00Z\", \"2013-05-05\", \"2013-05-04\", \"N\", true, false], [\"Grand Fire\", \"Y\", \"2013-05-21T19:45:00Z\", \"2013-05-15T12:50:00Z\", \"CAL FIRE / USFS Los Padres National Forest\", NaN, \"Kern, Ventura\", \"South of Frazier Mountain Park Rd, South of Frazier Park\", 4346.0, 100.0, \"NaN\", \"CAL FIRE / USFS Los Padres National Forest, CAL FIRE, USFS, KERN CO FD, VENTURA CO FD, KERN COUNTY SO, VENTURA CO SO, LA CO SO, LAFD, CALEMA, BLM, KERN CO RD DEPT., CHP, CALIFORNIA STATE PARKS\", -118.9411, 34.7861, \"NaN\", \"e0d038e9-0926-4c05-8317-ec7075a04b12\", \"https://www.fire.ca.gov/incidents/2013/5/15/grand-fire/\", \"2013-05-21T19:45:00Z\", \"2013-05-21\", \"2013-05-15\", \"N\", true, false], [\"54 Fire\", \"Y\", \"2013-05-17T08:30:00Z\", \"2013-05-16T13:48:00Z\", \"CAL FIRE Riverside Unit\", NaN, \"Riverside\", \"Avenue 54 and Tyler Street, near the community of Coachella\", 40.0, 100.0, \"NaN\", \"CAL FIRE Riverside Unit\", -116.161201, 33.655638, \"NaN\", \"e215290f-d0b4-48fd-be32-f599959347b1\", \"https://www.fire.ca.gov/incidents/2013/5/16/54-fire/\", \"2013-05-17T08:30:00Z\", \"2013-05-17\", \"2013-05-16\", \"N\", true, false], [\"Lake Fire\", \"Y\", \"2013-05-18T19:00:00Z\", \"2013-05-17T13:23:00Z\", \"CAL FIRE/Los Angeles County \", NaN, \"Los Angeles\", \"I-5 Southbound at Lake Hughes Road\", 712.0, 100.0, \"NaN\", \"CAL FIRE/Los Angeles County \", -118.610044, 34.49149, \"NaN\", \"39af7eac-c188-411f-8c8a-d165c5fca4a9\", \"https://www.fire.ca.gov/incidents/2013/5/17/lake-fire/\", \"2013-05-18T19:00:00Z\", \"2013-05-18\", \"2013-05-17\", \"N\", true, false], [\"Lilly 2 Fire\", \"Y\", \"2013-05-20T19:10:00Z\", \"2013-05-19T15:07:00Z\", \"CAL FIRE Madera-Mariposa-Merced Unit\", NaN, \"Madera\", \"Off Road 400 & Sandy Beach Dr. in Yosemite Lakes\", 91.0, 100.0, \"NaN\", \"CAL FIRE Madera-Mariposa-Merced Unit\", -119.7917, 37.1927, \"NaN\", \"2b765a08-c770-4b19-baa8-00dffe3fa838\", \"https://www.fire.ca.gov/incidents/2013/5/19/lilly-2-fire/\", \"2013-05-20T19:10:00Z\", \"2013-05-20\", \"2013-05-19\", \"N\", true, false], [\"Cottontail Fire\", \"Y\", \"2013-05-20T19:10:00Z\", \"2013-05-20T15:45:00Z\", \"CAL FIRE San Luis Obispo Unit\", NaN, \"San Luis Obispo\", \"Cayucos Creek Rd & Thunder Canyon Rd north of Cayucos\", 35.0, 100.0, \"NaN\", \"CAL FIRE San Luis Obispo Unit\", -120.91375, 35.49864, \"NaN\", \"f17c523c-bf01-4245-899b-7c2331096dae\", \"https://www.fire.ca.gov/incidents/2013/5/20/cottontail-fire/\", \"2013-05-20T19:10:00Z\", \"2013-05-20\", \"2013-05-20\", \"N\", true, false], [\"Cherry Fire\", \"Y\", \"2013-05-20T18:50:00Z\", \"2013-05-20T13:47:00Z\", \"CAL FIRE Riverside Unit\", NaN, \"Riverside\", \"Off Sunset Ave & Mesa St in Banning\", 25.0, 100.0, \"NaN\", \"CAL FIRE Riverside Unit\", -116.907213, 33.96201, \"NaN\", \"a60e315c-23d5-4ba4-869c-5c1e22a25e7a\", \"https://www.fire.ca.gov/incidents/2013/5/20/cherry-fire/\", \"2013-05-20T18:50:00Z\", \"2013-05-20\", \"2013-05-20\", \"N\", true, false], [\"Water Fire\", \"Y\", \"2013-05-21T19:30:00Z\", \"2013-05-21T14:16:00Z\", \"CAL FIRE/Riverside County Fire \", NaN, \"Riverside\", \"Off Whitewater Canyon Road in Whitewater\", 90.0, 100.0, \"NaN\", \"CAL FIRE/Riverside County Fire \", -116.6534, 33.9582, \"NaN\", \"13850faa-5bab-4fd7-bac3-433ce9250c4d\", \"https://www.fire.ca.gov/incidents/2013/5/21/water-fire/\", \"2013-05-21T19:30:00Z\", \"2013-05-21\", \"2013-05-21\", \"N\", true, false], [\"Shelton Fire\", \"Y\", \"2013-05-30T13:25:00Z\", \"2013-05-30T11:20:00Z\", \"CAL FIRE Tuolumne-Calaveras Unit \", NaN, \"San Joaquin\", \"off North Shelton Rd in the Linden Peters area\", 303.0, 100.0, \"NaN\", \"CAL FIRE Tuolumne-Calaveras Unit \", -120.90325, 38.04993, \"NaN\", \"0b51d59b-457d-4a62-b066-55c2b8d400e2\", \"https://www.fire.ca.gov/incidents/2013/5/30/shelton-fire/\", \"2013-05-30T13:25:00Z\", \"2013-05-30\", \"2013-05-30\", \"N\", true, false], [\"Border Fire\", \"Y\", \"2013-05-23T08:30:00Z\", \"2013-05-22T16:14:00Z\", \"CAL FIRE San Diego Unit\", NaN, \"San Diego\", \"Off Alta Rd in the Otay Mesa area\", 100.0, 100.0, \"NaN\", \"CAL FIRE San Diego Unit\", -116.900368, 32.564465, \"NaN\", \"e077e091-f890-477c-b948-eb23774b432e\", \"https://www.fire.ca.gov/incidents/2013/5/22/border-fire/\", \"2013-05-23T08:30:00Z\", \"2013-05-23\", \"2013-05-22\", \"N\", true, false], [\"San Felipe Fire\", \"Y\", \"2022-10-24T11:41:15Z\", \"2013-05-23T12:20:00Z\", \"CAL FIRE San Diego Unit\", NaN, \"San Diego\", \"San Felipe Road, north of Highway 78, East of Julian\", 2650.0, 100.0, \"NaN\", \"CAL FIRE San Diego Unit, CALFIRE, USFS, BLM, SAN DIEGO SHERIFF'S OFFICE, AMR, CAL EMA, SAN DIEGO CITY, LOCAL GOVERNMENT, SAN DIEGO FIRE AUTHORITY, RESERVATION, CCC\", -116.52579, 33.12111, \"NaN\", \"859479e3-918c-42c6-bb74-5fdc17930a16\", \"https://www.fire.ca.gov/incidents/2013/5/23/san-felipe-fire/\", \"2013-05-26T17:45:00Z\", \"2013-05-26\", \"2013-05-23\", \"N\", true, false], [\"Homestead Fire\", \"Y\", \"2013-05-25T18:45:00Z\", \"2013-05-25T17:35:00Z\", \"CAL FIRE San Luis Obispo Unit\", NaN, \"San Luis Obispo\", \"Homestead Rd & Hwy 41, northeast of Atascadero \", 50.0, 100.0, \"NaN\", \"CAL FIRE San Luis Obispo Unit\", -120.6368, 35.5123, \"NaN\", \"5b5ce06d-7ea9-4d28-b564-715fd0d04f3f\", \"https://www.fire.ca.gov/incidents/2013/5/25/homestead-fire/\", \"2013-05-25T18:45:00Z\", \"2013-05-25\", \"2013-05-25\", \"N\", true, false], [\"Smiley Fire\", \"Y\", \"2013-05-25T23:00:00Z\", \"2013-05-25T14:59:00Z\", \"CAL FIRE/Riverside County Fire\", NaN, \"Riverside\", \"Off Smiley Blvd & Vista Suelto Rd, north of Moreno Valley\", 124.0, 100.0, \"NaN\", \"CAL FIRE/Riverside County Fire\", -117.187934, 33.963591, \"NaN\", \"9795afee-7e60-4ab3-b5c3-7df67f91c5f9\", \"https://www.fire.ca.gov/incidents/2013/5/25/smiley-fire/\", \"2013-05-25T23:00:00Z\", \"2013-05-25\", \"2013-05-25\", \"N\", true, false], [\"General Fire\", \"Y\", \"2022-10-24T11:41:51Z\", \"2013-05-26T12:04:00Z\", \"CAL FIRE San Diego Unit\", NaN, \"San Diego\", \"Banner Grade area, south of Hwy 78 & east of Hwy 79, southeast of Julian\", 2500.0, 100.0, \"NaN\", \"CAL FIRE San Diego Unit\", -116.5209, 33.04458, \"NaN\", \"07a5397c-a665-4f84-9a82-5f689cb2c8f3\", \"https://www.fire.ca.gov/incidents/2013/5/26/general-fire/\", \"2013-05-31T06:15:00Z\", \"2013-05-31\", \"2013-05-26\", \"N\", true, false], [\"White Fire\", \"Y\", \"2013-05-30T19:30:00Z\", \"2013-05-27T14:45:00Z\", \"USFS Los Padres National Forest\", NaN, \"Santa Barbara\", \"Southeast of Lake Cachuma, approx. 12 miles southeast of Santa Ynez\", 1984.0, 100.0, \"NaN\", \"USFS Los Padres National Forest\", -119.82429, 34.55048, \"NaN\", \"abc61995-8bea-4be1-aa49-ee378ab3baaa\", \"https://www.fire.ca.gov/incidents/2013/5/27/white-fire/\", \"2013-05-30T19:30:00Z\", \"2013-05-30\", \"2013-05-27\", \"N\", false, false], [\"Magic Fire\", \"Y\", \"2013-05-29T15:30:00Z\", \"2013-05-28T11:30:00Z\", \"Los Angeles County Fire Department\", NaN, \"Los Angeles\", \"off Magic Mtn Parkway in Valencia\", 149.0, 100.0, \"NaN\", \"Los Angeles County Fire Department\", -118.58688, 34.419284, \"NaN\", \"794412f2-1ba2-4217-ac38-49272a96fb6f\", \"https://www.fire.ca.gov/incidents/2013/5/28/magic-fire/\", \"2013-05-29T15:30:00Z\", \"2013-05-29\", \"2013-05-28\", \"N\", true, false], [\"Olive Fire\", \"Y\", \"2013-05-29T10:30:00Z\", \"2013-05-28T15:24:00Z\", \"Santa Barbara County Fire\", NaN, \"Santa Barbara\", \"Hwy 246 and Meadowvale, East of Solvang \", 170.0, 100.0, \"NaN\", \"Santa Barbara County Fire\", -120.074655, 34.611824, \"NaN\", \"cb5f34a0-177e-445d-9349-dd94063a01d0\", \"https://www.fire.ca.gov/incidents/2013/5/28/olive-fire/\", \"2013-05-29T10:30:00Z\", \"2013-05-29\", \"2013-05-28\", \"N\", true, false], [\"Branch Fire\", \"Y\", \"2013-06-03T18:30:00Z\", \"2013-06-01T17:27:00Z\", \"Los Padres National Forest\", NaN, \"San Luis Obispo\", \"west of the Carrizo Plain, Los Padres National Forest\", 500.0, 100.0, \"NaN\", \"Los Padres National Forest\", -120.05131, 35.15832, \"NaN\", \"213dc89e-9f29-4480-91a6-aec5fb694999\", \"https://www.fire.ca.gov/incidents/2013/6/1/branch-fire/\", \"2013-06-03T18:30:00Z\", \"2013-06-03\", \"2013-06-01\", \"N\", false, false], [\"Murphy Fire\", \"Y\", \"2013-06-02T16:55:00Z\", \"2013-06-02T13:30:00Z\", \"CAL FIRE Tuolumne-Calaveras Unit\", NaN, \"Tuolumne\", \"off Lime Kiln Rd\", 100.0, 100.0, \"NaN\", \"CAL FIRE Tuolumne-Calaveras Unit\", -120.33313, 37.91529, \"NaN\", \"98bfbb7c-8446-4e2e-a268-7e961353723c\", \"https://www.fire.ca.gov/incidents/2013/6/2/murphy-fire/\", \"2013-06-02T16:55:00Z\", \"2013-06-02\", \"2013-06-02\", \"N\", true, false], [\"Lone Fire\", \"Y\", \"2013-06-03T20:00:00Z\", \"2013-06-03T13:49:00Z\", \"CAL FIRE Butte Unit\", NaN, \"Butte\", \"Palermo Road and Lone Tree Road near Palermo\", 298.0, 100.0, \"All road closures have been lifted.\", \"CAL FIRE Butte Unit, CAL FIRE, El Medio Fire, Chico Fire Dept, Oroville Fire Dept, Butte Co. Sheriff's Dept, Butte Co. Public Works, PG&E and CHP\", -121.576804, 39.434183, \"NaN\", \"1a5192f1-bc99-4130-8683-381e0534b76a\", \"https://www.fire.ca.gov/incidents/2013/6/3/lone-fire/\", \"2013-06-03T20:00:00Z\", \"2013-06-03\", \"2013-06-03\", \"N\", true, false], [\"Hathaway Fire\", \"Y\", \"2013-06-09T16:45:00Z\", \"2013-06-09T12:30:00Z\", \"USFS San Bernardino National Forest\", NaN, \"Riverside\", \"Hathaway Canyon area, northeast of Banning\", 0.0, 100.0, \"NaN\", \"USFS San Bernardino National Forest\", -116.84137, 33.99647, \"NaN\", \"befb9d5c-c0ea-48b8-8589-2586be0275af\", \"https://www.fire.ca.gov/incidents/2013/6/9/hathaway-fire/\", \"2013-06-09T16:45:00Z\", \"2013-06-09\", \"2013-06-09\", \"N\", false, false], [\"Sonoma-Lake-Napa Unit Lightning Fires\", \"Y\", \"2013-06-14T15:45:00Z\", \"2013-06-10T00:46:00Z\", \"CAL FIRE Sonoma-Lake-Napa Unit\", NaN, \"Sonoma, Solano, Lake, Colusa\", \"throughout Sonoma, Solano, Lake & Colusa Counties\", 28.0, 100.0, \"NaN\", \"CAL FIRE Sonoma-Lake-Napa Unit\", -122.0437, 38.4229, \"NaN\", \"5ce45b6c-81b5-422c-9078-8c68dd872c8a\", \"https://www.fire.ca.gov/incidents/2013/6/10/sonoma-lake-napa-unit-lightning-fires/\", \"2013-06-14T15:45:00Z\", \"2013-06-14\", \"2013-06-10\", \"N\", true, false], [\"152 Fire\", \"Y\", \"2013-06-05T08:30:00Z\", \"2013-06-04T15:42:00Z\", \"CAL FIRE Madera-Mariposa-Merced Unit\", NaN, \"Merced\", \"Hwy 152 in San Luis Creek Reservoir\", 124.0, 100.0, \"NaN\", \"CAL FIRE Madera-Mariposa-Merced Unit\", -121.006939, 37.03776, \"NaN\", \"f9e85371-fc46-4f54-822c-7dcdaadde551\", \"https://www.fire.ca.gov/incidents/2013/6/4/152-fire/\", \"2013-06-05T08:30:00Z\", \"2013-06-05\", \"2013-06-04\", \"N\", true, false], [\"Lake Fire\", \"Y\", \"2013-06-06T07:00:00Z\", \"2013-06-05T16:05:00Z\", \"CAL FIRE Sonoma-Lake-Napa Unit\", NaN, \"Lake\", \"Lakeshore Drive and Patterson Drive in Clearlake Oaks\", 30.0, 100.0, \"NaN\", \"CAL FIRE Sonoma-Lake-Napa Unit\", -122.703193, 38.99233, \"NaN\", \"dcb21e64-9d38-47c2-848b-e8e0dea5c2de\", \"https://www.fire.ca.gov/incidents/2013/6/5/lake-fire/\", \"2013-06-06T07:00:00Z\", \"2013-06-06\", \"2013-06-05\", \"N\", true, false], [\"Powerhouse Fire\", \"Y\", \"2013-06-08T18:30:00Z\", \"2013-05-30T15:28:00Z\", \"USFS Angeles National Forest/Los Angeles County/CAL FIRE\", NaN, \"Los Angeles\", \"Angeles National Forest\", 30274.0, 100.0, \"NaN\", \"USFS Angeles National Forest/Los Angeles County/CAL FIRE\", -118.423176, 34.585595, \"NaN\", \"bf37805e-1cc2-4208-9972-753e47874c87\", \"https://www.fire.ca.gov/incidents/2013/5/30/powerhouse-fire/\", \"2013-06-08T18:30:00Z\", \"2013-06-08\", \"2013-05-30\", \"N\", true, false], [\"Vasco Fire\", \"Y\", \"2013-06-08T13:25:00Z\", \"2013-06-08T10:16:00Z\", \"CAL FIRE Santa Clara Unit\", NaN, \"Alameda\", \"off Vasco Road & North Vasco Road, north of Livermore\", 240.0, 100.0, \"NaN\", \"CAL FIRE Santa Clara Unit\", -121.737213, 37.775057, \"NaN\", \"2ad509e4-99f1-4e1a-81eb-839f772f9c45\", \"https://www.fire.ca.gov/incidents/2013/6/8/vasco-fire/\", \"2013-06-08T13:25:00Z\", \"2013-06-08\", \"2013-06-08\", \"N\", true, false], [\"Viper Fire\", \"Y\", \"2013-06-08T19:00:00Z\", \"2013-06-08T15:37:00Z\", \"CAL FIRE/Riverside County Fire\", NaN, \"Riverside\", \"off San Timoteo Canyon Rd and Viper Rd, north of Moreno Valley\", 42.0, 100.0, \"NaN\", \"CAL FIRE/Riverside County Fire\", -117.1265, 33.96936, \"NaN\", \"e9505435-e861-4f33-9069-b0040fb2a135\", \"https://www.fire.ca.gov/incidents/2013/6/8/viper-fire/\", \"2013-06-08T19:00:00Z\", \"2013-06-08\", \"2013-06-08\", \"N\", true, false], [\"Northern California Lightning Activity\", \"Y\", \"2013-06-14T16:30:00Z\", \"2013-06-10T00:46:00Z\", \"California Northern Region\", NaN, \"NaN\", \"Across Northern California\", 60.0, 100.0, \"NaN\", \"California Northern Region\", -121.5747, 39.9845, \"NaN\", \"369e41d4-75a6-4be0-a38a-5f7450553631\", \"https://www.fire.ca.gov/incidents/2013/6/10/northern-california-lightning-activity/\", \"2013-06-14T16:30:00Z\", \"2013-06-14\", \"2013-06-10\", \"N\", true, false], [\"Roadrunner Fire\", \"Y\", \"2013-06-13T09:45:00Z\", \"2013-06-12T16:43:00Z\", \"CAL FIRE Amador-El Dorado Unit\", NaN, \"Amador\", \"Roadrunner Drive, south of Ione\", 96.0, 100.0, \"NaN\", \"CAL FIRE Amador-El Dorado Unit\", -120.966016, 38.27783, \"NaN\", \"bf59bc5b-1398-4ae5-adef-6f61b9ee1b90\", \"https://www.fire.ca.gov/incidents/2013/6/12/roadrunner-fire/\", \"2013-06-13T09:45:00Z\", \"2013-06-13\", \"2013-06-12\", \"N\", true, false], [\"Revis Fire\", \"Y\", \"2013-06-14T16:30:00Z\", \"2013-06-12T16:40:00Z\", \"CAL FIRE Madera-Mariposa-Merced Unit\", NaN, \"Madera\", \"Off Revis Road & Yosemite Springs Parkway in Yosemite Lake Parks area in Coarsegold\", 75.0, 100.0, \"NaN\", \"CAL FIRE Madera-Mariposa-Merced Unit\", -119.75636, 37.169379, \"NaN\", \"7055a440-5d4c-4f58-bac9-2954ff6698a5\", \"https://www.fire.ca.gov/incidents/2013/6/12/revis-fire/\", \"2013-06-14T16:30:00Z\", \"2013-06-14\", \"2013-06-12\", \"N\", true, false], [\"Clinton Fire\", \"Y\", \"2013-06-13T21:30:00Z\", \"2013-06-13T11:54:00Z\", \"CAL FIRE/Fresno County Fire\", NaN, \"Fresno\", \"Clinton and Highland, East of Fresno\", 108.0, 100.0, \"NaN\", \"CAL FIRE/Fresno County Fire\", -119.628389, 36.772425, \"NaN\", \"a2cfda2a-21c1-4e45-90b5-37d931b4a926\", \"https://www.fire.ca.gov/incidents/2013/6/13/clinton-fire/\", \"2013-06-13T21:30:00Z\", \"2013-06-13\", \"2013-06-13\", \"N\", true, false], [\"Carstens Fire\", \"Y\", \"2013-06-26T11:15:00Z\", \"2013-06-16T14:12:00Z\", \"CAL FIRE Madera-Mariposa-Merced Unit / Sierra National Forest \", NaN, \"Mariposa\", \"Off Carstens Road, east of 140 in the Midpines area.\", 1708.0, 100.0, \"NaN\", \"CAL FIRE Madera-Mariposa-Merced Unit / Sierra National Forest , CAL FIRE, US Forest Service, California Highway Patrol, National Park Service, Mariposa County, Mariposa County Fire, Mariposa County Sheriff.\", -119.91071, 37.58202, \"NaN\", \"bb2eb175-43a3-4a5c-bff6-e3669e52c1d1\", \"https://www.fire.ca.gov/incidents/2013/6/16/carstens-fire/\", \"2013-06-26T11:15:00Z\", \"2013-06-26\", \"2013-06-16\", \"N\", true, false], [\"PFE Fire\", \"Y\", \"2013-06-13T14:15:00Z\", \"2013-06-13T11:28:00Z\", \"CAL FIRE/Placer County Fire\", NaN, \"Placer\", \"PFE Road and Watt Avenue, West Roseville\", 237.0, 100.0, \"NaN\", \"CAL FIRE/Placer County Fire\", -121.380862, 38.729297, \"NaN\", \"fe47b1c2-b9c0-44be-8d10-f270056db35c\", \"https://www.fire.ca.gov/incidents/2013/6/13/pfe-fire/\", \"2013-06-13T14:15:00Z\", \"2013-06-13\", \"2013-06-13\", \"N\", true, false], [\"Michelle Fire\", \"Y\", \"2013-06-13T21:30:00Z\", \"2013-06-13T15:54:00Z\", \"CAL FIRE/Fresno County Fire\", NaN, \"Fresno\", \"off McKinley Ave & Academy Ave, north of Sanger \", 35.0, 100.0, \"NaN\", \"CAL FIRE/Fresno County Fire\", -119.558244, 36.763367, \"NaN\", \"953f17a1-2034-467b-b48c-28da1a9af60e\", \"https://www.fire.ca.gov/incidents/2013/6/13/michelle-fire/\", \"2013-06-13T21:30:00Z\", \"2013-06-13\", \"2013-06-13\", \"N\", true, false], [\"Palmyrita Fire\", \"Y\", \"2013-06-15T08:00:00Z\", \"2013-06-14T13:47:00Z\", \"CAL FIRE/Riverside County Fire\", NaN, \"Riverside\", \"Highgrove Pass Rd and Pigeon Pass Rd, Community of Highgrove\", 40.0, 100.0, \"NaN\", \"CAL FIRE/Riverside County Fire\", -117.302057, 34.001745, \"NaN\", \"2d1f0c40-92e7-4540-991b-d353ed68ec6c\", \"https://www.fire.ca.gov/incidents/2013/6/14/palmyrita-fire/\", \"2013-06-15T08:00:00Z\", \"2013-06-15\", \"2013-06-14\", \"N\", true, false], [\"Rolling Fire\", \"Y\", \"2022-10-24T11:42:08Z\", \"2013-06-16T18:17:00Z\", \"CAL FIRE Madera-Mariposa-Merced Unit\", NaN, \"Madera\", \"off Hwy 41 & Road 145, northwest of Friant \", 480.0, 100.0, \"NaN\", \"CAL FIRE Madera-Mariposa-Merced Unit\", -119.78106, 37.015575, \"NaN\", \"05d0fed7-8502-4a6f-9c5c-b9cee0e75408\", \"https://www.fire.ca.gov/incidents/2013/6/16/rolling-fire/\", \"2013-06-18T19:30:00Z\", \"2013-06-18\", \"2013-06-16\", \"N\", true, false], [\"California Fire\", \"Y\", \"2013-06-18T22:30:00Z\", \"2013-06-18T15:18:00Z\", \"CAL FIRE Sanoma-Lake-Napa Unit\", NaN, \"Solano\", \"Off Lake Herman Rd, west of Hwy 680 in Benicia\", 124.0, 100.0, \"NaN\", \"CAL FIRE Sanoma-Lake-Napa Unit\", -122.13802, 38.08744, \"NaN\", \"2b403f03-fe84-450a-90b7-befb8acc7e70\", \"https://www.fire.ca.gov/incidents/2013/6/18/california-fire/\", \"2013-06-18T22:30:00Z\", \"2013-06-18\", \"2013-06-18\", \"N\", true, false], [\"Sierra Fire\", \"Y\", \"2013-06-19T08:45:00Z\", \"2013-06-17T14:41:00Z\", \"CAL FIRE/Fresno County Fire\", NaN, \"Fresno\", \"Black Mountain Road at Lodge Road near Sierra High School, southeast of Auberry\", 46.0, 100.0, \"NaN\", \"CAL FIRE/Fresno County Fire\", -119.463757, 37.03087, \"NaN\", \"15e7e15d-f707-473e-b0f3-6534cfd845b7\", \"https://www.fire.ca.gov/incidents/2013/6/17/sierra-fire/\", \"2013-06-19T08:45:00Z\", \"2013-06-19\", \"2013-06-17\", \"N\", true, false], [\"George Fire\", \"Y\", \"2013-06-25T17:15:00Z\", \"2013-06-25T13:36:00Z\", \"CAL FIRE/Fresno County Fire\", NaN, \"Fresno\", \"off Bronco Lane in Squaw Valley\", 150.0, 100.0, \"NaN\", \"CAL FIRE/Fresno County Fire\", -119.2248, 36.7218, \"NaN\", \"23ec2f69-da30-4983-80c2-1f04bfea6f9a\", \"https://www.fire.ca.gov/incidents/2013/6/25/george-fire/\", \"2013-06-25T17:15:00Z\", \"2013-06-25\", \"2013-06-25\", \"N\", true, false], [\"Mount Fire\", \"Y\", \"2013-06-20T13:15:00Z\", \"2013-06-20T14:29:00Z\", \"CAL FIRE Sanoma-Lake-Napa Unit\", NaN, \"Lake\", \"Off Konocti Rd & Oak Hills Ln, east of Kelseyville\", 25.0, 100.0, \"NaN\", \"CAL FIRE Sanoma-Lake-Napa Unit\", -122.81796, 38.98058, \"NaN\", \"d489b45e-dcba-4eaa-8bb5-6a23255562da\", \"https://www.fire.ca.gov/incidents/2013/6/20/mount-fire/\", \"2013-06-20T13:15:00Z\", \"2013-06-20\", \"2013-06-20\", \"N\", true, false], [\"Mills Fire\", \"Y\", \"2022-10-24T11:35:12Z\", \"2013-06-28T14:30:00Z\", \"CAL FIRE San Bernardino Unit/ City of Redlands/San Bernardino Sheriff\", NaN, \"San Bernardino\", \"south of Highway 38 & Bryant Street, northwest of Yucaipa \", 534.0, 100.0, \"NaN\", \"CAL FIRE San Bernardino Unit/ City of Redlands/San Bernardino Sheriff\", -117.048397, 34.071556, \"NaN\", \"6011819c-19ac-46c2-aa48-0ee8be0e48c0\", \"https://www.fire.ca.gov/incidents/2013/6/28/mills-fire/\", \"2013-07-01T06:00:00Z\", \"2013-07-01\", \"2013-06-28\", \"N\", true, false], [\"Concord Fire\", \"Y\", \"2013-07-01T18:30:00Z\", \"2013-07-01T15:41:00Z\", \"CAL FIRE Santa Clara Unit\", NaN, \"Contra Costa\", \"off Concord Ave & Vineyard Parkway in Brentwood\", 274.0, 100.0, \"NaN\", \"CAL FIRE Santa Clara Unit\", -121.74367, 39.90465, \"NaN\", \"95399a9c-8b3e-4413-9f56-5ed57d3d81b3\", \"https://www.fire.ca.gov/incidents/2013/7/1/concord-fire/\", \"2013-07-01T18:30:00Z\", \"2013-07-01\", \"2013-07-01\", \"N\", true, false], [\"Freeman Fire\", \"Y\", \"2013-06-29T18:30:00Z\", \"2013-06-29T14:09:00Z\", \"CAL FIRE San Benito-Monterey Unit \", NaN, \"Monterey\", \"off Hwy 198, 10 miles east of King City\", 105.0, 100.0, \"NaN\", \"CAL FIRE San Benito-Monterey Unit \", -120.8973, 36.1531, \"NaN\", \"58317b8d-7f4d-466f-b2c7-035c25fb00f0\", \"https://www.fire.ca.gov/incidents/2013/6/29/freeman-fire/\", \"2013-06-29T18:30:00Z\", \"2013-06-29\", \"2013-06-29\", \"N\", true, false], [\"Kirker Fire\", \"Y\", \"2022-10-24T11:37:51Z\", \"2013-07-01T13:19:00Z\", \"CAL FIRE Santa Clara Unit\", NaN, \"Contra Costa\", \"Kirker Pass Road south of Pittsburg\", 492.0, 100.0, \"NaN\", \"CAL FIRE Santa Clara Unit\", -121.91453, 37.96866, \"NaN\", \"522114fe-ada8-49a9-9bb2-5891103ff0ca\", \"https://www.fire.ca.gov/incidents/2013/7/1/kirker-fire/\", \"2013-07-01T18:40:00Z\", \"2013-07-01\", \"2013-07-01\", \"N\", true, false], [\"Northern Region July Lightning\", \"Y\", \"2013-07-04T10:45:00Z\", \"2013-07-02T12:00:00Z\", \"CAL FIRE Northern Region\", NaN, \"NaN\", \"Throughout northeastern California\", 754.0, 100.0, \"NaN\", \"CAL FIRE Northern Region\", -121.5747, 39.9845, \"NaN\", \"42690ee2-a5ed-4320-9a55-d5ff3d1a80f5\", \"https://www.fire.ca.gov/incidents/2013/7/2/northern-region-july-lightning/\", \"2013-07-04T10:45:00Z\", \"2013-07-04\", \"2013-07-02\", \"N\", true, false], [\"Fox Fire (formally 3-7 Fire)\", \"Y\", \"2013-07-05T18:30:00Z\", \"2013-07-03T22:56:00Z\", \"CAL FIRE Lassen-Modoc Unit\", NaN, \"Modoc\", \"5 miles northwest of Aiden\", 502.0, 100.0, \"NaN\", \"CAL FIRE Lassen-Modoc Unit\", -121.035, 41.2415, \"NaN\", \"8b51033d-abc6-4ea4-8983-990ad4e1c45e\", \"https://www.fire.ca.gov/incidents/2013/7/3/fox-fire-formally-3-7-fire/\", \"2013-07-05T18:30:00Z\", \"2013-07-05\", \"2013-07-03\", \"N\", true, false], [\"Vina Fire\", \"Y\", \"2013-07-04T10:30:00Z\", \"2013-07-04T07:30:00Z\", \"CAL FIRE Tehama-Glenn Unit\", NaN, \"Tehama\", \"Tehama-Vina Rd and Sherman Rd, Los Molinos\", 200.0, 100.0, \"NaN\", \"CAL FIRE Tehama-Glenn Unit\", -122.079871, 40.012398, \"NaN\", \"c94959d7-eb88-4724-8feb-ba0662afca10\", \"https://www.fire.ca.gov/incidents/2013/7/4/vina-fire/\", \"2013-07-04T10:30:00Z\", \"2013-07-04\", \"2013-07-04\", \"N\", true, false], [\"Grant Fire\", \"Y\", \"2013-07-04T11:30:00Z\", \"2013-07-04T10:00:00Z\", \"CAL FIRE Santa Clara Unit\", NaN, \"Alameda\", \"off Grant Ln Rd & I-580 in the Altamont Pass, 5 miles west of Tracy\", 50.0, 100.0, \"NaN\", \"CAL FIRE Santa Clara Unit\", -121.5869, 37.7393, \"NaN\", \"07fb8b11-f39b-4cd0-8a27-2d4fef7fe680\", \"https://www.fire.ca.gov/incidents/2013/7/4/grant-fire/\", \"2013-07-04T11:30:00Z\", \"2013-07-04\", \"2013-07-04\", \"N\", true, false], [\"Fallon Fire\", \"Y\", \"2013-07-06T14:30:00Z\", \"2013-07-06T13:09:00Z\", \"CAL FIRE Santa Clara Unit / Alameda County Fire\", NaN, \"Alameda\", \"off Fallon Rd & Camino Tassajara near Dublin \", 38.0, 100.0, \"NaN\", \"CAL FIRE Santa Clara Unit / Alameda County Fire\", -121.86216, 37.74241, \"NaN\", \"4c04a4e5-f580-4e62-bb53-2575c72d29dc\", \"https://www.fire.ca.gov/incidents/2013/7/6/fallon-fire/\", \"2013-07-06T14:30:00Z\", \"2013-07-06\", \"2013-07-06\", \"N\", true, false], [\"Chariot Fire\", \"Y\", \"2013-07-15T06:15:00Z\", \"2013-07-06T12:55:00Z\", \"CAL FIRE San Diego Unit / Cleveland National Forest\", NaN, \"San Diego\", \"off Sunrise Hwy, 9 miles southeast of Julian\", 7055.0, 100.0, \"NaN\", \"CAL FIRE San Diego Unit / Cleveland National Forest, CAL FIRE, USFS Cleveland NF, CHP, San Diego County Fire Authority, San Diego County Sheriff, California State Parks\", -116.47381, 32.95435, \"NaN\", \"ee19b2ec-a96a-4738-994e-fb3ea016e053\", \"https://www.fire.ca.gov/incidents/2013/7/6/chariot-fire/\", \"2013-07-15T06:15:00Z\", \"2013-07-15\", \"2013-07-06\", \"N\", true, false], [\"Adelaida Fire\", \"Y\", \"2013-07-07T22:00:00Z\", \"2013-07-07T13:16:00Z\", \"CAL FIRE San Luis Obispo\", NaN, \"San Luis Obispo\", \"off Adelaida Rd & Vineyard Dr, west of Paso Robles\", 85.0, 100.0, \"NaN\", \"CAL FIRE San Luis Obispo\", -120.83417, 35.62743, \"NaN\", \"a97d2b3a-3a53-424f-852c-5f1b8d199cc3\", \"https://www.fire.ca.gov/incidents/2013/7/7/adelaida-fire/\", \"2013-07-07T22:00:00Z\", \"2013-07-07\", \"2013-07-07\", \"N\", true, false], [\"McGanney Fire\", \"Y\", \"2013-07-08T17:30:00Z\", \"2013-07-08T09:59:00Z\", \"CAL FIRE Nevada-Placer-Yuba Unit\", NaN, \"Yuba\", \"off Highway 20 and McGanney Lane, west of Smartsville\", 73.0, 100.0, \"NaN\", \"CAL FIRE Nevada-Placer-Yuba Unit\", -121.31634, 39.206, \"NaN\", \"397ed8e6-6088-4e03-9316-8f50c65a83be\", \"https://www.fire.ca.gov/incidents/2013/7/8/mcganney-fire/\", \"2013-07-08T17:30:00Z\", \"2013-07-08\", \"2013-07-08\", \"N\", true, false], [\"Fiddler Fire\", \"Y\", \"2013-07-09T15:00:00Z\", \"2013-07-09T11:59:00Z\", \"CAL FIRE Shasta-Trinity Unit\", NaN, \"Shasta\", \"off Fiddler\", 43.0, 100.0, \"NaN\", \"CAL FIRE Shasta-Trinity Unit\", -122.7338, 40.373, \"NaN\", \"3f64fc8a-8870-4e64-b60a-3e13c8532acd\", \"https://www.fire.ca.gov/incidents/2013/7/9/fiddler-fire/\", \"2013-07-09T15:00:00Z\", \"2013-07-09\", \"2013-07-09\", \"N\", true, false], [\"Kyburz Fire\", \"Y\", \"2013-07-11T18:30:00Z\", \"2013-07-08T12:45:00Z\", \"Eldorado National Forest\", NaN, \"El Dorado\", \"Off Hwy 50 at 30 Mile Tract, Kyburz\", 572.0, 100.0, \"NaN\", \"Eldorado National Forest\", -120.298, 38.774, \"NaN\", \"d778a3f0-2d23-43c1-b9bc-1ea33898fab2\", \"https://www.fire.ca.gov/incidents/2013/7/8/kyburz-fire/\", \"2013-07-11T18:30:00Z\", \"2013-07-11\", \"2013-07-08\", \"N\", false, false], [\"Uvas Fire\", \"Y\", \"2013-07-12T17:45:00Z\", \"2013-07-12T13:09:00Z\", \"CAL FIRE Santa Clara Unit\", NaN, \"Santa Clara\", \"Uvas Road and Casa Loma Road, near Calero County Park,  west of Morgan Hill\", 50.0, 100.0, \"NaN\", \"CAL FIRE Santa Clara Unit\", -121.7804, 37.1438, \"NaN\", \"e779a754-29fd-472f-8d29-46cfee32d3c2\", \"https://www.fire.ca.gov/incidents/2013/7/12/uvas-fire/\", \"2013-07-12T17:45:00Z\", \"2013-07-12\", \"2013-07-12\", \"N\", true, false], [\"Diablo Fire\", \"Y\", \"2013-07-13T21:45:00Z\", \"2013-07-12T15:35:00Z\", \"CAL FIRE Santa Clara Unit\", NaN, \"Stanislaus\", \"off Diablo Grande Parkway, west of I-5, southwest of Patterson\", 150.0, 100.0, \"NaN\", \"CAL FIRE Santa Clara Unit\", -121.1955, 37.436, \"NaN\", \"873074c8-4b6d-417b-a78c-1d1430027805\", \"https://www.fire.ca.gov/incidents/2013/7/12/diablo-fire/\", \"2013-07-13T21:45:00Z\", \"2013-07-13\", \"2013-07-12\", \"N\", true, false], [\"Mountain Fire\", \"Y\", \"2022-10-24T11:38:10Z\", \"2013-07-15T13:43:00Z\", \"CAL FIRE Riverside Unit / San Bernardino National Forest\", NaN, \"Riverside\", \"Hwy 243 & Hwy 74 near Mountain Center\", 27531.0, 100.0, \"NaN\", \"CAL FIRE Riverside Unit / San Bernardino National Forest\", -116.72885, 33.7095, \"NaN\", \"a3149fec-4d48-427c-8b2c-59e8b79d59db\", \"https://www.fire.ca.gov/incidents/2013/7/15/mountain-fire/\", \"2013-07-30T18:00:00Z\", \"2013-07-30\", \"2013-07-15\", \"N\", true, false], [\"Orleans Complex\", \"Y\", \"2013-08-03T15:00:00Z\", \"2013-08-03T08:00:00Z\", \"Six Rivers National Forest\", NaN, \"Humboldt\", \"10 miles east of Somes Bar, California\", 0.0, 100.0, \"NaN\", \"Six Rivers National Forest\", -123.376, 41.333, \"NaN\", \"7d4f107b-66a9-43d2-819d-ec855c2947bf\", \"https://www.fire.ca.gov/incidents/2013/8/3/orleans-complex/\", \"2013-08-03T15:00:00Z\", \"2013-08-03\", \"2013-08-03\", \"N\", false, false], [\"Silverwood Fire\", \"Y\", \"2013-07-26T18:15:00Z\", \"2013-07-25T15:09:00Z\", \"San Bernardino County Fire\", NaN, \"San Bernardino\", \" Hwy 138 west of Hwy 173\", 75.0, 100.0, \"NaN\", \"San Bernardino County Fire\", -117.352, 34.316, \"NaN\", \"ed51bbd2-6f8e-4f46-9073-3673a583fada\", \"https://www.fire.ca.gov/incidents/2013/7/25/silverwood-fire/\", \"2013-07-26T18:15:00Z\", \"2013-07-26\", \"2013-07-25\", \"N\", true, false], [\"Flume Fire\", \"Y\", \"2013-07-28T17:50:00Z\", \"2013-07-28T09:43:00Z\", \"CAL FIRE San Diego Unit\", NaN, \"San Diego\", \"Barrett Lake Road and Highway 94\", 25.0, 100.0, \"NaN\", \"CAL FIRE San Diego Unit\", -116.707335, 32.612773, \"NaN\", \"c6cfeed9-55bb-4fdb-8a52-e4d947dba721\", \"https://www.fire.ca.gov/incidents/2013/7/28/flume-fire/\", \"2013-07-28T17:50:00Z\", \"2013-07-28\", \"2013-07-28\", \"N\", true, false], [\"Aspen Fire\", \"Y\", \"2013-09-24T20:15:00Z\", \"2013-07-22T22:15:00Z\", \"Sierra National Forest\", NaN, \"Fresno\", \"Seven miles north of Big Creek\", 22992.0, 100.0, \"NaN\", \"Sierra National Forest\", -119.318, 37.279, \"NaN\", \"bee8c339-4f26-4b78-a5b4-a8a0ebdb8786\", \"https://www.fire.ca.gov/incidents/2013/7/22/aspen-fire/\", \"2013-09-24T20:15:00Z\", \"2013-09-24\", \"2013-07-22\", \"N\", false, false], [\"Salmon River Complex\", \"Y\", \"2013-08-31T06:45:00Z\", \"2013-07-31T22:00:00Z\", \"Klamath National Forest\", NaN, \"Siskiyou\", \"North Fork of the Salmon River, West of Sawyers Bar, Klamath National Forest\", 14754.0, 100.0, \"NaN\", \"Klamath National Forest\", -123.176, 41.32, \"NaN\", \"ba76c009-09c9-497c-b923-1ac8cf05c20d\", \"https://www.fire.ca.gov/incidents/2013/7/31/salmon-river-complex/\", \"2013-08-31T06:45:00Z\", \"2013-08-31\", \"2013-07-31\", \"N\", false, false], [\"Branch Fire\", \"Y\", \"2013-08-04T14:45:00Z\", \"2013-08-01T16:01:00Z\", \"CAL FIRE Butte Unit\", NaN, \"Butte\", \"Near Rocky Peak - North Fork Lake Oroville near Cherokee\", 92.0, 100.0, \"NaN\", \"CAL FIRE Butte Unit\", -121.50354, 39.6612, \"NaN\", \"0b51d3d5-bb3a-426d-9c12-c1878a01d7cf\", \"https://www.fire.ca.gov/incidents/2013/8/1/branch-fire/\", \"2013-08-04T14:45:00Z\", \"2013-08-04\", \"2013-08-01\", \"N\", true, false], [\"Redlands Fire\", \"Y\", \"2013-07-17T07:45:00Z\", \"2013-07-16T17:48:00Z\", \"CAL FIRE / Riverside County Fire\", NaN, \"Riverside\", \"Redlands Boulevard and San Timoteo Canyon Road, north of Moreno Valley\", 150.0, 100.0, \"NaN\", \"CAL FIRE / Riverside County Fire\", -117.164997, 33.990128, \"NaN\", \"d48a839f-d8da-44d7-9b35-b9f61aa28c61\", \"https://www.fire.ca.gov/incidents/2013/7/16/redlands-fire/\", \"2013-07-17T07:45:00Z\", \"2013-07-17\", \"2013-07-16\", \"N\", true, false], [\"Relay Fire\", \"Y\", \"2013-08-04T18:00:00Z\", \"2013-08-04T16:29:00Z\", \"CAL FIRE/Riverside County  Fire\", NaN, \"Riverside\", \"near Mt. David, south of Beaumont\", 60.0, 100.0, \"NaN\", \"CAL FIRE/Riverside County  Fire\", -116.99895, 33.91027, \"NaN\", \"0658b1f8-5323-4152-b6d1-b208736587db\", \"https://www.fire.ca.gov/incidents/2013/8/4/relay-fire/\", \"2013-08-04T18:00:00Z\", \"2013-08-04\", \"2013-08-04\", \"N\", true, false], [\"Water Fire\", \"Y\", \"2013-07-25T18:30:00Z\", \"2013-07-23T09:15:00Z\", \"Kern County Fire\", NaN, \"Kern\", \"West side of Interstate 5 at Tejon Ranch\", 612.0, 100.0, \"NaN\", \"Kern County Fire\", -118.93388, 34.90327, \"NaN\", \"86faecab-ed3a-4fce-95cf-89433a825c72\", \"https://www.fire.ca.gov/incidents/2013/7/23/water-fire/\", \"2013-07-25T18:30:00Z\", \"2013-07-25\", \"2013-07-23\", \"N\", true, false], [\"Pratt Fire\", \"Y\", \"2013-07-23T16:00:00Z\", \"2013-07-23T13:29:00Z\", \"CAL FIRE Mendocino Unit\", NaN, \"Mendocino\", \"Hwy 175 & Pratt Ranch Road, East of Hopland \", 45.0, 100.0, \"NaN\", \"CAL FIRE Mendocino Unit\", -123.067671, 38.980846, \"NaN\", \"f1d7f375-8aa3-4cb5-a864-bae9bb90cbd1\", \"https://www.fire.ca.gov/incidents/2013/7/23/pratt-fire/\", \"2013-07-23T16:00:00Z\", \"2013-07-23\", \"2013-07-23\", \"N\", true, false], [\"Rancho Fire\", \"Y\", \"2022-10-24T11:42:25Z\", \"2013-07-19T12:00:00Z\", \"CAL FIRE / Kern County Fire / State Parks / US Forest Service\", NaN, \"Kern\", \"West side of Interstate 5 in Lebec (Kern County)\", 500.0, 100.0, \"Oak Knolls Road\", \"CAL FIRE / Kern County Fire / State Parks / US Forest Service, Cal Fire, United States Forest Service, Ventura County Fire, Kern County Sheriff Department, Calif State Parks, Calif Highway Patrol\", -118.9194, 34.882, \"NaN\", \"591a56a5-e9c0-45a0-96bd-34098588c39b\", \"https://www.fire.ca.gov/incidents/2013/7/19/rancho-fire/\", \"2013-07-22T18:45:00Z\", \"2013-07-22\", \"2013-07-19\", \"N\", true, false], [\"Paskenta Fire\", \"Y\", \"2013-07-19T15:00:00Z\", \"2013-07-19T13:32:00Z\", \"CAL FIRE Tehama-Glenn Unit\", NaN, \"Tehama\", \"West of Corning\", 195.0, 100.0, \"NaN\", \"CAL FIRE Tehama-Glenn Unit\", -122.330879, 39.961309, \"NaN\", \"4423899b-6197-4ef5-9f73-bca1763f17e6\", \"https://www.fire.ca.gov/incidents/2013/7/19/paskenta-fire/\", \"2013-07-19T15:00:00Z\", \"2013-07-19\", \"2013-07-19\", \"N\", true, false], [\"Lakeville Fire\", \"Y\", \"2013-07-26T17:45:00Z\", \"2013-07-26T13:45:00Z\", \"CAL FIRE Sonoma-Lake-Napa Unit\", NaN, \"Sonoma\", \"Off Lakeville Hwy, 6 miles SE of Petaluma\", 158.0, 100.0, \"NaN\", \"CAL FIRE Sonoma-Lake-Napa Unit\", -122.51253, 38.17693, \"NaN\", \"c9b5d1ff-c042-4b39-8bac-b10fb6fc6c13\", \"https://www.fire.ca.gov/incidents/2013/7/26/lakeville-fire/\", \"2013-07-26T17:45:00Z\", \"2013-07-26\", \"2013-07-26\", \"N\", true, false], [\"50 Fire\", \"Y\", \"2013-07-19T17:15:00Z\", \"2013-07-19T14:12:00Z\", \"CAL FIRE / Sacramento Metropolitan Fire\", NaN, \"El Dorado, Sacramento\", \"South of Hwy 50 at the El Dorado and Sacramento County line\", 163.0, 100.0, \"NaN\", \"CAL FIRE / Sacramento Metropolitan Fire\", -121.08438, 38.63987, \"NaN\", \"4630e9ce-88ec-4159-9bc9-25ff5f8216cc\", \"https://www.fire.ca.gov/incidents/2013/7/19/50-fire/\", \"2013-07-19T17:15:00Z\", \"2013-07-19\", \"2013-07-19\", \"N\", true, false], [\"Heacock Fire\", \"Y\", \"2013-07-20T19:30:00Z\", \"2013-07-19T16:21:00Z\", \"CAL FIRE / Riverside County Fire\", NaN, \"Riverside\", \"Heacock St & Sandy Glade Ave in Moreno Valley\", 40.0, 100.0, \"NaN\", \"CAL FIRE / Riverside County Fire\", -117.2508, 33.9634, \"NaN\", \"8fb3a438-3146-4b8d-8f20-bfa8d6610f84\", \"https://www.fire.ca.gov/incidents/2013/7/19/heacock-fire/\", \"2013-07-20T19:30:00Z\", \"2013-07-20\", \"2013-07-19\", \"N\", true, false], [\"Gilman Fire\", \"Y\", \"2013-07-19T19:30:00Z\", \"2013-07-19T17:31:00Z\", \"CAL FIRE / Riverside County Fire\", NaN, \"Riverside\", \"Hwy 60 east of Gilman Springs Rd, east of Moreno Valley\", 15.0, 100.0, \"NaN\", \"CAL FIRE / Riverside County Fire\", -117.09306, 33.94528, \"NaN\", \"2b300dd5-4474-4b8a-9b4c-3a3014afe27d\", \"https://www.fire.ca.gov/incidents/2013/7/19/gilman-fire/\", \"2013-07-19T19:30:00Z\", \"2013-07-19\", \"2013-07-19\", \"N\", true, false], [\"Chuckwagon Fire\", \"Y\", \"2013-07-23T15:10:00Z\", \"2013-07-22T12:34:00Z\", \"CAL FIRE Tuolumne-Calaveras Unit\", NaN, \"Calaveras\", \"near the 4500 block of Chuckwagon Drive, Copperopolis\", 31.0, 100.0, \"NaN\", \"CAL FIRE Tuolumne-Calaveras Unit\", -120.696362, 37.965364, \"NaN\", \"68dadbb3-6a63-483a-add9-491a69d9e0ad\", \"https://www.fire.ca.gov/incidents/2013/7/22/chuckwagon-fire/\", \"2013-07-23T15:10:00Z\", \"2013-07-23\", \"2013-07-22\", \"N\", true, false], [\"Power Fire\", \"Y\", \"2013-08-14T08:30:00Z\", \"2013-08-05T06:00:00Z\", \"Stanislaus National Forest\", NaN, \"Tuolumne\", \"Near Beardsley Lake, northeast of Sonora\", 1070.0, 100.0, \"NaN\", \"Stanislaus National Forest\", -120.02778, 38.25108, \"NaN\", \"1e8441c2-f426-40b4-9f4f-3de9f7e232b9\", \"https://www.fire.ca.gov/incidents/2013/8/5/power-fire/\", \"2013-08-14T08:30:00Z\", \"2013-08-14\", \"2013-08-05\", \"N\", false, false], [\"Falls Fire\", \"Y\", \"2013-08-09T18:45:00Z\", \"2013-08-05T10:10:00Z\", \"Cleveland National Forest / CAL FIRE Riverside Unit\", NaN, \"Riverside\", \"Ortega Highway, west of Lake Elsinoire\", 1383.0, 100.0, \"NaN\", \"Cleveland National Forest / CAL FIRE Riverside Unit\", -117.40288, 33.62236, \"NaN\", \"4867ac70-663e-48f4-b9ae-ca0a486234ca\", \"https://www.fire.ca.gov/incidents/2013/8/5/falls-fire/\", \"2013-08-09T18:45:00Z\", \"2013-08-09\", \"2013-08-05\", \"N\", true, false], [\"Tram Fire\", \"Y\", \"2013-08-08T09:00:00Z\", \"2013-08-06T13:39:00Z\", \"San Bernardino National Forest\", NaN, \"Riverside\", \"Off of Hwy 111 & Tramway Rd in Palm Springs\", 60.0, 100.0, \"NaN\", \"San Bernardino National Forest\", -116.61, 38.838, \"NaN\", \"ac568737-dae6-4050-b1f4-62ab1f9ec930\", \"https://www.fire.ca.gov/incidents/2013/8/6/tram-fire/\", \"2013-08-08T09:00:00Z\", \"2013-08-08\", \"2013-08-06\", \"N\", false, false], [\"Indian Fire\", \"Y\", \"2013-08-07T18:30:00Z\", \"2013-08-07T12:35:00Z\", \"CAL FIRE Sanoma-Lake-Napa Unit\", NaN, \"Lake\", \"Off Bartlett Springs Road near Indian Valley Reservoir, 10 miles northeast of Clearlake Oaks\", 38.0, 100.0, \"NaN\", \"CAL FIRE Sanoma-Lake-Napa Unit\", -122.5906, 39.1591, \"NaN\", \"b5b63934-923d-4504-a9b1-75c885477a8d\", \"https://www.fire.ca.gov/incidents/2013/8/7/indian-fire/\", \"2013-08-07T18:30:00Z\", \"2013-08-07\", \"2013-08-07\", \"N\", true, false], [\"Silver Fire\", \"Y\", \"2022-10-24T11:38:40Z\", \"2013-08-07T14:05:00Z\", \"CAL FIRE Riverside Unit / San Bernardino National Forest\", NaN, \"Riverside\", \"Poppet Flats Rd near Hwy 243, south of Banning\", 20292.0, 100.0, \"Hwy 243 remains closed between Twin Pines Road and Westley Street in Banning due to road damage.\", \"CAL FIRE Riverside Unit / San Bernardino National Forest, Federal, State and Local Agencies from throughout the Western United States are assisting.\", -116.90427, 33.86157, \"NaN\", \"c400203b-a7fd-4bd8-803a-f3c74bc32a2b\", \"https://www.fire.ca.gov/incidents/2013/8/7/silver-fire/\", \"2013-08-12T18:00:00Z\", \"2013-08-12\", \"2013-08-07\", \"N\", true, false], [\"Corral Complex\", \"Y\", \"2013-08-12T12:00:00Z\", \"2013-08-10T11:40:00Z\", \"Six Rivers National Forest\", NaN, \"Humboldt\", \"Tish Tang Ridge east of Hoopa Valley Reservation\", 12503.0, 100.0, \"NaN\", \"Six Rivers National Forest\", -123.488, 41.035, \"NaN\", \"f3dcbca8-f8ed-46d0-8f6e-9c7fc2fb03e6\", \"https://www.fire.ca.gov/incidents/2013/8/10/corral-complex/\", \"2013-08-12T12:00:00Z\", \"2013-08-12\", \"2013-08-10\", \"N\", false, false], [\"Cottonwood Fire\", \"Y\", \"2013-08-15T17:00:00Z\", \"2013-08-15T14:40:00Z\", \"CAL FIRE Siskiyou Unit\", NaN, \"Siskiyou\", \"Cottonwood Creek Rd., 2 miles north of Hornbrook\", 50.0, 100.0, \"NaN\", \"CAL FIRE Siskiyou Unit\", -122.578393, 41.923323, \"NaN\", \"e16c204e-58d6-4f78-bc97-729b16ef9f83\", \"https://www.fire.ca.gov/incidents/2013/8/15/cottonwood-fire/\", \"2013-08-15T17:00:00Z\", \"2013-08-15\", \"2013-08-15\", \"N\", true, false], [\"Union Fire\", \"Y\", \"2013-08-16T17:55:00Z\", \"2013-08-16T13:55:00Z\", \"CAL FIRE Amador-El Dorado Unit\", NaN, \"El Dorado\", \"off Koki Ln and Pleasant Valley Rd, northwest of Diamond Springs\", 116.0, 100.0, \"NaN\", \"CAL FIRE Amador-El Dorado Unit\", -120.839075, 38.682378, \"NaN\", \"db009f8f-8b9d-44bb-a3f6-83f319c84d72\", \"https://www.fire.ca.gov/incidents/2013/8/16/union-fire/\", \"2013-08-16T17:55:00Z\", \"2013-08-16\", \"2013-08-16\", \"N\", true, false], [\"Sharp Fire\", \"Y\", \"2013-08-13T23:45:00Z\", \"2013-08-08T12:15:00Z\", \"Angeles National Forest\", NaN, \"San Bernardino\", \"Sheep canyon just south of Wrightwood\", 243.0, 100.0, \"NaN\", \"Angeles National Forest\", -117.62, 34.35, \"NaN\", \"62eabea3-40be-497d-94e4-150f011b925f\", \"https://www.fire.ca.gov/incidents/2013/8/8/sharp-fire/\", \"2013-08-13T23:45:00Z\", \"2013-08-13\", \"2013-08-08\", \"N\", false, false], [\"Cloverdale Fire\", \"Y\", \"2013-08-14T20:35:00Z\", \"2013-08-14T15:37:00Z\", \"CAL FIRE Shasta-Trinity Unit\", NaN, \"Shasta\", \"Cloverdale Rd. and Dale Rd., Happy Valley, 9 miles SW of Redding\", 27.0, 100.0, \"NaN\", \"CAL FIRE Shasta-Trinity Unit\", -122.48259, 40.473356, \"NaN\", \"0537a175-8fe9-4f5f-b56f-77848fa195f4\", \"https://www.fire.ca.gov/incidents/2013/8/14/cloverdale-fire/\", \"2013-08-14T20:35:00Z\", \"2013-08-14\", \"2013-08-14\", \"N\", true, false], [\"Swedes Fire\", \"Y\", \"2022-10-24T11:43:04Z\", \"2013-08-16T16:37:00Z\", \"CAL FIRE Butte Unit\", NaN, \"Butte\", \"southeast of Oroville\", 2264.0, 100.0, \"NaN\", \"CAL FIRE Butte Unit, United States Forest Service, Oroville Fire Department, El Medio Fire Department, Chico Fire Department, Butte County Sheriff, California Highway Patrol, California Office of Emergency Services, California Department of Corrections and Rehabilitation, Bureau of Land Management, South Feather Water and Power, Red Cross, North Valley Animal Rescue Group.\", -121.38236, 39.446268, \"NaN\", \"0758e1c0-95ea-47e7-b5c1-5f3ea96bc664\", \"https://www.fire.ca.gov/incidents/2013/8/16/swedes-fire/\", \"2013-08-22T18:00:00Z\", \"2013-08-22\", \"2013-08-16\", \"N\", true, false], [\"American Fire\", \"Y\", \"2013-08-30T08:00:00Z\", \"2013-08-10T16:30:00Z\", \"Tahoe National Forest\", NaN, \"Placer\", \"Deadwood Ridge, northeast of Foresthill\", 27440.0, 100.0, \"NaN\", \"Tahoe National Forest\", -120.65, 39.12, \"NaN\", \"8213f5c7-34fa-403b-a4bc-da2ace6e6625\", \"https://www.fire.ca.gov/incidents/2013/8/10/american-fire/\", \"2013-08-30T08:00:00Z\", \"2013-08-30\", \"2013-08-10\", \"N\", false, false], [\"Coyote Fire\", \"Y\", \"2013-08-12T09:30:00Z\", \"2013-08-09T15:51:00Z\", \"CAL FIRE Lassen-Modoc Unit\", NaN, \"Lassen\", \"Southeast of Coyote Reservoir, 20 miles southeast of Bieber\", 97.0, 100.0, \"NaN\", \"CAL FIRE Lassen-Modoc Unit\", -120.958126, 40.88886, \"NaN\", \"2b84c8a2-e2e8-45a2-9221-e8075608c218\", \"https://www.fire.ca.gov/incidents/2013/8/9/coyote-fire/\", \"2013-08-12T09:30:00Z\", \"2013-08-12\", \"2013-08-09\", \"N\", true, false], [\"Pierce Fire\", \"Y\", \"2013-08-16T21:00:00Z\", \"2013-08-16T13:31:00Z\", \"CAL FIRE/Riverside County Fire\", NaN, \"Riverside\", \"Ave 66 and Pierce Street  \", 40.0, 100.0, \"NaN\", \"CAL FIRE/Riverside County Fire\", -116.10815, 33.570291, \"NaN\", \"f23f8148-6ec4-4885-9729-0dad7c744485\", \"https://www.fire.ca.gov/incidents/2013/8/16/pierce-fire/\", \"2013-08-16T21:00:00Z\", \"2013-08-16\", \"2013-08-16\", \"N\", true, false], [\"Double Fire\", \"Y\", \"2013-08-18T18:30:00Z\", \"2013-08-16T17:57:00Z\", \"CAL FIRE Sonoma-Lake-Napa Unit\", NaN, \"Lake\", \"Hwy 20 and Mule Skinner Rd., Clear Lake Oaks\", 70.0, 100.0, \"NaN\", \"CAL FIRE Sonoma-Lake-Napa Unit\", -122.491894, 39.013682, \"NaN\", \"ae025ba5-8b5d-48de-ad5e-3037de3d18e9\", \"https://www.fire.ca.gov/incidents/2013/8/16/double-fire/\", \"2013-08-18T18:30:00Z\", \"2013-08-18\", \"2013-08-16\", \"N\", true, false], [\"Bridges Fire\", \"Y\", \"2013-08-19T07:10:00Z\", \"2013-08-17T10:11:00Z\", \"CAL FIRE Tuolumne-Calaveras Unit\", NaN, \"Calaveras\", \"Parrott's Ferry Road north of the bridge, near Vallecito & New Melones Lake \", 46.0, 100.0, \"NaN\", \"CAL FIRE Tuolumne-Calaveras Unit, Altaville/Melones Fire; Angels City Fire; Murphys Fire; West Point Fire; Central Fire; San Joaquin County; Stanislaus County; Stanislaus National Forest; Los Angeles County Fire.\", -120.45233, 38.06231, \"NaN\", \"10445e2c-979d-49a2-82c2-c3789bd2449a\", \"https://www.fire.ca.gov/incidents/2013/8/17/bridges-fire/\", \"2013-08-19T07:10:00Z\", \"2013-08-19\", \"2013-08-17\", \"N\", true, false], [\"Cleghorn Fire\", \"Y\", \"2013-08-18T20:55:00Z\", \"2013-08-17T17:25:00Z\", \"San Bernardino National Forest\", NaN, \"San Bernardino\", \"I-15 Cajon Pass south of Cleghorn Road\", 110.0, 100.0, \"NaN\", \"San Bernardino National Forest\", -117.451, 34.287, \"NaN\", \"c7f05927-66a4-403c-9048-aeb42eca0211\", \"https://www.fire.ca.gov/incidents/2013/8/17/cleghorn-fire/\", \"2013-08-18T20:55:00Z\", \"2013-08-18\", \"2013-08-17\", \"N\", false, false], [\"Clover Fire\", \"Y\", \"2013-09-15T07:30:00Z\", \"2013-09-09T12:32:00Z\", \"CAL FIRE Shasta-Trinity Unit\", NaN, \"Shasta\", \"Community of Igo, 10 miles southwest of Redding\", 8073.0, 100.0, \"NaN\", \"CAL FIRE Shasta-Trinity Unit, USFS, City of Redding, Anderson Fire Protection District, Burney Fire Protection District, Cottonwood Fire Protection District, Happy Valley Fire Protection District, Shasta County Sheriffs Dept., CHP, Redding Police Dept., Cal OES, PG&E\", -122.535496, 40.498332, \"NaN\", \"92af9783-eda9-4186-afe9-447f61a92636\", \"https://www.fire.ca.gov/incidents/2013/9/9/clover-fire/\", \"2013-09-15T07:30:00Z\", \"2013-09-15\", \"2013-09-09\", \"N\", true, false], [\"Plumas Lightning Complex (Hough)\", \"Y\", \"2013-08-25T13:15:00Z\", \"2013-08-18T18:30:00Z\", \"Plumas National Forest\", NaN, \"Plumas\", \"Keddie Ridge/North Arm areas of Indian Valley near Taylorsville\", 513.0, 100.0, \"NaN\", \"Plumas National Forest\", -120.764666, 40.00842, \"NaN\", \"5015b3c2-2bae-4cce-9bf8-f1b25b0ce1e6\", \"https://www.fire.ca.gov/incidents/2013/8/18/plumas-lightning-complex-hough/\", \"2013-08-25T13:15:00Z\", \"2013-08-25\", \"2013-08-18\", \"N\", false, false], [\"Shirley Fire\", \"Y\", \"2013-08-24T13:45:00Z\", \"2013-08-18T23:12:00Z\", \"Sequoia National Forest\", NaN, \"Kern\", \"Lower Kern River Canyon area off Highway 178\", 794.0, 100.0, \"NaN\", \"Sequoia National Forest\", -118.588, 35.707, \"NaN\", \"5421868e-52ba-4737-8169-325e0aa040e4\", \"https://www.fire.ca.gov/incidents/2013/8/18/shirley-fire/\", \"2013-08-24T13:45:00Z\", \"2013-08-24\", \"2013-08-18\", \"N\", false, false], [\"Burney Lightning Series (Warner Fire)\", \"Y\", \"2013-08-23T19:15:00Z\", \"2013-08-19T17:48:00Z\", \"CAL FIRE Shasta Unit \", NaN, \"Shasta\", \"Fall River Mills and McAruther area\", 196.0, 100.0, \"NaN\", \"CAL FIRE Shasta Unit \", -121.3754, 40.5445, \"NaN\", \"f21a41c6-0905-4531-9bdf-2456d0051eed\", \"https://www.fire.ca.gov/incidents/2013/8/19/burney-lightning-series-warner-fire/\", \"2013-08-23T19:15:00Z\", \"2013-08-23\", \"2013-08-19\", \"N\", true, false], [\"Sierra Fire\", \"Y\", \"2013-09-30T08:30:00Z\", \"2013-09-24T15:51:00Z\", \"San Bernardino National Forest/CAL FIRE San Bernardino Unit\", NaN, \"San Bernardino\", \"in the Cajon Pass west of I-15 near Glen Helen Road\", 200.0, 100.0, \"NaN\", \"San Bernardino National Forest/CAL FIRE San Bernardino Unit\", -117.417, 34.2, \"NaN\", \"f7358513-329f-4dba-8980-4cd3a19b469a\", \"https://www.fire.ca.gov/incidents/2013/9/24/sierra-fire/\", \"2013-09-30T08:30:00Z\", \"2013-09-30\", \"2013-09-24\", \"N\", false, false], [\"Deer Fire\", \"Y\", \"2013-08-29T16:45:00Z\", \"2013-08-23T14:15:00Z\", \"CAL FIRE Tehama-Glenn Unit\", NaN, \"Tehama\", \"Near Deer Creek, 12 miles east of Los Molinos. \", 11429.0, 100.0, \"NaN\", \"CAL FIRE Tehama-Glenn Unit, CDCR, USFS, California Fish & Wildlife, California National Guard, Tehama County Sheriff's Office, PG&E\", -121.85397, 40.04263, \"NaN\", \"956dbcf6-db40-4b61-b235-4ede14738f1e\", \"https://www.fire.ca.gov/incidents/2013/8/23/deer-fire/\", \"2013-08-29T16:45:00Z\", \"2013-08-29\", \"2013-08-23\", \"N\", true, false], [\"Gobblers Fire\", \"Y\", \"2013-08-20T13:32:00Z\", \"2013-08-20T13:32:00Z\", \"San Bernardino National Forest\", NaN, \"San Bernardino\", \"upper end of Lytle Creek\", 413.0, 100.0, \"NaN\", \"San Bernardino National Forest\", -117.598, 34.302, \"NaN\", \"b202bd85-c5ef-4bdf-8270-d556f95c3742\", \"https://www.fire.ca.gov/incidents/2013/8/20/gobblers-fire/\", \"2013-08-20T13:32:00Z\", \"2013-08-20\", \"2013-08-20\", \"N\", false, false], [\"Fish Fire\", \"Y\", \"2013-09-24T20:15:00Z\", \"2013-08-24T14:31:00Z\", \"Sequoia National Forest\", NaN, \"Tulare\", \"Golden Trout Wilderness on the Sequoia National Forest.\", 2060.0, 100.0, \"NaN\", \"Sequoia National Forest\", -118.444, 36.208, \"NaN\", \"a4de6058-c68c-4924-bfb5-dc8ecc3b54c0\", \"https://www.fire.ca.gov/incidents/2013/8/24/fish-fire/\", \"2013-09-24T20:15:00Z\", \"2013-09-24\", \"2013-08-24\", \"N\", false, false], [\"Empire Fire\", \"Y\", \"2013-08-24T11:45:00Z\", \"2013-08-24T14:54:00Z\", \"CAL FIRE Amador-El Dorado Unit\", NaN, \"El Dorado\", \"off Hwy 193 & Empire Creek Cir near Georgetown\", 38.0, 100.0, \"NaN\", \"CAL FIRE Amador-El Dorado Unit\", -120.84716, 38.89555, \"NaN\", \"fea7802f-ba70-450a-9ad1-96e2751293a9\", \"https://www.fire.ca.gov/incidents/2013/8/24/empire-fire/\", \"2013-08-24T11:45:00Z\", \"2013-08-24\", \"2013-08-24\", \"N\", true, false], [\"Little Fire\", \"Y\", \"2013-08-30T08:00:00Z\", \"2013-08-24T15:09:00Z\", \"San Bernardino National Forest\", NaN, \"San Bernardino\", \"near Thomas Mountain south of Lake Hemet on the San Jacinto Ranger District.\", 97.0, 100.0, \"NaN\", \"San Bernardino National Forest\", -116.706, 33.642, \"NaN\", \"b5109726-5e91-4c10-96f8-2a5bb72e5a59\", \"https://www.fire.ca.gov/incidents/2013/8/24/little-fire/\", \"2013-08-30T08:00:00Z\", \"2013-08-30\", \"2013-08-24\", \"N\", false, false], [\"Chestnut Fire\", \"Y\", \"2013-09-07T20:00:00Z\", \"2013-09-07T13:55:00Z\", \"CAL FIRE San Mateo-Santa Cruz Unit\", NaN, \"San Mateo\", \"Chestnut Ave and Hillside Blvd, San Bruno Mountain, South San Francisco\", 41.0, 100.0, \"NaN\", \"CAL FIRE San Mateo-Santa Cruz Unit\", -122.427285, 37.667295, \"NaN\", \"b30ee931-f349-4d21-a38a-d346c516b104\", \"https://www.fire.ca.gov/incidents/2013/9/7/chestnut-fire/\", \"2013-09-07T20:00:00Z\", \"2013-09-07\", \"2013-09-07\", \"N\", true, false], [\"Morgan Fire\", \"Y\", \"2013-09-14T17:30:00Z\", \"2013-09-08T13:08:00Z\", \"CAL FIRE Santa-Clara Unit\", NaN, \"Contra Costa\", \"off Morgan Territory Road, Southeast of Clayton\", 3111.0, 100.0, \"NaN\", \"CAL FIRE Santa-Clara Unit, CAL FIRE, East Contra Costa Fire Protection District, Contra Costa Fire Protection District, San Ramon Valley Fire, East Bay Regional Parks, CALOES, CDCR, California State Parks, California Highway Patorl, CalTrans, Contra Costa County Sheriff's Department, Contra Costa Public Works, Clayton PD, PG&E, America Red Cross and the Salvation Army.\", -121.882582, 37.90757, \"NaN\", \"e33b2d80-7fec-4470-9e79-440d349b0d95\", \"https://www.fire.ca.gov/incidents/2013/9/8/morgan-fire/\", \"2013-09-14T17:30:00Z\", \"2013-09-14\", \"2013-09-08\", \"N\", true, false], [\"Angora Fire\", \"Y\", \"2013-09-24T20:15:00Z\", \"2013-09-08T11:53:00Z\", \"Sequoia National Forest\", NaN, \"Tulare\", \"Golden Trout Wilderness\", 134.0, 100.0, \"NaN\", \"Sequoia National Forest\", -118.459, 36.258, \"NaN\", \"d332a628-6290-4e91-b8d0-4dc663b80c38\", \"https://www.fire.ca.gov/incidents/2013/9/8/angora-fire/\", \"2013-09-24T20:15:00Z\", \"2013-09-24\", \"2013-09-08\", \"N\", false, false], [\"Liveoak Fire\", \"Y\", \"2013-09-12T08:45:00Z\", \"2013-09-11T16:57:00Z\", \"CAL FIRE San Bernardino Unit\", NaN, \"San Bernardino\", \"Live Oak Canyon Rd, South of I-10 near cities of Redlands and Yucaipa. \", 73.0, 100.0, \"NaN\", \"CAL FIRE San Bernardino Unit\", -117.106075, 34.003151, \"NaN\", \"31f21c59-8a94-4b17-91aa-88ca14817162\", \"https://www.fire.ca.gov/incidents/2013/9/11/liveoak-fire/\", \"2013-09-12T08:45:00Z\", \"2013-09-12\", \"2013-09-11\", \"N\", true, false], [\"Madre Fire\", \"Y\", \"2013-09-28T08:00:00Z\", \"2013-09-23T18:00:00Z\", \"Angeles National Forest/Los Angeles County Fire\", NaN, \"Los Angeles\", \"San Gabriel Canyon 1/4 mile west of the entrance station\", 268.0, 100.0, \"NaN\", \"Angeles National Forest/Los Angeles County Fire\", -117.908, 34.149, \"NaN\", \"eb5a3f2a-0c25-417a-af78-bb0d643247c7\", \"https://www.fire.ca.gov/incidents/2013/9/23/madre-fire/\", \"2013-09-28T08:00:00Z\", \"2013-09-28\", \"2013-09-23\", \"N\", false, false], [\"Davis Creek Complex\", \"Y\", \"2013-09-24T20:15:00Z\", \"2013-09-05T15:57:00Z\", \"Modoc National Forest \", NaN, \"Modoc\", \"Both sides of Davis Creek near Hwy 395, south of Goose Lake \", 97.0, 100.0, \"NaN\", \"Modoc National Forest \", -120.375, 41.73325, \"NaN\", \"308ce8d5-67c8-4edb-9e2f-bf6295f98d7e\", \"https://www.fire.ca.gov/incidents/2013/9/5/davis-creek-complex/\", \"2013-09-24T20:15:00Z\", \"2013-09-24\", \"2013-09-05\", \"N\", false, false], [\"Tyler Fire\", \"Y\", \"2013-08-31T21:30:00Z\", \"2013-08-31T14:42:00Z\", \"CAL FIRE Nevada-Yuba-Placer Unit\", NaN, \"Nevada\", \"North San Juan Area, Highway 49 and Tyler Foote Road\", 52.0, 100.0, \"NaN\", \"CAL FIRE Nevada-Yuba-Placer Unit\", -121.107022, 39.333401, \"NaN\", \"1476673c-df55-4c39-b117-d9d067f8a020\", \"https://www.fire.ca.gov/incidents/2013/8/31/tyler-fire/\", \"2013-08-31T21:30:00Z\", \"2013-08-31\", \"2013-08-31\", \"N\", true, false], [\"Centerville Fire\", \"Y\", \"2013-09-01T18:00:00Z\", \"2013-08-31T17:23:00Z\", \"CAL FIRE Butte Unit\", NaN, \"Butte\", \"Off Centerville Rd in the Butte Creek Canyon in the community of Centerville, west of Magalia \", 80.0, 100.0, \"NaN\", \"CAL FIRE Butte Unit, CDCR, PG&E, El Medio Fire\", -121.713938, 39.731878, \"NaN\", \"dd374f36-e7cb-4a48-91ee-e8be101e0f88\", \"https://www.fire.ca.gov/incidents/2013/8/31/centerville-fire/\", \"2013-09-01T18:00:00Z\", \"2013-09-01\", \"2013-08-31\", \"N\", true, false], [\"Rail Fire\", \"Y\", \"2013-09-05T21:00:00Z\", \"2013-09-07T17:30:00Z\", \"Modoc National Forest\", NaN, \"Modoc\", \"Rail Mountain, 7 miles NW of Canby\", 68.0, 100.0, \"NaN\", \"Modoc National Forest\", -120.959, 41.569, \"NaN\", \"0875cf4e-9948-45ed-a76d-d74564319b49\", \"https://www.fire.ca.gov/incidents/2013/9/7/rail-fire/\", \"2013-09-05T21:00:00Z\", \"2013-09-05\", \"2013-09-07\", \"N\", false, false], [\"Rim Fire\", \"Y\", \"2013-09-06T18:30:00Z\", \"2013-08-17T15:25:00Z\", \"Stanislaus National Forest/Yosemite National Park\", NaN, \"Tuolumne\", \"3 miles east of Groveland along Hwy 120\", 257314.0, 100.0, \"NaN\", \"Stanislaus National Forest/Yosemite National Park\", -120.086, 37.857, \"NaN\", \"5fb18d4d-213f-4d83-a179-daaf11939e78\", \"https://www.fire.ca.gov/incidents/2013/8/17/rim-fire/\", \"2013-09-06T18:30:00Z\", \"2013-09-06\", \"2013-08-17\", \"N\", true, false], [\"Lyon Fire\", \"Y\", \"2013-09-12T18:15:00Z\", \"2013-09-09T13:09:00Z\", \"CAL FIRE San Diego Unit / Cleveland National Forest\", NaN, \"San Diego\", \"Four Corners, Lyons Valley Road, east of Lyons Peak\", 263.0, 100.0, \"NaN\", \"CAL FIRE San Diego Unit / Cleveland National Forest, CAL FIRE, USFS, CHP, San Diego Co. Sheriff, County Animal Control, SDG&E, Red Cross, SDCO Fire Authority\", -116.746023, 32.710918, \"NaN\", \"f6f6fefa-ac4e-466f-815e-492416e37b98\", \"https://www.fire.ca.gov/incidents/2013/9/9/lyon-fire/\", \"2013-09-12T18:15:00Z\", \"2013-09-12\", \"2013-09-09\", \"N\", true, false], [\"Lakeshore Fire\", \"Y\", \"2013-09-15T17:14:00Z\", \"2013-09-15T19:45:00Z\", \"CAL FIRE Sonoma-Lake-Napa Unit\", NaN, \"Lake\", \"near the community of Clearlake\", 30.0, 100.0, \"NaN\", \"CAL FIRE Sonoma-Lake-Napa Unit\", -122.683, 38.9777, \"NaN\", \"51e00abb-53d0-4014-9224-2a853b1d6bcf\", \"https://www.fire.ca.gov/incidents/2013/9/15/lakeshore-fire/\", \"2013-09-15T17:14:00Z\", \"2013-09-15\", \"2013-09-15\", \"N\", true, false], [\"Creek Fire\", \"Y\", \"2013-09-24T17:30:00Z\", \"2013-09-24T03:20:00Z\", \"CAL FIRE San Luis Obispo Unit\", NaN, \"San Luis Obispo\", \"off Toro Creek Rd, east of Cayucos\", 94.0, 100.0, \"NaN\", \"CAL FIRE San Luis Obispo Unit\", -120.8358, 35.4393, \"NaN\", \"ac469123-da14-4821-b824-c6cf66138514\", \"https://www.fire.ca.gov/incidents/2013/9/24/creek-fire/\", \"2013-09-24T17:30:00Z\", \"2013-09-24\", \"2013-09-24\", \"N\", true, false], [\"Highland Fire\", \"Y\", \"2013-09-29T18:15:00Z\", \"2013-09-28T13:57:00Z\", \"CAL FIRE Mendocino Unit\", NaN, \"Mendocino\", \"off Highland Springs Rd, southeast of Kelseyville\", 98.0, 100.0, \"NaN\", \"CAL FIRE Mendocino Unit\", -122.966, 38.9252, \"NaN\", \"b20a2031-12c9-4e9c-9f44-ac82c26e6c66\", \"https://www.fire.ca.gov/incidents/2013/9/28/highland-fire/\", \"2013-09-29T18:15:00Z\", \"2013-09-29\", \"2013-09-28\", \"N\", true, false], [\"Putah Fire\", \"Y\", \"2013-10-04T16:55:00Z\", \"2013-10-03T20:33:00Z\", \"CAL FIRE Sonoma-Lake-Napa Unit\", NaN, \"Napa\", \"off Berryessa Knoxville Rd near Lake Berryessa\", 376.0, 100.0, \"NaN\", \"CAL FIRE Sonoma-Lake-Napa Unit, CAL FIRE, Bureau of Reclamation\", -122.289, 38.628, \"NaN\", \"1f94fce5-49a5-4220-bc99-f003ab4d3e60\", \"https://www.fire.ca.gov/incidents/2013/10/3/putah-fire/\", \"2013-10-04T16:55:00Z\", \"2013-10-04\", \"2013-10-03\", \"N\", true, false], [\"Crane Fire\", \"Y\", \"2013-10-05T07:45:00Z\", \"2013-10-04T12:25:00Z\", \"CAL FIRE Sonoma-Lake-Napa Unit\", NaN, \"Sonoma\", \"near Crane Creek Regional Park off Pressley Rd, east of Rohnert Park \", 159.0, 100.0, \"NaN\", \"CAL FIRE Sonoma-Lake-Napa Unit\", -122.6503, 38.34599, \"NaN\", \"1460f2d9-853b-4901-bed3-ac196e00bb3a\", \"https://www.fire.ca.gov/incidents/2013/10/4/crane-fire/\", \"2013-10-05T07:45:00Z\", \"2013-10-05\", \"2013-10-04\", \"N\", true, false], [\"DeLuz Fire\", \"Y\", \"2013-10-09T19:00:00Z\", \"2013-10-05T12:45:00Z\", \"Camp Pendleton Marine Corps Base\", NaN, \"San Diego\", \"On Camp Pendleton, west of Fallbrook\", 2236.0, 100.0, \"NaN\", \"Camp Pendleton Marine Corps Base\", -117.3092, 33.341, \"NaN\", \"9fb847ce-44c7-4a11-a733-a6cc82838671\", \"https://www.fire.ca.gov/incidents/2013/10/5/deluz-fire/\", \"2013-10-09T19:00:00Z\", \"2013-10-09\", \"2013-10-05\", \"N\", false, false], [\"Summit Fire\", \"Y\", \"2013-10-05T22:00:00Z\", \"2013-10-04T17:37:00Z\", \"CAL FIRE Butte Unit\", NaN, \"Butte\", \"off District Center Dr & Fortune Way in Palermo\", 305.0, 100.0, \"NaN\", \"CAL FIRE Butte Unit\", -121.497, 39.439, \"NaN\", \"d922e7c8-814a-412b-a40b-53072d0983ea\", \"https://www.fire.ca.gov/incidents/2013/10/4/summit-fire/\", \"2013-10-05T22:00:00Z\", \"2013-10-05\", \"2013-10-04\", \"N\", true, false], [\"Baker Fire\", \"Y\", \"2013-10-09T08:00:00Z\", \"2013-10-06T10:52:00Z\", \"Orange County Fire Authority\", NaN, \"Orange\", \"Off Baker Canyon Rd, Silverado Canyon area, east of Irvine\", 40.0, 100.0, \"NaN\", \"Orange County Fire Authority\", -117.6649, 33.7655, \"NaN\", \"9a110003-2f4c-4ac7-a3e5-b4e713f8d1fe\", \"https://www.fire.ca.gov/incidents/2013/10/6/baker-fire/\", \"2013-10-09T08:00:00Z\", \"2013-10-09\", \"2013-10-06\", \"N\", true, false], [\"Capay Fire\", \"Y\", \"2013-11-04T15:35:00Z\", \"2013-11-04T11:41:00Z\", \"CAL FIRE Sonoma-Lake-Napa Unit\", NaN, \"Yolo\", \"Off County Road 23 & County Road 81, Southwest of Esparto\", 163.0, 100.0, \"NaN\", \"CAL FIRE Sonoma-Lake-Napa Unit\", -122.08725, 38.67479, \"NaN\", \"0aa08938-eaab-4a60-8891-946197328f94\", \"https://www.fire.ca.gov/incidents/2013/11/4/capay-fire/\", \"2013-11-04T15:35:00Z\", \"2013-11-04\", \"2013-11-04\", \"N\", true, false], [\"Dersch Fire\", \"Y\", \"2013-11-07T19:45:00Z\", \"2013-11-07T16:10:00Z\", \"CAL FIRE Shasta-Trinity Unit\", NaN, \"Shasta\", \"Off Dersch Rd and Hyrax, Millville\", 33.0, 100.0, \"NaN\", \"CAL FIRE Shasta-Trinity Unit\", -122.140914, 40.483662, \"NaN\", \"29a2efda-c28f-4a41-9c6d-8cb8f763d464\", \"https://www.fire.ca.gov/incidents/2013/11/7/dersch-fire/\", \"2013-11-07T19:45:00Z\", \"2013-11-07\", \"2013-11-07\", \"N\", true, false], [\"Toro Fire\", \"Y\", \"2013-11-09T17:00:00Z\", \"2013-11-08T10:30:00Z\", \"CAL FIRE San Luis Obispo Unit\", NaN, \"San Luis Obispo\", \"Toro Creek Rd. and Hwy 41 West, Morro Bay\", 51.0, 100.0, \"Toro Creek Road remains closed to non-emergency traffic at Summit Road North of Highway 41. \", \"CAL FIRE San Luis Obispo Unit, United States Forest Service, Atascadero City Fire, Paso Robles Fire, San Luis Obispo City Fire, Templeton Fire, Morro Bay City Fire and Cayucos Fire Departments. As well as San Luis Obispo County Sheriff\\u2019s Department, and the California Highway Patrol.\", -120.751555, 35.457978, \"NaN\", \"587c03e3-4831-47c1-8c03-c08176e91b11\", \"https://www.fire.ca.gov/incidents/2013/11/8/toro-fire/\", \"2013-11-09T17:00:00Z\", \"2013-11-09\", \"2013-11-08\", \"N\", true, false], [\"Cantwell Fire\", \"Y\", \"2013-11-10T18:30:00Z\", \"2013-11-08T13:42:00Z\", \"CAL FIRE Sonoma-Lake-Napa Unit\", NaN, \"Lake\", \"South of Morgan Valley Rd and East of Hwy 29, Community of Lower Lake\", 120.0, 100.0, \"NaN\", \"CAL FIRE Sonoma-Lake-Napa Unit\", -122.567525, 38.882214, \"NaN\", \"20ba8b6b-78d4-46a7-995b-d8fa38cbf3b8\", \"https://www.fire.ca.gov/incidents/2013/11/8/cantwell-fire/\", \"2013-11-10T18:30:00Z\", \"2013-11-10\", \"2013-11-08\", \"N\", true, false], [\"Silverado Fire\", \"Y\", \"2013-11-23T18:30:00Z\", \"2013-11-21T21:39:00Z\", \"CAL FIRE Sonoma-Lake-Napa Unit\", NaN, \"Napa\", \"Off Silverado Trail in the Soda Canyon area near Napa\", 190.0, 100.0, \"NaN\", \"CAL FIRE Sonoma-Lake-Napa Unit, CAL FIRE, Napa County Fire, Rutherford VFD, Soda Canyon VFD, Napa County Sheriff\\u2019s Office, and California Dept. of Corrections and Rehabilitation\", -122.311, 38.382, \"NaN\", \"79d476e5-0b4d-48e2-a105-2bba5c1140e9\", \"https://www.fire.ca.gov/incidents/2013/11/21/silverado-fire/\", \"2013-11-23T18:30:00Z\", \"2013-11-23\", \"2013-11-21\", \"N\", true, false], [\"Wheeler Fire\", \"Y\", \"2013-11-15T16:00:00Z\", \"2013-11-14T11:05:00Z\", \"Ventura County Fire Department\", NaN, \"Ventura\", \"Wheeler Canyon, north of Santa Paula\", 64.0, 100.0, \"NaN\", \"Ventura County Fire Department\", -119.13249, 34.384, \"NaN\", \"0adb968c-eb85-41c5-8e08-04c0ec386c79\", \"https://www.fire.ca.gov/incidents/2013/11/14/wheeler-fire/\", \"2013-11-15T16:00:00Z\", \"2013-11-15\", \"2013-11-14\", \"N\", true, false], [\"Retek Fire\", \"Y\", \"2013-11-22T17:30:00Z\", \"2013-11-22T10:06:00Z\", \"CAL FIRE Mendocino Unit\", NaN, \"Mendocino\", \"Off Hwy 101 at Henry Station Rd, north of Hopland\", 82.0, 100.0, \"NaN\", \"CAL FIRE Mendocino Unit\", -123.1478, 39.0442, \"NaN\", \"e9e43213-b2fc-47bc-92cd-117ccd6e4780\", \"https://www.fire.ca.gov/incidents/2013/11/22/retek-fire/\", \"2013-11-22T17:30:00Z\", \"2013-11-22\", \"2013-11-22\", \"N\", true, false], [\"McCabe Fire\", \"Y\", \"2013-11-27T18:15:00Z\", \"2013-11-22T02:04:00Z\", \"CAL FIRE Sonoma-Lake-Napa Unit\", NaN, \"Sonoma\", \"The Geysers area, 10 miles northeast of Geyserville\", 3505.0, 100.0, \"NaN\", \"CAL FIRE Sonoma-Lake-Napa Unit, CAL FIRE, Napa County Fire, Geyserville FPD, Healdsburg FD, Cloverdale FPD, Santa Rosa FD, Sonoma Valley FRA, Glen Ellen FPD, Schell-Vista FPD, Forestville FPD, Graton FPD, Gold Ridge FPD, Occidental CSD, Bennett Valley FPD, Sebastopol FD, Rancho Adobe FPD, CHP, Cal Trans, Sonoma County Sheriff\\u2019s, CAL OES, California Department of Correction and Rehabilitation, Sonoma County Fire Services, Bureau of Land Management, United States Forest Service.\", -122.8498, 38.8167, \"NaN\", \"b4bc1480-cbb8-4ef2-8d5f-88a496d21d10\", \"https://www.fire.ca.gov/incidents/2013/11/22/mccabe-fire/\", \"2013-11-27T18:15:00Z\", \"2013-11-27\", \"2013-11-22\", \"N\", true, false], [\"Bruner Fire\", \"Y\", \"2013-11-24T08:45:00Z\", \"2013-11-23T12:04:00Z\", \"CAL FIRE Sonoma-Lake-Napa Unit\", NaN, \"Lake\", \"Off Bruner Drive & Al Drive, Clearlake Oaks\", 50.0, 100.0, \"NaN\", \"CAL FIRE Sonoma-Lake-Napa Unit\", -122.7656, 39.0448, \"NaN\", \"3f3e234c-04e1-4941-a79f-23ddc419bf59\", \"https://www.fire.ca.gov/incidents/2013/11/23/bruner-fire/\", \"2013-11-24T08:45:00Z\", \"2013-11-24\", \"2013-11-23\", \"N\", true, false], [\"Dam Fire\", \"Y\", \"2013-11-24T18:45:00Z\", \"2013-11-23T14:17:00Z\", \"CAL FIRE Sonoma-Lake-Napa Unit\", NaN, \"Lake\", \"Off Dam Rd, southeast of Clear Lake\", 23.0, 100.0, \"NaN\", \"CAL FIRE Sonoma-Lake-Napa Unit\", -122.5818, 38.9289, \"NaN\", \"720f1d0a-81b7-4a00-85db-be3d9587ea3e\", \"https://www.fire.ca.gov/incidents/2013/11/23/dam-fire/\", \"2013-11-24T18:45:00Z\", \"2013-11-24\", \"2013-11-23\", \"N\", true, false], [\"Grant Fire\", \"Y\", \"2013-12-31T16:00:00Z\", \"2013-12-31T05:30:00Z\", \"CAL FIRE Santa Clara Unit\", NaN, \"Santa Clara\", \"off Mount Hamilton Road near Grant Ranch County Park\", 40.0, 100.0, \"NaN\", \"CAL FIRE Santa Clara Unit\", -121.717706, 37.342186, \"NaN\", \"7a168690-06e5-4056-97c8-73b834204744\", \"https://www.fire.ca.gov/incidents/2013/12/31/grant-fire/\", \"2013-12-31T16:00:00Z\", \"2013-12-31\", \"2013-12-31\", \"N\", true, false], [\"Campbell Fire\", \"Y\", \"2014-01-10T18:30:00Z\", \"2014-01-02T20:00:00Z\", \"Lassen National Forest\", NaN, \"Tehama\", \"Ishi Wilderness, north of Campbellville in the Lassen National Forest\", 865.0, 100.0, \"NaN\", \"Lassen National Forest\", -121.790183, 40.134597, \"NaN\", \"353e7df7-440c-4c41-a27c-b35bb1e2831c\", \"https://www.fire.ca.gov/incidents/2014/1/2/campbell-fire/\", \"2014-01-10T18:30:00Z\", \"2014-01-10\", \"2014-01-02\", \"N\", false, false], [\"Colby Fire\", \"Y\", \"2014-01-27T10:00:00Z\", \"2014-01-16T05:50:00Z\", \"Angeles National Forest and LA County Fire Department\", NaN, \"Los Angeles\", \"near Morris Reservoir, north of Glendora\", 1952.0, 100.0, \"NaN\", \"Angeles National Forest and LA County Fire Department\", -117.8816, 34.1703, \"NaN\", \"1fe0ea01-23e8-47a1-8fbd-ced6cf655e4d\", \"https://www.fire.ca.gov/incidents/2014/1/16/colby-fire/\", \"2014-01-27T10:00:00Z\", \"2014-01-27\", \"2014-01-16\", \"N\", false, false], [\"Red Fire\", \"Y\", \"2014-01-08T19:15:00Z\", \"2014-01-04T12:00:00Z\", \"CAL FIRE Humboldt Del-Norte Unit\", NaN, \"Humboldt\", \"South of Berry Summit, west of Willow Creek\", 333.0, 100.0, \"NaN\", \"CAL FIRE Humboldt Del-Norte Unit\", -123.773779, 40.884415, \"NaN\", \"6d75c6a4-12cb-4f18-8951-f2737e980916\", \"https://www.fire.ca.gov/incidents/2014/1/4/red-fire/\", \"2014-01-08T19:15:00Z\", \"2014-01-08\", \"2014-01-04\", \"N\", true, false], [\"Lake Fire\", \"Y\", \"2014-01-26T18:00:00Z\", \"2014-01-25T06:37:00Z\", \"CAL FIRE Fresno-Kings Unit\", NaN, \"Fresno\", \"off Trimmer Springs Rd & Sunnyslope Rd near Pine Flat Lake \", 106.0, 100.0, \"NaN\", \"CAL FIRE Fresno-Kings Unit\", -119.3415, 36.8266, \"NaN\", \"d529636e-33d0-484b-9c6f-093ba33736b7\", \"https://www.fire.ca.gov/incidents/2014/1/25/lake-fire/\", \"2014-01-26T18:00:00Z\", \"2014-01-26\", \"2014-01-25\", \"N\", true, false], [\"Gun Fire\", \"Y\", \"2014-03-11T11:00:00Z\", \"2014-03-08T12:30:00Z\", \"USFS - Cleveland National Forest\", NaN, \"San Diego\", \"Off Interstate 8 & Sunrise Hwy, near Pine Valley\", 125.0, 100.0, \"NaN\", \"USFS - Cleveland National Forest\", -116.49, 32.81, \"NaN\", \"a67fe9bc-b8ec-4ed1-a2e8-06623aab7039\", \"https://www.fire.ca.gov/incidents/2014/3/8/gun-fire/\", \"2014-03-11T11:00:00Z\", \"2014-03-11\", \"2014-03-08\", \"N\", false, false], [\"Encinal Fire\", \"Y\", \"2014-03-21T18:00:00Z\", \"2014-03-19T16:45:00Z\", \"CAL FIRE San Benito-Monterey Unit\", NaN, \"Monterey\", \"Off Encinal Rd, 8 miles southeast of Salinas\", 400.0, 100.0, \"NaN\", \"CAL FIRE San Benito-Monterey Unit\", -121.4819, 36.6313, \"NaN\", \"cb580f06-5d43-46aa-8b2c-f2b5a21eff02\", \"https://www.fire.ca.gov/incidents/2014/3/19/encinal-fire/\", \"2014-03-21T18:00:00Z\", \"2014-03-21\", \"2014-03-19\", \"N\", true, false], [\"Van Buren Fire\", \"Y\", \"2014-03-29T17:15:00Z\", \"2014-03-28T14:31:00Z\", \"CAL FIRE / Riverside County Fire\", NaN, \"Riverside\", \"Off Ave 62 and Van Buren St in Thermal\", 57.0, 100.0, \"NaN\", \"CAL FIRE / Riverside County Fire\", -116.1985, 33.5982, \"NaN\", \"edff6f87-80b8-4c0d-8f6a-45c6e798b7fa\", \"https://www.fire.ca.gov/incidents/2014/3/28/van-buren-fire/\", \"2014-03-29T17:15:00Z\", \"2014-03-29\", \"2014-03-28\", \"N\", true, false], [\"Bridges Fire\", \"Y\", \"2014-04-21T19:15:00Z\", \"2014-04-19T15:54:00Z\", \"CAL FIRE San Bernardino Unit\", NaN, \"Inyo\", \"off Highway 6 & 5 Bridges Rd, 5 miles northeast of Bishop\", 113.0, 100.0, \"NaN\", \"CAL FIRE San Bernardino Unit, Bishop Fire Dept, Inyo National Forest, Los Angeles Dept of Water and Power (LADWP), BLM - Desert District, CHP and Inyo Sheriff\", -118.352, 37.399, \"NaN\", \"1faad916-32b9-4cd0-94b8-dacfe71fa9f8\", \"https://www.fire.ca.gov/incidents/2014/4/19/bridges-fire/\", \"2014-04-21T19:15:00Z\", \"2014-04-21\", \"2014-04-19\", \"N\", true, false], [\"Etiwanda Fire\", \"Y\", \"2014-05-05T17:30:00Z\", \"2014-04-30T08:00:00Z\", \"CAL FIRE San Bernardino / USFS / Rancho Cucamonga Fire\", NaN, \"San Bernardino\", \"North of Rancho Cucamonga\", 2143.0, 100.0, \"NaN\", \"CAL FIRE San Bernardino / USFS / Rancho Cucamonga Fire, CAL FIRE, US Forest Service and Rancho Cucamonga Fire\", -117.547374, 34.169346, \"NaN\", \"13bfff2c-cb2f-4ed9-a7f8-6985646a2d5d\", \"https://www.fire.ca.gov/incidents/2014/4/30/etiwanda-fire/\", \"2014-05-05T17:30:00Z\", \"2014-05-05\", \"2014-04-30\", \"N\", true, false], [\"Jacumba Fire\", \"Y\", \"2014-05-06T10:20:00Z\", \"2014-05-05T16:36:00Z\", \"CAL FIRE San Diego Unit\", NaN, \"San Diego\", \"Off Interstate 8, east of McCain Valley Rd, east of Boulevard\", 29.0, 100.0, \"NaN\", \"CAL FIRE San Diego Unit\", -116.222, 32.665, \"NaN\", \"d5cb2477-6627-4ef6-bab1-d0eecc4ad12a\", \"https://www.fire.ca.gov/incidents/2014/5/5/jacumba-fire/\", \"2014-05-06T10:20:00Z\", \"2014-05-06\", \"2014-05-05\", \"N\", true, false], [\"Bernardo Fire\", \"Y\", \"2014-05-17T20:14:00Z\", \"2014-05-13T11:00:00Z\", \"CAL FIRE San Diego Unit/San Diego City Fire/Rancho Santa Fe Fire District\", NaN, \"San Diego\", \"off Nighthawk Lane, southwest of Rancho Bernardo\", 1548.0, 100.0, \"NaN\", \"CAL FIRE San Diego Unit/San Diego City Fire/Rancho Santa Fe Fire District\", -117.133, 33.003, \"NaN\", \"9e5ee790-ee7e-4b40-b300-7a3046901162\", \"https://www.fire.ca.gov/incidents/2014/5/13/bernardo-fire/\", \"2014-05-17T20:14:00Z\", \"2014-05-17\", \"2014-05-13\", \"N\", true, false], [\"San Lucas Fire\", \"Y\", \"2014-05-01T19:00:00Z\", \"2014-04-30T14:25:00Z\", \"CAL FIRE San Benito-Monterey Unit\", NaN, \"Monterey\", \"San Lucas & Jolon Rd, west of King City \", 75.0, 100.0, \"NaN\", \"CAL FIRE San Benito-Monterey Unit\", -121.117, 36.103, \"NaN\", \"91c3081d-33b4-46f2-8774-032c57f0f6a2\", \"https://www.fire.ca.gov/incidents/2014/4/30/san-lucas-fire/\", \"2014-05-01T19:00:00Z\", \"2014-05-01\", \"2014-04-30\", \"N\", true, false], [\"Miguelito Fire\", \"Y\", \"2014-05-19T09:20:00Z\", \"2014-05-13T14:00:00Z\", \"Santa Barbara County Fire\", NaN, \"Santa Barbara\", \"Off Santa Miguelito Canyon Road in Lompoc\", 632.0, 100.0, \"NaN\", \"Santa Barbara County Fire, San Diego City, USFS, OES, Red Cross, San Diego PD, San Diego SO, San Diego School PD, CHP, CCC.\", -120.454, 34.609, \"NaN\", \"d08b0c4e-35d3-43fb-8af8-1756b1789172\", \"https://www.fire.ca.gov/incidents/2014/5/13/miguelito-fire/\", \"2014-05-19T09:20:00Z\", \"2014-05-19\", \"2014-05-13\", \"N\", true, false], [\"Tomahawk Fire\", \"Y\", \"2014-05-19T09:20:00Z\", \"2014-05-14T09:45:00Z\", \"Marine Corps Base Camp Pendleton\", NaN, \"San Diego\", \"Traveled from Naval Weapons Station, Fallbrook and is now on Camp Pendleton \", 5367.0, 100.0, \"NaN\", \"Marine Corps Base Camp Pendleton\", -117.284889, 33.3529, \"NaN\", \"2b35bd0d-169f-4a81-835b-13bf527031a6\", \"https://www.fire.ca.gov/incidents/2014/5/14/tomahawk-fire/\", \"2014-05-19T09:20:00Z\", \"2014-05-19\", \"2014-05-14\", \"N\", false, false], [\"San Mateo Fire\", \"Y\", \"2014-05-20T23:30:00Z\", \"2014-05-16T11:24:00Z\", \"Marine Corps Base Camp Pendleton\", NaN, \"San Diego\", \"in the Talega area of Marine Corps Base Camp Pendleton\", 1457.0, 100.0, \"NaN\", \"Marine Corps Base Camp Pendleton\", -117.550567, 33.417572, \"NaN\", \"b0b5efed-3edc-4a4b-97c8-95a79d12d0c6\", \"https://www.fire.ca.gov/incidents/2014/5/16/san-mateo-fire/\", \"2014-05-20T23:30:00Z\", \"2014-05-20\", \"2014-05-16\", \"N\", false, false], [\"Highway Fire\", \"Y\", \"2014-05-15T18:30:00Z\", \"2014-05-14T13:00:00Z\", \"CAL FIRE San Diego Unit\", NaN, \"San Diego\", \"off Old Hwy 395 and I-15 in the Deer Springs area \", 380.0, 100.0, \"Interstate 15 is closed 3 1/2 miles south of Hwy 76 to .7 miles north of Hwy 76\", \"CAL FIRE San Diego Unit\", -117.162, 33.312, \"NaN\", \"ebea3cc2-c0ad-4de2-829a-0b544183461b\", \"https://www.fire.ca.gov/incidents/2014/5/14/highway-fire/\", \"2014-05-15T18:30:00Z\", \"2014-05-15\", \"2014-05-14\", \"N\", true, false], [\"Fiddler Fire\", \"Y\", \"2014-05-15T11:30:00Z\", \"2014-05-14T14:00:00Z\", \"CAL FIRE Shasta-Trinity Unit\", NaN, \"Shasta\", \"Off Perla Rd & Fiddlers Rd in Igo\", 50.0, 100.0, \"NaN\", \"CAL FIRE Shasta-Trinity Unit\", -122.721, 40.39, \"NaN\", \"2c241790-d062-4b15-9a25-8e511c0febab\", \"https://www.fire.ca.gov/incidents/2014/5/14/fiddler-fire/\", \"2014-05-15T11:30:00Z\", \"2014-05-15\", \"2014-05-14\", \"N\", true, false], [\"Cocos Fire\", \"Y\", \"2014-05-22T18:15:00Z\", \"2014-05-14T16:00:00Z\", \"San Marcos Fire / CAL FIRE San Diego Unit / Elfin Forest Fire Dept\", NaN, \"San Diego\", \"Village Drive and Twin Oaks Road, San Marcos\", 1995.0, 100.0, \"NaN\", \"San Marcos Fire / CAL FIRE San Diego Unit / Elfin Forest Fire Dept\", -117.1599, 33.1137, \"NaN\", \"1b1cba8f-7893-4eea-82d9-dc78663fd911\", \"https://www.fire.ca.gov/incidents/2014/5/14/cocos-fire/\", \"2014-05-22T18:15:00Z\", \"2014-05-22\", \"2014-05-14\", \"N\", true, false], [\"Poinsettia Fire\", \"Y\", \"2014-05-17T00:00:00Z\", \"2014-05-14T10:30:00Z\", \"Carlsbad Fire Department\", NaN, \"San Diego\", \"off Poinsettia Ln & Alicante Rd in Carlsbad\", 600.0, 100.0, \"NaN\", \"Carlsbad Fire Department\", -117.279, 33.1109, \"NaN\", \"cc18296d-573a-4737-8e4e-1221d75d1e7b\", \"https://www.fire.ca.gov/incidents/2014/5/14/poinsettia-fire/\", \"2014-05-17T00:00:00Z\", \"2014-05-17\", \"2014-05-14\", \"N\", false, false], [\"Indian Fire\", \"Y\", \"2014-05-26T08:45:00Z\", \"2014-05-25T12:20:00Z\", \"CAL FIRE Sonoma-Lake-Napa Unit\", NaN, \"Lake\", \"Near Indian Valley Reservoir, East of Clearlake Oaks\", 175.0, 100.0, \"NaN\", \"CAL FIRE Sonoma-Lake-Napa Unit\", -122.5983, 39.1647, \"NaN\", \"b454456c-1fa9-4766-b179-6df36b4d844b\", \"https://www.fire.ca.gov/incidents/2014/5/25/indian-fire/\", \"2014-05-26T08:45:00Z\", \"2014-05-26\", \"2014-05-25\", \"N\", true, false], [\"59 Fire\", \"Y\", \"2022-10-24T11:30:50Z\", \"2014-06-04T11:45:00Z\", \"CAL FIRE Tuolumne-Calaveras Unit\", NaN, \"Tuolumne\", \"near Bonds Flat Rd & La Grange Rd (J59), west of Don Pedro Reservoir\", 402.0, 100.0, \"NaN\", \"CAL FIRE Tuolumne-Calaveras Unit\", -120.45087, 37.76617, \"NaN\", \"1a0bbf7e-7f9b-4359-9c91-85dec2e2869a\", \"https://www.fire.ca.gov/incidents/2014/6/4/59-fire/\", \"2014-06-05T20:00:00Z\", \"2014-06-05\", \"2014-06-04\", \"N\", true, false], [\"Hetch Hetchy Fire\", \"Y\", \"2014-06-06T09:30:00Z\", \"2014-06-05T13:04:00Z\", \"CAL FIRE Tuolumne-Calaveras Unit\", NaN, \"Tuolumne\", \"off La Grange Rd (J59) at Hetch Hetchy power lines, northwest shore of Don Pedro Reservoir\", 269.0, 100.0, \"NaN\", \"CAL FIRE Tuolumne-Calaveras Unit\", -120.452, 37.787, \"NaN\", \"b5d32131-cf00-4e34-9e08-b74d68a3174f\", \"https://www.fire.ca.gov/incidents/2014/6/5/hetch-hetchy-fire/\", \"2014-06-06T09:30:00Z\", \"2014-06-06\", \"2014-06-05\", \"N\", true, false], [\"Hall Fire\", \"Y\", \"2014-06-09T19:15:00Z\", \"2014-06-11T07:30:00Z\", \"CAL FIRE Fresno-Kings Unit\", NaN, \"Fresno\", \"near Hwy 180 & Hall Lane near Squaw Valley\", 25.0, 100.0, \"NaN\", \"CAL FIRE Fresno-Kings Unit\", -119.241493, 36.742747, \"NaN\", \"ccc2ec2b-4941-4bbd-ae60-be6706d97f13\", \"https://www.fire.ca.gov/incidents/2014/6/11/hall-fire/\", \"2014-06-09T19:15:00Z\", \"2014-06-09\", \"2014-06-11\", \"N\", true, false], [\"Morgan Fire\", \"Y\", \"2014-06-11T07:30:00Z\", \"2014-06-09T15:15:00Z\", \"CAL FIRE Fresno-Kings Unit\", NaN, \"Fresno\", \"near the 16,000 block of Highway 168 near Prather\", 40.0, 100.0, \"Highway 168 has been reopened.\", \"CAL FIRE Fresno-Kings Unit\", -119.525506, 36.991825, \"NaN\", \"857e832f-17bd-4ad2-8789-99b003187049\", \"https://www.fire.ca.gov/incidents/2014/6/9/morgan-fire/\", \"2014-06-11T07:30:00Z\", \"2014-06-11\", \"2014-06-09\", \"N\", true, false], [\"Norman Fire\", \"Y\", \"2014-06-13T08:00:00Z\", \"2014-06-12T14:29:00Z\", \"CAL FIRE Sonoma-Lake-Napa Unit\", NaN, \"Solano\", \"off Rolling Hills Lane, north of Vacaville \", 70.0, 100.0, \"NaN\", \"CAL FIRE Sonoma-Lake-Napa Unit\", 38.453, 121.999, \"NaN\", \"45cf54ae-c166-4f81-816f-2e0ef959a56e\", \"https://www.fire.ca.gov/incidents/2014/6/12/norman-fire/\", \"2014-06-13T08:00:00Z\", \"2014-06-13\", \"2014-06-12\", \"N\", true, false], [\"Haigh Fire\", \"Y\", \"2014-06-13T18:30:00Z\", \"2014-06-10T15:11:00Z\", \"CAL FIRE Madera-Mariposa-Merced Unit\", NaN, \"Mariposa\", \"Highway 49 and Haigh Rd., north of Coulterville\", 130.0, 100.0, \"NaN\", \"CAL FIRE Madera-Mariposa-Merced Unit\", -120.197, 37.7103, \"NaN\", \"50567f4a-c56d-4d73-9855-f5d81fa74025\", \"https://www.fire.ca.gov/incidents/2014/6/10/haigh-fire/\", \"2014-06-13T18:30:00Z\", \"2014-06-13\", \"2014-06-10\", \"N\", true, false], [\"Shirley Fire\", \"Y\", \"2014-06-20T08:30:00Z\", \"2014-06-13T17:00:00Z\", \"Sequoia National Forest\", NaN, \"Kern\", \"3 Miles south of Shirley Meadows\", 3895.0, 100.0, \"NaN\", \"Sequoia National Forest\", -118.555527, 35.70683, \"NaN\", \"8ede9823-938e-4786-97b8-a0f42b852cb2\", \"https://www.fire.ca.gov/incidents/2014/6/13/shirley-fire/\", \"2014-06-20T08:30:00Z\", \"2014-06-20\", \"2014-06-13\", \"N\", false, false], [\"Tehama Fire\", \"Y\", \"2014-06-13T13:50:00Z\", \"2014-06-13T12:23:00Z\", \"CAL FIRE Tehama-Glenn Unit\", NaN, \"Tehama\", \"Rancho Tehama, southwest of Red Bluff\", 225.0, 100.0, \"NaN\", \"CAL FIRE Tehama-Glenn Unit\", -122.345078, 40.009827, \"NaN\", \"724209e0-12b0-4d49-b798-8ccacf95e668\", \"https://www.fire.ca.gov/incidents/2014/6/13/tehama-fire/\", \"2014-06-13T13:50:00Z\", \"2014-06-13\", \"2014-06-13\", \"N\", true, false], [\"Reed Fire\", \"Y\", \"2014-06-21T19:00:00Z\", \"2014-06-20T15:27:00Z\", \"CAL FIRE Tuolumne Calaveras Unit\", NaN, \"Calaveras\", \"off George Reed Drive and Pool Station Road, San Andreas\", 120.0, 100.0, \"NaN\", \"CAL FIRE Tuolumne Calaveras Unit\", 38.178241, 120.679019, \"NaN\", \"2b382ade-87e2-4cff-92f7-67328139d7eb\", \"https://www.fire.ca.gov/incidents/2014/6/20/reed-fire/\", \"2014-06-21T19:00:00Z\", \"2014-06-21\", \"2014-06-20\", \"N\", true, false], [\"Oak Fire\", \"Y\", \"2014-06-24T19:00:00Z\", \"2014-06-22T12:37:00Z\", \"CAL FIRE Tuolumne Calaveras Unit\", NaN, \"Calaveras\", \"Oak Valley Road at Pool Station Road, south of San Andreas\", 85.0, 100.0, \"NaN\", \"CAL FIRE Tuolumne Calaveras Unit, USFS, Central Fire, Mokelumne Hill Fire, San Andreas Fire, Angels Fire, Copperopolis Fire, Altaville/Melones Fire, PG&E, CHP, Calaveras County SO\", -120.66, 38.058, \"NaN\", \"06ae83a9-125e-4cf5-826e-8b541b2308fd\", \"https://www.fire.ca.gov/incidents/2014/6/22/oak-fire/\", \"2014-06-24T19:00:00Z\", \"2014-06-24\", \"2014-06-22\", \"N\", true, false], [\"Butts Fire\", \"Y\", \"2014-07-09T18:00:00Z\", \"2014-07-01T12:08:00Z\", \"CAL FIRE Sonoma-Lake-Napa Unit\", NaN, \"Napa, Lake\", \"Off Butts Canyon Rd in Pope Valley, northwest of Lake Berryessa\", 4300.0, 100.0, \"All road closures have been lifted.\", \"CAL FIRE Sonoma-Lake-Napa Unit, Napa County Sheriff's, CHP, United States Forest Service, CAL OES, Napa County OES, Lake County OES, PG&E, Bureau of Land Management, California Department of Corrections and Rehabilitation, Napa County Fire\", -122.454, 38.664, \"NaN\", \"2437bb57-1d09-4892-8c26-a60661dae1d9\", \"https://www.fire.ca.gov/incidents/2014/7/1/butts-fire/\", \"2014-07-09T18:00:00Z\", \"2014-07-09\", \"2014-07-01\", \"N\", true, false], [\"Bible Fire\", \"Y\", \"2014-07-09T16:45:00Z\", \"2014-07-09T14:34:00Z\", \"CAL FIRE Amador-El Dorado Unit\", NaN, \"El Dorado\", \"off Mt Aukum Rd, Somerset \", 30.0, 100.0, \"NaN\", \"CAL FIRE Amador-El Dorado Unit\", -120.703238, 38.608336, \"NaN\", \"da607cd1-32fc-44c0-bd7a-ba14ad0a14cc\", \"https://www.fire.ca.gov/incidents/2014/7/9/bible-fire/\", \"2014-07-09T16:45:00Z\", \"2014-07-09\", \"2014-07-09\", \"N\", true, false], [\"Bully Fire\", \"Y\", \"2022-10-24T11:33:31Z\", \"2014-07-11T15:37:00Z\", \"CAL FIRE Shasta-Trinity Unit\", NaN, \"Shasta\", \"Plantina Road at Bland Road, Igo\", 12661.0, 100.0, \"NaN\", \"CAL FIRE Shasta-Trinity Unit, Shasta County Fire, BLM, USFS, Shasta County Sheriff\\u2019s Office, CHP, Cal  OES, CDCR, CCC and Shasta County DPW.\", -122.750788, 40.4314, \"NaN\", \"3a1fab73-882a-478c-b289-504497db4d64\", \"https://www.fire.ca.gov/incidents/2014/7/11/bully-fire/\", \"2014-07-26T20:00:00Z\", \"2014-07-26\", \"2014-07-11\", \"N\", true, false], [\"Monticello Fire\", \"Y\", \"2014-07-12T18:00:00Z\", \"2014-07-04T21:32:00Z\", \"CAL FIRE Sonoma-Lake-Napa Unit\", NaN, \"Yolo\", \"Hwy 128 at Monticello Dam, southeast shore of Lake Berryessa \", 6488.0, 100.0, \"Hwy 128 has been reopened. \", \"CAL FIRE Sonoma-Lake-Napa Unit, Winters FPD, Yolo County Sheriff, Lake County Sheriff, Napa County Fire, local government fire agencies of Napa, Solano and Yolo counties, CAL OES, California Department of Corrections and Rehabilitation, CHP, Bureau of Land Management, Red Cross, PG&E, Yolo County Animal Services, Cal Trans, City of Woodland, City of Winters, and Yolo County OES.\", -122.104, 38.512, \"NaN\", \"756d8f5b-bc05-4741-a5a3-3b20ca21906d\", \"https://www.fire.ca.gov/incidents/2014/7/4/monticello-fire/\", \"2014-07-12T18:00:00Z\", \"2014-07-12\", \"2014-07-04\", \"N\", true, false], [\"Gulch Fire\", \"Y\", \"2014-07-07T07:00:00Z\", \"2014-07-03T15:46:00Z\", \"CAL FIRE Lassen-Modoc Unit / Modoc National Forest\", NaN, \"Modoc\", \"Off highway 139, 15 miles north of Canby - The fire is burning on the east side of Hwy 139\", 1469.0, 100.0, \"NaN\", \"CAL FIRE Lassen-Modoc Unit / Modoc National Forest\", -120.904, 41.489, \"NaN\", \"00089805-cdee-4607-8b67-1653bee463bc\", \"https://www.fire.ca.gov/incidents/2014/7/3/gulch-fire/\", \"2014-07-07T07:00:00Z\", \"2014-07-07\", \"2014-07-03\", \"N\", true, false], [\"Modoc Lightning Complex\", \"Y\", \"2014-07-03T10:30:00Z\", \"2014-07-01T19:00:00Z\", \"Modoc National Forest\", NaN, \"Modoc\", \"15 fires across the Modoc National Forest\", 1651.0, 100.0, \"NaN\", \"Modoc National Forest\", -120.79, 41.89, \"NaN\", \"8f48a8a9-facf-49e8-92dc-ea1147e53792\", \"https://www.fire.ca.gov/incidents/2014/7/1/modoc-lightning-complex/\", \"2014-07-03T10:30:00Z\", \"2014-07-03\", \"2014-07-01\", \"N\", false, false], [\"West Fire\", \"Y\", \"2014-07-03T10:45:00Z\", \"2014-07-01T03:45:00Z\", \"Shasta - Trinity National Forest\", NaN, \"Trinity\", \"near the Trinity Pines community\", 15.0, 100.0, \"NaN\", \"Shasta - Trinity National Forest\", -123.24, 40.41, \"NaN\", \"62c2a563-1768-4c94-ac71-694a553cfdf8\", \"https://www.fire.ca.gov/incidents/2014/7/1/west-fire/\", \"2014-07-03T10:45:00Z\", \"2014-07-03\", \"2014-07-01\", \"N\", false, false], [\"Banner Fire\", \"Y\", \"2014-07-06T09:15:00Z\", \"2014-07-03T10:43:00Z\", \"CAL FIRE San Diego Unit\", NaN, \"San Diego\", \"Banner Grade, east of Julian\", 217.0, 100.0, \"The following road closures are in effect: <li>State Route 78 at Manzanita Drive</li><li>Manzanita Drive at Lakeview Drive</li>\", \"CAL FIRE San Diego Unit\", -116.576454, 33.078948, \"NaN\", \"d2623c2c-ff3d-419e-a129-b3aa542c05c4\", \"https://www.fire.ca.gov/incidents/2014/7/3/banner-fire/\", \"2014-07-06T09:15:00Z\", \"2014-07-06\", \"2014-07-03\", \"N\", true, false], [\"Marsh Fire\", \"Y\", \"2014-07-12T18:00:00Z\", \"2014-07-11T21:57:00Z\", \"CAL FIRE Santa Clara Unit\", NaN, \"Contra Costa\", \"off Marsh Creek Rd., near Aspara Drive, east of Clayton\", 80.0, 100.0, \"NaN\", \"CAL FIRE Santa Clara Unit\", -121.5118, 37.5359, \"NaN\", \"dc1a83b0-500c-440f-85d7-7090884f5487\", \"https://www.fire.ca.gov/incidents/2014/7/11/marsh-fire/\", \"2014-07-12T18:00:00Z\", \"2014-07-12\", \"2014-07-11\", \"N\", true, false], [\"Cassel Fire\", \"Y\", \"2014-07-08T18:30:00Z\", \"2014-07-05T18:44:00Z\", \"CAL FIRE Shasta-Trinity Unit\", NaN, \"Shasta\", \"Off Cassel Road at Thrush Road, in Cassel\", 75.0, 100.0, \"NaN\", \"CAL FIRE Shasta-Trinity Unit\", -121.3415, 40.5719, \"NaN\", \"0bc42201-27c2-4b3d-a329-ce44bc1261d9\", \"https://www.fire.ca.gov/incidents/2014/7/5/cassel-fire/\", \"2014-07-08T18:30:00Z\", \"2014-07-08\", \"2014-07-05\", \"N\", true, false], [\"Interlake Fire\", \"Y\", \"2014-07-08T18:30:00Z\", \"2014-07-07T16:12:00Z\", \"CAL FIRE San Benito-Monterey Unit\", NaN, \"San Luis Obispo\", \"along Interlake Road between Monterey & San Luis Obispo County\", 47.0, 100.0, \"NaN\", \"CAL FIRE San Benito-Monterey Unit\", -121.0226, 35.8218, \"NaN\", \"1df51ee3-c15a-4266-bf3d-d52272189cff\", \"https://www.fire.ca.gov/incidents/2014/7/7/interlake-fire/\", \"2014-07-08T18:30:00Z\", \"2014-07-08\", \"2014-07-07\", \"N\", true, false], [\"Hutto Fire\", \"Y\", \"2014-07-08T06:56:00Z\", \"2014-07-07T16:35:00Z\", \"CAL FIRE Nevada-Yuba-Placer\", NaN, \"Nevada\", \"on Hutto Rd & Keller Rd in Smartsville\", 38.0, 100.0, \"NaN\", \"CAL FIRE Nevada-Yuba-Placer\", -121.2687, 39.1871, \"NaN\", \"61506ea2-3f16-4aa6-ba54-d7788c3a2b35\", \"https://www.fire.ca.gov/incidents/2014/7/7/hutto-fire/\", \"2014-07-08T06:56:00Z\", \"2014-07-08\", \"2014-07-07\", \"N\", true, false], [\"Dry Fire\", \"Y\", \"2014-07-10T07:30:00Z\", \"2014-07-09T13:45:00Z\", \"CAL FIRE Shasta-Trinity Unit\", NaN, \"Shasta\", \"off Hwy 299 & Dry Creek Rd, east of Bella Vista\", 143.0, 100.0, \"NaN\", \"CAL FIRE Shasta-Trinity Unit\", -122.2215, 40.6569, \"NaN\", \"dcbc7afb-cdef-49a3-822e-20bbaa86a5d0\", \"https://www.fire.ca.gov/incidents/2014/7/9/dry-fire/\", \"2014-07-10T07:30:00Z\", \"2014-07-10\", \"2014-07-09\", \"N\", true, false], [\"Nicolls Fire \", \"Y\", \"2014-07-21T14:45:00Z\", \"2014-07-11T13:46:00Z\", \"Sequoia National Forest\", NaN, \"Kern\", \"Kelso Valley/Onyx area\", 1680.0, 100.0, \"NaN\", \"Sequoia National Forest\", -118.15, 35.642, \"NaN\", \"45abd556-f41f-4507-91a5-1cf2f751bb4c\", \"https://www.fire.ca.gov/incidents/2014/7/11/nicolls-fire/\", \"2014-07-21T14:45:00Z\", \"2014-07-21\", \"2014-07-11\", \"N\", false, false], [\"Wildlife Fire\", \"Y\", \"2014-07-16T08:00:00Z\", \"2014-07-14T18:00:00Z\", \"CAL FIRE Butte Unit\", NaN, \"Butte\", \"Wildlife Area - Larkin Road, west of Oroville<br><br>Road Closures: None, the Wildlife area north of the Afterbay Outlet is closed to the public.\", 72.0, 100.0, \"NaN\", \"CAL FIRE Butte Unit\", -121.6129, 39.4664, \"NaN\", \"9c21bb74-e919-403c-8a43-05f561669e4e\", \"https://www.fire.ca.gov/incidents/2014/7/14/wildlife-fire/\", \"2014-07-16T08:00:00Z\", \"2014-07-16\", \"2014-07-14\", \"N\", true, false], [\"Sand Fire\", \"Y\", \"2022-10-24T11:28:11Z\", \"2014-07-25T16:34:00Z\", \"CAL FIRE Amador-El Dorado Unit\", NaN, \"Amador, El Dorado\", \"East of Highway 49, 5 miles north of Plymouth\", 4240.0, 100.0, \"NaN\", \"CAL FIRE Amador-El Dorado Unit, CHP, El Dorado Co SO, Amador SO, Cal OES, CDCR, El Dorado Co Animal Control, USFS, BLM, El Dorado Co DOT, CCC, Red Cross, PG&E, Cal Trans\", -120.7819, 38.5691, \"Wildfire\", \"4d07ccc3-32be-4a1d-acac-18333884c97d\", \"https://www.fire.ca.gov/incidents/2014/7/25/sand-fire/\", \"2014-08-02T19:15:00Z\", \"2014-08-02\", \"2014-07-25\", \"N\", true, false], [\"Bald Fire\", \"Y\", \"2014-08-15T14:00:00Z\", \"2014-07-30T20:15:00Z\", \"CAL FIRE Lassen-Modoc Unit / USFS - Lassen National Forest\", NaN, \"Shasta\", \"8 miles southeast of Fall River Mills\", 39736.0, 100.0, \"NaN\", \"CAL FIRE Lassen-Modoc Unit / USFS - Lassen National Forest\", -121.368, 40.901, \"NaN\", \"045a1a18-72e4-4579-b64c-f34b33a1031b\", \"https://www.fire.ca.gov/incidents/2014/7/30/bald-fire/\", \"2014-08-15T14:00:00Z\", \"2014-08-15\", \"2014-07-30\", \"N\", true, false], [\"Day Fire\", \"Y\", \"2022-10-24T11:28:26Z\", \"2014-07-30T19:01:00Z\", \"CAL FIRE Lassen-Modoc Unit\", NaN, \"Modoc\", \"North of the community of Day\", 13153.0, 100.0, \"NaN\", \"CAL FIRE Lassen-Modoc Unit, CAL FIRE, USFS, BLM, CAL EMA, Local Government, Modoc County Sheriff, Lassen  County Sheriff, Shasta County Sheriff, Sierra Pacific Industries, WM Beatty and Associates, and CDCR.\", -121.2144, 41.1336, \"NaN\", \"e3b7143d-6faa-4962-9fe5-c2d1559c5d20\", \"https://www.fire.ca.gov/incidents/2014/7/30/day-fire/\", \"2014-08-13T07:00:00Z\", \"2014-08-13\", \"2014-07-30\", \"N\", true, false], [\"Oregon Gulch Fire (part of the Beaver Complex)\", \"Y\", \"2014-08-18T09:45:00Z\", \"2014-07-30T23:00:00Z\", \"CAL FIRE Siskiyou Unit / Oregon Dept. of Forestry / Oregon Office of The State Fire Marshal\", NaN, \"Siskiyou\", \"Community of Copco, South of Oregon Border\", 35302.0, 100.0, \"NaN\", \"CAL FIRE Siskiyou Unit / Oregon Dept. of Forestry / Oregon Office of The State Fire Marshal\", -122.345, 42.048, \"NaN\", \"3b2609f0-b3a2-493c-bf66-c5b5f64409f8\", \"https://www.fire.ca.gov/incidents/2014/7/30/oregon-gulch-fire-part-of-the-beaver-complex/\", \"2014-08-18T09:45:00Z\", \"2014-08-18\", \"2014-07-30\", \"N\", true, false], [\"Eiler Fire\", \"Y\", \"2014-08-25T10:00:00Z\", \"2014-07-31T18:04:00Z\", \"CAL FIRE / USFS - Lassen National Forest\", NaN, \"Shasta\", \"12 miles southeast of Burney near Old Station\", 32416.0, 100.0, \"See evacuations above\", \"CAL FIRE / USFS - Lassen National Forest, Shasta County Fire, Burney Fire District, BLM, Shasta County Sheriff's Office, CHP, CDCR, PG&E, Sierra Pacific Industries, W. Beatty Co. Georgia Forestry Commission, Louisiana Office of Forestry\", -121.562, 40.72, \"NaN\", \"60ea04ec-5f5e-4a49-8fbc-fa50c17a1199\", \"https://www.fire.ca.gov/incidents/2014/7/31/eiler-fire/\", \"2014-08-25T10:00:00Z\", \"2014-08-25\", \"2014-07-31\", \"N\", true, false], [\"Gold Complex\", \"Y\", \"2024-08-04T23:08:11Z\", \"2024-07-22T14:34:07Z\", \"U.S. Forest Service-Plumas National Forest \", NaN, \"Plumas\", \"Plumas National Forest - Beckwourth Ranger District\", 3007.0, 100.0, \"NaN\", \"NaN\", -120.535158, 39.726014, \"Wildfire\", \"8ef9f3d7-125c-42a3-8654-f11eacb30b9d\", \"https://www.fire.ca.gov/incidents/2024/7/22/gold-complex/\", \"2024-08-04T23:08:08Z\", \"2024-08-04\", \"2024-07-22\", \"N\", false, false], [\"Pencil Fire\", \"Y\", \"2024-07-28T22:36:04Z\", \"2024-07-22T14:16:21Z\", \"U.S. Forest Service-Modoc National Forest \", NaN, \"Modoc\", \"Near McGinty Reservoir\", 396.0, 100.0, \"NaN\", \"NaN\", -120.519727, 41.80078, \"Wildfire\", \"e3b62ab2-1900-45e2-a3c9-bbe45d96379a\", \"https://www.fire.ca.gov/incidents/2024/7/22/pencil-fire/\", \"2024-07-28T22:35:49Z\", \"2024-07-28\", \"2024-07-22\", \"N\", false, false], [\"Juniper Fire\", \"Y\", \"2024-07-23T07:47:44Z\", \"2024-07-22T17:20:43Z\", \"CAL FIRE Riverside Unit\", NaN, \"Riverside\", \"Juniper Flats Road / Mapes Road, Homeland\", 15.0, 100.0, \"NaN\", \"NaN\", -117.112942, 33.757839, \"Wildfire\", \"55bd9617-c8cc-4062-b75b-8ed05328605d\", \"https://www.fire.ca.gov/incidents/2024/7/22/juniper-fire/\", \"NaN\", \"NaN\", \"2024-07-22\", \"N\", true, false], [\"Maria Fire\", \"Y\", \"2024-07-28T22:30:35Z\", \"2024-07-23T00:29:55Z\", \"CAL FIRE Tuolumne-Calaveras Unit\", NaN, \"Calaveras\", \"Jesus Maria Road and Hawver Road, southeast of Mokelumne Hill\", 71.0, 100.0, \"NaN\", \"NaN\", -120.656662, 38.28567, \"Wildfire\", \"5002319c-73be-49c6-bd3e-ee8a2275b437\", \"https://www.fire.ca.gov/incidents/2024/7/23/maria-fire/\", \"2024-07-28T22:30:18Z\", \"2024-07-28\", \"2024-07-23\", \"N\", true, false], [\"Border 63 Fire\", \"Y\", \"2024-07-25T12:16:12Z\", \"2024-07-23T09:56:42Z\", \"CAL FIRE San Diego Unit\", NaN, \"San Diego\", \"Highway 94, West of Bell Valley Truck Trail, Potrero\", 12.0, 100.0, \"NaN\", \"NaN\", -116.568589, 32.59738, \"Wildfire\", \"1fb7abf0-6d39-4453-8507-4ba02c7489b3\", \"https://www.fire.ca.gov/incidents/2024/7/23/border-63-fire/\", \"2024-07-25T12:16:06Z\", \"2024-07-25\", \"2024-07-23\", \"N\", true, false], [\"Circle Fire\", \"Y\", \"2024-07-25T23:06:46Z\", \"2024-07-23T12:36:19Z\", \"CAL FIRE Madera-Mariposa-Merced Unit\", NaN, \"Madera\", \"Road 200 and Circle J Ranch Road, O'neals\", 49.0, 100.0, \"NaN\", \"NaN\", -119.65963, 37.152487, \"Wildfire\", \"07237a37-5e0e-44f9-9255-7442bd596f77\", \"https://www.fire.ca.gov/incidents/2024/7/23/circle-fire/\", \"2024-07-25T23:06:44Z\", \"2024-07-25\", \"2024-07-23\", \"N\", true, false], [\"Metz Fire\", \"Y\", \"2024-07-25T09:50:36Z\", \"2024-07-23T15:13:43Z\", \"CAL FIRE San Benito-Monterey Unit\", NaN, \"Monterey\", \"Metz Road, east of Greenfield  \", 1100.0, 100.0, \"NaN\", \"NaN\", -121.199629, 36.340405, \"Wildfire\", \"4f825f9d-08d2-4ad6-87fd-d5152ad6b4ce\", \"https://www.fire.ca.gov/incidents/2024/7/23/metz-fire/\", \"NaN\", \"NaN\", \"2024-07-23\", \"N\", true, false], [\"Oakdale Fire\", \"Y\", \"2024-07-23T23:32:23Z\", \"2024-07-23T14:54:09Z\", \"CAL FIRE Madera-Mariposa-Merced Unit\", NaN, \"Merced\", \"Highway 59 North and Oakdale Rd.\", 96.0, 100.0, \"NaN\", \"NaN\", -120.541611, 37.430142, \"Wildfire\", \"f7ed042a-a219-44ef-b856-a6ec000fc194\", \"https://www.fire.ca.gov/incidents/2024/7/23/oakdale-fire/\", \"NaN\", \"NaN\", \"2024-07-23\", \"N\", true, false], [\"Cow Camp Fire\", \"Y\", \"2024-07-28T22:32:54Z\", \"2024-07-23T15:40:13Z\", \"Humboldt/Toiyabe National Forest\", NaN, \"Mono\", \"Cow Camp Road at Bodie Masonic Road, Bridgeport\", 292.0, 100.0, \"NaN\", \"NaN\", -119.074167, 38.300167, \"Wildfire\", \"852ed4e7-2505-41dc-9070-a71a0dce290a\", \"https://www.fire.ca.gov/incidents/2024/7/23/cow-camp-fire/\", \"2024-07-28T22:32:39Z\", \"2024-07-28\", \"2024-07-23\", \"N\", false, false], [\"Harry Fire\", \"Y\", \"2024-07-25T12:15:27Z\", \"2024-07-23T16:28:05Z\", \"CAL FIRE Siskiyou Unit\", NaN, \"Siskiyou\", \"Harry Cash Road, near Montague.\", 10.0, 100.0, \"NaN\", \"Montague Fire Department, Lake Shastina Fire Department, South Yreka Fire Department, Yreka City Fire Department, Klamath National Forest, Shasta Trinity National Forest, Siskiyou County Sheriff Office and Siskiyou County Office of Emergency Services.\", -122.369802, 41.673939, \"Wildfire\", \"46a2ab3e-8d76-4f30-8453-248c47b99624\", \"https://www.fire.ca.gov/incidents/2024/7/23/harry-fire/\", \"2024-07-25T12:15:21Z\", \"2024-07-25\", \"2024-07-23\", \"N\", true, false], [\"Beaver Fire\", \"Y\", \"2024-07-24T15:37:05Z\", \"2024-07-23T16:09:45Z\", \"CAL FIRE San Benito-Monterey Unit\", NaN, \"San Benito\", \"Coalinga Road, Paicines\", 19.0, 100.0, \"NaN\", \"NaN\", -120.802733, 36.362544, \"Wildfire\", \"6c0ae648-b287-4a3f-9c12-2c5f26494e86\", \"https://www.fire.ca.gov/incidents/2024/7/23/beaver-fire/\", \"NaN\", \"NaN\", \"2024-07-23\", \"N\", true, false], [\"Acres Fire\", \"Y\", \"2024-07-25T12:15:52Z\", \"2024-07-23T21:09:54Z\", \"CAL FIRE Madera-Mariposa-Merced Unit\", NaN, \"Madera\", \"22800 Block Road 26,North of Madera Acres\", 10.0, 100.0, \"NaN\", \"NaN\", -120.074549, 37.081853, \"Wildfire\", \"d524998a-1423-4088-a562-b5b511b6457b\", \"https://www.fire.ca.gov/incidents/2024/7/23/acres-fire/\", \"2024-07-25T12:15:44Z\", \"2024-07-25\", \"2024-07-23\", \"N\", true, false], [\"Grove 2 Fire\", \"Y\", \"2024-07-28T22:36:51Z\", \"2024-07-24T13:12:32Z\", \"CAL FIRE San Diego Unit\", NaN, \"San Diego\", \"Northeast of Sunshine Summit, CA\", 863.0, 100.0, \"NaN\", \"San Diego County Fire Protection District, Bureau of Land Managment, Vista Irrigation District.\\\\n\", -116.741601, 33.409448, \"Wildfire\", \"e35176e8-fbe8-451a-ba16-3bdddb7b83e0\", \"https://www.fire.ca.gov/incidents/2024/7/24/grove-2-fire/\", \"2024-07-28T22:36:35Z\", \"2024-07-28\", \"2024-07-24\", \"N\", true, false], [\"Bullion Fire\", \"Y\", \"2024-07-24T22:28:04Z\", \"2024-07-24T14:04:38Z\", \"CAL FIRE Madera-Mariposa-Merced Unit\", NaN, \"Mariposa\", \"6000 block of Highway 49, Mariposa\", 50.0, 100.0, \"NaN\", \"NaN\", -120.046081, 37.51019, \"Wildfire\", \"da3ce6fb-d828-4f22-bff2-ca124a86db5b\", \"https://www.fire.ca.gov/incidents/2024/7/24/bullion-fire/\", \"NaN\", \"NaN\", \"2024-07-24\", \"N\", true, false], [\"Scales Fire\", \"Y\", \"2024-07-27T20:03:14Z\", \"2024-07-24T14:20:16Z\", \"CAL FIRE Tehama-Glenn Unit\", NaN, \"Tehama\", \"Cascade Wonderland Highway, Cottonwood\", 59.0, 100.0, \"NaN\", \"NaN\", -122.283667, 40.356228, \"Wildfire\", \"b15dcd50-3ff0-4910-b004-2f6842ebc8fa\", \"https://www.fire.ca.gov/incidents/2024/7/24/scales-fire/\", \"NaN\", \"NaN\", \"2024-07-24\", \"N\", true, false], [\"Park Fire\", \"Y\", \"2024-10-01T09:07:53Z\", \"2024-07-24T14:52:43Z\", \"CAL FIRE Butte Unit, CAL FIRE Tehama-Glenn Unit and Lassen National Forest\", NaN, \"Butte, Tehama\", \"Off Upper Park Road in Bidwell Park, Chico\", 429603.0, 100.0, \"NaN\", \"\\\\n\\\\n\", -121.76168, 39.7789, \"Wildfire\", \"d9a0045f-b30c-490b-b181-5be460544947\", \"https://www.fire.ca.gov/incidents/2024/7/24/park-fire/\", \"NaN\", \"NaN\", \"2024-07-24\", \"N\", true, false], [\"Horse Fire\", \"Y\", \"2024-07-25T12:20:24Z\", \"2024-07-24T13:43:25Z\", \"NaN\", NaN, \"Modoc\", \"Unknown / TBD\", 13.0, 100.0, \"NaN\", \"NaN\", -121.304529, 41.742143, \"Wildfire\", \"55424dca-0bf0-48c6-a7d3-e892b8e7fafe\", \"https://www.fire.ca.gov/incidents/2024/7/24/horse-fire/\", \"2024-07-25T12:20:21Z\", \"2024-07-25\", \"2024-07-24\", \"N\", false, false], [\"R-6 Fire\", \"Y\", \"2024-07-30T17:31:56Z\", \"2024-07-23T20:18:39Z\", \"Bureau of Land Management\", NaN, \"Lassen\", \"North of Buckhorn Rd and West of the California and Nevada Border\", 26.0, 100.0, \"NaN\", \"NaN\", -120.0485, 40.914833, \"Wildfire\", \"763e1a5b-4887-40e0-8289-1b5deb8feb10\", \"https://www.fire.ca.gov/incidents/2024/7/23/r-6-fire/\", \"NaN\", \"NaN\", \"2024-07-23\", \"N\", false, false], [\"Flora Fire\", \"Y\", \"2024-07-28T22:29:29Z\", \"2024-07-24T16:41:23Z\", \"CAL FIRE Sonoma-Lake-Napa Unit\", NaN, \"Sonoma\", \"East side of Chalk Hill Road, Geyserville\", 36.0, 100.0, \"NaN\", \"Northern Sonoma County Fire, Santa Rosa Fire, Sonoma County Fire District, North Sonoma Coast Fire Protection District, Gold Ridge Fire Protection District, South Lake County Fire Protection District, Dry Creek Rancheria Fire, Healdsburg Fire Department,  CHP\\\\n\", -122.768983, 38.590922, \"Wildfire\", \"a40b4b2d-54ea-4aa7-8fa0-528c91bc8424\", \"https://www.fire.ca.gov/incidents/2024/7/24/flora-fire/\", \"2024-07-28T22:29:06Z\", \"2024-07-28\", \"2024-07-24\", \"N\", true, false], [\"Pentz Fire\", \"Y\", \"2024-07-25T23:07:06Z\", \"2024-07-24T19:33:53Z\", \"CAL FIRE Butte Unit\", NaN, \"Butte\", \"Durham-Pentz Road near Hwy 99, S/E of Chico Butte County\", 40.0, 100.0, \"NaN\", \"Butte County Sheriff's Office, PG&E, Plumas National Forest\", -121.680996, 39.638817, \"Wildfire\", \"c1545163-959e-4258-848c-3ffde697345a\", \"https://www.fire.ca.gov/incidents/2024/7/24/pentz-fire/\", \"2024-07-25T23:07:01Z\", \"2024-07-25\", \"2024-07-24\", \"N\", true, false], [\"Hatchett Fire\", \"Y\", \"2024-07-25T23:07:26Z\", \"2024-07-25T08:58:56Z\", \"CAL FIRE Tulare Unit\", NaN, \"Tulare\", \"Unknown / TBD\", 19.0, 100.0, \"NaN\", \"NaN\", -118.934596, 35.99271, \"Wildfire\", \"20850293-7c71-4c60-8a88-678e79a05c7c\", \"https://www.fire.ca.gov/incidents/2024/7/25/hatchett-fire/\", \"NaN\", \"NaN\", \"2024-07-25\", \"N\", false, false], [\"Acorn Fire\", \"Y\", \"2024-07-28T22:32:09Z\", \"2024-07-25T12:54:34Z\", \"Unified Command: CAL FIRE Sonoma-Lake-Napa Unit and Northshore Fire Protection District\", NaN, \"Lake\", \"1000 block of Manzanita Circle, Upper Lake\", 151.0, 100.0, \"NaN\", \"NaN\", -122.87667, 39.140133, \"Wildfire\", \"c6511dca-4499-4bd1-9699-d7ae0ab5a588\", \"https://www.fire.ca.gov/incidents/2024/7/25/acorn-fire/\", \"2024-07-28T22:31:51Z\", \"2024-07-28\", \"2024-07-25\", \"N\", true, false], [\"Lawton Fire\", \"Y\", \"2024-07-25T23:07:47Z\", \"2024-07-25T14:17:27Z\", \"CAL FIRE San Bernardino Unit\", NaN, \"San Bernardino\", \"South of Sage Drive & Sierra Vista Drive, Loma Linda\", 17.0, 100.0, \"NaN\", \"NaN\", -117.26745, 34.042687, \"Wildfire\", \"1542dc82-a61e-40fe-b01b-33dc2dc26773\", \"https://www.fire.ca.gov/incidents/2024/7/25/lawton-fire/\", \"2024-07-25T23:07:45Z\", \"2024-07-25\", \"2024-07-25\", \"N\", true, false], [\"Macy Fire\", \"Y\", \"2024-07-28T22:31:23Z\", \"2024-07-25T17:43:22Z\", \"CAL FIRE Riverside Unit\", NaN, \"Riverside\", \"Macy Street and Orange Street, Lake Elsinore\", 145.0, 100.0, \"NaN\", \"NaN\", -117.383235, 33.656742, \"Wildfire\", \"0b9dcedc-4ba1-41d3-bd28-e3f794253336\", \"https://www.fire.ca.gov/incidents/2024/7/25/macy-fire/\", \"2024-07-28T22:31:05Z\", \"2024-07-28\", \"2024-07-25\", \"N\", true, false], [\"Flynn Fire\", \"Y\", \"2024-07-28T22:34:55Z\", \"2024-07-25T21:48:20Z\", \"CAL FIRE Santa Clara Unit\", NaN, \"Alameda\", \"I 580 E and N Flynn Rd in the Altamont\", 389.0, 100.0, \"NaN\", \"NaN\", -121.69605, 37.724532, \"Wildfire\", \"2e22d229-d659-4405-ba5b-6218fa1d8e57\", \"https://www.fire.ca.gov/incidents/2024/7/25/flynn-fire/\", \"2024-07-28T22:34:42Z\", \"2024-07-28\", \"2024-07-25\", \"N\", true, false], [\"Victoria Fire\", \"Y\", \"2024-07-27T07:28:00Z\", \"2024-07-26T13:00:28Z\", \"Los Angeles County Fire Department\", NaN, \"Los Angeles\", \"North of Highway 14, Acton\", 10.0, 100.0, \"NaN\", \"NaN\", -118.245656, 34.50523, \"Wildfire\", \"dd43c38f-a57b-496f-a935-d4b2c2cee574\", \"https://www.fire.ca.gov/incidents/2024/7/26/victoria-fire/\", \"NaN\", \"NaN\", \"2024-07-26\", \"N\", false, false], [\"Lammers Fire\", \"Y\", \"2024-07-29T22:11:20Z\", \"2024-07-26T14:34:15Z\", \"South San Joaquin County Fire Authority\", NaN, \"San Joaquin\", \"South Lammers Road and Western Pacific Highway, Tracy\", 20.0, 100.0, \"NaN\", \"NaN\", -121.4764, 37.7146, \"Wildfire\", \"87afc01a-76e9-4e5a-84d0-1b4aa0ee6808\", \"https://www.fire.ca.gov/incidents/2024/7/26/lammers-fire/\", \"NaN\", \"NaN\", \"2024-07-26\", \"N\", false, false], [\"Creek Fire\", \"Y\", \"2024-08-03T06:53:11Z\", \"2024-07-26T15:57:00Z\", \"CAL FIRE Santa Clara Unit\", NaN, \"Alameda\", \"Welch Creek Rd and Calaveras Rd in Sunol\", 744.0, 100.0, \"NaN\", \"NaN\", -121.830534, 37.515462, \"Wildfire\", \"27b6f459-94a5-4f7e-953e-65ad6e5475eb\", \"https://www.fire.ca.gov/incidents/2024/7/26/creek-fire/\", \"NaN\", \"NaN\", \"2024-07-26\", \"N\", true, false], [\"Dockery Fire\", \"Y\", \"2024-07-27T07:28:13Z\", \"2024-07-26T21:14:13Z\", \"CAL FIRE Fresno-Kings Unit\", NaN, \"Fresno\", \"Unknown / TBD\", 20.0, 100.0, \"NaN\", \"NaN\", -119.601794, 36.573716, \"Wildfire\", \"058435b8-9372-466c-8073-fb8d34ba5ce0\", \"https://www.fire.ca.gov/incidents/2024/7/26/dockery-fire/\", \"NaN\", \"NaN\", \"2024-07-26\", \"N\", false, false], [\"Cosgrove Fire\", \"Y\", \"2024-07-28T22:28:18Z\", \"2024-07-27T14:49:12Z\", \"CAL FIRE Tuolumne-Calaveras Unit\", NaN, \"Calaveras\", \"Cosgrove Creek Road and Paloma Road, Valley Springs \", 12.0, 100.0, \"NaN\", \"NaN\", -120.802822, 38.222987, \"Wildfire\", \"7f2f64d4-8a53-44a3-b2fd-043ce5857574\", \"https://www.fire.ca.gov/incidents/2024/7/27/cosgrove-fire/\", \"2024-07-28T22:26:34Z\", \"2024-07-28\", \"2024-07-27\", \"N\", true, false], [\"Riley Fire\", \"Y\", \"2024-07-31T22:48:40Z\", \"2024-07-27T10:47:34Z\", \"CAL FIRE Mendocino Unit\", NaN, \"Mendocino\", \"Riley Road near Campo Noyo\", 12.0, 100.0, \"NaN\", \"NaN\", -123.590238, 39.418982, \"Wildfire\", \"3f6feca8-33d6-4a2f-ac4f-163cd64c2821\", \"https://www.fire.ca.gov/incidents/2024/7/27/riley-fire/\", \"2024-07-31T22:46:17Z\", \"2024-07-31\", \"2024-07-27\", \"N\", true, false], [\"Museum Fire\", \"Y\", \"2024-07-28T05:18:54Z\", \"2024-07-27T17:53:36Z\", \"CAL FIRE Riverside Unit\", NaN, \"Riverside\", \"17000 Block Lake Perris Drive\", 21.0, 100.0, \"NaN\", \"NaN\", -117.204108, 33.856642, \"Wildfire\", \"c76f540e-925a-48a7-8451-ff02c3705b49\", \"https://www.fire.ca.gov/incidents/2024/7/27/museum-fire/\", \"NaN\", \"NaN\", \"2024-07-27\", \"N\", true, false], [\"Walnut Fire\", \"Y\", \"2024-07-28T09:07:28Z\", \"2024-07-27T20:18:50Z\", \"CAL FIRE Riverside Unit\", NaN, \"Riverside\", \"Near Walnut Street and Sunny Canyon Street in Riverside County\", 68.0, 100.0, \"NaN\", \"NaN\", -117.257982, 33.826534, \"Wildfire\", \"85f2400b-f8c9-461b-9a89-8e90dccd5196\", \"https://www.fire.ca.gov/incidents/2024/7/27/walnut-fire/\", \"NaN\", \"NaN\", \"2024-07-27\", \"N\", false, false], [\"Walker Fire\", \"Y\", \"2024-07-29T10:49:58Z\", \"2024-07-28T13:58:53Z\", \"CAL FIRE Riverside Unit\", NaN, \"Riverside\", \"Walker Canyon Road and Lake Street, Lake Elsinore\", 65.0, 100.0, \"NaN\", \"NaN\", -117.393766, 33.731572, \"Wildfire\", \"c3da896d-42a4-4fb1-abcb-cf17c701f03c\", \"https://www.fire.ca.gov/incidents/2024/7/28/walker-fire/\", \"NaN\", \"NaN\", \"2024-07-28\", \"N\", true, false], [\"Border 65 Fire\", \"Y\", \"2024-07-29T22:10:26Z\", \"2024-07-28T13:05:02Z\", \"CAL FIRE San Deigo Unit\", NaN, \"San Diego\", \"Tecate Peak, Marron Valley\", 61.0, 100.0, \"NaN\", \"NaN\", -116.699961, 32.576716, \"Wildfire\", \"a7788f97-1255-400c-95de-3f73d38eff78\", \"https://www.fire.ca.gov/incidents/2024/7/28/border-65-fire/\", \"NaN\", \"NaN\", \"2024-07-28\", \"N\", true, false], [\"Simpson Fire\", \"Y\", \"2024-08-22T14:47:25Z\", \"2024-07-25T17:07:14Z\", \"Sequoia and Kings Canyon National parks\", NaN, \"Fresno\", \"Sequoia and Kings Canyon National Park\", 47.0, 0.0, \"NaN\", \"NaN\", -118.61484, 36.98268, \"Wildfire\", \"07012184-4968-49bf-af0b-5781e699efb6\", \"https://www.fire.ca.gov/incidents/2024/7/25/simpson-fire/\", \"NaN\", \"NaN\", \"2024-07-25\", \"N\", false, false], [\"Sunset Fire\", \"Y\", \"2024-07-29T08:57:30Z\", \"2024-07-28T14:27:07Z\", \"CAL FIRE Humboldt-Del Norte Unit\", NaN, \"Humboldt\", \"Near Mattole Road, North of Petrolia\", 13.0, 100.0, \"NaN\", \"NaN\", -124.362017, 40.368506, \"Wildfire\", \"c985d631-a65d-42f6-b4a3-5af4d804a21a\", \"https://www.fire.ca.gov/incidents/2024/7/28/sunset-fire/\", \"NaN\", \"NaN\", \"2024-07-28\", \"N\", true, false], [\"Nixon Fire\", \"Y\", \"2024-08-07T16:36:15Z\", \"2024-07-29T12:30:48Z\", \"CAL FIRE Riverside Unit\", NaN, \"Riverside\", \"Tule Valley Road and Richard Nixon Boulevard, Aguanga\", 5222.0, 100.0, \"NaN\", \"NaN\", -116.7805, 33.4773, \"Wildfire\", \"a899bdb4-c0c2-45d9-8310-39de98c4892a\", \"https://www.fire.ca.gov/incidents/2024/7/29/nixon-fire/\", \"NaN\", \"NaN\", \"2024-07-29\", \"N\", true, false], [\"Cougar Fire\", \"Y\", \"2024-07-31T22:43:24Z\", \"2024-07-29T16:20:54Z\", \"CAL FIRE Tehama-Glenn Unit\", NaN, \"Tehama\", \"Cougar Drive near Hillcrest Drive, Corning \", 9.0, 100.0, \"NaN\", \"NaN\", -122.404759, 40.002008, \"Wildfire\", \"67dfa6fa-3981-43a8-bed6-038556f64840\", \"https://www.fire.ca.gov/incidents/2024/7/29/cougar-fire/\", \"2024-07-31T22:39:18Z\", \"2024-07-31\", \"2024-07-29\", \"N\", true, false], [\"Carmen Fire\", \"Y\", \"2024-07-30T22:02:04Z\", \"2024-07-29T16:37:32Z\", \"CAL FIRE Riverside Unit\", NaN, \"Riverside\", \"Broadway and Carmen\\u2019s Av, in Cabazon\", 11.0, 100.0, \"NaN\", \"NaN\", -116.782856, 33.910649, \"Wildfire\", \"ac21a214-0984-4fb9-98ed-0b812bd43bee\", \"https://www.fire.ca.gov/incidents/2024/7/29/carmen-fire/\", \"NaN\", \"NaN\", \"2024-07-29\", \"N\", true, false], [\"Border 66 Fire\", \"Y\", \"2024-07-31T22:48:20Z\", \"2024-07-30T11:17:16Z\", \"CAL FIRE San Diego Unit\", NaN, \"San Diego\", \"West of Highway 188, Tecate\", 300.0, 100.0, \"NaN\", \"NaN\", -116.6961, 32.5736, \"Wildfire\", \"17e1886c-3b88-4b34-8e60-95fb5cd349de\", \"https://www.fire.ca.gov/incidents/2024/7/30/border-66-fire/\", \"NaN\", \"NaN\", \"2024-07-30\", \"N\", true, false], [\"Italian Fire\", \"Y\", \"2024-08-22T14:47:08Z\", \"2024-07-29T12:30:39Z\", \"Sierra National Forest\", NaN, \"Fresno\", \"Italian Bar Road and Jose Basin Road, Shaver Lake\", 46.0, NaN, \"NaN\", \"NaN\", -119.394, 37.1336, \"Wildfire\", \"2174967f-fd0d-4114-b887-f9d87de74dcb\", \"https://www.fire.ca.gov/incidents/2024/7/29/italian-fire/\", \"NaN\", \"NaN\", \"2024-07-29\", \"N\", false, false], [\"Pedro Fire\", \"Y\", \"2024-08-08T20:14:55Z\", \"2024-07-30T12:47:53Z\", \"CAL FIRE Madera-Mariposa-Merced Unit\", NaN, \"Mariposa, Tuolumne\", \"Arbolada Drive, Lake Don Pedro\", 3815.0, 100.0, \"NaN\", \"BLM, Mariposa County Sheriffs, Tuolumne County Sheriffs, California Highway Patrol, Cal OES, Mariposa County OES, PG&E, Mariposa Public Works, Merced Irrigation District, Red Cross, California Conservation Corps.\", -120.31848, 37.689773, \"Wildfire\", \"9962f124-7701-443e-97b3-d6f64f5e673d\", \"https://www.fire.ca.gov/incidents/2024/7/30/pedro-fire/\", \"NaN\", \"NaN\", \"2024-07-30\", \"N\", true, false], [\"Plantation Fire\", \"Y\", \"2024-08-01T08:09:29Z\", \"2024-07-17T11:40:20Z\", \"USFS - Modoc National Forest\", NaN, \"Modoc\", \"East of Hwy 395 and Goose Lake, North of Davis Creek\", 31.0, 100.0, \"NaN\", \"NaN\", -120.341894, 41.842269, \"Wildfire\", \"6a7b4fc4-4246-4629-a001-f0a5e3bac50d\", \"https://www.fire.ca.gov/incidents/2024/7/17/plantation-fire/\", \"NaN\", \"NaN\", \"2024-07-17\", \"N\", false, false], [\"Eagle Fire\", \"Y\", \"2024-07-31T22:42:25Z\", \"2024-07-30T13:14:59Z\", \"CAL FIRE San Luis Obispo Unit\", NaN, \"San Luis Obispo\", \"2500 block of Bald Eagle, San Miguel\", 11.0, 100.0, \"NaN\", \"NaN\", -120.561774, 35.720588, \"Wildfire\", \"5036da8f-717a-4a81-88b2-8d719d2c19e3\", \"https://www.fire.ca.gov/incidents/2024/7/30/eagle-fire/\", \"2024-07-31T22:42:09Z\", \"2024-07-31\", \"2024-07-30\", \"N\", true, false], [\"Borel Fire\", \"Y\", \"2024-09-16T22:06:56Z\", \"2024-07-24T12:59:10Z\", \"Sequoia National Forest\\\\r\\\\n\", NaN, \"Kern\", \"Highway 178, East of Democrat\", 59288.0, 100.0, \"NaN\", \"NaN\", -118.6836, 35.515, \"Wildfire\", \"cdbc2cd1-1679-4161-9235-df8e7137efa1\", \"https://www.fire.ca.gov/incidents/2024/7/24/borel-fire/\", \"2024-09-16T00:00:00Z\", \"2024-09-16\", \"2024-07-24\", \"N\", false, false], [\"Pole Fire\", \"Y\", \"2024-08-22T14:46:46Z\", \"2024-07-30T16:26:10Z\", \"Bureau Of Land Management - California Desert District\", NaN, \"San Bernardino\", \"Roundup Way at Central Road, Apple Valley\", 300.0, 100.0, \"NaN\", \"NaN\", -117.172494, 34.413261, \"Wildfire\", \"a917a41a-20d6-4163-b82d-2568bcc94e8b\", \"https://www.fire.ca.gov/incidents/2024/7/30/pole-fire/\", \"2024-08-22T14:46:43Z\", \"2024-08-22\", \"2024-07-30\", \"N\", false, false], [\"Happy Fire\", \"Y\", \"2024-08-22T14:49:49Z\", \"2024-07-16T09:18:46Z\", \"Sequoia National Forest\", NaN, \"Fresno\", \"Cedar Grove\", 24.0, NaN, \"NaN\", \"NaN\", -118.738174, 36.850037, \"Wildfire\", \"4809d048-58f1-4e0e-af5e-59eaa93dc61c\", \"https://www.fire.ca.gov/incidents/2024/7/16/happy-fire/\", \"NaN\", \"NaN\", \"2024-07-16\", \"N\", false, false], [\"Dino Fire\", \"Y\", \"2024-07-31T19:21:18Z\", \"2024-07-31T15:02:29Z\", \"CAL FIRE Madera-Mariposa-Merced Unit\", NaN, \"Merced\", \"Pacheco Pass Highway, Hollister\", 15.0, 100.0, \"NaN\", \"NaN\", -121.213195, 37.068124, \"Wildfire\", \"e5bfa9bc-cd0f-4475-8a2d-f48c1373a94d\", \"https://www.fire.ca.gov/incidents/2024/7/31/dino-fire/\", \"NaN\", \"NaN\", \"2024-07-31\", \"N\", true, false], [\"Alamos Fire\", \"Y\", \"2024-08-05T16:54:28Z\", \"2024-08-02T15:23:49Z\", \"City of Murrieta\", NaN, \"Riverside\", \"Los Alamos Road and Ruth Ellen Way, Murrieta\", 72.0, 100.0, \"NaN\", \"NaN\", -117.166941, 33.582198, \"Wildfire\", \"382cdef0-e558-48b1-bccb-4997878962ff\", \"https://www.fire.ca.gov/incidents/2024/8/2/alamos-fire/\", \"NaN\", \"NaN\", \"2024-08-02\", \"N\", false, false], [\"Tahoe Fire\", \"Y\", \"2024-08-03T20:49:59Z\", \"2024-08-03T15:09:59Z\", \"CAL FIRE Madera-Mariposa-Merced Unit\", NaN, \"Merced\", \"Tahoe street and Highway 59 North \", 22.0, 100.0, \"NaN\", \"NaN\", -120.507495, 37.353634, \"Wildfire\", \"d34989e6-3964-42c4-a25a-05d0530bb505\", \"https://www.fire.ca.gov/incidents/2024/8/3/tahoe-fire/\", \"NaN\", \"NaN\", \"2024-08-03\", \"N\", true, false], [\"Burbank Fire \", \"Y\", \"2024-08-04T23:08:36Z\", \"2024-08-03T17:11:53Z\", \"Los Angeles Fire Department \", NaN, \"Los Angeles\", \"Burbank Boulevard and Woodley Avenue, Encino\", 75.0, 100.0, \"NaN\", \"NaN\", -118.475521, 34.172602, \"Wildfire\", \"59e1a0fb-d5df-4c79-b35e-ff9bb3823b16\", \"https://www.fire.ca.gov/incidents/2024/8/3/burbank-fire/\", \"2024-08-04T23:08:34Z\", \"2024-08-04\", \"2024-08-03\", \"N\", false, false], [\"Franklin Fire\", \"Y\", \"2024-08-05T08:17:29Z\", \"2024-08-04T14:40:38Z\", \"CAL FIRE Riverside Unit\", NaN, \"Riverside\", \"South of I-5, South of N Main Street, Lake Elsinore\", 12.0, 100.0, \"NaN\", \"NaN\", -117.318087, 33.671261, \"Wildfire\", \"67cb1820-f2c6-4b7e-a172-c23a87e84f3a\", \"https://www.fire.ca.gov/incidents/2024/8/4/franklin-fire/\", \"NaN\", \"NaN\", \"2024-08-04\", \"N\", true, false], [\"Bella Fire\", \"Y\", \"2024-08-10T06:01:29Z\", \"2024-08-04T17:28:39Z\", \"Bureau of Land Management\", NaN, \"Kern\", \"Highway 17, west of Highway 14, Inyokern\", 500.0, 100.0, \"NaN\", \"NaN\", -117.970987, 35.633966, \"Wildfire\", \"c0cdfdc9-d5e1-44b2-b95b-a8a6d8f1686b\", \"https://www.fire.ca.gov/incidents/2024/8/4/bella-fire/\", \"NaN\", \"NaN\", \"2024-08-04\", \"N\", false, false], [\"Gover Fire\", \"Y\", \"2024-08-07T22:38:46Z\", \"2024-08-05T14:34:23Z\", \"CAL FIRE Shasta-Trinity Unit\", NaN, \"Shasta\", \"3000 Block of Gover Road, Andersen\", 12.0, 100.0, \"NaN\", \"NaN\", -122.176593, 40.393586, \"Wildfire\", \"04f84ac3-d09e-4cd3-a78f-1c3a8e44c0c3\", \"https://www.fire.ca.gov/incidents/2024/8/5/gover-fire/\", \"NaN\", \"NaN\", \"2024-08-05\", \"N\", true, false], [\"Kimtu Fire\", \"Y\", \"2024-08-07T22:38:22Z\", \"2024-08-05T15:15:26Z\", \"CAL FIRE Humboldt-Del Norte Unit\", NaN, \"Humboldt\", \"Kimtu Road, Garberville\", 14.0, 100.0, \"NaN\", \"NaN\", -123.807764, 40.08453, \"Wildfire\", \"d4df6b62-f791-4b72-a376-ff33d5c33901\", \"https://www.fire.ca.gov/incidents/2024/8/5/kimtu-fire/\", \"NaN\", \"NaN\", \"2024-08-05\", \"N\", true, false], [\"Middle Fire\", \"Y\", \"2024-08-21T20:52:29Z\", \"2024-08-04T15:51:59Z\", \"Yosemite National Park\", NaN, \"Tuolumne\", \"S of Middle Tuolumne River & N of Tioga Rd, Yosemite National Park\", 310.0, 100.0, \"NaN\", \"NaN\", -119.704567, 37.862367, \"Wildfire\", \"ad2d133d-2af3-413d-9b4e-a916320b451e\", \"https://www.fire.ca.gov/incidents/2024/8/4/middle-fire/\", \"NaN\", \"NaN\", \"2024-08-04\", \"N\", false, false], [\"Edgehill Fire\", \"Y\", \"2024-08-08T20:32:02Z\", \"2024-08-05T14:38:00Z\", \"San Bernardino County Fire\", NaN, \"San Bernardino\", \"Beverly Drive & W Edgehill Rd, San Bernardino\", 54.0, 100.0, \"NaN\", \"NaN\", -117.304374, 34.151668, \"Wildfire\", \"b213ec11-15c6-495e-9e4e-01555ab35215\", \"https://www.fire.ca.gov/incidents/2024/8/5/edgehill-fire/\", \"NaN\", \"NaN\", \"2024-08-05\", \"N\", false, false], [\"Town Fire\", \"Y\", \"2024-08-10T06:01:10Z\", \"2024-08-07T11:11:07Z\", \"CAL FIRE Tuolumne-Calaveras Unit\", NaN, \"Calaveras\", \"Watertown Road, Valley Springs\", 10.0, 100.0, \"NaN\", \"NaN\", -120.833961, 38.217239, \"Wildfire\", \"f4d1a569-fee6-466a-8973-ed1a3cb91966\", \"https://www.fire.ca.gov/incidents/2024/8/7/town-fire/\", \"NaN\", \"NaN\", \"2024-08-07\", \"N\", true, false], [\"Silver Fire\", \"Y\", \"2024-08-12T23:13:12Z\", \"2024-08-07T14:07:52Z\", \"CAL FIRE Amador-El Dorado Unit\", NaN, \"El Dorado\", \"2300 Block of Green Valley Road, Green Springs Ranch\", 41.0, 100.0, \"NaN\", \"NaN\", -121.020844, 38.702712, \"Wildfire\", \"8a183a23-b0ac-4edc-9892-821b96b40597\", \"https://www.fire.ca.gov/incidents/2024/8/7/silver-fire/\", \"NaN\", \"NaN\", \"2024-08-07\", \"N\", true, false], [\"Purple Fire\", \"Y\", \"2024-08-08T18:54:06Z\", \"2024-08-07T17:22:21Z\", \"CAL FIRE Butte Unit\", NaN, \"Butte\", \"Dickerson Lane and Purple Rocks Lane, Robinson Mill\", 10.0, 100.0, \"NaN\", \"NaN\", -121.35725, 39.46018, \"Wildfire\", \"95290f3c-9c14-4249-9665-a14c14f29aab\", \"https://www.fire.ca.gov/incidents/2024/8/7/purple-fire/\", \"NaN\", \"NaN\", \"2024-08-07\", \"N\", true, false], [\"Morrison Fire\", \"Y\", \"2024-08-22T14:46:12Z\", \"2024-08-04T10:46:39Z\", \"National Park Service\", NaN, \"Tuolumne\", \"Near Morrison Creek, Yosemite National Park\", 31.0, 35.0, \"NaN\", \"NaN\", -119.615283, 37.9043, \"Wildfire\", \"4d9c178d-e086-42f4-b6b1-a931b5b2b2a9\", \"https://www.fire.ca.gov/incidents/2024/8/4/morrison-fire/\", \"NaN\", \"NaN\", \"2024-08-04\", \"N\", false, false], [\"Valley Fire\", \"Y\", \"2024-08-08T18:52:44Z\", \"2024-08-08T15:03:26Z\", \"CAL FIRE Madera-Mariposa-Merced Unit\", NaN, \"Madera\", \"Road 14, Madera\", 55.0, 100.0, \"NaN\", \"NaN\", -120.291882, 36.954837, \"Wildfire\", \"aad4f00a-f28f-414d-83d4-9e40976fea36\", \"https://www.fire.ca.gov/incidents/2024/8/8/valley-fire/\", \"NaN\", \"NaN\", \"2024-08-08\", \"N\", true, false], [\"Canyon Fire\", \"Y\", \"2024-08-26T09:33:59Z\", \"2024-08-08T22:56:00Z\", \"NaN\", NaN, \"Tuolumne\", \"Buchanan Rd and Canyon Dr, Tuolumne City\", 80.0, 100.0, \"NaN\", \"NaN\", -120.21464, 37.978113, \"Wildfire\", \"f4b94fa8-a58e-4e0a-a566-71d35e3f8b6f\", \"https://www.fire.ca.gov/incidents/2024/8/8/canyon-fire/\", \"2024-08-23T18:00:00Z\", \"2024-08-23\", \"2024-08-08\", \"N\", true, false], [\"Boise Fire\", \"Y\", \"2024-09-17T18:14:31Z\", \"2024-08-09T11:25:44Z\", \"Six Rivers National Forest\", NaN, \"Humboldt\", \"South of Orleans\", 12967.0, 91.0, \"NaN\", \"NaN\", -123.5113, 41.2522, \"Wildfire\", \"b09307d2-1a45-473c-9734-9af5171a3e6d\", \"https://www.fire.ca.gov/incidents/2024/8/9/boise-fire/\", \"NaN\", \"NaN\", \"2024-08-09\", \"N\", false, false], [\"Blue Fire\", \"Y\", \"2024-08-10T19:08:39Z\", \"2024-08-09T15:32:55Z\", \"CAL FIRE Sonoma-Lake-Napa Unit\", NaN, \"Solano\", \"Blue Mountain Drive intersection at I-80, southwest of Vacaville\", 60.0, 100.0, \"NaN\", \"NaN\", -122.0501, 38.3073, \"Wildfire\", \"9d3c785a-73a3-4654-b0e9-b467a2b4252e\", \"https://www.fire.ca.gov/incidents/2024/8/9/blue-fire/\", \"NaN\", \"NaN\", \"2024-08-09\", \"N\", true, false], [\"Cal Fire\", \"Y\", \"2024-08-12T23:23:48Z\", \"2024-08-09T13:33:00Z\", \"Kern County Fire Department\", NaN, \"Kern\", \"14600 Block of Tehachapi-Willow Springs Rd, Mojave\", 60.0, 100.0, \"NaN\", \"NaN\", -118.364146, 35.030731, \"Wildfire\", \"32411b4b-22e3-442b-b783-dcacff114841\", \"https://www.fire.ca.gov/incidents/2024/8/9/cal-fire/\", \"NaN\", \"NaN\", \"2024-08-09\", \"N\", true, false], [\"Mack Fire\", \"Y\", \"2024-08-10T21:23:05Z\", \"2024-08-10T12:26:18Z\", \"CAL FIRE Riverside Unit\", NaN, \"Riverside\", \"Mack St. and Old Elsinore Rd, Mead Valley\", 63.0, 100.0, \"NaN\", \"Corona Fire Department and City of Riverside Fire\", -117.282555, 33.822694, \"Wildfire\", \"ae054933-c432-48fc-8842-23614a7a3139\", \"https://www.fire.ca.gov/incidents/2024/8/10/mack-fire/\", \"NaN\", \"NaN\", \"2024-08-10\", \"N\", true, false], [\"Summit Fire\", \"Y\", \"2024-08-22T14:45:47Z\", \"2024-08-10T13:19:52Z\", \"CAL FIRE Tuolumne-Calaveras Unit\", NaN, \"Calaveras\", \"Summit Level Road, Rail Road Flats\", 21.0, 100.0, \"NaN\", \"NaN\", -120.427903, 38.324942, \"Wildfire\", \"575b3dff-3c7e-4915-ac34-d7174ba7f555\", \"https://www.fire.ca.gov/incidents/2024/8/10/summit-fire/\", \"NaN\", \"NaN\", \"2024-08-10\", \"N\", true, false], [\"Lower Fire\", \"Y\", \"2024-08-15T04:51:47Z\", \"2024-08-10T15:55:31Z\", \"CAL FIRE Shasta-Trinity Unit\", NaN, \"Shasta\", \"Lower Springs road and Eureka Way, Shasta\", 110.0, 100.0, \"NaN\", \"NaN\", -122.449341, 40.581893, \"Wildfire\", \"cc78abb3-6b9f-4285-93c4-0466946916d2\", \"https://www.fire.ca.gov/incidents/2024/8/10/lower-fire/\", \"2024-08-14T04:51:10Z\", \"2024-08-14\", \"2024-08-10\", \"N\", true, false], [\"Blue Fire\", \"Y\", \"2024-08-15T04:50:41Z\", \"2024-08-10T18:25:52Z\", \"Kern County Fire Department\", NaN, \"Kern\", \"Sand Canyon Road, Caliente\", 427.0, 100.0, \"NaN\", \"NaN\", -118.419612, 35.33324, \"Wildfire\", \"d9b21406-7000-42b7-bed6-7bd26a8d64a7\", \"https://www.fire.ca.gov/incidents/2024/8/10/blue-fire/\", \"2024-08-14T04:50:10Z\", \"2024-08-14\", \"2024-08-10\", \"N\", false, false], [\"Mission Fire\", \"Y\", \"2024-08-10T21:23:15Z\", \"2024-08-10T16:40:04Z\", \"CAL FIRE Riverside Unit\", NaN, \"Riverside\", \"Mission Trail Road and Vine Street\", 11.0, 100.0, \"NaN\", \"NaN\", -117.292525, 33.640118, \"Wildfire\", \"6cd5af98-a8ec-4d4b-aa64-ec6248c58096\", \"https://www.fire.ca.gov/incidents/2024/8/10/mission-fire/\", \"NaN\", \"NaN\", \"2024-08-10\", \"N\", true, false], [\"Meiss Fire\", \"Y\", \"2024-08-15T22:02:47Z\", \"2024-08-11T13:40:03Z\", \"CAL FIRE Amador-El Dorado Unit\", NaN, \"Sacramento\", \"Near Ione Road and Meiss Road \", 108.0, 100.0, \"NaN\", \"NaN\", -121.054386, 38.427179, \"Wildfire\", \"3e0f22ff-2ceb-4277-b4cc-cb5803cccea5\", \"https://www.fire.ca.gov/incidents/2024/8/11/meiss-fire/\", \"NaN\", \"NaN\", \"2024-08-11\", \"N\", true, false], [\"Turbine Fire\", \"Y\", \"2024-08-16T21:11:00Z\", \"2024-08-12T10:18:00Z\", \"Kern County Fire Department\", NaN, \"Kern\", \"Tehachapi Willow Springs Road, Mojave\", 329.0, 100.0, \"NaN\", \"NaN\", -118.341991, 35.020035, \"Wildfire\", \"ef1fb5c1-e8f5-4445-a2bd-1979a652c897\", \"https://www.fire.ca.gov/incidents/2024/8/12/turbine-fire/\", \"NaN\", \"NaN\", \"2024-08-12\", \"N\", false, false], [\"Oso Fire\", \"Y\", \"2024-08-14T12:18:35Z\", \"2024-08-12T12:07:24Z\", \"CAL FIRE Santa Clara Unit\", NaN, \"Stanislaus\", \"Mt Oso Rd North of Del Puerto Canyon Road, West of Patterson\", 11.0, 100.0, \"NaN\", \"NaN\", -121.23737, 37.471329, \"Wildfire\", \"1b90265d-3400-4b35-a684-378a3acbdba4\", \"https://www.fire.ca.gov/incidents/2024/8/12/oso-fire/\", \"NaN\", \"NaN\", \"2024-08-12\", \"N\", true, false], [\"Reservoir Fire\", \"Y\", \"2024-08-15T04:54:23Z\", \"2024-08-12T14:03:25Z\", \"CAL FIRE Sonoma-Lake-Napa Unit\", NaN, \"Lake\", \"Indian Valley Reservoir Road and Walker Ridge Road, southeast of Indian Valley Reservoir\", 68.0, 100.0, \"NaN\", \"Mendocino National Forest, Bureau of Land Management, Lake County Fire Protection District, , Northshore Fire Protection District, Williams Fire Department, Esparto Fire Protection District, Maxwell Fire Protection District, Lake County Fire Protection District, Napa County Fire Department\", -122.509941, 39.07015, \"Wildfire\", \"379a65b6-ab70-44c9-bf5c-9e175516dddd\", \"https://www.fire.ca.gov/incidents/2024/8/12/reservoir-fire/\", \"2024-08-14T00:00:00Z\", \"2024-08-14\", \"2024-08-12\", \"N\", true, false], [\"Anita Fire\", \"Y\", \"2024-08-15T22:03:17Z\", \"2024-08-12T14:22:48Z\", \"CAL FIRE San Diego Unit\", NaN, \"San Diego\", \"Millar Ranch Road, North of Millar Anita Lane, Spring Valley\", 20.0, 100.0, \"NaN\", \"NaN\", -116.927749, 32.717599, \"Wildfire\", \"4e768968-bce1-45ea-b5f1-a28d75679300\", \"https://www.fire.ca.gov/incidents/2024/8/12/anita-fire/\", \"2024-08-15T22:03:16Z\", \"2024-08-15\", \"2024-08-12\", \"N\", true, false], [\"Queenstone Fire\", \"Y\", \"2024-08-15T22:03:39Z\", \"2024-08-13T07:31:00Z\", \"Marin County Fire Department\", NaN, \"Marin\", \"Queenstone Fire Rd & Chicken Shack Fire Rd, west of Marinwood\", 18.0, 100.0, \"NaN\", \"NaN\", -122.562044, 38.043415, \"Wildfire\", \"198ef9d9-1f09-44fe-bced-8640414f3f5e\", \"https://www.fire.ca.gov/incidents/2024/8/13/queenstone-fire/\", \"2024-08-15T22:03:38Z\", \"2024-08-15\", \"2024-08-13\", \"N\", false, false], [\"Quarry Fire\", \"Y\", \"2024-08-13T12:51:00Z\", \"2023-09-09T19:32:00Z\", \"Stanislaus National Forest\", NaN, \"Tuolumne\", \"Reynolds Creek in Stanislaus National Forest\", 9130.0, 100.0, \"NaN\", \"NaN\", -119.991667, 38.06095, \"Wildfire\", \"8fd639fa-cdc5-4a0c-8b8a-7ee7887d30ad\", \"https://www.fire.ca.gov/incidents/2023/9/9/quarry-fire/\", \"2023-11-15T12:49:01Z\", \"2023-11-15\", \"2023-09-09\", \"N\", false, false], [\"Papa Fire\", \"Y\", \"2024-08-21T17:31:00Z\", \"2024-08-13T14:52:53Z\", \"Camp Pendleton\", NaN, \"San Diego\", \"Papa 3 Training Area, Camp Pendleton\", 60.0, 100.0, \"NaN\", \"NaN\", -117.368598, 33.307302, \"Wildfire\", \"5f07097a-1deb-44b9-bf44-4a7b78c54749\", \"https://www.fire.ca.gov/incidents/2024/8/13/papa-fire/\", \"2024-08-18T21:21:34Z\", \"2024-08-18\", \"2024-08-13\", \"N\", false, false], [\"Moon Fire\", \"Y\", \"2024-08-22T14:45:21Z\", \"2024-08-13T14:08:09Z\", \"Angeles National Forest\", NaN, \"Los Angeles\", \"Unknown / TBD\", 15.0, 75.0, \"NaN\", \"NaN\", -117.840605, 34.284624, \"Wildfire\", \"b50cc0ce-29f2-4300-9014-747d94b7a5e4\", \"https://www.fire.ca.gov/incidents/2024/8/13/moon-fire/\", \"NaN\", \"NaN\", \"2024-08-13\", \"N\", false, false], [\"Coffee Pot Fire\", \"N\", \"2024-09-27T20:16:12Z\", \"2024-08-03T08:05:39Z\", \"Sequoia and Kings Canyon National Parks\", NaN, \"Tulare\", \"West of Homers Nose Grove, Sequoia National Park\", 14104.0, 93.0, \"NaN\", \"Tulare County Fire Department, Tulare County Sheriffs Department, Tulare County Office of Emergency Services.\", -118.768, 36.38857, \"Wildfire\", \"5366f40a-04c4-4dda-859a-17cba19fade4\", \"https://www.fire.ca.gov/incidents/2024/8/3/coffee-pot-fire/\", \"NaN\", \"NaN\", \"2024-08-03\", \"Y\", false, false], [\"Kahlon Fire\", \"Y\", \"2024-08-13T21:50:16Z\", \"2024-08-13T16:00:58Z\", \"CAL FIRE Madera-Mariposa-Merced Unit\", NaN, \"Merced\", \"Near Highway 99, South of Merced\", 17.0, 100.0, \"NaN\", \"NaN\", -120.32559, 37.181034, \"Wildfire\", \"5e835ec5-e5aa-4fb7-bf45-0d437e73fcdf\", \"https://www.fire.ca.gov/incidents/2024/8/13/kahlon-fire/\", \"2024-08-13T21:49:53Z\", \"2024-08-13\", \"2024-08-13\", \"N\", true, false], [\"Bruns Fire\", \"Y\", \"2024-08-15T04:55:26Z\", \"2024-08-14T11:33:29Z\", \"CAL FIRE Santa Clara Unit in unified command with Contra Costa Fire Protection District\", NaN, \"Contra Costa\", \"Bruns Road, South of Byron\", 25.0, 100.0, \"NaN\", \"NaN\", -121.604861, 37.809344, \"Wildfire\", \"32a55d22-1435-4014-a3c9-9cdaaaadac9f\", \"https://www.fire.ca.gov/incidents/2024/8/14/bruns-fire/\", \"2024-08-14T00:00:00Z\", \"2024-08-14\", \"2024-08-14\", \"N\", true, false], [\"White Fire\", \"Y\", \"2024-08-21T17:30:42Z\", \"2024-08-14T13:11:03Z\", \"CAL FIRE Riverside Unit\", NaN, \"Riverside\", \"West bound Interstate 10  west of Whitewater\", 13.0, 100.0, \"NaN\", \"Bureau of Land Management \", -116.650391, 33.922735, \"Wildfire\", \"8acc2c5c-d96a-4197-8b87-354bb9a6915f\", \"https://www.fire.ca.gov/incidents/2024/8/14/white-fire/\", \"2024-08-18T21:22:57Z\", \"2024-08-18\", \"2024-08-14\", \"N\", true, false], [\"Zarzo Fire\", \"Y\", \"2024-08-15T22:02:19Z\", \"2024-08-15T02:29:23Z\", \"CAL FIRE Madera-Mariposa-Merced Unit\", NaN, \"Mariposa\", \"Zarzo Way and Lazo Way\", 103.0, 100.0, \"NaN\", \"NaN\", -120.313718, 37.630738, \"Wildfire\", \"6710ee55-96da-4c8d-9e8f-db171fbf0bf1\", \"https://www.fire.ca.gov/incidents/2024/8/15/zarzo-fire/\", \"NaN\", \"NaN\", \"2024-08-15\", \"N\", true, false], [\"Waltz Fire\", \"Y\", \"2024-08-16T07:47:54Z\", \"2024-08-15T13:29:56Z\", \"CAL FIRE Madera-Mariposa-Merced Unit\", NaN, \"Merced\", \"Bear Creek and Bonner Road.\", 85.0, 100.0, \"NaN\", \"NaN\", -120.238125, 37.349442, \"Wildfire\", \"a9a1a8e3-50af-4478-9190-48e0923623c3\", \"https://www.fire.ca.gov/incidents/2024/8/15/waltz-fire/\", \"NaN\", \"NaN\", \"2024-08-15\", \"N\", true, false], [\"Marco Fire\", \"Y\", \"2024-08-18T21:21:09Z\", \"2024-08-16T15:32:25Z\", \"CAL FIRE San Bernardino Unit\", NaN, \"San Bernardino\", \"Luna Road and White Road, near Baldy Mesa\", 65.0, 100.0, \"NaN\", \"NaN\", -117.463332, 34.475777, \"Wildfire\", \"4440cc32-aa1c-4cc4-ab03-69f38c10775a\", \"https://www.fire.ca.gov/incidents/2024/8/16/marco-fire/\", \"2024-08-18T21:20:59Z\", \"2024-08-18\", \"2024-08-16\", \"N\", true, false], [\"Pendulum Fire\", \"Y\", \"2024-08-17T21:16:31Z\", \"2024-08-16T18:48:37Z\", \"Kern County Fire Department\", NaN, \"Kern\", \"Pendulum Drive, Bakersfield\", 269.0, 100.0, \"NaN\", \"NaN\", -118.870917, 35.418974, \"Wildfire\", \"4ebbd415-254c-4963-85cd-3d7a82833785\", \"https://www.fire.ca.gov/incidents/2024/8/16/pendulum-fire/\", \"NaN\", \"NaN\", \"2024-08-16\", \"N\", false, false], [\"Cypress Fire\", \"Y\", \"2024-08-21T17:29:50Z\", \"2024-08-17T13:06:39Z\", \"CAL FIRE San Luis Obispo Unit\", NaN, \"San Luis Obispo\", \"Santa Rosa Creek Road and Cypress Mountain Road, West of Templeton\", 88.0, 100.0, \"NaN\", \"NaN\", -120.901571, 35.578845, \"Wildfire\", \"e78d33bf-bcc3-4312-8e67-75e226e7ad39\", \"https://www.fire.ca.gov/incidents/2024/8/17/cypress-fire/\", \"NaN\", \"NaN\", \"2024-08-17\", \"N\", true, false], [\"Marysville Fire\", \"Y\", \"2024-08-18T21:22:12Z\", \"2024-08-17T13:53:52Z\", \"CAL FIRE Butte Unit\", NaN, \"Butte\", \"Baggett-Marysville Road, south Oroville\", 23.0, 100.0, \"NaN\", \"NaN\", -121.561366, 39.468991, \"Wildfire\", \"28fb4b10-eb02-4c62-ae6e-cd0a94816fb9\", \"https://www.fire.ca.gov/incidents/2024/8/17/marysville-fire/\", \"NaN\", \"NaN\", \"2024-08-17\", \"N\", true, false], [\"Hills Fire\", \"Y\", \"2024-08-21T17:29:30Z\", \"2024-08-18T16:49:13Z\", \"CAL FIRE Madera-Mariposa-Merced Unit\", NaN, \"Madera\", \"Highway 41 and Avenue 11\", 172.0, 100.0, \"NaN\", \"NaN\", -119.792619, 36.909429, \"Wildfire\", \"a79b5e83-a63d-4200-be50-3ebcada9298a\", \"https://www.fire.ca.gov/incidents/2024/8/18/hills-fire/\", \"NaN\", \"NaN\", \"2024-08-18\", \"N\", true, false], [\"Grant Fire\", \"Y\", \"2024-08-21T17:29:10Z\", \"2024-08-19T14:08:06Z\", \"CAL FIRE Santa Clara Unit\", NaN, \"Alameda, San Joaquin\", \"Westbound I-205 at the I-580 and I-205 interchange, west of Tracy\", 16.0, 100.0, \"NaN\", \"NaN\", -121.585729, 37.740555, \"Wildfire\", \"e14709f8-b57c-4cb4-ab3d-1c8db55c1800\", \"https://www.fire.ca.gov/incidents/2024/8/19/grant-fire/\", \"NaN\", \"NaN\", \"2024-08-19\", \"N\", true, false], [\"Interlake Fire\", \"Y\", \"2024-08-21T17:29:20Z\", \"2024-08-19T11:17:27Z\", \"CAL FIRE San Benito-Monterey Unit\", NaN, \"Monterey\", \"Bryson Hesperia Road near Interlake Road, South of Lockwood\", 22.0, 100.0, \"NaN\", \"NaN\", -121.038125, 35.8378, \"Wildfire\", \"4f0d65a1-d601-4eb6-bd6e-3da7b6b272e9\", \"https://www.fire.ca.gov/incidents/2024/8/19/interlake-fire/\", \"NaN\", \"NaN\", \"2024-08-19\", \"N\", true, false], [\"Livermore Fire\", \"Y\", \"2024-08-21T17:28:48Z\", \"2024-08-19T15:35:17Z\", \"CAL FIRE Santa Clara Unit\", NaN, \"Alameda\", \"South Livermore Ave & Tesla Road, Livermore\", 16.0, NaN, \"NaN\", \"NaN\", -121.740217, 37.665174, \"Wildfire\", \"0cc5c422-569b-45ed-b166-cfd3cfa5f074\", \"https://www.fire.ca.gov/incidents/2024/8/19/livermore-fire/\", \"NaN\", \"NaN\", \"2024-08-19\", \"N\", true, false], [\"Green Fire\", \"Y\", \"2024-08-21T13:15:54Z\", \"2024-08-19T14:49:00Z\", \"CAL FIRE Santa Clara Unit\", NaN, \"Alameda\", \"National Dr & Greenville Rd, Livermore \", 6.0, 100.0, \"NaN\", \"NaN\", -121.697111, 37.705528, \"Wildfire\", \"9adc01e7-b88e-4c83-9be7-90e1c87a4ea8\", \"https://www.fire.ca.gov/incidents/2024/8/19/green-fire/\", \"NaN\", \"NaN\", \"2024-08-19\", \"N\", true, false], [\"Railroad Fire\", \"Y\", \"2024-08-21T17:28:06Z\", \"2024-08-19T18:02:41Z\", \"NaN\", NaN, \"Solano\", \"Highway 12 and Mauds Lane, southeast of Fairfield\", 60.0, 100.0, \"NaN\", \"NaN\", -121.857286, 38.193824, \"Wildfire\", \"28e8a708-7f0c-48ed-a784-eba4e3b6d124\", \"https://www.fire.ca.gov/incidents/2024/8/19/railroad-fire/\", \"NaN\", \"NaN\", \"2024-08-19\", \"N\", false, false], [\"Quimby Fire\", \"Y\", \"2024-08-23T08:41:57Z\", \"2024-08-19T20:15:09Z\", \"Unified Command: CAL FIRE Santa Clara Unit and San Jose Fire\", NaN, \"Santa Clara\", \"4700 block of Quimby Road, East San Jose\", 33.0, 100.0, \"NaN\", \"NaN\", -121.733833, 37.333444, \"Wildfire\", \"63bee7bc-19c6-43d5-b004-563ffefa95dd\", \"https://www.fire.ca.gov/incidents/2024/8/19/quimby-fire/\", \"NaN\", \"NaN\", \"2024-08-19\", \"N\", true, false], [\"Bishop Fire\", \"Y\", \"2024-08-21T17:32:37Z\", \"2024-08-20T04:40:00Z\", \"Unified Command: CAL FIRE San Luis Obispo and San Luis Obispo City Fire Department \", NaN, \"San Luis Obispo\", \"1700 Block of Bishop Street, San Luis Obispo\", 15.0, 100.0, \"NaN\", \"NaN\", -120.644048, 35.275553, \"Wildfire\", \"7de63eaa-38b5-4afa-a845-429ff6a1b18a\", \"https://www.fire.ca.gov/incidents/2024/8/20/bishop-fire/\", \"2024-08-20T05:31:50Z\", \"2024-08-20\", \"2024-08-20\", \"N\", true, false], [\"Rancho Fire\", \"Y\", \"2024-09-27T15:50:16Z\", \"2024-08-20T12:38:37Z\", \"CAL FIRE San Luis Obispo Unit\", NaN, \"San Luis Obispo\", \"1860 block of Rancho Lomas Way, Southeast of San Miguel\", 9.0, 100.0, \"NaN\", \"NaN\", -120.582252, 35.704967, \"Wildfire\", \"91e1c5d1-1ff2-485c-9f5e-cf9925208700\", \"https://www.fire.ca.gov/incidents/2024/8/20/rancho-fire/\", \"NaN\", \"NaN\", \"2024-08-20\", \"N\", true, false], [\"Grade Fire\", \"Y\", \"2024-08-27T09:48:29Z\", \"2024-08-20T16:31:00Z\", \"Santa Barbara County Fire Department\", NaN, \"Santa Barbara\", \"Highway 101 and Old Coast Highway, Las Cruces\", 25.0, 100.0, \"NaN\", \"NaN\", -120.195855, 34.533718, \"Wildfire\", \"a23de8e2-c318-48bb-8056-b0256fc21cf7\", \"https://www.fire.ca.gov/incidents/2024/8/20/grade-fire/\", \"2024-08-22T08:00:00Z\", \"2024-08-22\", \"2024-08-20\", \"N\", false, false], [\"Winchester Fire\", \"Y\", \"2024-08-21T17:27:29Z\", \"2024-08-20T22:29:39Z\", \"CAL FIRE Riverside Unit\", NaN, \"Riverside\", \"28200 Block Unincorporated Winchester\", 10.0, 100.0, \"NaN\", \"NaN\", -117.08414, 33.71271, \"Wildfire\", \"bc27ec48-5efe-4806-929e-abd03c053e57\", \"https://www.fire.ca.gov/incidents/2024/8/20/winchester-fire/\", \"NaN\", \"NaN\", \"2024-08-20\", \"N\", false, false], [\"Amaral Fire\", \"Y\", \"2024-08-24T04:58:35Z\", \"2024-08-21T09:46:54Z\", \"CAL FIRE Sonoma-Lake-Napa Unit\", NaN, \"Solano\", \"1600 block of Amaral Ct, Fairfield\", 11.0, 100.0, \"NaN\", \"NaN\", -122.171501, 38.252807, \"Wildfire\", \"740b2301-9651-4a38-baa1-1a1a0d64448f\", \"https://www.fire.ca.gov/incidents/2024/8/21/amaral-fire/\", \"NaN\", \"NaN\", \"2024-08-21\", \"N\", true, false], [\"Turner Fire\", \"Y\", \"2024-08-21T17:32:18Z\", \"2024-08-21T13:44:45Z\", \"CAL FIRE Madera-Mariposa-Merced Unit\", NaN, \"Merced\", \"Turner Ave and Central Avenue, Hilmar\", 15.0, 100.0, \"NaN\", \"NaN\", -120.959582, 37.372385, \"Wildfire\", \"2738e71c-0c75-42ae-b308-41237e5cd310\", \"https://www.fire.ca.gov/incidents/2024/8/21/turner-fire/\", \"NaN\", \"NaN\", \"2024-08-21\", \"N\", false, false], [\"Canyon Fire\", \"Y\", \"2024-08-26T09:33:35Z\", \"2024-08-21T17:25:58Z\", \"Angeles National Forest\", NaN, \"Los Angeles\", \"Big Tujunga Canyon Road, Tujunga\", 25.0, 100.0, \"NaN\", \"NaN\", -118.288398, 34.29046, \"Wildfire\", \"5daa1233-03e4-4b8f-938c-ccfd3971bde5\", \"https://www.fire.ca.gov/incidents/2024/8/21/canyon-fire/\", \"2024-08-23T18:00:00Z\", \"2024-08-23\", \"2024-08-21\", \"N\", true, false], [\"Ace Fire\", \"Y\", \"2024-08-23T22:59:15Z\", \"2024-08-21T16:42:04Z\", \"CAL FIRE Tuolumne-Calaveras Unit\", NaN, \"Calaveras\", \"Near 72 Hwy 26 Valley Springs \", 16.0, 100.0, \"NaN\", \"NaN\", -120.828003, 38.190649, \"Wildfire\", \"578eabb5-afe7-4558-814d-040343bf69e2\", \"https://www.fire.ca.gov/incidents/2024/8/21/ace-fire/\", \"NaN\", \"NaN\", \"2024-08-21\", \"N\", true, false], [\"Beach Fire\", \"Y\", \"2024-08-23T19:24:59Z\", \"2024-08-22T12:56:40Z\", \"CAL FIRE Riverside Unit\", NaN, \"Riverside\", \"Southwest of Limonite Ave & Beach St, Southwest of Jurupa Valley\", 34.0, 100.0, \"NaN\", \"NaN\", -117.49379, 33.968991, \"Wildfire\", \"17437fdc-6fd9-4132-95bb-7503ef251af6\", \"https://www.fire.ca.gov/incidents/2024/8/22/beach-fire/\", \"NaN\", \"NaN\", \"2024-08-22\", \"N\", true, false], [\"Edna Fire\", \"Y\", \"2024-08-23T19:25:17Z\", \"2024-08-22T15:42:50Z\", \"CAL FIRE Riverside Unit\", NaN, \"Riverside\", \"Highway 243 and Mount Edna Road, Banning \", 33.0, 100.0, \"NaN\", \"NaN\", -116.869456, 33.9009, \"Wildfire\", \"6ce41fb6-2d1a-41d1-abdb-678ada7d66b1\", \"https://www.fire.ca.gov/incidents/2024/8/22/edna-fire/\", \"NaN\", \"NaN\", \"2024-08-22\", \"N\", true, false], [\"Walmort Fire\", \"Y\", \"2024-08-24T20:20:28Z\", \"2024-08-22T17:45:07Z\", \"Sacramento Metro Fire \", NaN, \"Sacramento\", \"Northeast of Walmort road and Meuret road, Wilton\", 45.0, 100.0, \"NaN\", \"NaN\", -121.251908, 38.3809, \"Wildfire\", \"e4cb8cca-8bc1-4b99-b442-2478d9ccc1f9\", \"https://www.fire.ca.gov/incidents/2024/8/22/walmort-fire/\", \"NaN\", \"NaN\", \"2024-08-22\", \"N\", false, false], [\"Far Fire\", \"Y\", \"2024-08-24T20:21:36Z\", \"2024-08-23T05:06:41Z\", \"CAL FIRE Nevada-Yuba-Placer Unit\", NaN, \"Placer\", \"Camp Far West Road & McCourtney Road, Wheatland\", 12.0, 100.0, \"NaN\", \"NaN\", -121.312694, 39.037213, \"Wildfire\", \"b7c8c806-ca83-4f94-b343-6af19a3dac15\", \"https://www.fire.ca.gov/incidents/2024/8/23/far-fire/\", \"NaN\", \"NaN\", \"2024-08-23\", \"N\", true, false], [\"Chevelle Fire\", \"Y\", \"2024-08-24T20:23:46Z\", \"2024-08-23T06:57:33Z\", \"Tulare County Fire Department\", NaN, \"Tulare\", \"1330 Highway 65 and 23200 Avenue, near Richgrove\", 27.0, 100.0, \"NaN\", \"NaN\", -119.053499, 35.805079, \"Wildfire\", \"dd8d3cf2-5fe1-4da7-9d5c-6a332b65f528\", \"https://www.fire.ca.gov/incidents/2024/8/23/chevelle-fire/\", \"NaN\", \"NaN\", \"2024-08-23\", \"N\", true, false], [\"Refugio Fire\", \"Y\", \"2024-08-27T07:18:00Z\", \"2024-08-23T00:40:32Z\", \"Los Padres National Forest\", NaN, \"Santa Barbara\", \"1400 Block of Refugio Road, Northwest of Goleta\", 86.0, 100.0, \"NaN\", \"NaN\", -120.064, 34.506, \"Wildfire\", \"3072d494-4c71-4f31-af3e-6b20ab08421a\", \"https://www.fire.ca.gov/incidents/2024/8/23/refugio-fire/\", \"2024-08-26T00:00:00Z\", \"2024-08-26\", \"2024-08-23\", \"N\", false, false], [\"Motor Fire\", \"Y\", \"2024-08-26T09:35:42Z\", \"2024-08-23T10:50:03Z\", \"Los Angeles County Fire Department\", NaN, \"Los Angeles\", \"Interstate 5 near Vista Del Lago Road, Los Angeles County\", 11.0, 100.0, \"NaN\", \"NaN\", -118.754805, 34.659252, \"Wildfire\", \"03ea04f4-53d6-47a1-a553-ab52eba0ef5a\", \"https://www.fire.ca.gov/incidents/2024/8/23/motor-fire/\", \"2024-08-23T21:00:00Z\", \"2024-08-23\", \"2024-08-23\", \"N\", false, false], [\"Banning Fire\", \"Y\", \"2024-08-23T22:59:00Z\", \"2024-08-23T13:53:44Z\", \"CAL FIRE Riverside Unit\", NaN, \"Riverside\", \"East of Banning\", 86.0, 100.0, \"NaN\", \"City of Hemet FD, Morongo Fire Department, Palm Springs FD, Soboba Fire Department, Calimesa Fire Department\", -116.846198, 33.928939, \"Wildfire\", \"cf3253e2-4f76-4773-b3fb-8165b83a3d41\", \"https://www.fire.ca.gov/incidents/2024/8/23/banning-fire/\", \"NaN\", \"NaN\", \"2024-08-23\", \"N\", true, false], [\"Proctor 8 Fire\", \"Y\", \"2024-09-06T16:53:19Z\", \"2024-08-23T17:26:12Z\", \"CAL FIRE San Diego Unit\", NaN, \"San Diego\", \"Proctor Valley Road in the community of Jamul\", 27.0, 100.0, \"NaN\", \"NaN\", -116.92502, 32.675679, \"Wildfire\", \"b1dd28a1-5757-4b62-83e2-71ec6e3a36ff\", \"https://www.fire.ca.gov/incidents/2024/8/23/proctor-8-fire/\", \"2024-08-26T00:00:00Z\", \"2024-08-26\", \"2024-08-23\", \"N\", true, false], [\"Benito Fire\", \"Y\", \"2024-08-26T09:38:50Z\", \"2024-08-24T13:33:21Z\", \"CAL FIRE Fresno-Kings Unit\", NaN, \"Fresno\", \"West Panoche Road near Mendota \", 17.0, 100.0, \"NaN\", \"NaN\", -120.360998, 36.730979, \"Wildfire\", \"245e918e-6df6-4096-be50-d9921df0e306\", \"https://www.fire.ca.gov/incidents/2024/8/24/benito-fire/\", \"2024-08-24T21:00:00Z\", \"2024-08-24\", \"2024-08-24\", \"N\", true, false], [\"Summit Fire \", \"Y\", \"2024-08-25T23:48:29Z\", \"2024-08-24T15:59:20Z\", \"NaN\", NaN, \"San Bernardino\", \"North Highway 173, South of Hesperia\", 76.0, 100.0, \"NaN\", \"San Bernardino National Forest\", -117.340037, 34.318425, \"Fire\", \"157f43e4-79ff-4a63-a4bb-199894edc0f4\", \"https://www.fire.ca.gov/incidents/2024/8/24/summit-fire/\", \"2024-08-25T23:48:03Z\", \"2024-08-25\", \"2024-08-24\", \"N\", true, false], [\"Wild Wash Fire\", \"Y\", \"2024-08-28T11:01:34Z\", \"2024-08-24T12:13:11Z\", \"BLM-Central Desert District\", NaN, \"San Bernardino\", \"Wild Wash Road, Sorrel Trail \", 23.0, NaN, \"NaN\", \"NaN\", -117.204094, 34.701134, \"Wildfire\", \"97a83444-c9d0-4fed-bf10-cf8650ce0efa\", \"https://www.fire.ca.gov/incidents/2024/8/24/wild-wash-fire/\", \"NaN\", \"NaN\", \"2024-08-24\", \"N\", false, false], [\"Tenaja Fire\", \"Y\", \"2024-09-10T14:22:16Z\", \"2024-08-25T11:48:35Z\", \"U.S. Forest Service Cleveland National Forest\", NaN, \"Riverside\", \"Tenaja Truck Trail\", 130.0, 100.0, \"NaN\", \"NaN\", -117.403313, 33.583553, \"Wildfire\", \"40dc98d3-a160-439b-ba3b-e969e0a201ef\", \"https://www.fire.ca.gov/incidents/2024/8/25/tenaja-fire/\", \"NaN\", \"NaN\", \"2024-08-25\", \"N\", false, false], [\"Echo Fire\", \"Y\", \"2024-08-28T11:01:17Z\", \"2024-08-03T09:59:50Z\", \"Yosemite National Park\", NaN, \"Mariposa\", \"North of Little Yosemite Valley above Echo Valley\", 12.0, 100.0, \"NaN\", \"NaN\", -119.416517, 37.756167, \"Wildfire\", \"c52a7849-5237-4015-9f24-c69764f78c07\", \"https://www.fire.ca.gov/incidents/2024/8/3/echo-fire/\", \"NaN\", \"NaN\", \"2024-08-03\", \"N\", false, false], [\"Solar Fire\", \"Y\", \"2024-08-25T18:21:05Z\", \"2024-08-25T15:49:19Z\", \"CAL FIRE Madera-Mariposa-Merced Unit\", NaN, \"Merced\", \"McCabe Road and Whitworth Road \", 22.0, NaN, \"NaN\", \"NaN\", -121.033398, 37.115241, \"Wildfire\", \"e8b9c282-b3a6-48a3-ab48-e97a92615a25\", \"https://www.fire.ca.gov/incidents/2024/8/25/solar-fire/\", \"NaN\", \"NaN\", \"2024-08-25\", \"N\", true, false], [\"Park Fire \", \"Y\", \"2024-09-27T07:13:24Z\", \"2024-08-25T17:11:41Z\", \"CAL FIRE RRU Unit \", NaN, \"Riverside\", \"Park Ave & Menlo Ave, Hemet\", 16.0, 100.0, \"NaN\", \"Hemet City Fire Department\", -116.949636, 33.758015, \"Wildfire\", \"783fc0e6-ffd3-41a9-8ce5-843f092a007e\", \"https://www.fire.ca.gov/incidents/2024/8/25/park-fire/\", \"NaN\", \"NaN\", \"2024-08-25\", \"N\", true, false], [\"Florin Fire\", \"Y\", \"2024-08-27T13:52:31Z\", \"2024-08-26T12:49:14Z\", \"Sacramento Metro Fire Department\", NaN, \"Sacramento\", \"Excelsior Road & Florin Road, Sacramento\", 42.0, 100.0, \"NaN\", \"NaN\", -121.297565, 38.496413, \"Fire\", \"a46ba8f8-21b5-4496-9f62-7544d63fe50f\", \"https://www.fire.ca.gov/incidents/2024/8/26/florin-fire/\", \"NaN\", \"NaN\", \"2024-08-26\", \"N\", true, false], [\"Excelsior Fire\", \"Y\", \"2024-08-27T08:34:54Z\", \"2024-08-26T21:14:15Z\", \"NaN\", NaN, \"Sacramento\", \"Excelsior Road, Sacramento\", 38.0, 100.0, \"NaN\", \"NaN\", -121.279094, 38.524067, \"Wildfire\", \"32eb6c42-4a6f-4ce9-9b47-1ad496dddd45\", \"https://www.fire.ca.gov/incidents/2024/8/26/excelsior-fire/\", \"2024-08-26T13:53:00Z\", \"2024-08-26\", \"2024-08-26\", \"N\", true, false], [\"Pioneer Fire\", \"Y\", \"2024-08-29T23:03:16Z\", \"2024-08-27T11:12:29Z\", \"CAL FIRE San Bernardino/Inyo/Mono Unit\", NaN, \"San Bernardino\", \"11100 Block of Pioneer Road, Apple Valley\", 22.0, NaN, \"NaN\", \"NaN\", -117.077204, 34.452109, \"Wildfire\", \"d9d0b205-3d25-47eb-bdc1-40f5b6636e04\", \"https://www.fire.ca.gov/incidents/2024/8/27/pioneer-fire/\", \"NaN\", \"NaN\", \"2024-08-27\", \"N\", true, false], [\"Weller Fire\", \"Y\", \"2024-08-29T06:32:44Z\", \"2024-08-27T15:48:13Z\", \"Kern County Fire Department\", NaN, \"Kern\", \"Granite Rd North of Round Mtn Rd, North of Bakersfield\", 78.0, 100.0, \"NaN\", \"NaN\", -118.958785, 35.5497, \"Wildfire\", \"78dac760-bdce-43dc-aa02-b1ca33472a30\", \"https://www.fire.ca.gov/incidents/2024/8/27/weller-fire/\", \"NaN\", \"NaN\", \"2024-08-27\", \"N\", false, false], [\"Johnson Fire\", \"Y\", \"2024-08-30T07:08:59Z\", \"2024-08-27T18:58:39Z\", \"CAL FIRE San Bernardino/Inyo/Mono Unit\", NaN, \"San Bernardino\", \"Johnson Road & Snow Line Road, Phelan\", 15.0, 100.0, \"NaN\", \"NaN\", -117.559695, 34.404556, \"Wildfire\", \"5a5fd941-d2c6-470c-9403-fa632a127c0d\", \"https://www.fire.ca.gov/incidents/2024/8/27/johnson-fire/\", \"2024-08-30T07:06:37Z\", \"2024-08-30\", \"2024-08-27\", \"N\", true, false], [\"Keys Fire\", \"Y\", \"2024-08-30T21:48:29Z\", \"2024-08-28T14:38:26Z\", \"CAL FIRE San Diego Unit\", NaN, \"San Diego\", \"Northeast of Old Lilac Road & Keys Creek Road, Valley Center\", 18.0, 100.0, \"NaN\", \"NaN\", -117.0764, 33.2902, \"Wildfire\", \"9617f448-9db9-4f9a-9192-688f939658cc\", \"https://www.fire.ca.gov/incidents/2024/8/28/keys-fire/\", \"2024-08-30T21:48:10Z\", \"2024-08-30\", \"2024-08-28\", \"N\", true, false], [\"Gulch Fire\", \"Y\", \"2024-08-30T07:12:30Z\", \"2024-08-28T17:15:11Z\", \"CAL FIRE Sonoma-Lake-Napa Unit\", NaN, \"Sonoma\", \"Stage Gulch Rd near Lakeville Hwy, Lakeville\", 19.0, 100.0, \"NaN\", \"Gold Ridge FPD, Schell-Vista FPD, Petaluma Fire Department, Rancho Adobe FPD\", -122.520366, 38.233952, \"Wildfire\", \"a176fc51-c857-48c5-bba6-35fcc907de72\", \"https://www.fire.ca.gov/incidents/2024/8/28/gulch-fire/\", \"2024-08-30T07:11:58Z\", \"2024-08-30\", \"2024-08-28\", \"N\", true, false], [\"Silver Fire\", \"Y\", \"2024-08-31T08:46:56Z\", \"2024-08-28T16:25:11Z\", \"CAL FIRE Tuolumne-Calaveras Unit\", NaN, \"Calaveras\", \"Silver Mountain Road and Riverview Drive, Rail Road Flat, CA\", 12.0, 100.0, \"NaN\", \"NaN\", -120.499717, 38.361834, \"Wildfire\", \"a3884db9-94ac-414f-883c-c71bcbf7c2e9\", \"https://www.fire.ca.gov/incidents/2024/8/28/silver-fire/\", \"2024-08-30T23:56:00Z\", \"2024-08-30\", \"2024-08-28\", \"N\", true, false], [\"Way Fire\", \"Y\", \"2024-09-02T20:58:25Z\", \"2024-08-29T10:46:53Z\", \"Kern County Fire Department\", NaN, \"Kern\", \"Sierra Way - NE of Rocky Point\", 88.0, 100.0, \"NaN\", \"NaN\", -118.426716, 35.694044, \"Wildfire\", \"b59f9cb4-566c-491f-99c1-262bf5f75999\", \"https://www.fire.ca.gov/incidents/2024/8/29/way-fire/\", \"2024-08-29T17:00:00Z\", \"2024-08-29\", \"2024-08-29\", \"N\", false, false], [\"Two Fire\", \"Y\", \"2024-08-30T21:49:16Z\", \"2024-08-29T15:34:53Z\", \"CAL FIRE Sonoma-Lake-Napa Unit\", NaN, \"Sonoma\", \"Bodega Avenue and Raven Road, west of Petaluma\", 33.0, 100.0, \"NaN\", \"Gold Ridge FPD, Marin County Fire, Petaluma Fire Department\", -122.743925, 38.264246, \"Wildfire\", \"18203802-22ca-41cb-8a32-366c82948168\", \"https://www.fire.ca.gov/incidents/2024/8/29/two-fire/\", \"2024-08-30T21:49:03Z\", \"2024-08-30\", \"2024-08-29\", \"N\", true, false], [\"Vasco Fire\", \"Y\", \"2024-09-02T07:29:23Z\", \"2024-08-29T17:28:55Z\", \"CAL FIRE Santa Clara Unit\", NaN, \"Alameda\", \"Vasco Rd at the Alameda on the Contra Costa County Line\", 16.0, 100.0, \"NaN\", \"NaN\", -121.71679, 37.777334, \"Wildfire\", \"03ab8b8e-1942-4f12-8401-e5af993ed822\", \"https://www.fire.ca.gov/incidents/2024/8/29/vasco-fire/\", \"2024-09-01T08:00:00Z\", \"2024-09-01\", \"2024-08-29\", \"N\", true, false], [\"High Fire\", \"Y\", \"2024-09-04T08:14:59Z\", \"2024-08-31T14:41:01Z\", \"CAL FIRE Tehama-Glenn Unit\", NaN, \"Tehama\", \"Near High Flat Road and Lowrey Road, South of Lowrey in Tehama county \", 45.0, 100.0, \"NaN\", \"NaN\", -122.560451, 39.993914, \"Wildfire\", \"a8c7cd92-82ca-4482-bdfe-ec87a1f5b5c2\", \"https://www.fire.ca.gov/incidents/2024/8/31/high-fire/\", \"2024-09-04T08:14:52Z\", \"2024-09-04\", \"2024-08-31\", \"N\", true, false], [\"Minton Fire\", \"Y\", \"2024-09-02T20:59:29Z\", \"2024-08-31T16:03:12Z\", \"CAL FIRE Riverside Unit\", NaN, \"Riverside\", \"Near Minton Road and Juniper Flats Road in Riverside County\", 22.0, 100.0, \"NaN\", \"NaN\", -117.112489, 33.758036, \"Wildfire\", \"66410b74-8cbe-402a-9092-4aa366831702\", \"https://www.fire.ca.gov/incidents/2024/8/31/minton-fire/\", \"2024-09-02T17:12:00Z\", \"2024-09-02\", \"2024-08-31\", \"N\", true, false], [\"Bichota Fire\", \"Y\", \"2024-09-06T18:16:17Z\", \"2024-08-31T16:59:00Z\", \"Angeles National Forest\", NaN, \"Los Angeles\", \"San Gabriel Canyon Road near Bichota Canyon Trail in Los Angeles county\", 3.0, 100.0, \"NaN\", \"NaN\", -117.856102, 34.25914, \"Wildfire\", \"9fe2d2a0-b5e4-49fb-8dde-7c623be9b040\", \"https://www.fire.ca.gov/incidents/2024/8/31/bichota-fire/\", \"2024-08-31T19:00:00Z\", \"2024-08-31\", \"2024-08-31\", \"N\", false, false], [\"Union Fire\", \"Y\", \"2024-09-02T20:59:18Z\", \"2024-08-31T16:15:07Z\", \"CAL FIRE San Luis Obispo Unit\", NaN, \"San Luis Obispo\", \"Highway 46/Union Road, Paso Robles\", 11.0, 100.0, \"NaN\", \"NaN\", -120.533933, 35.655361, \"Wildfire\", \"ec0d1ada-cec3-4876-a613-6c4b9b3cae89\", \"https://www.fire.ca.gov/incidents/2024/8/31/union-fire/\", \"2024-08-31T16:00:00Z\", \"2024-08-31\", \"2024-08-31\", \"N\", true, false], [\"Armstrong Fire\", \"Y\", \"2024-09-04T21:44:24Z\", \"2024-08-31T23:45:03Z\", \"CAL FIRE Santa Clara Unit\", NaN, \"Contra Costa\", \"Armstrong Road & Falcon Way, Byron\", 20.0, 100.0, \"NaN\", \"NaN\", -121.632921, 37.838349, \"Wildfire\", \"f54c82c5-4429-4709-8ab9-ddf874e851c2\", \"https://www.fire.ca.gov/incidents/2024/8/31/armstrong-fire/\", \"NaN\", \"NaN\", \"2024-08-31\", \"N\", true, false], [\"Robert Fire\", \"Y\", \"2024-09-04T08:15:17Z\", \"2024-09-01T13:03:59Z\", \"CAL FIRE Sonoma-Lake-Napa Unit\", NaN, \"Solano\", \"Highway 12 and Red Top Road\", 48.0, 100.0, \"NaN\", \"Unified Command with the Fairfield Fire Department.\", -122.156703, 38.207676, \"Wildfire\", \"88b1e67d-6869-4259-b9b7-7eaaf817e2a8\", \"https://www.fire.ca.gov/incidents/2024/9/1/robert-fire/\", \"2024-09-04T08:15:09Z\", \"2024-09-04\", \"2024-09-01\", \"N\", true, false], [\"Record Fire\", \"Y\", \"2024-09-05T23:41:05Z\", \"2024-09-01T14:23:20Z\", \"CAL FIRE Riverside Unit\", NaN, \"Riverside\", \"Soboba Road, San Jacinto\", 517.0, 100.0, \"NaN\", \"Hemet FD, Murrieta FD, Soboba FD, RSO, FS-San Bernardino\", -116.9476, 33.8126, \"Wildfire\", \"fed9e05e-5772-41f1-a4f0-9318519d2691\", \"https://www.fire.ca.gov/incidents/2024/9/1/record-fire/\", \"2024-09-05T00:00:00Z\", \"2024-09-05\", \"2024-09-01\", \"N\", true, false], [\"Argyle Fire\", \"Y\", \"2024-09-04T21:43:05Z\", \"2024-09-01T22:05:15Z\", \"CAL FIRE San Benito-Monterey Unit\", NaN, \"Monterey\", \"Argyle Rd, near the community of Jolon\", 91.0, 100.0, \"NaN\", \"NaN\", -121.129602, 36.015369, \"Wildfire\", \"68ebf089-c0a0-4d90-a0d6-366a6d4d78be\", \"https://www.fire.ca.gov/incidents/2024/9/1/argyle-fire/\", \"NaN\", \"NaN\", \"2024-09-01\", \"N\", true, false], [\"Bear Fire\", \"Y\", \"2024-09-17T18:14:16Z\", \"2024-09-02T14:09:00Z\", \"Unified Command: CAL FIRE Nevada-Yuba-Placer Unit and Tahoe National Forest\", NaN, \"Sierra\", \"Off Bear Valley Road, South of Loyalton\", 3327.0, 88.0, \"NaN\", \"NaN\", -120.21859, 39.596704, \"Wildfire\", \"5b4a7dbe-b514-4994-ad30-92dbffb34d52\", \"https://www.fire.ca.gov/incidents/2024/9/2/bear-fire/\", \"NaN\", \"NaN\", \"2024-09-02\", \"N\", true, false], [\"Centerville Fire\", \"Y\", \"2024-09-04T21:43:54Z\", \"2024-09-02T15:47:48Z\", \"CAL FIRE Butte Unit\", NaN, \"Butte\", \"Centerville Rd North of Honey Run Rd, West of Paradise\", 59.0, 100.0, \"NaN\", \"NaN\", -121.69988, 39.73984, \"Wildfire\", \"f2bce455-9fa7-4957-a9dd-17f05d8186f0\", \"https://www.fire.ca.gov/incidents/2024/9/2/centerville-fire/\", \"NaN\", \"NaN\", \"2024-09-02\", \"N\", true, false], [\"Gabriel Fire\", \"Y\", \"2024-09-04T21:44:10Z\", \"2024-09-02T16:58:23Z\", \"Los Angeles County Fire Department\", NaN, \"Los Angeles\", \"Near Santa Fe Dam Nature Center, Irwindale\", 40.0, 100.0, \"NaN\", \"NaN\", -117.953154, 34.122607, \"Wildfire\", \"0d339412-fd42-4037-94ba-6d1ce25ac3e9\", \"https://www.fire.ca.gov/incidents/2024/9/2/gabriel-fire/\", \"NaN\", \"NaN\", \"2024-09-02\", \"N\", false, false], [\"Hwy 152 E/ Rd 13 Fire\", \"Y\", \"2024-09-02T19:38:15Z\", \"2024-09-02T15:16:16Z\", \"CAL FIRE Madera-Mariposa-Merced Unit\", NaN, \"Madera\", \"Unknown / TBD\", 40.0, 100.0, \"NaN\", \"NaN\", -120.310758, 37.083449, \"Wildfire\", \"d83e6e6e-75c6-4deb-b026-50e59a5818a3\", \"https://www.fire.ca.gov/incidents/2024/9/2/hwy-152-e-rd-13-fire/\", \"NaN\", \"NaN\", \"2024-09-02\", \"N\", false, false], [\"Hawk Fire\", \"Y\", \"2024-09-04T15:51:42Z\", \"2024-09-03T10:18:38Z\", \"CAL FIRE San Luis Obispo Unit\", NaN, \"San Luis Obispo\", \"Unknown / TBD\", 14.0, 100.0, \"NaN\", \"NaN\", -120.623763, 35.313339, \"Wildfire\", \"030f3dea-4803-45b0-8bca-bc9ad347439d\", \"https://www.fire.ca.gov/incidents/2024/9/3/hawk-fire/\", \"NaN\", \"NaN\", \"2024-09-03\", \"N\", false, false], [\"Boone Fire\", \"Y\", \"2024-09-15T11:56:03Z\", \"2024-09-03T12:10:46Z\", \"CAL FIRE Fresno-Kings Unit\", NaN, \"Fresno\", \"Highway 198 and Boone Lane, Coalinga\", 17000.0, 100.0, \"NaN\", \"NaN\", -120.58848, 36.12175, \"Wildfire\", \"97520779-99f5-4001-85ce-4c5f5f48cd61\", \"https://www.fire.ca.gov/incidents/2024/9/3/boone-fire/\", \"NaN\", \"NaN\", \"2024-09-03\", \"N\", true, false], [\"Backus Fire\", \"Y\", \"2024-09-06T18:17:25Z\", \"2024-09-03T15:20:41Z\", \"Kern County Fire Department\", NaN, \"Kern\", \"5300 Block of Backus Road, Southwest of Mojave\", 41.0, 100.0, \"NaN\", \"NaN\", -118.248827, 34.876586, \"Wildfire\", \"b12acb92-61f8-43ef-8285-f243476588f2\", \"https://www.fire.ca.gov/incidents/2024/9/3/backus-fire/\", \"2024-09-03T08:00:00Z\", \"2024-09-03\", \"2024-09-03\", \"N\", false, false], [\"Chapman Fire\", \"Y\", \"2024-09-05T23:39:15Z\", \"2024-09-04T12:56:11Z\", \"CAL FIRE Riverside Unit\", NaN, \"Riverside\", \"44800 block Chapman Road, Anza\", 18.0, 100.0, \"NaN\", \"Cleveland National Forest, Cahuilla Band of Indians Fire Department, Murrieta Fire Department, CAL FIRE San Diego Unit (SDU)\", -116.651385, 33.472372, \"Wildfire\", \"8417ba5b-e0ba-41f5-b811-71a9cb477a6f\", \"https://www.fire.ca.gov/incidents/2024/9/4/chapman-fire/\", \"NaN\", \"NaN\", \"2024-09-04\", \"N\", true, false], [\"Post Fire\", \"Y\", \"2024-09-05T23:42:00Z\", \"2024-09-04T15:55:43Z\", \"CAL FIRE Riverside Unit\", NaN, \"Riverside\", \"20800 block of  Gardenias Street, Goodhope (unincorporated Perris)\", 264.0, 100.0, \"NaN\", \"CAL FIRE San Bernardino Unit, CAL FIRE San Diego Unit\", -117.297767, 33.773143, \"Wildfire\", \"266dcba8-5dd3-467d-988f-a49f8166694b\", \"https://www.fire.ca.gov/incidents/2024/9/4/post-fire/\", \"2024-09-05T00:00:00Z\", \"2024-09-05\", \"2024-09-04\", \"N\", true, false], [\"Midway Rd Fire\", \"Y\", \"2024-09-06T14:20:44Z\", \"2024-09-05T15:37:29Z\", \"NaN\", NaN, \"Merced\", \"Hwy 152 and Midway Road, Los Banos\", 10.0, 100.0, \"NaN\", \"NaN\", -120.750881, 37.055082, \"Wildfire\", \"8848b58e-de98-46b8-bf67-914b2bbf2587\", \"https://www.fire.ca.gov/incidents/2024/9/5/midway-rd-fire/\", \"NaN\", \"NaN\", \"2024-09-05\", \"N\", false, false], [\"Dorado Fire\", \"Y\", \"2024-09-06T20:21:48Z\", \"2024-09-05T17:01:14Z\", \"CAL FIRE Fresno-Kings Unit\", NaN, \"Fresno\", \"24700 block of West Jayne Avenue, Coalinga\", 502.0, 100.0, \"NaN\", \"NaN\", -120.24039, 36.13751, \"Wildfire\", \"576ee459-903e-4b71-a658-214034e031db\", \"https://www.fire.ca.gov/incidents/2024/9/5/dorado-fire/\", \"NaN\", \"NaN\", \"2024-09-05\", \"N\", true, false], [\"Line Fire\", \"N\", \"2024-10-02T08:57:52Z\", \"2024-09-05T18:33:57Z\", \"Unified Command with Complex California Incident Management Team 11, San Bernardino National Forest, CAL FIRE San Bernardino and San Bernardino County Fire .\", NaN, \"San Bernardino\", \"Baseline Street and Alpine Street, Highland \", 43890.0, 79.0, \"NaN\", \"CAL FIRE, Arrowbear Lake Fire Department, California Conservation Corps, California Department of Corrections and Rehabilitation, Cal OES Fire and Rescue, Caltrans, Running Springs Fire Department, City of San Bernardino Police Department, San Bernardino County, San Manuel Band of Mission Indians, Morongo Band of Mission Indians, Southern California Edison, California Highway Patrol, California National Guard, San Bernardino County Fire Protection District, San Bernardino County Sheriff's Department\", -117.154705, 34.121119, \"Wildfire\", \"cac520bf-e359-4f3c-a8ee-85510a476c67\", \"https://www.fire.ca.gov/incidents/2024/9/5/line-fire/\", \"NaN\", \"NaN\", \"2024-09-05\", \"Y\", true, false], [\"Pine Fire\", \"Y\", \"2024-09-10T23:28:08Z\", \"2024-09-06T12:14:39Z\", \"CAL FIRE Mendocino Unit\", NaN, \"Mendocino\", \"South of Gibson Road near Pine Lake Basin, North of Redwood Valley\", 18.0, 100.0, \"NaN\", \"NaN\", -123.186117, 39.351831, \"Wildfire\", \"a8738494-879c-4588-a7c5-13a9419b2c9a\", \"https://www.fire.ca.gov/incidents/2024/9/6/pine-fire/\", \"2024-09-10T00:00:00Z\", \"2024-09-10\", \"2024-09-06\", \"N\", true, false], [\"Cove Fire\", \"Y\", \"2024-09-07T17:12:09Z\", \"2024-09-06T14:24:50Z\", \"CAL FIRE Riverside Unit\", NaN, \"Riverside\", \"Southeast of Highway 243 & Mellor Ranch Road, Northwest of Idyllwild\", 15.0, 100.0, \"NaN\", \"NaN\", -116.738699, 33.758174, \"Wildfire\", \"74364d0b-b018-41f3-b821-ac5be7306645\", \"https://www.fire.ca.gov/incidents/2024/9/6/cove-fire/\", \"NaN\", \"NaN\", \"2024-09-06\", \"N\", true, false], [\"Canary Fire\", \"Y\", \"2024-09-07T12:38:13Z\", \"2024-09-06T17:06:53Z\", \"CAL FIRE San Diego Unit\", NaN, \"San Diego\", \"1 Mile Southeast of Case Springs, Camp Pendleton\", 25.0, 100.0, \"NaN\", \"NaN\", -117.40342, 33.44756, \"Wildfire\", \"45291c5b-03f9-417f-b120-480be9b60315\", \"https://www.fire.ca.gov/incidents/2024/9/6/canary-fire/\", \"2024-02-25T08:00:00Z\", \"2024-02-25\", \"2024-09-06\", \"N\", true, false], [\"Canyon Fire\", \"Y\", \"2024-09-06T22:07:05Z\", \"2024-07-20T07:02:47Z\", \"CAL FIRE Nevada-Yuba-Placer Unit\", NaN, \"Placer\", \"Unknown / TBD\", 752.0, 100.0, \"NaN\", \"NaN\", -120.952668, 39.089369, \"Wildfire\", \"ab16c24a-1523-416c-90ea-ac28798800c4\", \"https://www.fire.ca.gov/incidents/2024/7/20/canyon-fire/\", \"NaN\", \"NaN\", \"2024-07-20\", \"N\", true, false], [\"Church 2 Fire\", \"Y\", \"2024-09-08T20:48:19Z\", \"2024-09-07T11:41:06Z\", \"CAL FIRE San Diego Unit\", NaN, \"San Diego\", \"Church Road and Golden Acorn Way, Campo\", 40.0, 100.0, \"NaN\", \"NaN\", -116.357286, 32.700797, \"Wildfire\", \"accf266c-8516-45cf-9570-8cf180c86ae1\", \"https://www.fire.ca.gov/incidents/2024/9/7/church-2-fire/\", \"NaN\", \"NaN\", \"2024-09-07\", \"N\", true, false], [\"Roblar Fire \", \"Y\", \"2024-09-11T20:36:22Z\", \"2024-09-07T14:03:11Z\", \"Camp Pendleton Fire Department\", NaN, \"San Diego\", \"Case Springs Road, Camp Pendleton \", 1000.0, 100.0, \"NaN\", \"NaN\", -117.3623, 33.4088, \"Wildfire\", \"317db5a2-a6f0-43b8-b1b1-1e90a60124d7\", \"https://www.fire.ca.gov/incidents/2024/9/7/roblar-fire/\", \"2024-09-11T20:33:57Z\", \"2024-09-11\", \"2024-09-07\", \"N\", false, false], [\"Mill Creek 4 Fire\", \"Y\", \"2024-09-15T12:23:28Z\", \"2024-09-07T16:12:16Z\", \"Bureau of Indian Affairs\", NaN, \"Humboldt\", \"Mill Creek, north of Hoopa\", 25.0, 100.0, \"NaN\", \"NaN\", -123.6761, 41.1088, \"Wildfire\", \"6f67d619-6533-4889-a740-c0d018ae9cda\", \"https://www.fire.ca.gov/incidents/2024/9/7/mill-creek-4-fire/\", \"2024-09-12T17:00:00Z\", \"2024-09-12\", \"2024-09-07\", \"N\", false, false], [\"Cotton Fire\", \"Y\", \"2024-09-08T07:25:21Z\", \"2024-09-07T21:22:58Z\", \"CAL FIRE Fresno-Kings Unit\", NaN, \"Fresno\", \"Unknown / TBD\", 314.0, 100.0, \"NaN\", \"NaN\", -120.30277, 36.639321, \"Wildfire\", \"f36370f9-c5e3-4a22-840b-aebc4652737e\", \"https://www.fire.ca.gov/incidents/2024/9/7/cotton-fire/\", \"NaN\", \"NaN\", \"2024-09-07\", \"N\", true, false], [\"Boyles Fire\", \"Y\", \"2024-09-11T20:38:04Z\", \"2024-09-08T14:45:26Z\", \"Lake County Fire Protection District\", NaN, \"Lake\", \"Dam Road, Clearlake\", 81.0, 100.0, \"NaN\", \"NaN\", -122.61065, 38.92934, \"Wildfire\", \"0d74ddd7-8a31-4014-8f25-d1e1eebca140\", \"https://www.fire.ca.gov/incidents/2024/9/8/boyles-fire/\", \"2024-09-11T20:37:40Z\", \"2024-09-11\", \"2024-09-08\", \"N\", false, false], [\"Bridge Fire\", \"N\", \"2024-10-01T16:51:10-07:00\", \"2024-09-08T14:12:21Z\", \"Angeles National Forest\\\\r\\\\n\", NaN, \"Los Angeles, San Bernardino\", \"Camp Bonita Road, East of Camp Williams\", 54878.0, 98.0, \"NaN\", \"NaN\", -117.7625, 34.2396, \"Wildfire\", \"81e678d0-6b80-4a16-b8a6-1ec5a4fe0ba0\", \"https://www.fire.ca.gov/incidents/2024/9/8/bridge-fire/\", \"NaN\", \"NaN\", \"2024-09-08\", \"Y\", false, false], [\"Crozier Fire\", \"Y\", \"2024-09-11T15:59:42Z\", \"2024-09-09T09:12:28Z\", \"El Dorado National Forest\", NaN, \"El Dorado\", \"Northwest of Slate Mountain\", 1960.0, 100.0, \"NaN\", \"NaN\", -120.6975, 38.82889, \"Wildfire\", \"fff641dd-ef49-4e70-b423-e93ff0735437\", \"https://www.fire.ca.gov/incidents/2024/9/9/crozier-fire/\", \"NaN\", \"NaN\", \"2024-09-09\", \"N\", false, false], [\"Rice 2 Fire\", \"Y\", \"2024-09-10T00:06:15Z\", \"2024-09-08T19:13:26Z\", \"CAL FIRE San Diego Unit\", NaN, \"San Diego\", \"Rice Canyon Road and California State Route 76\", 20.0, 100.0, \"NaN\", \"NaN\", -117.135771, 33.353446, \"Wildfire\", \"0de2ba3a-b8de-447b-bd19-eced55f97497\", \"https://www.fire.ca.gov/incidents/2024/9/8/rice-2-fire/\", \"NaN\", \"NaN\", \"2024-09-08\", \"N\", false, false], [\"Wicklow Fire\", \"Y\", \"2024-09-11T20:39:12Z\", \"2024-09-09T13:15:11Z\", \"CAL FIRE Amador-El Dorado Unit\", NaN, \"Amador\", \"11900 Block of California Highway 88, Martell\", 63.0, 100.0, \"NaN\", \"NaN\", -120.814317, 38.361232, \"Wildfire\", \"482388dc-66e4-408d-bc60-01ce780ed0d8\", \"https://www.fire.ca.gov/incidents/2024/9/9/wicklow-fire/\", \"2024-09-11T20:38:49Z\", \"2024-09-11\", \"2024-09-09\", \"N\", true, false], [\"Airport Fire\", \"N\", \"2024-10-01T14:00:26Z\", \"2024-09-09T13:21:00Z\", \"Cleveland National Forest\", NaN, \"Orange, Riverside\", \"Trabuco Canyon and Rose Canyon, Trabuco Canyon\", 23526.0, 95.0, \"NaN\", \"CAL FIRE, US Forest Service, Orange County Sheriff Department, California Highway Patrol, CAL OES, Orange County Public Works, Riverside County Sheriff Department, Southern California Edison.\", -117.566221, 33.667676, \"Wildfire\", \"44d60d5a-522f-4c9f-ba55-ae09e9d2c973\", \"https://www.fire.ca.gov/incidents/2024/9/9/airport-fire/\", \"NaN\", \"NaN\", \"2024-09-09\", \"Y\", false, false], [\"Sunset Fire\", \"Y\", \"2024-09-09T21:14:41Z\", \"2024-09-09T15:02:08Z\", \"CAL FIRE Riverside Unit\", NaN, \"Riverside\", \"Sunset Avenue & W Westward Avenue, Banning\", 54.0, 100.0, \"NaN\", \"NaN\", -116.91162, 33.917991, \"Wildfire\", \"5d2a9d0a-2883-4ad1-8dfc-35d9e9b5402e\", \"https://www.fire.ca.gov/incidents/2024/9/9/sunset-fire/\", \"NaN\", \"NaN\", \"2024-09-09\", \"N\", false, false], [\"Train Fire\", \"Y\", \"2024-09-15T12:21:09Z\", \"2024-09-09T16:07:20Z\", \"Kern County Fire Department\", NaN, \"Kern\", \"Bealville Road, Bealville  \", 48.0, 100.0, \"NaN\", \"NaN\", -118.62193, 35.2659, \"Wildfire\", \"aa8bcbc8-31af-4d8a-b0d8-9351974cf51f\", \"https://www.fire.ca.gov/incidents/2024/9/9/train-fire/\", \"2024-09-10T12:21:06Z\", \"2024-09-10\", \"2024-09-09\", \"N\", false, false], [\"Apollo Fire\", \"Y\", \"2024-09-10T23:27:13Z\", \"2024-09-10T11:46:36Z\", \"Los Angeles County Fire Department\", NaN, \"Los Angeles\", \"29th Street West and West Aquaduct Road, Fairmont\", 800.0, 100.0, \"NaN\", \"NaN\", -118.53335, 34.77011, \"Wildfire\", \"b84f3e58-3a60-4424-8ea9-3aa7a3d27c58\", \"https://www.fire.ca.gov/incidents/2024/9/10/apollo-fire/\", \"2024-09-10T00:00:00Z\", \"2024-09-10\", \"2024-09-10\", \"N\", false, false], [\"Coyote Fire\", \"Y\", \"2024-09-15T11:39:59Z\", \"2024-09-10T16:34:15Z\", \"CAL FIRE Riverside Unit\", NaN, \"Riverside\", \"33800 Block of Washington Street, North of Desert Palms\", 20.0, 100.0, \"NaN\", \"NaN\", -116.30113, 33.803944, \"Wildfire\", \"05edf868-2c42-4981-a7df-9f66f98800c3\", \"https://www.fire.ca.gov/incidents/2024/9/10/coyote-fire/\", \"NaN\", \"NaN\", \"2024-09-10\", \"N\", true, false], [\"Kelso Fire\", \"Y\", \"2024-09-12T15:53:45Z\", \"2024-09-10T17:55:00Z\", \"CAL FIRE Santa Clara Unit\", NaN, \"Alameda\", \"Kelso Road and Bruns Road, south of Byron\", 22.0, 100.0, \"NaN\", \"NaN\", -121.606071, 37.795295, \"Wildfire\", \"a4abc467-5ae9-417d-b3e2-3d3469e698f1\", \"https://www.fire.ca.gov/incidents/2024/9/10/kelso-fire/\", \"NaN\", \"NaN\", \"2024-09-10\", \"N\", true, false], [\"Willow Fire\", \"Y\", \"2024-09-15T12:27:49Z\", \"2024-09-11T13:19:00Z\", \"Contra Costa County Fire Protection District\", NaN, \"Contra Costa\", \"Willow Pass Road and Avila Road, North of Concord\", 62.0, 100.0, \"NaN\", \"NaN\", -121.997014, 38.01154, \"Wildfire\", \"70f3bd6a-1888-4eb7-8a88-db21c81ba049\", \"https://www.fire.ca.gov/incidents/2024/9/11/willow-fire/\", \"2024-09-11T20:29:00Z\", \"2024-09-11\", \"2024-09-11\", \"N\", true, false], [\"Joshua Fire\", \"Y\", \"2024-09-15T11:40:37Z\", \"2024-09-11T01:01:31Z\", \"Los Angeles County Fire Department\", NaN, \"Los Angeles\", \"Mount Emma Road / East of 47th Street, Palmdale\", 30.0, 100.0, \"NaN\", \"NaN\", -118.045033, 34.50295, \"Wildfire\", \"02289a33-8abe-468b-93bf-55ef3ec7122f\", \"https://www.fire.ca.gov/incidents/2024/9/11/joshua-fire/\", \"NaN\", \"NaN\", \"2024-09-11\", \"N\", false, false], [\"Alpaugh Fire\", \"Y\", \"2024-09-15T11:42:42Z\", \"2024-09-11T15:13:57Z\", \"Bureau of Land Management\", NaN, \"Tulare\", \"Avenue 50 and Road 22, Southwest of Alpaugh\", 18.0, 100.0, \"NaN\", \"NaN\", -119.536893, 35.863675, \"Wildfire\", \"65e96e18-3c2e-4211-a0f9-798f59264ef7\", \"https://www.fire.ca.gov/incidents/2024/9/11/alpaugh-fire/\", \"NaN\", \"NaN\", \"2024-09-11\", \"N\", false, false], [\"Quincy Fire\", \"Y\", \"2024-09-18T08:32:17Z\", \"2024-09-12T13:13:40Z\", \"CAL FIRE Butte Unit\", NaN, \"Butte\", \"Forbestown Road and Little Oaks Road, Robinson Mill\", 85.0, 100.0, \"NaN\", \"NaN\", -121.42105, 39.48058, \"Wildfire\", \"f5edaa5c-7880-4608-a1e7-12a6571a3e3c\", \"https://www.fire.ca.gov/incidents/2024/9/12/quincy-fire/\", \"NaN\", \"NaN\", \"2024-09-12\", \"N\", true, false], [\"Bell Fire\", \"Y\", \"2024-09-15T23:54:10Z\", \"2024-09-14T16:32:28Z\", \"CAL FIRE Amador-El Dorado Unit\", NaN, \"El Dorado\", \"East of Highway 49, north of the Amador/El Dorado County line in El Dorado County\", 12.0, 100.0, \"NaN\", \"NaN\", -120.840433, 38.545436, \"Wildfire\", \"47f8f0a7-6f42-4979-8030-0b0b6c60a9f4\", \"https://www.fire.ca.gov/incidents/2024/9/14/bell-fire/\", \"NaN\", \"NaN\", \"2024-09-14\", \"N\", true, false], [\"Cougar Fire\", \"Y\", \"2024-09-16T22:08:08Z\", \"2024-09-15T13:16:20Z\", \"CAL FIRE Sonoma-Lake-Napa Unit\", NaN, \"Sonoma\", \"Lakeville Highway, south of Cougar Mountain Road, Sears Point\", 53.0, 100.0, \"NaN\", \"Marin County Fire, Petaluma Fire, Schell-Vista Fire, Gold Ridge Fire, Rancho Adobe Fire, Sonoma Valley Fire District, United States Coast Guard\", -122.485218, 38.145843, \"Wildfire\", \"43d81aa4-9deb-4235-bfdd-332cb4d60f16\", \"https://www.fire.ca.gov/incidents/2024/9/15/cougar-fire/\", \"2024-09-16T00:00:00Z\", \"2024-09-16\", \"2024-09-15\", \"N\", true, false], [\"Ripple Fire\", \"Y\", \"2024-09-15T23:53:49Z\", \"2024-09-15T15:19:28Z\", \"CAL FIRE Fresno-Kings Unit\", NaN, \"Fresno\", \"Sand Creek Road and Ripple Lane\", 15.0, 100.0, \"NaN\", \"NaN\", -119.189459, 36.682583, \"Wildfire\", \"61e2fd92-51f6-403e-8448-cc94014c5cc1\", \"https://www.fire.ca.gov/incidents/2024/9/15/ripple-fire/\", \"2024-09-15T23:53:47Z\", \"2024-09-15\", \"2024-09-15\", \"N\", true, false], [\"Rosa Fire\", \"Y\", \"2024-09-16T22:06:15Z\", \"2024-09-16T20:08:21Z\", \"Santa Barbara County Fire\", NaN, \"Santa Barbara\", \"Santa Rosa Road, Lompoc\", 20.0, 100.0, \"NaN\", \"NaN\", -120.35679, 34.59556, \"Wildfire\", \"0eabd5ea-c1e1-421a-a70a-12285cdaf62e\", \"https://www.fire.ca.gov/incidents/2024/9/16/rosa-fire/\", \"2024-09-16T00:00:00Z\", \"2024-09-16\", \"2024-09-16\", \"N\", false, false], [\"Executive Fire\", \"Y\", \"2024-09-18T20:58:32Z\", \"2024-09-17T11:28:26Z\", \"CAL FIRE Tehama-Glenn Unit\", NaN, \"Tehama\", \"Henleyville Rd and Executive Dr in the community of Henleyville\", 58.0, 100.0, \"NaN\", \"NaN\", -122.307297, 39.93192, \"Wildfire\", \"77efe2f0-3028-4644-bb42-b2fa555fb32f\", \"https://www.fire.ca.gov/incidents/2024/9/17/executive-fire/\", \"NaN\", \"NaN\", \"2024-09-17\", \"N\", true, false], [\"Phelps Fire\", \"Y\", \"2024-09-25T09:02:28Z\", \"2024-09-19T20:34:58Z\", \"CAL FIRE Fresno-Kings Unit\", NaN, \"Fresno\", \"Phelps Ave and West Gale Ave\", 35.0, 100.0, \"NaN\", \"NaN\", -120.259824, 36.15407, \"Wildfire\", \"d915cd6a-951f-473b-89e3-d75c5f47abd6\", \"https://www.fire.ca.gov/incidents/2024/9/19/phelps-fire/\", \"2024-09-20T05:13:00Z\", \"2024-09-20\", \"2024-09-19\", \"N\", true, false], [\"Antonio Fire\", \"Y\", \"2024-09-24T20:58:43Z\", \"2024-09-23T13:16:44Z\", \"CAL FIRE Sonoma-Lake-Napa Unit\", NaN, \"Sonoma\", \"San Antonio Road, Petaluma\", 11.0, 100.0, \"NaN\", \"NaN\", -122.656105, 38.187148, \"Wildfire\", \"ab5d40ea-130e-400d-9329-be910ce20dd6\", \"https://www.fire.ca.gov/incidents/2024/9/23/antonio-fire/\", \"2024-09-24T20:58:21Z\", \"2024-09-24\", \"2024-09-23\", \"N\", true, false], [\"Plymire Fire\", \"Y\", \"2024-09-27T11:36:41Z\", \"2024-09-26T10:19:38Z\", \"CAL FIRE Tehama-Glenn Unit\", NaN, \"Tehama\", \"Plymire Road at the cross of Mendenhall, Red Bluff\", 14.0, 100.0, \"NaN\", \"NaN\", -122.284309, 40.201159, \"Wildfire\", \"2877ac5e-5f3c-45f5-bfdb-d39777b57f85\", \"https://www.fire.ca.gov/incidents/2024/9/26/plymire-fire/\", \"2024-09-26T13:19:00Z\", \"2024-09-26\", \"2024-09-26\", \"N\", true, false], [\"Meiss Fire\", \"Y\", \"2024-09-30T08:26:31Z\", \"2024-09-27T14:48:30Z\", \"CAL FIRE Amador-El Dorado Unit\", NaN, \"Sacramento\", \"14000 block Meiss Rd, S/W of Rancho Murieta\", 42.0, 100.0, \"NaN\", \"NaN\", -121.054386, 38.427179, \"Wildfire\", \"824367fb-ae02-4b05-a8cc-9b85fd03995c\", \"https://www.fire.ca.gov/incidents/2024/9/27/meiss-fire/\", \"2024-09-29T08:00:01Z\", \"2024-09-29\", \"2024-09-27\", \"N\", true, false], [\"Pinnacles Fire\", \"N\", \"2024-09-29T20:01:53Z\", \"2024-09-27T14:13:57Z\", \"CAL FIRE San Benito-Monterey Unit\", NaN, \"San Benito\", \"Airline Highway 25 and Pinnacles Highway 146\", 17.0, 100.0, \"NaN\", \"NaN\", -121.147092, 36.493781, \"Wildfire\", \"2d3d58b3-520a-4751-8208-9e6266567369\", \"https://www.fire.ca.gov/incidents/2024/9/27/pinnacles-fire/\", \"2024-09-28T15:00:00Z\", \"2024-09-28\", \"2024-09-27\", \"N\", true, false], [\"86 Fire\", \"Y\", \"2024-09-28T17:10:26Z\", \"2024-09-27T17:26:28Z\", \"CAL FIRE Riverside Unit\", NaN, \"Riverside\", \"Highway 86 Expressway / Avenue 70, Thermal \", 38.0, NaN, \"NaN\", \"NaN\", -116.099893, 33.540008, \"Wildfire\", \"fbc44da8-44a9-47ac-8051-d7aa398df2e5\", \"https://www.fire.ca.gov/incidents/2024/9/27/86-fire/\", \"NaN\", \"NaN\", \"2024-09-27\", \"N\", true, false], [\"Chase Fire \", \"Y\", \"2024-09-29T18:55:39Z\", \"2024-09-27T21:10:31Z\", \"NaN\", NaN, \"Kern\", \"East of Comanche Dr & Breckenridge Rd, Edison\", 35.0, 100.0, \"NaN\", \"NaN\", -118.84398, 35.374332, \"Wildfire\", \"7f988847-1efa-42e3-95b8-b9d736bdddbb\", \"https://www.fire.ca.gov/incidents/2024/9/27/chase-fire/\", \"2024-09-28T08:00:00Z\", \"2024-09-28\", \"2024-09-27\", \"N\", false, false], [\"Cindy Fire \", \"Y\", \"2024-09-29T18:55:07Z\", \"2024-09-28T18:12:31Z\", \"NaN\", NaN, \"Los Angeles\", \"14 Freeway and East Barrel Springs Rd, Palmdale\", 13.0, 100.0, \"NaN\", \"NaN\", -118.117656, 34.53527, \"Wildfire\", \"9a4f6a74-807d-4be5-bb55-c072f7600b83\", \"https://www.fire.ca.gov/incidents/2024/9/28/cindy-fire/\", \"2024-09-29T08:00:00Z\", \"2024-09-29\", \"2024-09-28\", \"N\", false, false], [\"Ridge Fire\", \"N\", \"2024-10-01T14:00:29Z\", \"2024-09-29T08:30:17Z\", \"Santa Barbara County Fire\", NaN, \"Santa Barbara\", \"Northeast of Cuarta Road, Hollister Ranch\", 17.0, 75.0, \"NaN\", \"NaN\", -120.274, 34.50334, \"Wildfire\", \"041dd61f-f516-421e-a295-8bdafe8fb5eb\", \"https://www.fire.ca.gov/incidents/2024/9/29/ridge-fire/\", \"NaN\", \"NaN\", \"2024-09-29\", \"Y\", false, false], [\"Soda Fire\", \"Y\", \"2024-09-30T20:59:54Z\", \"2024-09-30T13:00:03Z\", \"CAL FIRE San Luis Obispo Unit\", NaN, \"San Luis Obispo\", \"Soda Lake Rd south of Hwy 58, California Valley\", 633.0, 100.0, \"NaN\", \"NaN\", -120.005229, 35.351479, \"Wildfire\", \"e0d686b7-5bb7-41e3-af4e-e14123429236\", \"https://www.fire.ca.gov/incidents/2024/9/30/soda-fire/\", \"NaN\", \"NaN\", \"2024-09-30\", \"N\", true, false], [\"Lago Fire\", \"N\", \"2024-10-02T08:26:08Z\", \"2024-10-02T02:19:22Z\", \"Angeles National Forest\", NaN, \"Los Angeles\", \"Ridge Route Road and Lake Hughes Road, Castaic\", 25.0, 50.0, \"NaN\", \"NaN\", -118.616267, 34.497433, \"Wildfire\", \"a32d77be-a62d-444a-9872-68f997469297\", \"https://www.fire.ca.gov/incidents/2024/10/2/lago-fire/\", \"NaN\", \"NaN\", \"2024-10-02\", \"Y\", false, false]];\n",
       "\n",
       "        // Define the dt_args\n",
       "        let dt_args = {\"layout\": {\"topStart\": \"pageLength\", \"topEnd\": \"search\", \"bottomStart\": \"info\", \"bottomEnd\": \"paging\"}, \"order\": [], \"fnInfoCallback\": function (oSettings, iStart, iEnd, iMax, iTotal, sPre) { return sPre + ' (<a href=\"https://mwouts.github.io/itables/downsampling.html\">downsampled</a> from 2,728x23 to 385x23 as maxBytes=64KB)'; }};\n",
       "        dt_args[\"data\"] = data;\n",
       "\n",
       "        \n",
       "        new DataTable(table, dt_args);\n",
       "    });\n",
       "</script>\n"
      ],
      "text/plain": [
       "<IPython.core.display.HTML object>"
      ]
     },
     "metadata": {},
     "output_type": "display_data"
    }
   ],
   "source": [
    "# Your code here\n",
    "DF_raw = pd.read_csv('mapdataall.csv')\n",
    "show(DF_raw)"
   ]
  },
  {
   "cell_type": "markdown",
   "id": "941e4499-edd1-4210-b3ff-292dd2eb4df7",
   "metadata": {},
   "source": [
    "**Q1** How many variables and observations?\n",
    "\n",
    "**Q2** How many different incident types are there?\n",
    "\n",
    "**Q3** Make a histogram of the **acres burned and color the bars by whether or not the incident was a calfire incident.** You will probably need to make a mask to remove very small and very large fires. How many fires burned more than 100,000 acres? What is the largest fire in the data?\n",
    "\n",
    "**Extra Q** EXTRA - CHALLENGE - See if you can create a graph that answers the question: Are fires getting bigger or more frequent over time? You get complete creative control on how to answer this question!"
   ]
  },
  {
   "cell_type": "markdown",
   "id": "2cb84038-5ffd-4529-a338-679ee1fe36ee",
   "metadata": {},
   "source": [
    "1. There are 2728 observations and 23 variables.\n",
    "2. fire, flood and wildfire\n",
    "3. "
   ]
  },
  {
   "cell_type": "code",
   "execution_count": 197,
   "id": "df36876b-02c2-4d86-b55b-62819a368bf6",
   "metadata": {},
   "outputs": [
    {
     "data": {
      "text/plain": [
       "(2728, 23)"
      ]
     },
     "execution_count": 197,
     "metadata": {},
     "output_type": "execute_result"
    }
   ],
   "source": [
    "# You will need to write some code to answer the questions.\n",
    "DF_raw.shape"
   ]
  },
  {
   "cell_type": "code",
   "execution_count": 199,
   "id": "f109efcd-8c6c-46e2-946a-8ad9022dafd8",
   "metadata": {},
   "outputs": [
    {
     "data": {
      "text/html": [
       "<div>\n",
       "<style scoped>\n",
       "    .dataframe tbody tr th:only-of-type {\n",
       "        vertical-align: middle;\n",
       "    }\n",
       "\n",
       "    .dataframe tbody tr th {\n",
       "        vertical-align: top;\n",
       "    }\n",
       "\n",
       "    .dataframe thead th {\n",
       "        text-align: right;\n",
       "    }\n",
       "</style>\n",
       "<table border=\"1\" class=\"dataframe\">\n",
       "  <thead>\n",
       "    <tr style=\"text-align: right;\">\n",
       "      <th></th>\n",
       "      <th>incident_name</th>\n",
       "      <th>incident_is_final</th>\n",
       "      <th>incident_date_last_update</th>\n",
       "      <th>incident_date_created</th>\n",
       "      <th>incident_administrative_unit</th>\n",
       "      <th>incident_administrative_unit_url</th>\n",
       "      <th>incident_county</th>\n",
       "      <th>incident_location</th>\n",
       "      <th>incident_acres_burned</th>\n",
       "      <th>incident_containment</th>\n",
       "      <th>...</th>\n",
       "      <th>incident_longitude</th>\n",
       "      <th>incident_latitude</th>\n",
       "      <th>incident_id</th>\n",
       "      <th>incident_url</th>\n",
       "      <th>incident_date_extinguished</th>\n",
       "      <th>incident_dateonly_extinguished</th>\n",
       "      <th>incident_dateonly_created</th>\n",
       "      <th>is_active</th>\n",
       "      <th>calfire_incident</th>\n",
       "      <th>notification_desired</th>\n",
       "    </tr>\n",
       "    <tr>\n",
       "      <th>incident_type</th>\n",
       "      <th></th>\n",
       "      <th></th>\n",
       "      <th></th>\n",
       "      <th></th>\n",
       "      <th></th>\n",
       "      <th></th>\n",
       "      <th></th>\n",
       "      <th></th>\n",
       "      <th></th>\n",
       "      <th></th>\n",
       "      <th></th>\n",
       "      <th></th>\n",
       "      <th></th>\n",
       "      <th></th>\n",
       "      <th></th>\n",
       "      <th></th>\n",
       "      <th></th>\n",
       "      <th></th>\n",
       "      <th></th>\n",
       "      <th></th>\n",
       "      <th></th>\n",
       "    </tr>\n",
       "  </thead>\n",
       "  <tbody>\n",
       "    <tr>\n",
       "      <th>Fire</th>\n",
       "      <td>Refuge FireLine FireWestwood FireLuis FireCoyo...</td>\n",
       "      <td>YYYYYYYYYYYYYYYYYYYYYYYYYYYYY</td>\n",
       "      <td>2022-10-12T08:16:36Z2021-03-31T19:09:07Z2021-0...</td>\n",
       "      <td>2021-03-27T17:02:04Z2021-03-28T14:43:24Z2021-0...</td>\n",
       "      <td>CAL FIRE/Siskiyou unitCAL FIRE Tuolumne-Calave...</td>\n",
       "      <td>0.0</td>\n",
       "      <td>SiskiyouTuolumneVenturaMercedRiversideRiversid...</td>\n",
       "      <td>Lower Klamath Lake Rd and Dorris Brownell RdSh...</td>\n",
       "      <td>221954.0</td>\n",
       "      <td>2800.0</td>\n",
       "      <td>...</td>\n",
       "      <td>-3.463121e+03</td>\n",
       "      <td>1060.805682</td>\n",
       "      <td>762d7abb-ec4e-4e50-9137-617c8445b0d10c3c5916-b...</td>\n",
       "      <td>https://www.fire.ca.gov/incidents/2021/3/27/re...</td>\n",
       "      <td>2021-03-29T17:21:30Z2021-04-05T17:24:38Z2021-0...</td>\n",
       "      <td>2021-03-292021-04-052021-04-242021-06-042021-0...</td>\n",
       "      <td>2021-03-272021-03-282021-04-042021-04-242021-0...</td>\n",
       "      <td>NNNNNNNNNNNNNNNNNNNNNNNNNNNNN</td>\n",
       "      <td>18</td>\n",
       "      <td>0</td>\n",
       "    </tr>\n",
       "    <tr>\n",
       "      <th>Flood</th>\n",
       "      <td>Honey Flooding</td>\n",
       "      <td>Y</td>\n",
       "      <td>2019-07-09T13:45:23Z</td>\n",
       "      <td>2018-11-29T23:30:00Z</td>\n",
       "      <td>CAL FIRE Butte Unit</td>\n",
       "      <td>0.0</td>\n",
       "      <td>Butte</td>\n",
       "      <td>Lower Skyway and Lower Honey Run, Between Chic...</td>\n",
       "      <td>0.0</td>\n",
       "      <td>100.0</td>\n",
       "      <td>...</td>\n",
       "      <td>-1.217738e+02</td>\n",
       "      <td>39.712170</td>\n",
       "      <td>e6b8af54-15fb-42bb-8be9-f323c9d5cc78</td>\n",
       "      <td>https://www.fire.ca.gov/incidents/2018/11/29/h...</td>\n",
       "      <td>2019-01-04T08:42:00Z</td>\n",
       "      <td>2019-01-04</td>\n",
       "      <td>2018-11-29</td>\n",
       "      <td>N</td>\n",
       "      <td>1</td>\n",
       "      <td>0</td>\n",
       "    </tr>\n",
       "    <tr>\n",
       "      <th>Wildfire</th>\n",
       "      <td>Pala FireSand FireWragg FireButte FireAtlas Fi...</td>\n",
       "      <td>YYYYYYYYYYYYYYYYYYYYYYYYYYYYYYYYYYYYYYYYYYYYYY...</td>\n",
       "      <td>2020-09-16T14:07:35Z2022-10-24T11:28:11Z2022-1...</td>\n",
       "      <td>2009-05-24T14:56:00Z2014-07-25T16:34:00Z2015-0...</td>\n",
       "      <td>CAL FIRE San Diego UnitCAL FIRE Amador-El Dora...</td>\n",
       "      <td>0.0</td>\n",
       "      <td>San DiegoAmador, El DoradoNapaButteNapa, Solan...</td>\n",
       "      <td>Hwy 76 and Pala Temecula, northwest of PalaEas...</td>\n",
       "      <td>8579368.0</td>\n",
       "      <td>140412.0</td>\n",
       "      <td>...</td>\n",
       "      <td>-1.191590e+09</td>\n",
       "      <td>53900.450654</td>\n",
       "      <td>8f61f461-552d-4538-b186-35ab030da4164d07ccc3-3...</td>\n",
       "      <td>https://www.fire.ca.gov/incidents/2009/5/24/pa...</td>\n",
       "      <td>2009-05-25T00:00:00Z2014-08-02T19:15:00Z2015-0...</td>\n",
       "      <td>2009-05-252014-08-022015-08-052015-10-152018-0...</td>\n",
       "      <td>2009-05-242014-07-252015-07-222015-09-092017-1...</td>\n",
       "      <td>NNNNNNNNNNNNNNNNNNNNNNNNNNNNNNNNNNNNNNNNNNNNNN...</td>\n",
       "      <td>920</td>\n",
       "      <td>0</td>\n",
       "    </tr>\n",
       "  </tbody>\n",
       "</table>\n",
       "<p>3 rows × 22 columns</p>\n",
       "</div>"
      ],
      "text/plain": [
       "                                                   incident_name  \\\n",
       "incident_type                                                      \n",
       "Fire           Refuge FireLine FireWestwood FireLuis FireCoyo...   \n",
       "Flood                                             Honey Flooding   \n",
       "Wildfire       Pala FireSand FireWragg FireButte FireAtlas Fi...   \n",
       "\n",
       "                                               incident_is_final  \\\n",
       "incident_type                                                      \n",
       "Fire                               YYYYYYYYYYYYYYYYYYYYYYYYYYYYY   \n",
       "Flood                                                          Y   \n",
       "Wildfire       YYYYYYYYYYYYYYYYYYYYYYYYYYYYYYYYYYYYYYYYYYYYYY...   \n",
       "\n",
       "                                       incident_date_last_update  \\\n",
       "incident_type                                                      \n",
       "Fire           2022-10-12T08:16:36Z2021-03-31T19:09:07Z2021-0...   \n",
       "Flood                                       2019-07-09T13:45:23Z   \n",
       "Wildfire       2020-09-16T14:07:35Z2022-10-24T11:28:11Z2022-1...   \n",
       "\n",
       "                                           incident_date_created  \\\n",
       "incident_type                                                      \n",
       "Fire           2021-03-27T17:02:04Z2021-03-28T14:43:24Z2021-0...   \n",
       "Flood                                       2018-11-29T23:30:00Z   \n",
       "Wildfire       2009-05-24T14:56:00Z2014-07-25T16:34:00Z2015-0...   \n",
       "\n",
       "                                    incident_administrative_unit  \\\n",
       "incident_type                                                      \n",
       "Fire           CAL FIRE/Siskiyou unitCAL FIRE Tuolumne-Calave...   \n",
       "Flood                                        CAL FIRE Butte Unit   \n",
       "Wildfire       CAL FIRE San Diego UnitCAL FIRE Amador-El Dora...   \n",
       "\n",
       "               incident_administrative_unit_url  \\\n",
       "incident_type                                     \n",
       "Fire                                        0.0   \n",
       "Flood                                       0.0   \n",
       "Wildfire                                    0.0   \n",
       "\n",
       "                                                 incident_county  \\\n",
       "incident_type                                                      \n",
       "Fire           SiskiyouTuolumneVenturaMercedRiversideRiversid...   \n",
       "Flood                                                      Butte   \n",
       "Wildfire       San DiegoAmador, El DoradoNapaButteNapa, Solan...   \n",
       "\n",
       "                                               incident_location  \\\n",
       "incident_type                                                      \n",
       "Fire           Lower Klamath Lake Rd and Dorris Brownell RdSh...   \n",
       "Flood          Lower Skyway and Lower Honey Run, Between Chic...   \n",
       "Wildfire       Hwy 76 and Pala Temecula, northwest of PalaEas...   \n",
       "\n",
       "               incident_acres_burned  incident_containment  ...  \\\n",
       "incident_type                                               ...   \n",
       "Fire                        221954.0                2800.0  ...   \n",
       "Flood                            0.0                 100.0  ...   \n",
       "Wildfire                   8579368.0              140412.0  ...   \n",
       "\n",
       "              incident_longitude incident_latitude  \\\n",
       "incident_type                                        \n",
       "Fire               -3.463121e+03       1060.805682   \n",
       "Flood              -1.217738e+02         39.712170   \n",
       "Wildfire           -1.191590e+09      53900.450654   \n",
       "\n",
       "                                                     incident_id  \\\n",
       "incident_type                                                      \n",
       "Fire           762d7abb-ec4e-4e50-9137-617c8445b0d10c3c5916-b...   \n",
       "Flood                       e6b8af54-15fb-42bb-8be9-f323c9d5cc78   \n",
       "Wildfire       8f61f461-552d-4538-b186-35ab030da4164d07ccc3-3...   \n",
       "\n",
       "                                                    incident_url  \\\n",
       "incident_type                                                      \n",
       "Fire           https://www.fire.ca.gov/incidents/2021/3/27/re...   \n",
       "Flood          https://www.fire.ca.gov/incidents/2018/11/29/h...   \n",
       "Wildfire       https://www.fire.ca.gov/incidents/2009/5/24/pa...   \n",
       "\n",
       "                                      incident_date_extinguished  \\\n",
       "incident_type                                                      \n",
       "Fire           2021-03-29T17:21:30Z2021-04-05T17:24:38Z2021-0...   \n",
       "Flood                                       2019-01-04T08:42:00Z   \n",
       "Wildfire       2009-05-25T00:00:00Z2014-08-02T19:15:00Z2015-0...   \n",
       "\n",
       "                                  incident_dateonly_extinguished  \\\n",
       "incident_type                                                      \n",
       "Fire           2021-03-292021-04-052021-04-242021-06-042021-0...   \n",
       "Flood                                                 2019-01-04   \n",
       "Wildfire       2009-05-252014-08-022015-08-052015-10-152018-0...   \n",
       "\n",
       "                                       incident_dateonly_created  \\\n",
       "incident_type                                                      \n",
       "Fire           2021-03-272021-03-282021-04-042021-04-242021-0...   \n",
       "Flood                                                 2018-11-29   \n",
       "Wildfire       2009-05-242014-07-252015-07-222015-09-092017-1...   \n",
       "\n",
       "                                                       is_active  \\\n",
       "incident_type                                                      \n",
       "Fire                               NNNNNNNNNNNNNNNNNNNNNNNNNNNNN   \n",
       "Flood                                                          N   \n",
       "Wildfire       NNNNNNNNNNNNNNNNNNNNNNNNNNNNNNNNNNNNNNNNNNNNNN...   \n",
       "\n",
       "              calfire_incident notification_desired  \n",
       "incident_type                                        \n",
       "Fire                        18                    0  \n",
       "Flood                        1                    0  \n",
       "Wildfire                   920                    0  \n",
       "\n",
       "[3 rows x 22 columns]"
      ]
     },
     "execution_count": 199,
     "metadata": {},
     "output_type": "execute_result"
    }
   ],
   "source": [
    "DF_raw.groupby(by='incident_type').sum()"
   ]
  },
  {
   "cell_type": "markdown",
   "id": "0e1f769b-d87d-429a-9de8-c35af020525d",
   "metadata": {},
   "source": [
    "**(Click Here)**\n",
    "\n"
   ]
  },
  {
   "cell_type": "code",
   "execution_count": 201,
   "id": "0388222e-a80b-4392-99cd-3966254c4017",
   "metadata": {},
   "outputs": [
    {
     "data": {
      "application/vnd.plotly.v1+json": {
       "config": {
        "plotlyServerURL": "https://plot.ly"
       },
       "data": [
        {
         "alignmentgroup": "True",
         "bingroup": "x",
         "hovertemplate": "calfire_incident=True<br>incident_acres_burned=%{x}<br>count=%{y}<extra></extra>",
         "legendgroup": "True",
         "marker": {
          "color": "#636efa",
          "pattern": {
           "shape": ""
          }
         },
         "name": "True",
         "nbinsx": 10,
         "offsetgroup": "True",
         "orientation": "v",
         "showlegend": true,
         "type": "histogram",
         "x": [
          257314,
          132127,
          281893,
          229651,
          410203,
          153336,
          396624,
          363220,
          429603
         ],
         "xaxis": "x",
         "yaxis": "y"
        },
        {
         "alignmentgroup": "True",
         "bingroup": "x",
         "hovertemplate": "calfire_incident=False<br>incident_acres_burned=%{x}<br>count=%{y}<extra></extra>",
         "legendgroup": "False",
         "marker": {
          "color": "#EF553B",
          "pattern": {
           "shape": ""
          }
         },
         "name": "False",
         "nbinsx": 10,
         "offsetgroup": "False",
         "orientation": "v",
         "showlegend": true,
         "type": "histogram",
         "x": [
          151623,
          191125,
          1032648,
          379895,
          105670,
          963309,
          122653,
          145632,
          223124,
          199359,
          221835
         ],
         "xaxis": "x",
         "yaxis": "y"
        }
       ],
       "layout": {
        "autosize": false,
        "barmode": "relative",
        "height": 500,
        "legend": {
         "title": {
          "text": "calfire_incident"
         },
         "tracegroupgap": 0
        },
        "margin": {
         "t": 60
        },
        "template": {
         "data": {
          "bar": [
           {
            "error_x": {
             "color": "#2a3f5f"
            },
            "error_y": {
             "color": "#2a3f5f"
            },
            "marker": {
             "line": {
              "color": "#E5ECF6",
              "width": 0.5
             },
             "pattern": {
              "fillmode": "overlay",
              "size": 10,
              "solidity": 0.2
             }
            },
            "type": "bar"
           }
          ],
          "barpolar": [
           {
            "marker": {
             "line": {
              "color": "#E5ECF6",
              "width": 0.5
             },
             "pattern": {
              "fillmode": "overlay",
              "size": 10,
              "solidity": 0.2
             }
            },
            "type": "barpolar"
           }
          ],
          "carpet": [
           {
            "aaxis": {
             "endlinecolor": "#2a3f5f",
             "gridcolor": "white",
             "linecolor": "white",
             "minorgridcolor": "white",
             "startlinecolor": "#2a3f5f"
            },
            "baxis": {
             "endlinecolor": "#2a3f5f",
             "gridcolor": "white",
             "linecolor": "white",
             "minorgridcolor": "white",
             "startlinecolor": "#2a3f5f"
            },
            "type": "carpet"
           }
          ],
          "choropleth": [
           {
            "colorbar": {
             "outlinewidth": 0,
             "ticks": ""
            },
            "type": "choropleth"
           }
          ],
          "contour": [
           {
            "colorbar": {
             "outlinewidth": 0,
             "ticks": ""
            },
            "colorscale": [
             [
              0,
              "#0d0887"
             ],
             [
              0.1111111111111111,
              "#46039f"
             ],
             [
              0.2222222222222222,
              "#7201a8"
             ],
             [
              0.3333333333333333,
              "#9c179e"
             ],
             [
              0.4444444444444444,
              "#bd3786"
             ],
             [
              0.5555555555555556,
              "#d8576b"
             ],
             [
              0.6666666666666666,
              "#ed7953"
             ],
             [
              0.7777777777777778,
              "#fb9f3a"
             ],
             [
              0.8888888888888888,
              "#fdca26"
             ],
             [
              1,
              "#f0f921"
             ]
            ],
            "type": "contour"
           }
          ],
          "contourcarpet": [
           {
            "colorbar": {
             "outlinewidth": 0,
             "ticks": ""
            },
            "type": "contourcarpet"
           }
          ],
          "heatmap": [
           {
            "colorbar": {
             "outlinewidth": 0,
             "ticks": ""
            },
            "colorscale": [
             [
              0,
              "#0d0887"
             ],
             [
              0.1111111111111111,
              "#46039f"
             ],
             [
              0.2222222222222222,
              "#7201a8"
             ],
             [
              0.3333333333333333,
              "#9c179e"
             ],
             [
              0.4444444444444444,
              "#bd3786"
             ],
             [
              0.5555555555555556,
              "#d8576b"
             ],
             [
              0.6666666666666666,
              "#ed7953"
             ],
             [
              0.7777777777777778,
              "#fb9f3a"
             ],
             [
              0.8888888888888888,
              "#fdca26"
             ],
             [
              1,
              "#f0f921"
             ]
            ],
            "type": "heatmap"
           }
          ],
          "heatmapgl": [
           {
            "colorbar": {
             "outlinewidth": 0,
             "ticks": ""
            },
            "colorscale": [
             [
              0,
              "#0d0887"
             ],
             [
              0.1111111111111111,
              "#46039f"
             ],
             [
              0.2222222222222222,
              "#7201a8"
             ],
             [
              0.3333333333333333,
              "#9c179e"
             ],
             [
              0.4444444444444444,
              "#bd3786"
             ],
             [
              0.5555555555555556,
              "#d8576b"
             ],
             [
              0.6666666666666666,
              "#ed7953"
             ],
             [
              0.7777777777777778,
              "#fb9f3a"
             ],
             [
              0.8888888888888888,
              "#fdca26"
             ],
             [
              1,
              "#f0f921"
             ]
            ],
            "type": "heatmapgl"
           }
          ],
          "histogram": [
           {
            "marker": {
             "pattern": {
              "fillmode": "overlay",
              "size": 10,
              "solidity": 0.2
             }
            },
            "type": "histogram"
           }
          ],
          "histogram2d": [
           {
            "colorbar": {
             "outlinewidth": 0,
             "ticks": ""
            },
            "colorscale": [
             [
              0,
              "#0d0887"
             ],
             [
              0.1111111111111111,
              "#46039f"
             ],
             [
              0.2222222222222222,
              "#7201a8"
             ],
             [
              0.3333333333333333,
              "#9c179e"
             ],
             [
              0.4444444444444444,
              "#bd3786"
             ],
             [
              0.5555555555555556,
              "#d8576b"
             ],
             [
              0.6666666666666666,
              "#ed7953"
             ],
             [
              0.7777777777777778,
              "#fb9f3a"
             ],
             [
              0.8888888888888888,
              "#fdca26"
             ],
             [
              1,
              "#f0f921"
             ]
            ],
            "type": "histogram2d"
           }
          ],
          "histogram2dcontour": [
           {
            "colorbar": {
             "outlinewidth": 0,
             "ticks": ""
            },
            "colorscale": [
             [
              0,
              "#0d0887"
             ],
             [
              0.1111111111111111,
              "#46039f"
             ],
             [
              0.2222222222222222,
              "#7201a8"
             ],
             [
              0.3333333333333333,
              "#9c179e"
             ],
             [
              0.4444444444444444,
              "#bd3786"
             ],
             [
              0.5555555555555556,
              "#d8576b"
             ],
             [
              0.6666666666666666,
              "#ed7953"
             ],
             [
              0.7777777777777778,
              "#fb9f3a"
             ],
             [
              0.8888888888888888,
              "#fdca26"
             ],
             [
              1,
              "#f0f921"
             ]
            ],
            "type": "histogram2dcontour"
           }
          ],
          "mesh3d": [
           {
            "colorbar": {
             "outlinewidth": 0,
             "ticks": ""
            },
            "type": "mesh3d"
           }
          ],
          "parcoords": [
           {
            "line": {
             "colorbar": {
              "outlinewidth": 0,
              "ticks": ""
             }
            },
            "type": "parcoords"
           }
          ],
          "pie": [
           {
            "automargin": true,
            "type": "pie"
           }
          ],
          "scatter": [
           {
            "fillpattern": {
             "fillmode": "overlay",
             "size": 10,
             "solidity": 0.2
            },
            "type": "scatter"
           }
          ],
          "scatter3d": [
           {
            "line": {
             "colorbar": {
              "outlinewidth": 0,
              "ticks": ""
             }
            },
            "marker": {
             "colorbar": {
              "outlinewidth": 0,
              "ticks": ""
             }
            },
            "type": "scatter3d"
           }
          ],
          "scattercarpet": [
           {
            "marker": {
             "colorbar": {
              "outlinewidth": 0,
              "ticks": ""
             }
            },
            "type": "scattercarpet"
           }
          ],
          "scattergeo": [
           {
            "marker": {
             "colorbar": {
              "outlinewidth": 0,
              "ticks": ""
             }
            },
            "type": "scattergeo"
           }
          ],
          "scattergl": [
           {
            "marker": {
             "colorbar": {
              "outlinewidth": 0,
              "ticks": ""
             }
            },
            "type": "scattergl"
           }
          ],
          "scattermapbox": [
           {
            "marker": {
             "colorbar": {
              "outlinewidth": 0,
              "ticks": ""
             }
            },
            "type": "scattermapbox"
           }
          ],
          "scatterpolar": [
           {
            "marker": {
             "colorbar": {
              "outlinewidth": 0,
              "ticks": ""
             }
            },
            "type": "scatterpolar"
           }
          ],
          "scatterpolargl": [
           {
            "marker": {
             "colorbar": {
              "outlinewidth": 0,
              "ticks": ""
             }
            },
            "type": "scatterpolargl"
           }
          ],
          "scatterternary": [
           {
            "marker": {
             "colorbar": {
              "outlinewidth": 0,
              "ticks": ""
             }
            },
            "type": "scatterternary"
           }
          ],
          "surface": [
           {
            "colorbar": {
             "outlinewidth": 0,
             "ticks": ""
            },
            "colorscale": [
             [
              0,
              "#0d0887"
             ],
             [
              0.1111111111111111,
              "#46039f"
             ],
             [
              0.2222222222222222,
              "#7201a8"
             ],
             [
              0.3333333333333333,
              "#9c179e"
             ],
             [
              0.4444444444444444,
              "#bd3786"
             ],
             [
              0.5555555555555556,
              "#d8576b"
             ],
             [
              0.6666666666666666,
              "#ed7953"
             ],
             [
              0.7777777777777778,
              "#fb9f3a"
             ],
             [
              0.8888888888888888,
              "#fdca26"
             ],
             [
              1,
              "#f0f921"
             ]
            ],
            "type": "surface"
           }
          ],
          "table": [
           {
            "cells": {
             "fill": {
              "color": "#EBF0F8"
             },
             "line": {
              "color": "white"
             }
            },
            "header": {
             "fill": {
              "color": "#C8D4E3"
             },
             "line": {
              "color": "white"
             }
            },
            "type": "table"
           }
          ]
         },
         "layout": {
          "annotationdefaults": {
           "arrowcolor": "#2a3f5f",
           "arrowhead": 0,
           "arrowwidth": 1
          },
          "autotypenumbers": "strict",
          "coloraxis": {
           "colorbar": {
            "outlinewidth": 0,
            "ticks": ""
           }
          },
          "colorscale": {
           "diverging": [
            [
             0,
             "#8e0152"
            ],
            [
             0.1,
             "#c51b7d"
            ],
            [
             0.2,
             "#de77ae"
            ],
            [
             0.3,
             "#f1b6da"
            ],
            [
             0.4,
             "#fde0ef"
            ],
            [
             0.5,
             "#f7f7f7"
            ],
            [
             0.6,
             "#e6f5d0"
            ],
            [
             0.7,
             "#b8e186"
            ],
            [
             0.8,
             "#7fbc41"
            ],
            [
             0.9,
             "#4d9221"
            ],
            [
             1,
             "#276419"
            ]
           ],
           "sequential": [
            [
             0,
             "#0d0887"
            ],
            [
             0.1111111111111111,
             "#46039f"
            ],
            [
             0.2222222222222222,
             "#7201a8"
            ],
            [
             0.3333333333333333,
             "#9c179e"
            ],
            [
             0.4444444444444444,
             "#bd3786"
            ],
            [
             0.5555555555555556,
             "#d8576b"
            ],
            [
             0.6666666666666666,
             "#ed7953"
            ],
            [
             0.7777777777777778,
             "#fb9f3a"
            ],
            [
             0.8888888888888888,
             "#fdca26"
            ],
            [
             1,
             "#f0f921"
            ]
           ],
           "sequentialminus": [
            [
             0,
             "#0d0887"
            ],
            [
             0.1111111111111111,
             "#46039f"
            ],
            [
             0.2222222222222222,
             "#7201a8"
            ],
            [
             0.3333333333333333,
             "#9c179e"
            ],
            [
             0.4444444444444444,
             "#bd3786"
            ],
            [
             0.5555555555555556,
             "#d8576b"
            ],
            [
             0.6666666666666666,
             "#ed7953"
            ],
            [
             0.7777777777777778,
             "#fb9f3a"
            ],
            [
             0.8888888888888888,
             "#fdca26"
            ],
            [
             1,
             "#f0f921"
            ]
           ]
          },
          "colorway": [
           "#636efa",
           "#EF553B",
           "#00cc96",
           "#ab63fa",
           "#FFA15A",
           "#19d3f3",
           "#FF6692",
           "#B6E880",
           "#FF97FF",
           "#FECB52"
          ],
          "font": {
           "color": "#2a3f5f"
          },
          "geo": {
           "bgcolor": "white",
           "lakecolor": "white",
           "landcolor": "#E5ECF6",
           "showlakes": true,
           "showland": true,
           "subunitcolor": "white"
          },
          "hoverlabel": {
           "align": "left"
          },
          "hovermode": "closest",
          "mapbox": {
           "style": "light"
          },
          "paper_bgcolor": "white",
          "plot_bgcolor": "#E5ECF6",
          "polar": {
           "angularaxis": {
            "gridcolor": "white",
            "linecolor": "white",
            "ticks": ""
           },
           "bgcolor": "#E5ECF6",
           "radialaxis": {
            "gridcolor": "white",
            "linecolor": "white",
            "ticks": ""
           }
          },
          "scene": {
           "xaxis": {
            "backgroundcolor": "#E5ECF6",
            "gridcolor": "white",
            "gridwidth": 2,
            "linecolor": "white",
            "showbackground": true,
            "ticks": "",
            "zerolinecolor": "white"
           },
           "yaxis": {
            "backgroundcolor": "#E5ECF6",
            "gridcolor": "white",
            "gridwidth": 2,
            "linecolor": "white",
            "showbackground": true,
            "ticks": "",
            "zerolinecolor": "white"
           },
           "zaxis": {
            "backgroundcolor": "#E5ECF6",
            "gridcolor": "white",
            "gridwidth": 2,
            "linecolor": "white",
            "showbackground": true,
            "ticks": "",
            "zerolinecolor": "white"
           }
          },
          "shapedefaults": {
           "line": {
            "color": "#2a3f5f"
           }
          },
          "ternary": {
           "aaxis": {
            "gridcolor": "white",
            "linecolor": "white",
            "ticks": ""
           },
           "baxis": {
            "gridcolor": "white",
            "linecolor": "white",
            "ticks": ""
           },
           "bgcolor": "#E5ECF6",
           "caxis": {
            "gridcolor": "white",
            "linecolor": "white",
            "ticks": ""
           }
          },
          "title": {
           "x": 0.05
          },
          "xaxis": {
           "automargin": true,
           "gridcolor": "white",
           "linecolor": "white",
           "ticks": "",
           "title": {
            "standoff": 15
           },
           "zerolinecolor": "white",
           "zerolinewidth": 2
          },
          "yaxis": {
           "automargin": true,
           "gridcolor": "white",
           "linecolor": "white",
           "ticks": "",
           "title": {
            "standoff": 15
           },
           "zerolinecolor": "white",
           "zerolinewidth": 2
          }
         }
        },
        "width": 1000,
        "xaxis": {
         "anchor": "y",
         "autorange": true,
         "domain": [
          0,
          1
         ],
         "range": [
          99999.5,
          1099999.5
         ],
         "title": {
          "text": "incident_acres_burned"
         },
         "type": "linear"
        },
        "yaxis": {
         "anchor": "x",
         "autorange": true,
         "domain": [
          0,
          1
         ],
         "range": [
          0,
          8.421052631578947
         ],
         "title": {
          "text": "count"
         }
        }
       }
      },
      "image/png": "[encoded data removed]",
      "text/html": [
       "<div>                            <div id=\"8aefa3c6-c338-4ec8-9d21-81542a336184\" class=\"plotly-graph-div\" style=\"height:500px; width:1000px;\"></div>            <script type=\"text/javascript\">                require([\"plotly\"], function(Plotly) {                    window.PLOTLYENV=window.PLOTLYENV || {};                                    if (document.getElementById(\"8aefa3c6-c338-4ec8-9d21-81542a336184\")) {                    Plotly.newPlot(                        \"8aefa3c6-c338-4ec8-9d21-81542a336184\",                        [{\"alignmentgroup\":\"True\",\"bingroup\":\"x\",\"hovertemplate\":\"calfire_incident=True\\u003cbr\\u003eincident_acres_burned=%{x}\\u003cbr\\u003ecount=%{y}\\u003cextra\\u003e\\u003c\\u002fextra\\u003e\",\"legendgroup\":\"True\",\"marker\":{\"color\":\"#636efa\",\"pattern\":{\"shape\":\"\"}},\"name\":\"True\",\"nbinsx\":10,\"offsetgroup\":\"True\",\"orientation\":\"v\",\"showlegend\":true,\"x\":[257314.0,132127.0,281893.0,229651.0,410203.0,153336.0,396624.0,363220.0,429603.0],\"xaxis\":\"x\",\"yaxis\":\"y\",\"type\":\"histogram\"},{\"alignmentgroup\":\"True\",\"bingroup\":\"x\",\"hovertemplate\":\"calfire_incident=False\\u003cbr\\u003eincident_acres_burned=%{x}\\u003cbr\\u003ecount=%{y}\\u003cextra\\u003e\\u003c\\u002fextra\\u003e\",\"legendgroup\":\"False\",\"marker\":{\"color\":\"#EF553B\",\"pattern\":{\"shape\":\"\"}},\"name\":\"False\",\"nbinsx\":10,\"offsetgroup\":\"False\",\"orientation\":\"v\",\"showlegend\":true,\"x\":[151623.0,191125.0,1032648.0,379895.0,105670.0,963309.0,122653.0,145632.0,223124.0,199359.0,221835.0],\"xaxis\":\"x\",\"yaxis\":\"y\",\"type\":\"histogram\"}],                        {\"template\":{\"data\":{\"histogram2dcontour\":[{\"type\":\"histogram2dcontour\",\"colorbar\":{\"outlinewidth\":0,\"ticks\":\"\"},\"colorscale\":[[0.0,\"#0d0887\"],[0.1111111111111111,\"#46039f\"],[0.2222222222222222,\"#7201a8\"],[0.3333333333333333,\"#9c179e\"],[0.4444444444444444,\"#bd3786\"],[0.5555555555555556,\"#d8576b\"],[0.6666666666666666,\"#ed7953\"],[0.7777777777777778,\"#fb9f3a\"],[0.8888888888888888,\"#fdca26\"],[1.0,\"#f0f921\"]]}],\"choropleth\":[{\"type\":\"choropleth\",\"colorbar\":{\"outlinewidth\":0,\"ticks\":\"\"}}],\"histogram2d\":[{\"type\":\"histogram2d\",\"colorbar\":{\"outlinewidth\":0,\"ticks\":\"\"},\"colorscale\":[[0.0,\"#0d0887\"],[0.1111111111111111,\"#46039f\"],[0.2222222222222222,\"#7201a8\"],[0.3333333333333333,\"#9c179e\"],[0.4444444444444444,\"#bd3786\"],[0.5555555555555556,\"#d8576b\"],[0.6666666666666666,\"#ed7953\"],[0.7777777777777778,\"#fb9f3a\"],[0.8888888888888888,\"#fdca26\"],[1.0,\"#f0f921\"]]}],\"heatmap\":[{\"type\":\"heatmap\",\"colorbar\":{\"outlinewidth\":0,\"ticks\":\"\"},\"colorscale\":[[0.0,\"#0d0887\"],[0.1111111111111111,\"#46039f\"],[0.2222222222222222,\"#7201a8\"],[0.3333333333333333,\"#9c179e\"],[0.4444444444444444,\"#bd3786\"],[0.5555555555555556,\"#d8576b\"],[0.6666666666666666,\"#ed7953\"],[0.7777777777777778,\"#fb9f3a\"],[0.8888888888888888,\"#fdca26\"],[1.0,\"#f0f921\"]]}],\"heatmapgl\":[{\"type\":\"heatmapgl\",\"colorbar\":{\"outlinewidth\":0,\"ticks\":\"\"},\"colorscale\":[[0.0,\"#0d0887\"],[0.1111111111111111,\"#46039f\"],[0.2222222222222222,\"#7201a8\"],[0.3333333333333333,\"#9c179e\"],[0.4444444444444444,\"#bd3786\"],[0.5555555555555556,\"#d8576b\"],[0.6666666666666666,\"#ed7953\"],[0.7777777777777778,\"#fb9f3a\"],[0.8888888888888888,\"#fdca26\"],[1.0,\"#f0f921\"]]}],\"contourcarpet\":[{\"type\":\"contourcarpet\",\"colorbar\":{\"outlinewidth\":0,\"ticks\":\"\"}}],\"contour\":[{\"type\":\"contour\",\"colorbar\":{\"outlinewidth\":0,\"ticks\":\"\"},\"colorscale\":[[0.0,\"#0d0887\"],[0.1111111111111111,\"#46039f\"],[0.2222222222222222,\"#7201a8\"],[0.3333333333333333,\"#9c179e\"],[0.4444444444444444,\"#bd3786\"],[0.5555555555555556,\"#d8576b\"],[0.6666666666666666,\"#ed7953\"],[0.7777777777777778,\"#fb9f3a\"],[0.8888888888888888,\"#fdca26\"],[1.0,\"#f0f921\"]]}],\"surface\":[{\"type\":\"surface\",\"colorbar\":{\"outlinewidth\":0,\"ticks\":\"\"},\"colorscale\":[[0.0,\"#0d0887\"],[0.1111111111111111,\"#46039f\"],[0.2222222222222222,\"#7201a8\"],[0.3333333333333333,\"#9c179e\"],[0.4444444444444444,\"#bd3786\"],[0.5555555555555556,\"#d8576b\"],[0.6666666666666666,\"#ed7953\"],[0.7777777777777778,\"#fb9f3a\"],[0.8888888888888888,\"#fdca26\"],[1.0,\"#f0f921\"]]}],\"mesh3d\":[{\"type\":\"mesh3d\",\"colorbar\":{\"outlinewidth\":0,\"ticks\":\"\"}}],\"scatter\":[{\"fillpattern\":{\"fillmode\":\"overlay\",\"size\":10,\"solidity\":0.2},\"type\":\"scatter\"}],\"parcoords\":[{\"type\":\"parcoords\",\"line\":{\"colorbar\":{\"outlinewidth\":0,\"ticks\":\"\"}}}],\"scatterpolargl\":[{\"type\":\"scatterpolargl\",\"marker\":{\"colorbar\":{\"outlinewidth\":0,\"ticks\":\"\"}}}],\"bar\":[{\"error_x\":{\"color\":\"#2a3f5f\"},\"error_y\":{\"color\":\"#2a3f5f\"},\"marker\":{\"line\":{\"color\":\"#E5ECF6\",\"width\":0.5},\"pattern\":{\"fillmode\":\"overlay\",\"size\":10,\"solidity\":0.2}},\"type\":\"bar\"}],\"scattergeo\":[{\"type\":\"scattergeo\",\"marker\":{\"colorbar\":{\"outlinewidth\":0,\"ticks\":\"\"}}}],\"scatterpolar\":[{\"type\":\"scatterpolar\",\"marker\":{\"colorbar\":{\"outlinewidth\":0,\"ticks\":\"\"}}}],\"histogram\":[{\"marker\":{\"pattern\":{\"fillmode\":\"overlay\",\"size\":10,\"solidity\":0.2}},\"type\":\"histogram\"}],\"scattergl\":[{\"type\":\"scattergl\",\"marker\":{\"colorbar\":{\"outlinewidth\":0,\"ticks\":\"\"}}}],\"scatter3d\":[{\"type\":\"scatter3d\",\"line\":{\"colorbar\":{\"outlinewidth\":0,\"ticks\":\"\"}},\"marker\":{\"colorbar\":{\"outlinewidth\":0,\"ticks\":\"\"}}}],\"scattermapbox\":[{\"type\":\"scattermapbox\",\"marker\":{\"colorbar\":{\"outlinewidth\":0,\"ticks\":\"\"}}}],\"scatterternary\":[{\"type\":\"scatterternary\",\"marker\":{\"colorbar\":{\"outlinewidth\":0,\"ticks\":\"\"}}}],\"scattercarpet\":[{\"type\":\"scattercarpet\",\"marker\":{\"colorbar\":{\"outlinewidth\":0,\"ticks\":\"\"}}}],\"carpet\":[{\"aaxis\":{\"endlinecolor\":\"#2a3f5f\",\"gridcolor\":\"white\",\"linecolor\":\"white\",\"minorgridcolor\":\"white\",\"startlinecolor\":\"#2a3f5f\"},\"baxis\":{\"endlinecolor\":\"#2a3f5f\",\"gridcolor\":\"white\",\"linecolor\":\"white\",\"minorgridcolor\":\"white\",\"startlinecolor\":\"#2a3f5f\"},\"type\":\"carpet\"}],\"table\":[{\"cells\":{\"fill\":{\"color\":\"#EBF0F8\"},\"line\":{\"color\":\"white\"}},\"header\":{\"fill\":{\"color\":\"#C8D4E3\"},\"line\":{\"color\":\"white\"}},\"type\":\"table\"}],\"barpolar\":[{\"marker\":{\"line\":{\"color\":\"#E5ECF6\",\"width\":0.5},\"pattern\":{\"fillmode\":\"overlay\",\"size\":10,\"solidity\":0.2}},\"type\":\"barpolar\"}],\"pie\":[{\"automargin\":true,\"type\":\"pie\"}]},\"layout\":{\"autotypenumbers\":\"strict\",\"colorway\":[\"#636efa\",\"#EF553B\",\"#00cc96\",\"#ab63fa\",\"#FFA15A\",\"#19d3f3\",\"#FF6692\",\"#B6E880\",\"#FF97FF\",\"#FECB52\"],\"font\":{\"color\":\"#2a3f5f\"},\"hovermode\":\"closest\",\"hoverlabel\":{\"align\":\"left\"},\"paper_bgcolor\":\"white\",\"plot_bgcolor\":\"#E5ECF6\",\"polar\":{\"bgcolor\":\"#E5ECF6\",\"angularaxis\":{\"gridcolor\":\"white\",\"linecolor\":\"white\",\"ticks\":\"\"},\"radialaxis\":{\"gridcolor\":\"white\",\"linecolor\":\"white\",\"ticks\":\"\"}},\"ternary\":{\"bgcolor\":\"#E5ECF6\",\"aaxis\":{\"gridcolor\":\"white\",\"linecolor\":\"white\",\"ticks\":\"\"},\"baxis\":{\"gridcolor\":\"white\",\"linecolor\":\"white\",\"ticks\":\"\"},\"caxis\":{\"gridcolor\":\"white\",\"linecolor\":\"white\",\"ticks\":\"\"}},\"coloraxis\":{\"colorbar\":{\"outlinewidth\":0,\"ticks\":\"\"}},\"colorscale\":{\"sequential\":[[0.0,\"#0d0887\"],[0.1111111111111111,\"#46039f\"],[0.2222222222222222,\"#7201a8\"],[0.3333333333333333,\"#9c179e\"],[0.4444444444444444,\"#bd3786\"],[0.5555555555555556,\"#d8576b\"],[0.6666666666666666,\"#ed7953\"],[0.7777777777777778,\"#fb9f3a\"],[0.8888888888888888,\"#fdca26\"],[1.0,\"#f0f921\"]],\"sequentialminus\":[[0.0,\"#0d0887\"],[0.1111111111111111,\"#46039f\"],[0.2222222222222222,\"#7201a8\"],[0.3333333333333333,\"#9c179e\"],[0.4444444444444444,\"#bd3786\"],[0.5555555555555556,\"#d8576b\"],[0.6666666666666666,\"#ed7953\"],[0.7777777777777778,\"#fb9f3a\"],[0.8888888888888888,\"#fdca26\"],[1.0,\"#f0f921\"]],\"diverging\":[[0,\"#8e0152\"],[0.1,\"#c51b7d\"],[0.2,\"#de77ae\"],[0.3,\"#f1b6da\"],[0.4,\"#fde0ef\"],[0.5,\"#f7f7f7\"],[0.6,\"#e6f5d0\"],[0.7,\"#b8e186\"],[0.8,\"#7fbc41\"],[0.9,\"#4d9221\"],[1,\"#276419\"]]},\"xaxis\":{\"gridcolor\":\"white\",\"linecolor\":\"white\",\"ticks\":\"\",\"title\":{\"standoff\":15},\"zerolinecolor\":\"white\",\"automargin\":true,\"zerolinewidth\":2},\"yaxis\":{\"gridcolor\":\"white\",\"linecolor\":\"white\",\"ticks\":\"\",\"title\":{\"standoff\":15},\"zerolinecolor\":\"white\",\"automargin\":true,\"zerolinewidth\":2},\"scene\":{\"xaxis\":{\"backgroundcolor\":\"#E5ECF6\",\"gridcolor\":\"white\",\"linecolor\":\"white\",\"showbackground\":true,\"ticks\":\"\",\"zerolinecolor\":\"white\",\"gridwidth\":2},\"yaxis\":{\"backgroundcolor\":\"#E5ECF6\",\"gridcolor\":\"white\",\"linecolor\":\"white\",\"showbackground\":true,\"ticks\":\"\",\"zerolinecolor\":\"white\",\"gridwidth\":2},\"zaxis\":{\"backgroundcolor\":\"#E5ECF6\",\"gridcolor\":\"white\",\"linecolor\":\"white\",\"showbackground\":true,\"ticks\":\"\",\"zerolinecolor\":\"white\",\"gridwidth\":2}},\"shapedefaults\":{\"line\":{\"color\":\"#2a3f5f\"}},\"annotationdefaults\":{\"arrowcolor\":\"#2a3f5f\",\"arrowhead\":0,\"arrowwidth\":1},\"geo\":{\"bgcolor\":\"white\",\"landcolor\":\"#E5ECF6\",\"subunitcolor\":\"white\",\"showland\":true,\"showlakes\":true,\"lakecolor\":\"white\"},\"title\":{\"x\":0.05},\"mapbox\":{\"style\":\"light\"}}},\"xaxis\":{\"anchor\":\"y\",\"domain\":[0.0,1.0],\"title\":{\"text\":\"incident_acres_burned\"}},\"yaxis\":{\"anchor\":\"x\",\"domain\":[0.0,1.0],\"title\":{\"text\":\"count\"}},\"legend\":{\"title\":{\"text\":\"calfire_incident\"},\"tracegroupgap\":0},\"margin\":{\"t\":60},\"barmode\":\"relative\",\"autosize\":false,\"width\":1000,\"height\":500},                        {\"responsive\": true}                    ).then(function(){\n",
       "                            \n",
       "var gd = document.getElementById('8aefa3c6-c338-4ec8-9d21-81542a336184');\n",
       "var x = new MutationObserver(function (mutations, observer) {{\n",
       "        var display = window.getComputedStyle(gd).display;\n",
       "        if (!display || display === 'none') {{\n",
       "            console.log([gd, 'removed!']);\n",
       "            Plotly.purge(gd);\n",
       "            observer.disconnect();\n",
       "        }}\n",
       "}});\n",
       "\n",
       "// Listen for the removal of the full notebook cells\n",
       "var notebookContainer = gd.closest('#notebook-container');\n",
       "if (notebookContainer) {{\n",
       "    x.observe(notebookContainer, {childList: true});\n",
       "}}\n",
       "\n",
       "// Listen for the clearing of the current output cell\n",
       "var outputEl = gd.closest('.output');\n",
       "if (outputEl) {{\n",
       "    x.observe(outputEl, {childList: true});\n",
       "}}\n",
       "\n",
       "                        })                };                });            </script>        </div>"
      ]
     },
     "metadata": {},
     "output_type": "display_data"
    }
   ],
   "source": [
    "# Extra Code\n",
    "mask = DF_raw[ 'incident_acres_burned' ] < 1000000\n",
    "mask = DF_raw[ 'incident_acres_burned' ] > 100000\n",
    "DF_new = DF_raw[mask]\n",
    "fig = px.histogram(DF_new,\n",
    "                   x = 'incident_acres_burned',\n",
    "                  nbins = 10,\n",
    "                  color = 'calfire_incident')\n",
    "fig.update_layout(autosize = False,\n",
    "                  width = 1000,\n",
    "                  height = 500)\n",
    "fig.show()\n"
   ]
  },
  {
   "cell_type": "markdown",
   "id": "fa09683e-ac6a-4cb5-a47d-6cbf580524d2",
   "metadata": {},
   "source": [
    "## Try reading in some data from Wikipedia - html\n",
    "\n",
    "Here we will explore academy award winning films. Go to the [Wiki for the List of Academy Award Winning Films](https://en.wikipedia.org/wiki/List_of_Academy_Award%E2%80%93winning_films). Look at what type of data is there. How many tables? Any weird looking data?\n",
    "\n",
    "Now read the html data into Python and show the data in DF[0]"
   ]
  },
  {
   "cell_type": "code",
   "execution_count": null,
   "id": "849a3c43-f5fb-4f2c-abb2-2bb0486b3344",
   "metadata": {},
   "outputs": [],
   "source": []
  },
  {
   "cell_type": "code",
   "execution_count": 203,
   "id": "7822c202-f226-4a55-ae1f-eceacc81531f",
   "metadata": {},
   "outputs": [
    {
     "data": {
      "text/html": [
       "<table id=\"itables_7b1f9655_b890_43f8_9156_0a0571d54cf3\" class=\"display nowrap\" data-quarto-disable-processing=\"true\" style=\"table-layout:auto;width:auto;margin:auto;caption-side:bottom\">\n",
       "<thead>\n",
       "    <tr style=\"text-align: right;\">\n",
       "      \n",
       "      <th>Film</th>\n",
       "      <th>Year</th>\n",
       "      <th>Awards</th>\n",
       "      <th>Nominations</th>\n",
       "    </tr>\n",
       "  </thead><tbody><tr>\n",
       "<td style=\"vertical-align:middle; text-align:left\">\n",
       "<div style=\"float:left; margin-right: 10px;\">\n",
       "<a href=https://mwouts.github.io/itables/><svg class=\"main-svg\" xmlns=\"http://www.w3.org/2000/svg\" xmlns:xlink=\"http://www.w3.org/1999/xlink\"\n",
       "width=\"64\" viewBox=\"0 0 500 400\" style=\"font-family: 'Droid Sans', sans-serif;\">\n",
       "    <g style=\"fill:#d9d7fc\">\n",
       "        <path d=\"M100,400H500V357H100Z\" />\n",
       "        <path d=\"M100,300H400V257H100Z\" />\n",
       "        <path d=\"M0,200H400V157H0Z\" />\n",
       "        <path d=\"M100,100H500V57H100Z\" />\n",
       "        <path d=\"M100,350H500V307H100Z\" />\n",
       "        <path d=\"M100,250H400V207H100Z\" />\n",
       "        <path d=\"M0,150H400V107H0Z\" />\n",
       "        <path d=\"M100,50H500V7H100Z\" />\n",
       "    </g>\n",
       "    <g style=\"fill:#1a1366;stroke:#1a1366;\">\n",
       "   <rect x=\"100\" y=\"7\" width=\"400\" height=\"43\">\n",
       "    <animate\n",
       "      attributeName=\"width\"\n",
       "      values=\"0;400;0\"\n",
       "      dur=\"5s\"\n",
       "      repeatCount=\"indefinite\" />\n",
       "      <animate\n",
       "      attributeName=\"x\"\n",
       "      values=\"100;100;500\"\n",
       "      dur=\"5s\"\n",
       "      repeatCount=\"indefinite\" />\n",
       "  </rect>\n",
       "        <rect x=\"0\" y=\"107\" width=\"400\" height=\"43\">\n",
       "    <animate\n",
       "      attributeName=\"width\"\n",
       "      values=\"0;400;0\"\n",
       "      dur=\"3.5s\"\n",
       "      repeatCount=\"indefinite\" />\n",
       "    <animate\n",
       "      attributeName=\"x\"\n",
       "      values=\"0;0;400\"\n",
       "      dur=\"3.5s\"\n",
       "      repeatCount=\"indefinite\" />\n",
       "  </rect>\n",
       "        <rect x=\"100\" y=\"207\" width=\"300\" height=\"43\">\n",
       "    <animate\n",
       "      attributeName=\"width\"\n",
       "      values=\"0;300;0\"\n",
       "      dur=\"3s\"\n",
       "      repeatCount=\"indefinite\" />\n",
       "    <animate\n",
       "      attributeName=\"x\"\n",
       "      values=\"100;100;400\"\n",
       "      dur=\"3s\"\n",
       "      repeatCount=\"indefinite\" />\n",
       "  </rect>\n",
       "        <rect x=\"100\" y=\"307\" width=\"400\" height=\"43\">\n",
       "    <animate\n",
       "      attributeName=\"width\"\n",
       "      values=\"0;400;0\"\n",
       "      dur=\"4s\"\n",
       "      repeatCount=\"indefinite\" />\n",
       "      <animate\n",
       "      attributeName=\"x\"\n",
       "      values=\"100;100;500\"\n",
       "      dur=\"4s\"\n",
       "      repeatCount=\"indefinite\" />\n",
       "  </rect>\n",
       "        <g style=\"fill:transparent;stroke-width:8; stroke-linejoin:round\" rx=\"5\">\n",
       "            <g transform=\"translate(45 50) rotate(-45)\">\n",
       "                <circle r=\"33\" cx=\"0\" cy=\"0\" />\n",
       "                <rect x=\"-8\" y=\"32\" width=\"16\" height=\"30\" />\n",
       "            </g>\n",
       "\n",
       "            <g transform=\"translate(450 152)\">\n",
       "                <polyline points=\"-15,-20 -35,-20 -35,40 25,40 25,20\" />\n",
       "                <rect x=\"-15\" y=\"-40\" width=\"60\" height=\"60\" />\n",
       "            </g>\n",
       "\n",
       "            <g transform=\"translate(50 352)\">\n",
       "                <polygon points=\"-35,-5 0,-40 35,-5\" />\n",
       "                <polygon points=\"-35,10 0,45 35,10\" />\n",
       "            </g>\n",
       "\n",
       "            <g transform=\"translate(75 250)\">\n",
       "                <polyline points=\"-30,30 -60,0 -30,-30\" />\n",
       "                <polyline points=\"0,30 -30,0 0,-30\" />\n",
       "            </g>\n",
       "\n",
       "            <g transform=\"translate(425 250) rotate(180)\">\n",
       "                <polyline points=\"-30,30 -60,0 -30,-30\" />\n",
       "                <polyline points=\"0,30 -30,0 0,-30\" />\n",
       "            </g>\n",
       "        </g>\n",
       "    </g>\n",
       "</svg>\n",
       "</a>\n",
       "</div>\n",
       "<div>\n",
       "Loading ITables v2.1.4 from the internet...\n",
       "(need <a href=https://mwouts.github.io/itables/troubleshooting.html>help</a>?)</td>\n",
       "</div>\n",
       "</tr></tbody>\n",
       "\n",
       "</table>\n",
       "<link href=\"https://www.unpkg.com/dt_for_itables@2.0.11/dt_bundle.css\" rel=\"stylesheet\">\n",
       "<script type=\"module\">\n",
       "    import {DataTable, jQuery as $} from 'https://www.unpkg.com/dt_for_itables@2.0.11/dt_bundle.js';\n",
       "\n",
       "    document.querySelectorAll(\"#itables_7b1f9655_b890_43f8_9156_0a0571d54cf3:not(.dataTable)\").forEach(table => {\n",
       "        // Define the table data\n",
       "        const data = [[\"Oppenheimer\", \"2023\", \"7\", \"13\"], [\"Poor Things\", \"2023\", \"4\", \"11\"], [\"The Zone of Interest\", \"2023\", \"2\", \"5\"], [\"American Fiction\", \"2023\", \"1\", \"5\"], [\"Anatomy of a Fall\", \"2023\", \"1\", \"5\"], [\"Barbie\", \"2023\", \"1\", \"8\"], [\"The Boy and the Heron\", \"2023\", \"1\", \"1\"], [\"Godzilla Minus One\", \"2023\", \"1\", \"1\"], [\"The Holdovers\", \"2023\", \"1\", \"5\"], [\"The Last Repair Shop\", \"2023\", \"1\", \"1\"], [\"20 Days in Mariupol\", \"2023\", \"1\", \"1\"], [\"War Is Over! Inspired by the Music of John and Yoko\", \"2023\", \"1\", \"1\"], [\"The Wonderful Story of Henry Sugar\", \"2023\", \"1\", \"1\"], [\"Everything Everywhere All at Once\", \"2022\", \"7\", \"11\"], [\"All Quiet on the Western Front\", \"2022\", \"4\", \"9\"], [\"The Whale\", \"2022\", \"2\", \"3\"], [\"Top Gun: Maverick\", \"2022\", \"1\", \"6\"], [\"Black Panther: Wakanda Forever\", \"2022\", \"1\", \"5\"], [\"Avatar: The Way of Water\", \"2022\", \"1\", \"4\"], [\"Women Talking\", \"2022\", \"1\", \"2\"], [\"Guillermo del Toro's Pinocchio\", \"2022\", \"1\", \"1\"], [\"Navalny\", \"2022\", \"1\", \"1\"], [\"The Elephant Whisperers\", \"2022\", \"1\", \"1\"], [\"An Irish Goodbye\", \"2022\", \"1\", \"1\"], [\"The Boy, the Mole, the Fox and the Horse\", \"2022\", \"1\", \"1\"], [\"RRR\", \"2022\", \"1\", \"1\"], [\"CODA\", \"2021\", \"3\", \"3\"], [\"Dune\", \"2021\", \"6\", \"10\"], [\"The Eyes of Tammy Faye\", \"2021\", \"2\", \"2\"], [\"No Time to Die\", \"2021\", \"1\", \"3\"], [\"The Windshield Wiper\", \"2021\", \"1\", \"1\"], [\"The Long Goodbye\", \"2021\", \"1\", \"1\"], [\"The Queen of Basketball\", \"2021\", \"1\", \"1\"], [\"Summer of Soul\", \"2021\", \"1\", \"1\"], [\"Drive My Car\", \"2021\", \"1\", \"4\"], [\"Encanto\", \"2021\", \"1\", \"3\"], [\"West Side Story\", \"2021\", \"1\", \"7\"], [\"Belfast\", \"2021\", \"1\", \"7\"], [\"The Power of the Dog\", \"2021\", \"1\", \"12\"], [\"King Richard\", \"2021\", \"1\", \"6\"], [\"Cruella\", \"2021\", \"1\", \"2\"], [\"Nomadland\", \"2020/21\", \"3\", \"6\"], [\"The Father\", \"2020/21\", \"2\", \"6\"], [\"Judas and the Black Messiah\", \"2020/21\", \"2\", \"6\"], [\"Minari\", \"2020/21\", \"1\", \"6\"], [\"Mank\", \"2020/21\", \"2\", \"10\"], [\"Sound of Metal\", \"2020/21\", \"2\", \"6\"], [\"Ma Rainey's Black Bottom\", \"2020/21\", \"2\", \"5\"], [\"Promising Young Woman\", \"2020/21\", \"1\", \"5\"], [\"Tenet\", \"2020/21\", \"1\", \"2\"], [\"Soul\", \"2020/21\", \"2\", \"3\"], [\"Another Round\", \"2020/21\", \"1\", \"2\"], [\"My Octopus Teacher\", \"2020/21\", \"1\", \"1\"], [\"Colette\", \"2020/21\", \"1\", \"1\"], [\"If Anything Happens I Love You\", \"2020/21\", \"1\", \"1\"], [\"Two Distant Strangers\", \"2020/21\", \"1\", \"1\"], [\"Parasite\", \"2019\", \"4\", \"6\"], [\"Ford v Ferrari\", \"2019\", \"2\", \"4\"], [\"Learning to Skateboard in a Warzone (If You're a Girl)\", \"2019\", \"1\", \"1\"], [\"The Neighbors' Window\", \"2019\", \"1\", \"1\"], [\"Little Women\", \"2019\", \"1\", \"6\"], [\"Marriage Story\", \"2019\", \"1\", \"6\"], [\"Jojo Rabbit\", \"2019\", \"1\", \"6\"], [\"Toy Story 4\", \"2019\", \"1\", \"2\"], [\"Joker\", \"2019\", \"2\", \"11\"], [\"Once Upon a Time in Hollywood\", \"2019\", \"2\", \"10\"], [\"1917\", \"2019\", \"3\", \"10\"], [\"Judy\", \"2019\", \"1\", \"2\"], [\"Bombshell\", \"2019\", \"1\", \"3\"], [\"Rocketman\", \"2019\", \"1\", \"1\"], [\"American Factory\", \"2019\", \"1\", \"1\"], [\"Hair Love\", \"2019\", \"1\", \"1\"], [\"Green Book\", \"2018\", \"3\", \"5\"], [\"Bohemian Rhapsody\", \"2018\", \"4\", \"5\"], [\"Roma\", \"2018\", \"3\", \"10\"], [\"Black Panther\", \"2018\", \"3\", \"7\"], [\"The Favourite\", \"2018\", \"1\", \"10\"], [\"A Star Is Born\", \"2018\", \"1\", \"8\"], [\"Vice\", \"2018\", \"1\", \"8\"], [\"BlacKkKlansman\", \"2018\", \"1\", \"6\"], [\"First Man\", \"2018\", \"1\", \"4\"], [\"If Beale Street Could Talk\", \"2018\", \"1\", \"3\"], [\"Bao\", \"2018\", \"1\", \"1\"], [\"Free Solo\", \"2018\", \"1\", \"1\"], [\"Period. End of Sentence.\", \"2018\", \"1\", \"1\"], [\"Skin\", \"2018\", \"1\", \"1\"], [\"Spider-Man: Into the Spider-Verse\", \"2018\", \"1\", \"1\"], [\"The Shape of Water\", \"2017\", \"4\", \"13\"], [\"Dunkirk\", \"2017\", \"3\", \"8\"], [\"Three Billboards Outside Ebbing, Missouri\", \"2017\", \"2\", \"7\"], [\"Darkest Hour\", \"2017\", \"2\", \"6\"], [\"Blade Runner 2049\", \"2017\", \"2\", \"5\"], [\"Coco\", \"2017\", \"2\", \"2\"], [\"Phantom Thread\", \"2017\", \"1\", \"6\"], [\"Call Me by Your Name\", \"2017\", \"1\", \"4\"], [\"Get Out\", \"2017\", \"1\", \"4\"], [\"I, Tonya\", \"2017\", \"1\", \"3\"], [\"Dear Basketball\", \"2017\", \"1\", \"1\"], [\"A Fantastic Woman\", \"2017\", \"1\", \"1\"], [\"Heaven Is a Traffic Jam on the 405\", \"2017\", \"1\", \"1\"], [\"Icarus\", \"2017\", \"1\", \"1\"], [\"The Silent Child\", \"2017\", \"1\", \"1\"], [\"Flesh and Sand (Carne y arena)\", \"2017\", \"0 (1)[1]\", \"0\"], [\"Moonlight\", \"2016\", \"3\", \"8\"], [\"La La Land\", \"2016\", \"6\", \"14\"], [\"Hacksaw Ridge\", \"2016\", \"2\", \"6\"], [\"Manchester by the Sea\", \"2016\", \"2\", \"6\"], [\"Arrival\", \"2016\", \"1\", \"8\"], [\"Fences\", \"2016\", \"1\", \"4\"], [\"Fantastic Beasts and Where to Find Them\", \"2016\", \"1\", \"2\"], [\"The Jungle Book\", \"2016\", \"1\", \"1\"], [\"O.J.: Made in America\", \"2016\", \"1\", \"1\"], [\"Piper\", \"2016\", \"1\", \"1\"], [\"The Salesman\", \"2016\", \"1\", \"1\"], [\"Sing\", \"2016\", \"1\", \"1\"], [\"Suicide Squad\", \"2016\", \"1\", \"1\"], [\"The White Helmets\", \"2016\", \"1\", \"1\"], [\"Zootopia\", \"2016\", \"1\", \"1\"], [\"Spotlight\", \"2015\", \"2\", \"6\"], [\"Mad Max: Fury Road\", \"2015\", \"6\", \"10\"], [\"The Revenant\", \"2015\", \"3\", \"12\"], [\"Bridge of Spies\", \"2015\", \"1\", \"6\"], [\"The Big Short\", \"2015\", \"1\", \"5\"], [\"The Danish Girl\", \"2015\", \"1\", \"4\"], [\"Room\", \"2015\", \"1\", \"4\"], [\"The Hateful Eight\", \"2015\", \"1\", \"3\"], [\"Ex Machina\", \"2015\", \"1\", \"2\"], [\"Inside Out\", \"2015\", \"1\", \"2\"], [\"Amy\", \"2015\", \"1\", \"1\"], [\"Bear Story\", \"2015\", \"1\", \"1\"], [\"A Girl in the River: The Price of Forgiveness\", \"2015\", \"1\", \"1\"], [\"Son of Saul\", \"2015\", \"1\", \"1\"], [\"Spectre\", \"2015\", \"1\", \"1\"], [\"Stutterer\", \"2015\", \"1\", \"1\"], [\"Birdman or (The Unexpected Virtue of Ignorance)\", \"2014\", \"4\", \"9\"], [\"The Grand Budapest Hotel\", \"2014\", \"4\", \"9\"], [\"Whiplash\", \"2014\", \"3\", \"5\"], [\"The Imitation Game\", \"2014\", \"1\", \"8\"], [\"American Sniper\", \"2014\", \"1\", \"6\"], [\"Boyhood\", \"2014\", \"1\", \"6\"], [\"Interstellar\", \"2014\", \"1\", \"5\"], [\"The Theory of Everything\", \"2014\", \"1\", \"5\"], [\"Ida\", \"2014\", \"1\", \"2\"], [\"Selma\", \"2014\", \"1\", \"2\"], [\"Citizenfour\", \"2014\", \"1\", \"1\"], [\"Big Hero 6\", \"2014\", \"1\", \"1\"], [\"Crisis Hotline: Veterans Press 1\", \"2014\", \"1\", \"1\"], [\"The Phone Call\", \"2014\", \"1\", \"1\"], [\"Still Alice\", \"2014\", \"1\", \"1\"], [\"Feast\", \"2014\", \"1\", \"1\"], [\"12 Years a Slave\", \"2013\", \"3\", \"9\"], [\"Gravity\", \"2013\", \"7\", \"10\"], [\"Dallas Buyers Club\", \"2013\", \"3\", \"6\"], [\"Frozen\", \"2013\", \"2\", \"2\"], [\"The Great Gatsby\", \"2013\", \"2\", \"2\"], [\"Her\", \"2013\", \"1\", \"5\"], [\"Blue Jasmine\", \"2013\", \"1\", \"3\"], [\"Mr Hublot\", \"2013\", \"1\", \"1\"], [\"The Lady in Number 6\", \"2013\", \"1\", \"1\"], [\"Helium\", \"2013\", \"1\", \"1\"], [\"The Great Beauty\", \"2013\", \"1\", \"1\"], [\"20 Feet from Stardom\", \"2013\", \"1\", \"1\"], [\"Argo\", \"2012\", \"3\", \"7\"], [\"Life of Pi\", \"2012\", \"4\", \"11\"], [\"Les Mis\\u00e9rables\", \"2012\", \"3\", \"8\"], [\"Lincoln\", \"2012\", \"2\", \"12\"], [\"Django Unchained\", \"2012\", \"2\", \"5\"], [\"Skyfall\", \"2012\", \"2\", \"5\"], [\"Silver Linings Playbook\", \"2012\", \"1\", \"8\"], [\"Zero Dark Thirty\", \"2012\", \"1\", \"5\"], [\"Amour\", \"2012\", \"1\", \"5\"], [\"Anna Karenina\", \"2012\", \"1\", \"4\"], [\"Paperman\", \"2012\", \"1\", \"1\"], [\"Brave\", \"2012\", \"1\", \"1\"], [\"Searching for Sugar Man\", \"2012\", \"1\", \"1\"], [\"Inocente\", \"2012\", \"1\", \"1\"], [\"Curfew\", \"2012\", \"1\", \"1\"], [\"The Artist\", \"2011\", \"5\", \"10\"], [\"Hugo\", \"2011\", \"5\", \"11\"], [\"The Iron Lady\", \"2011\", \"2\", \"2\"], [\"The Descendants\", \"2011\", \"1\", \"5\"], [\"The Girl with the Dragon Tattoo\", \"2011\", \"1\", \"5\"], [\"Midnight in Paris\", \"2011\", \"1\", \"4\"], [\"The Help\", \"2011\", \"1\", \"4\"], [\"A Separation\", \"2011\", \"1\", \"2\"], [\"The Fantastic Flying Books of Mr. Morris Lessmore\", \"2011\", \"1\", \"1\"], [\"The Shore\", \"2011\", \"1\", \"1\"], [\"Undefeated\", \"2011\", \"1\", \"1\"], [\"The Muppets\", \"2011\", \"1\", \"1\"], [\"Saving Face\", \"2011\", \"1\", \"1\"], [\"Beginners\", \"2011\", \"1\", \"1\"], [\"Rango\", \"2011\", \"1\", \"1\"], [\"The King's Speech\", \"2010\", \"4\", \"12\"], [\"Inception\", \"2010\", \"4\", \"8\"], [\"The Social Network\", \"2010\", \"3\", \"8\"], [\"The Fighter\", \"2010\", \"2\", \"7\"], [\"Toy Story 3\", \"2010\", \"2\", \"5\"], [\"Alice in Wonderland\", \"2010\", \"2\", \"3\"], [\"Black Swan\", \"2010\", \"1\", \"5\"], [\"In a Better World\", \"2010\", \"1\", \"1\"], [\"The Lost Thing\", \"2010\", \"1\", \"1\"], [\"God of Love\", \"2010\", \"1\", \"1\"], [\"The Wolfman\", \"2010\", \"1\", \"1\"], [\"Strangers No More\", \"2010\", \"1\", \"1\"], [\"Inside Job\", \"2010\", \"1\", \"1\"], [\"The Hurt Locker\", \"2009\", \"6\", \"9\"], [\"Avatar\", \"2009\", \"3\", \"9\"], [\"Precious\", \"2009\", \"2\", \"6\"], [\"Up\", \"2009\", \"2\", \"5\"], [\"Crazy Heart\", \"2009\", \"2\", \"3\"], [\"Inglourious Basterds\", \"2009\", \"1\", \"8\"], [\"Star Trek\", \"2009\", \"1\", \"4\"], [\"The Young Victoria\", \"2009\", \"1\", \"3\"], [\"The Blind Side\", \"2009\", \"1\", \"2\"], [\"Music by Prudence\", \"2009\", \"1\", \"1\"], [\"The Secret in Their Eyes\", \"2009\", \"1\", \"1\"], [\"The Cove\", \"2009\", \"1\", \"1\"], [\"The New Tenants\", \"2009\", \"1\", \"1\"], [\"Logorama\", \"2009\", \"1\", \"1\"], [\"Slumdog Millionaire\", \"2008\", \"8\", \"10\"], [\"The Curious Case of Benjamin Button\", \"2008\", \"3\", \"13\"], [\"Milk\", \"2008\", \"2\", \"8\"], [\"The Dark Knight\", \"2008\", \"2\", \"8\"], [\"WALL-E\", \"2008\", \"1\", \"6\"], [\"The Reader\", \"2008\", \"1\", \"5\"], [\"The Duchess\", \"2008\", \"1\", \"2\"], [\"Departures\", \"2008\", \"1\", \"1\"], [\"Vicky Cristina Barcelona\", \"2008\", \"1\", \"1\"], [\"Smile Pinki\", \"2008\", \"1\", \"1\"], [\"Man on Wire\", \"2008\", \"1\", \"1\"], [\"Toyland\", \"2008\", \"1\", \"1\"], [\"La Maison en Petits Cubes\", \"2008\", \"1\", \"1\"], [\"No Country for Old Men\", \"2007\", \"4\", \"8\"], [\"The Bourne Ultimatum\", \"2007\", \"3\", \"3\"], [\"There Will Be Blood\", \"2007\", \"2\", \"8\"], [\"La Vie en rose\", \"2007\", \"2\", \"3\"], [\"Atonement\", \"2007\", \"1\", \"7\"], [\"Michael Clayton\", \"2007\", \"1\", \"7\"], [\"Ratatouille\", \"2007\", \"1\", \"5\"], [\"Juno\", \"2007\", \"1\", \"4\"], [\"Sweeney Todd: The Demon Barber of Fleet Street\", \"2007\", \"1\", \"3\"], [\"The Golden Compass\", \"2007\", \"1\", \"2\"], [\"Elizabeth: The Golden Age\", \"2007\", \"1\", \"2\"], [\"Taxi to the Dark Side\", \"2007\", \"1\", \"1\"], [\"Peter & the Wolf\", \"2007\", \"1\", \"1\"], [\"Once\", \"2007\", \"1\", \"1\"], [\"Le Mozart des pickpockets\", \"2007\", \"1\", \"1\"], [\"The Counterfeiters (Die F\\u00e4lscher)\", \"2007\", \"1\", \"1\"], [\"Freeheld\", \"2007\", \"1\", \"1\"], [\"The Departed\", \"2006\", \"4\", \"5\"], [\"Pan's Labyrinth (El laberinto del fauno)\", \"2006\", \"3\", \"6\"], [\"Dreamgirls\", \"2006\", \"2\", \"8\"], [\"Little Miss Sunshine\", \"2006\", \"2\", \"4\"], [\"An Inconvenient Truth\", \"2006\", \"2\", \"2\"], [\"Babel\", \"2006\", \"1\", \"7\"], [\"The Queen\", \"2006\", \"1\", \"6\"], [\"Letters from Iwo Jima\", \"2006\", \"1\", \"4\"], [\"Pirates of the Caribbean: Dead Man's Chest\", \"2006\", \"1\", \"4\"], [\"The Danish Poet\", \"2006\", \"1\", \"1\"], [\"Happy Feet\", \"2006\", \"1\", \"1\"], [\"The Last King of Scotland\", \"2006\", \"1\", \"1\"], [\"The Lives of Others (Das Leben der Anderen)\", \"2006\", \"1\", \"1\"], [\"Marie Antoinette\", \"2006\", \"1\", \"1\"], [\"West Bank Story\", \"2006\", \"1\", \"1\"], [\"The Blood of Yingzhou District\", \"2006\", \"1\", \"1\"], [\"Crash\", \"2005\", \"3\", \"6\"], [\"Brokeback Mountain\", \"2005\", \"3\", \"8\"], [\"Memoirs of a Geisha\", \"2005\", \"3\", \"6\"], [\"King Kong\", \"2005\", \"3\", \"4\"], [\"Capote\", \"2005\", \"1\", \"5\"], [\"Walk the Line\", \"2005\", \"1\", \"5\"], [\"The Constant Gardener\", \"2005\", \"1\", \"4\"], [\"The Chronicles of Narnia: The Lion, the Witch and the Wardrobe\", \"2005\", \"1\", \"3\"], [\"Hustle & Flow\", \"2005\", \"1\", \"2\"], [\"Syriana\", \"2005\", \"1\", \"2\"], [\"March of the Penguins (La Marche de l'empereur)\", \"2005\", \"1\", \"1\"], [\"Six Shooter\", \"2005\", \"1\", \"1\"], [\"The Moon and the Son: An Imagined Conversation\", \"2005\", \"1\", \"1\"], [\"A Note of Triumph: The Golden Age of Norman Corwin\", \"2005\", \"1\", \"1\"], [\"Tsotsi\", \"2005\", \"1\", \"1\"], [\"Wallace & Gromit: The Curse of the Were-Rabbit\", \"2005\", \"1\", \"1\"], [\"Million Dollar Baby\", \"2004\", \"4\", \"7\"], [\"The Aviator\", \"2004\", \"5\", \"11\"], [\"Ray\", \"2004\", \"2\", \"6\"], [\"The Incredibles\", \"2004\", \"2\", \"4\"], [\"Finding Neverland\", \"2004\", \"1\", \"7\"], [\"Sideways\", \"2004\", \"1\", \"5\"], [\"Lemony Snicket's A Series of Unfortunate Events\", \"2004\", \"1\", \"4\"], [\"Spider-Man 2\", \"2004\", \"1\", \"3\"], [\"Eternal Sunshine of the Spotless Mind\", \"2004\", \"1\", \"2\"], [\"The Motorcycle Diaries\", \"2004\", \"1\", \"2\"], [\"The Sea Inside\", \"2004\", \"1\", \"2\"], [\"Born into Brothels\", \"2004\", \"1\", \"1\"], [\"Mighty Times: The Children's March\", \"2004\", \"1\", \"1\"], [\"Wasp\", \"2004\", \"1\", \"1\"], [\"Ryan\", \"2004\", \"1\", \"1\"], [\"The Lord of the Rings: The Return of the King\", \"2003\", \"11\", \"11\"], [\"Master and Commander: The Far Side of the World\", \"2003\", \"2\", \"10\"], [\"Mystic River\", \"2003\", \"2\", \"6\"], [\"Cold Mountain\", \"2003\", \"1\", \"7\"], [\"Lost in Translation\", \"2003\", \"1\", \"4\"], [\"Finding Nemo\", \"2003\", \"1\", \"4\"], [\"The Barbarian Invasions\", \"2003\", \"1\", \"2\"], [\"Two Soldiers\", \"2003\", \"1\", \"1\"], [\"Monster\", \"2003\", \"1\", \"1\"], [\"Harvie Krumpet\", \"2003\", \"1\", \"1\"], [\"Chernobyl Heart\", \"2003\", \"1\", \"1\"], [\"The Fog of War\", \"2003\", \"1\", \"1\"], [\"Chicago\", \"2002\", \"6\", \"13\"], [\"The Pianist\", \"2002\", \"3\", \"7\"], [\"The Lord of the Rings: The Two Towers\", \"2002\", \"2\", \"6\"], [\"Frida\", \"2002\", \"2\", \"6\"], [\"The Hours\", \"2002\", \"1\", \"9\"], [\"Road to Perdition\", \"2002\", \"1\", \"6\"], [\"Adaptation\", \"2002\", \"1\", \"4\"], [\"Talk to Her (Hable con ella)\", \"2002\", \"1\", \"2\"], [\"This Charming Man (Der Er En Yndig Mand)\", \"2002\", \"1\", \"1\"], [\"Spirited Away\", \"2002\", \"1\", \"1\"], [\"Nowhere in Africa (Nirgendwo in Afrika)\", \"2002\", \"1\", \"1\"], [\"The ChubbChubbs!\", \"2002\", \"1\", \"1\"], [\"Twin Towers\", \"2002\", \"1\", \"1\"], [\"Bowling for Columbine\", \"2002\", \"1\", \"1\"], [\"8 Mile\", \"2002\", \"1\", \"1\"], [\"A Beautiful Mind\", \"2001\", \"4\", \"8\"], [\"The Lord of the Rings: The Fellowship of the Ring\", \"2001\", \"4\", \"13\"], [\"Moulin Rouge!\", \"2001\", \"2\", \"8\"], [\"Black Hawk Down\", \"2001\", \"2\", \"4\"], [\"Gosford Park\", \"2001\", \"1\", \"7\"], [\"Monsters, Inc.\", \"2001\", \"1\", \"4\"], [\"Pearl Harbor\", \"2001\", \"1\", \"4\"], [\"Iris\", \"2001\", \"1\", \"3\"], [\"Shrek\", \"2001\", \"1\", \"2\"], [\"Training Day\", \"2001\", \"1\", \"2\"], [\"Monster's Ball\", \"2001\", \"1\", \"2\"], [\"Thoth\", \"2001\", \"1\", \"1\"], [\"For the Birds\", \"2001\", \"1\", \"1\"], [\"No Man's Land\", \"2001\", \"1\", \"1\"], [\"Murder on a Sunday Morning (Un coupable id\\u00e9al)\", \"2001\", \"1\", \"1\"], [\"The Accountant\", \"2001\", \"1\", \"1\"], [\"Gladiator\", \"2000\", \"5\", \"12\"], [\"Crouching Tiger, Hidden Dragon\", \"2000\", \"4\", \"10\"], [\"Traffic\", \"2000\", \"4\", \"5\"], [\"Erin Brockovich\", \"2000\", \"1\", \"5\"], [\"Almost Famous\", \"2000\", \"1\", \"4\"], [\"Wonder Boys\", \"2000\", \"1\", \"3\"], [\"How the Grinch Stole Christmas\", \"2000\", \"1\", \"3\"], [\"U-571\", \"2000\", \"1\", \"2\"], [\"Pollock\", \"2000\", \"1\", \"2\"], [\"Father and Daughter\", \"2000\", \"1\", \"1\"], [\"Into the Arms of Strangers: Stories of the Kindertransport\", \"2000\", \"1\", \"1\"], [\"Quiero ser (I want to be...)\", \"2000\", \"1\", \"1\"], [\"Big Mama\", \"2000\", \"1\", \"1\"], [\"American Beauty\", \"1999\", \"5\", \"8\"], [\"The Matrix\", \"1999\", \"4\", \"4\"], [\"The Cider House Rules\", \"1999\", \"2\", \"7\"], [\"Topsy-Turvy\", \"1999\", \"2\", \"4\"], [\"Sleepy Hollow\", \"1999\", \"1\", \"3\"], [\"Boys Don't Cry\", \"1999\", \"1\", \"2\"], [\"Tarzan\", \"1999\", \"1\", \"1\"], [\"One Day in September\", \"1999\", \"1\", \"1\"], [\"The Red Violin (Le violon rouge)\", \"1999\", \"1\", \"1\"], [\"The Old Man and the Sea\", \"1999\", \"1\", \"1\"], [\"My Mother Dreams the Satan's Disciples in New York\", \"1999\", \"1\", \"1\"], [\"King Gimp\", \"1999\", \"1\", \"1\"], [\"Girl, Interrupted\", \"1999\", \"1\", \"1\"], [\"All About My Mother (Todo sobre mi madre)\", \"1999\", \"1\", \"1\"], [\"Shakespeare in Love\", \"1998\", \"7\", \"13\"], [\"Saving Private Ryan\", \"1998\", \"5\", \"11\"], [\"Life Is Beautiful (La vita \\u00e8 bella)\", \"1998\", \"3\", \"7\"], [\"Elizabeth\", \"1998\", \"1\", \"7\"], [\"Gods and Monsters\", \"1998\", \"1\", \"3\"], [\"The Prince of Egypt\", \"1998\", \"1\", \"2\"], [\"Affliction\", \"1998\", \"1\", \"2\"], [\"What Dreams May Come\", \"1998\", \"1\", \"2\"], [\"The Personals\", \"1998\", \"1\", \"1\"], [\"The Last Days\", \"1998\", \"1\", \"1\"], [\"Election Night (Valgaften)\", \"1998\", \"1\", \"1\"], [\"Bunny\", \"1998\", \"1\", \"1\"], [\"Titanic\", \"1997\", \"11\", \"14\"], [\"Good Will Hunting\", \"1997\", \"2\", \"9\"], [\"L.A. Confidential\", \"1997\", \"2\", \"9\"], [\"As Good as It Gets\", \"1997\", \"2\", \"7\"], [\"The Full Monty\", \"1997\", \"1\", \"4\"], [\"Men in Black\", \"1997\", \"1\", \"3\"], [\"Visas and Virtue\", \"1997\", \"1\", \"1\"], [\"Character (Karakter)\", \"1997\", \"1\", \"1\"], [\"Geri's Game\", \"1997\", \"1\", \"1\"], [\"A Story of Healing\", \"1997\", \"1\", \"1\"], [\"The Long Way Home\", \"1997\", \"1\", \"1\"], [\"The English Patient\", \"1996\", \"9\", \"12\"], [\"Fargo\", \"1996\", \"2\", \"7\"], [\"Shine\", \"1996\", \"1\", \"7\"], [\"Evita\", \"1996\", \"1\", \"5\"], [\"Jerry Maguire\", \"1996\", \"1\", \"5\"], [\"Independence Day\", \"1996\", \"1\", \"2\"], [\"Emma\", \"1996\", \"1\", \"2\"], [\"Sling Blade\", \"1996\", \"1\", \"2\"], [\"The Ghost and the Darkness\", \"1996\", \"1\", \"1\"], [\"Kolya\", \"1996\", \"1\", \"1\"], [\"The Nutty Professor\", \"1996\", \"1\", \"1\"], [\"Quest\", \"1996\", \"1\", \"1\"], [\"When We Were Kings\", \"1996\", \"1\", \"1\"], [\"Breathing Lessons: The Life and Work of Mark O'Brien\", \"1996\", \"1\", \"1\"], [\"Dear Diary\", \"1996\", \"1\", \"1\"], [\"Braveheart\", \"1995\", \"5\", \"10\"], [\"Apollo 13\", \"1995\", \"2\", \"9\"], [\"Pocahontas\", \"1995\", \"2\", \"2\"], [\"The Usual Suspects\", \"1995\", \"2\", \"2\"], [\"Restoration\", \"1995\", \"2\", \"2\"], [\"Babe\", \"1995\", \"1\", \"7\"], [\"Sense and Sensibility\", \"1995\", \"1\", \"7\"], [\"Il Postino: The Postman\", \"1995\", \"1\", \"5\"], [\"Dead Man Walking\", \"1995\", \"1\", \"4\"], [\"Leaving Las Vegas\", \"1995\", \"1\", \"4\"], [\"Mighty Aphrodite\", \"1995\", \"1\", \"2\"], [\"Anne Frank Remembered\", \"1995\", \"1\", \"1\"], [\"A Close Shave\", \"1995\", \"1\", \"1\"], [\"Lieberman in Love\", \"1995\", \"1\", \"1\"], [\"One Survivor Remembers\", \"1995\", \"1\", \"1\"], [\"Antonia's Line (Antonia)\", \"1995\", \"1\", \"1\"], [\"Toy Story\", \"1995\", \"0 (1)\", \"3\"], [\"Forrest Gump\", \"1994\", \"6\", \"13\"], [\"The Lion King\", \"1994\", \"2\", \"4\"], [\"Speed\", \"1994\", \"2\", \"3\"], [\"Ed Wood\", \"1994\", \"2\", \"2\"], [\"Pulp Fiction\", \"1994\", \"1\", \"7\"], [\"Bullets Over Broadway\", \"1994\", \"1\", \"7\"], [\"The Madness of King George\", \"1994\", \"1\", \"4\"], [\"Legends of the Fall\", \"1994\", \"1\", \"3\"], [\"A Time for Justice\", \"1994\", \"1\", \"1\"], [\"Franz Kafka's It's a Wonderful Life\", \"1994\", \"1\", \"1\"], [\"Maya Lin: A Strong Clear Vision\", \"1994\", \"1\", \"1\"], [\"Burnt by the Sun (Utomlyonnye solntsem)\", \"1994\", \"1\", \"1\"], [\"Trevor\", \"1994\", \"1\", \"1\"], [\"The Adventures of Priscilla, Queen of the Desert\", \"1994\", \"1\", \"1\"], [\"Bob's Birthday\", \"1994\", \"1\", \"1\"], [\"Blue Sky\", \"1994\", \"1\", \"1\"], [\"Schindler's List\", \"1993\", \"7\", \"12\"], [\"The Piano\", \"1993\", \"3\", \"8\"], [\"Jurassic Park\", \"1993\", \"3\", \"3\"], [\"Philadelphia\", \"1993\", \"2\", \"5\"], [\"The Fugitive\", \"1993\", \"1\", \"7\"], [\"The Age of Innocence\", \"1993\", \"1\", \"5\"], [\"The Wrong Trousers\", \"1993\", \"1\", \"1\"], [\"Belle Epoque (The Beautiful Era)\", \"1993\", \"1\", \"1\"], [\"I Am a Promise: The Children of Stanton Elementary School\", \"1993\", \"1\", \"1\"], [\"Mrs. Doubtfire\", \"1993\", \"1\", \"1\"], [\"Black Rider (Schwarzfahrer)\", \"1993\", \"1\", \"1\"], [\"Defending Our Lives\", \"1993\", \"1\", \"1\"], [\"Unforgiven\", \"1992\", \"4\", \"9\"], [\"Howards End\", \"1992\", \"3\", \"9\"], [\"Bram Stoker's Dracula\", \"1992\", \"3\", \"4\"], [\"Aladdin\", \"1992\", \"2\", \"5\"], [\"The Crying Game\", \"1992\", \"1\", \"6\"], [\"Scent of a Woman\", \"1992\", \"1\", \"4\"], [\"A River Runs Through It\", \"1992\", \"1\", \"3\"], [\"Indochine\", \"1992\", \"1\", \"2\"], [\"My Cousin Vinny\", \"1992\", \"1\", \"1\"], [\"The Panama Deception\", \"1992\", \"1\", \"1\"], [\"Educating Peter\", \"1992\", \"1\", \"1\"], [\"The Last of the Mohicans\", \"1992\", \"1\", \"1\"], [\"Death Becomes Her\", \"1992\", \"1\", \"1\"], [\"Omnibus\", \"1992\", \"1\", \"1\"], [\"Mona Lisa Descending a Staircase\", \"1992\", \"1\", \"1\"], [\"The Silence of the Lambs\", \"1991\", \"5\", \"7\"], [\"Terminator 2: Judgment Day\", \"1991\", \"4\", \"6\"], [\"Bugsy\", \"1991\", \"2\", \"10\"], [\"JFK\", \"1991\", \"2\", \"8\"], [\"Beauty and the Beast\", \"1991\", \"2\", \"6\"], [\"Thelma & Louise\", \"1991\", \"1\", \"6\"], [\"The Fisher King\", \"1991\", \"1\", \"5\"], [\"In the Shadow of the Stars\", \"1991\", \"1\", \"1\"], [\"Manipulation\", \"1991\", \"1\", \"1\"], [\"Mediterraneo\", \"1991\", \"1\", \"1\"], [\"Session Man\", \"1991\", \"1\", \"1\"], [\"City Slickers\", \"1991\", \"1\", \"1\"], [\"Deadly Deception: General Electric, Nuclear Weapons and Our Environment\", \"1991\", \"1\", \"1\"], [\"Dances with Wolves\", \"1990\", \"7\", \"12\"], [\"Dick Tracy\", \"1990\", \"3\", \"7\"], [\"Ghost\", \"1990\", \"2\", \"5\"], [\"Goodfellas\", \"1990\", \"1\", \"6\"], [\"The Hunt for Red October\", \"1990\", \"1\", \"3\"], [\"Reversal of Fortune\", \"1990\", \"1\", \"3\"], [\"Cyrano de Bergerac\", \"1990\", \"1\", \"5\"], [\"American Dream\", \"1990\", \"1\", \"1\"], [\"Journey of Hope (Reise der Hoffnung)\", \"1990\", \"1\", \"1\"], [\"Days of Waiting\", \"1990\", \"1\", \"1\"], [\"Creature Comforts\", \"1990\", \"1\", \"1\"], [\"The Lunch Date\", \"1990\", \"1\", \"1\"], [\"Misery\", \"1990\", \"1\", \"1\"], [\"Total Recall\", \"1990\", \"0 (1)\", \"2\"], [\"Driving Miss Daisy\", \"1989\", \"4\", \"9\"], [\"Glory\", \"1989\", \"3\", \"5\"], [\"Born on the Fourth of July\", \"1989\", \"2\", \"8\"], [\"My Left Foot\", \"1989\", \"2\", \"5\"], [\"The Little Mermaid\", \"1989\", \"2\", \"3\"], [\"Dead Poets Society\", \"1989\", \"1\", \"4\"], [\"The Abyss\", \"1989\", \"1\", \"4\"], [\"Indiana Jones and the Last Crusade\", \"1989\", \"1\", \"3\"], [\"Henry V\", \"1989\", \"1\", \"3\"], [\"The Johnstown Flood\", \"1989\", \"1\", \"1\"], [\"Common Threads: Stories from the Quilt\", \"1989\", \"1\", \"1\"], [\"Cinema Paradiso\", \"1989\", \"1\", \"1\"], [\"Work Experience\", \"1989\", \"1\", \"1\"], [\"Batman\", \"1989\", \"1\", \"1\"], [\"Balance\", \"1989\", \"1\", \"1\"], [\"Rain Man\", \"1988\", \"4\", \"8\"], [\"Dangerous Liaisons\", \"1988\", \"3\", \"7\"], [\"Who Framed Roger Rabbit\", \"1988\", \"3 (1)\", \"6\"], [\"Mississippi Burning\", \"1988\", \"1\", \"7\"], [\"Working Girl\", \"1988\", \"1\", \"6\"], [\"The Accidental Tourist\", \"1988\", \"1\", \"4\"], [\"A Fish Called Wanda\", \"1988\", \"1\", \"3\"], [\"Pelle the Conqueror (Pelle erobreren)\", \"1988\", \"1\", \"2\"], [\"The Accused\", \"1988\", \"1\", \"1\"], [\"The Appointments of Dennis Jennings\", \"1988\", \"1\", \"1\"], [\"Beetlejuice\", \"1988\", \"1\", \"1\"], [\"Bird\", \"1988\", \"1\", \"1\"], [\"H\\u00f4tel Terminus: The Life and Times of Klaus Barbie\", \"1988\", \"1\", \"1\"], [\"The Milagro Beanfield War\", \"1988\", \"1\", \"1\"], [\"Tin Toy\", \"1988\", \"1\", \"1\"], [\"You Don't Have to Die\", \"1988\", \"1\", \"1\"], [\"The Last Emperor\", \"1987\", \"9\", \"9\"], [\"Moonstruck\", \"1987\", \"3\", \"6\"], [\"The Untouchables\", \"1987\", \"1\", \"4\"], [\"Babette's Feast (Babettes g\\u00e6stebud)\", \"1987\", \"1\", \"1\"], [\"Dirty Dancing\", \"1987\", \"1\", \"1\"], [\"Harry and the Hendersons\", \"1987\", \"1\", \"1\"], [\"Innerspace\", \"1987\", \"1\", \"1\"], [\"The Man Who Planted Trees (L' Homme qui plantait des arbres)\", \"1987\", \"1\", \"1\"], [\"Ray's Male Heterosexual Dance Hall\", \"1987\", \"1\", \"1\"], [\"The Ten-Year Lunch\", \"1987\", \"1\", \"1\"], [\"Wall Street\", \"1987\", \"1\", \"1\"], [\"Young at Heart\", \"1987\", \"1\", \"1\"], [\"RoboCop\", \"1987\", \"0 (1)\", \"2\"], [\"Platoon\", \"1986\", \"4\", \"8\"], [\"A Room with a View\", \"1986\", \"3\", \"8\"], [\"Hannah and Her Sisters\", \"1986\", \"3\", \"7\"], [\"Aliens\", \"1986\", \"2\", \"7\"], [\"The Mission\", \"1986\", \"1\", \"7\"], [\"Children of a Lesser God\", \"1986\", \"1\", \"5\"], [\"The Color of Money\", \"1986\", \"1\", \"4\"], [\"Top Gun\", \"1986\", \"1\", \"4\"], [\"Round Midnight\", \"1986\", \"1\", \"2\"], [\"Artie Shaw: Time Is All You've Got\", \"1986\", \"1\", \"1\"], [\"The Assault (De Aanslag)\", \"1986\", \"1\", \"1\"], [\"Down and Out in America\", \"1986\", \"1\", \"1\"], [\"The Fly\", \"1986\", \"1\", \"1\"], [\"A Greek Tragedy\", \"1986\", \"1\", \"1\"], [\"Precious Images\", \"1986\", \"1\", \"1\"], [\"Women \\u2013 for America, for the World\", \"1986\", \"1\", \"1\"], [\"Out of Africa\", \"1985\", \"7\", \"11\"], [\"Witness\", \"1985\", \"2\", \"8\"], [\"Cocoon\", \"1985\", \"2\", \"2\"], [\"Prizzi's Honor\", \"1985\", \"1\", \"8\"], [\"Back to the Future\", \"1985\", \"1\", \"4\"], [\"Kiss of the Spider Woman\", \"1985\", \"1\", \"4\"], [\"Ran\", \"1985\", \"1\", \"4\"], [\"The Official Story (La Historia Oficial)\", \"1985\", \"1\", \"2\"], [\"The Trip to Bountiful\", \"1985\", \"1\", \"2\"], [\"White Nights\", \"1985\", \"1\", \"2\"], [\"Anna & Bella\", \"1985\", \"1\", \"1\"], [\"Broken Rainbow\", \"1985\", \"1\", \"1\"], [\"Mask\", \"1985\", \"1\", \"1\"], [\"Molly's Pilgrim\", \"1985\", \"1\", \"1\"], [\"Witness to War: Dr. Charlie Clements\", \"1985\", \"1\", \"1\"], [\"Amadeus\", \"1984\", \"8\", \"11\"], [\"The Killing Fields\", \"1984\", \"3\", \"7\"], [\"A Passage to India\", \"1984\", \"2\", \"11\"], [\"Places in the Heart\", \"1984\", \"2\", \"7\"], [\"Indiana Jones and the Temple of Doom\", \"1984\", \"1\", \"2\"], [\"Charade\", \"1984\", \"1\", \"1\"], [\"Dangerous Moves (La Diagonale du fou)\", \"1984\", \"1\", \"1\"], [\"Purple Rain\", \"1984\", \"1\", \"1\"], [\"The Stone Carvers\", \"1984\", \"1\", \"1\"], [\"The Times of Harvey Milk\", \"1984\", \"1\", \"1\"], [\"Up\", \"1984\", \"1\", \"1\"], [\"The Woman in Red\", \"1984\", \"1\", \"1\"], [\"The River\", \"1984\", \"0 (1)\", \"4\"], [\"Terms of Endearment\", \"1983\", \"5\", \"11\"], [\"The Right Stuff\", \"1983\", \"4\", \"8\"], [\"Fanny & Alexander (Fanny och Alexander)\", \"1983\", \"4\", \"6\"], [\"Tender Mercies\", \"1983\", \"2\", \"5\"], [\"Yentl\", \"1983\", \"1\", \"5\"], [\"Flashdance\", \"1983\", \"1\", \"4\"], [\"Boys and Girls\", \"1983\", \"1\", \"1\"], [\"Flamenco at 5:15\", \"1983\", \"1\", \"1\"], [\"He Makes Me Feel Like Dancin'\", \"1983\", \"1\", \"1\"], [\"Sundae in New York\", \"1983\", \"1\", \"1\"], [\"The Year of Living Dangerously\", \"1983\", \"1\", \"1\"], [\"Return of the Jedi\", \"1983\", \"0 (1)\", \"4\"], [\"Gandhi\", \"1982\", \"8\", \"11\"], [\"E.T.: The Extra-Terrestrial\", \"1982\", \"4\", \"9\"], [\"An Officer and a Gentleman\", \"1982\", \"2\", \"6\"], [\"Tootsie\", \"1982\", \"1\", \"10\"], [\"Victor/Victoria\", \"1982\", \"1\", \"7\"], [\"Sophie's Choice\", \"1982\", \"1\", \"5\"], [\"Missing\", \"1982\", \"1\", \"4\"], [\"If You Love This Planet\", \"1982\", \"1\", \"1\"], [\"Just Another Missing Kid\", \"1982\", \"1\", \"1[2]\"], [\"A Shocking Accident\", \"1982\", \"1\", \"1\"], [\"Tango\", \"1982\", \"1\", \"1\"], [\"To Begin Again (Volver a empezar)\", \"1982\", \"1\", \"1\"], [\"Quest for Fire\", \"1982\", \"1\", \"1\"], [\"Chariots of Fire\", \"1981\", \"4\", \"7\"], [\"Raiders of the Lost Ark\", \"1981\", \"4 (1)\", \"8\"], [\"Reds\", \"1981\", \"3\", \"12\"], [\"On Golden Pond\", \"1981\", \"3\", \"10\"], [\"Arthur\", \"1981\", \"2\", \"4\"], [\"An American Werewolf in London\", \"1981\", \"1\", \"1\"], [\"Close Harmony\", \"1981\", \"1\", \"1\"], [\"Crac\", \"1981\", \"1\", \"1\"], [\"Genocide\", \"1981\", \"1\", \"1\"], [\"Mephisto\", \"1981\", \"1\", \"1\"], [\"Violet\", \"1981\", \"1\", \"1\"], [\"Ordinary People\", \"1980\", \"4\", \"6\"], [\"Tess\", \"1980\", \"3\", \"6\"], [\"Raging Bull\", \"1980\", \"2\", \"8\"], [\"Fame\", \"1980\", \"2\", \"6\"], [\"Melvin and Howard\", \"1980\", \"2\", \"3\"], [\"Coal Miner's Daughter\", \"1980\", \"1\", \"7\"], [\"The Empire Strikes Back\", \"1980\", \"1 (1)\", \"3\"], [\"The Dollar Bottom\", \"1980\", \"1\", \"1\"], [\"The Fly (A L\\u00e9gy)\", \"1980\", \"1\", \"1\"], [\"From Mao to Mozart: Isaac Stern in China\", \"1980\", \"1\", \"1\"], [\"Karl Hess: Toward Liberty\", \"1980\", \"1\", \"1\"], [\"Moscow Does Not Believe in Tears\", \"1980\", \"1\", \"1\"], [\"Kramer vs. Kramer\", \"1979\", \"5\", \"9\"], [\"All That Jazz\", \"1979\", \"4\", \"9\"], [\"Apocalypse Now\", \"1979\", \"2\", \"8\"], [\"Norma Rae\", \"1979\", \"2\", \"4\"], [\"Breaking Away\", \"1979\", \"1\", \"5\"], [\"Alien\", \"1979\", \"1\", \"2\"], [\"Being There\", \"1979\", \"1\", \"2\"], [\"A Little Romance\", \"1979\", \"1\", \"2\"], [\"Best Boy\", \"1979\", \"1\", \"1\"], [\"Board and Care\", \"1979\", \"1\", \"1\"], [\"Every Child\", \"1979\", \"1\", \"1\"], [\"Paul Robeson: Tribute to an Artist\", \"1979\", \"1\", \"1\"], [\"The Tin Drum (Die Blechtrommel)\", \"1979\", \"1\", \"1\"], [\"The Black Stallion\", \"1979\", \"0 (1)\", \"2\"], [\"The Deer Hunter\", \"1978\", \"5\", \"9\"], [\"Coming Home\", \"1978\", \"3\", \"8\"], [\"Midnight Express\", \"1978\", \"2\", \"6\"], [\"Heaven Can Wait\", \"1978\", \"1\", \"9\"], [\"Days of Heaven\", \"1978\", \"1\", \"4\"], [\"California Suite\", \"1978\", \"1\", \"3\"], [\"The Buddy Holly Story\", \"1978\", \"1\", \"3\"], [\"Death on the Nile\", \"1978\", \"1\", \"1\"], [\"The Flight of the Gossamer Condor\", \"1978\", \"1\", \"1\"], [\"Get Out Your Handkerchiefs (Pr\\u00e9parez vos mouchoirs)\", \"1978\", \"1\", \"1\"], [\"Scared Straight!\", \"1978\", \"1\", \"1\"], [\"Special Delivery\", \"1978\", \"1\", \"1\"], [\"Teenage Father\", \"1978\", \"1\", \"1\"], [\"Thank God It's Friday\", \"1978\", \"1\", \"1\"], [\"Superman\", \"1978\", \"0 (1)\", \"3\"], [\"Annie Hall\", \"1977\", \"4\", \"5\"], [\"Star Wars\", \"1977\", \"6 (1)\", \"10\"], [\"Julia\", \"1977\", \"3\", \"11\"], [\"Close Encounters of the Third Kind\", \"1977\", \"1 (1)\", \"8\"], [\"The Goodbye Girl\", \"1977\", \"1\", \"5\"], [\"A Little Night Music\", \"1977\", \"1\", \"2\"], [\"Gravity Is My Enemy\", \"1977\", \"1\", \"1\"], [\"I'll Find a Way\", \"1977\", \"1\", \"1\"], [\"Madame Rosa (La Vie devant soi)\", \"1977\", \"1\", \"1\"], [\"The Sand Castle (Le Ch\\u00e2teau de sable)\", \"1977\", \"1\", \"1\"], [\"Who Are the DeBolts? And Where Did They Get Nineteen Kids?\", \"1977\", \"1\", \"1\"], [\"You Light Up My Life\", \"1977\", \"1\", \"1\"], [\"Rocky\", \"1976\", \"3\", \"10\"], [\"Network\", \"1976\", \"4\", \"10\"], [\"All the President's Men\", \"1976\", \"4\", \"8\"], [\"Bound for Glory\", \"1976\", \"2\", \"6\"], [\"A Star Is Born\", \"1976\", \"1\", \"4\"], [\"Fellini's Casanova (Il Casanova di Federico Fellini)\", \"1976\", \"1\", \"2\"], [\"The Omen\", \"1976\", \"1\", \"2\"], [\"Black and White in Color (Noirs et blancs en couleur)\", \"1976\", \"1\", \"1\"], [\"Harlan County, USA\", \"1976\", \"1\", \"1\"], [\"In the Region of Ice\", \"1976\", \"1\", \"1\"], [\"Leisure\", \"1976\", \"1\", \"1\"], [\"Number Our Days\", \"1976\", \"1\", \"1\"], [\"King Kong\", \"1976\", \"0 (1)\", \"2\"], [\"Logan's Run\", \"1976\", \"0 (1)\", \"2\"], [\"One Flew Over the Cuckoo's Nest\", \"1975\", \"5\", \"9\"], [\"Barry Lyndon\", \"1975\", \"4\", \"7\"], [\"Jaws\", \"1975\", \"3\", \"4\"], [\"Dog Day Afternoon\", \"1975\", \"1\", \"6\"], [\"Nashville\", \"1975\", \"1\", \"5\"], [\"Shampoo\", \"1975\", \"1\", \"4\"], [\"The Sunshine Boys\", \"1975\", \"1\", \"4\"], [\"Angel and Big Joe\", \"1975\", \"1\", \"1\"], [\"Dersu Uzala\", \"1975\", \"1\", \"1\"], [\"The End of the Game\", \"1975\", \"1\", \"1\"], [\"Great (Great (Isambard Kingdom Brunel))\", \"1975\", \"1\", \"1\"], [\"The Man Who Skied Down Everest\", \"1975\", \"1\", \"1\"], [\"The Hindenburg\", \"1975\", \"0 (2)\", \"3\"], [\"The Godfather: Part II\", \"1974\", \"6\", \"11\"], [\"The Towering Inferno\", \"1974\", \"3\", \"8\"], [\"The Great Gatsby\", \"1974\", \"2\", \"2\"], [\"Chinatown\", \"1974\", \"1\", \"11\"], [\"Murder on the Orient Express\", \"1974\", \"1\", \"6\"], [\"Earthquake\", \"1974\", \"1 (1)\", \"4\"], [\"Alice Doesn't Live Here Anymore\", \"1974\", \"1\", \"3\"], [\"Amarcord\", \"1974\", \"1\", \"3[3]\"], [\"Harry and Tonto\", \"1974\", \"1\", \"2\"], [\"Closed Mondays\", \"1974\", \"1\", \"1\"], [\"Don't\", \"1974\", \"1\", \"1\"], [\"Hearts and Minds\", \"1974\", \"1\", \"1\"], [\"One-Eyed Men Are Kings (...borgnes sont rois, Les)\", \"1974\", \"1\", \"1\"], [\"The Sting\", \"1973\", \"7\", \"10\"], [\"The Exorcist\", \"1973\", \"2\", \"10\"], [\"The Way We Were\", \"1973\", \"2\", \"6\"], [\"Cries and Whispers (Viskningar och rop)\", \"1973\", \"1\", \"5\"], [\"A Touch of Class\", \"1973\", \"1\", \"5\"], [\"Day for Night (La Nuit am\\u00e9ricaine)\", \"1973\", \"1\", \"4\"], [\"Paper Moon\", \"1973\", \"1\", \"4\"], [\"The Paper Chase\", \"1973\", \"1\", \"3\"], [\"Save the Tiger\", \"1973\", \"1\", \"3\"], [\"The Bolero\", \"1973\", \"1\", \"1\"], [\"Frank Film\", \"1973\", \"1\", \"1\"], [\"The Great American Cowboy\", \"1973\", \"1\", \"1\"], [\"Princeton: A Search for Answers\", \"1973\", \"1\", \"1\"], [\"The Godfather\", \"1972\", \"3\", \"10[4]\"], [\"Cabaret\", \"1972\", \"8\", \"10\"], [\"The Poseidon Adventure\", \"1972\", \"1 (1)\", \"8\"], [\"Travels with My Aunt\", \"1972\", \"1\", \"4\"], [\"Butterflies Are Free\", \"1972\", \"1\", \"3\"], [\"The Candidate\", \"1972\", \"1\", \"2\"], [\"The Discreet Charm of the Bourgeoisie (Le charme discret de la bourgeoisie)\", \"1972\", \"1\", \"2\"], [\"A Christmas Carol\", \"1972\", \"1\", \"1[5]\"], [\"Limelight\", \"1972\", \"1\", \"1[6]\"], [\"Marjoe\", \"1972\", \"1\", \"1\"], [\"Norman Rockwell's World... An American Dream\", \"1972\", \"1\", \"1\"], [\"This Tiny World\", \"1972\", \"1\", \"1\"], [\"The French Connection\", \"1971\", \"5\", \"8\"], [\"Fiddler on the Roof\", \"1971\", \"3\", \"8\"], [\"The Last Picture Show\", \"1971\", \"2\", \"8\"], [\"Nicholas and Alexandra\", \"1971\", \"2\", \"6\"], [\"Sentinels of Silence\", \"1971\", \"2\", \"2\"], [\"Bedknobs and Broomsticks\", \"1971\", \"1\", \"5\"], [\"Summer of '42\", \"1971\", \"1\", \"4\"], [\"The Garden of the Finzi-Continis (Il Giardino dei Finzi-Contini)\", \"1971\", \"1\", \"2\"], [\"The Hospital\", \"1971\", \"1\", \"2\"], [\"Klute\", \"1971\", \"1\", \"2\"], [\"Shaft\", \"1971\", \"1\", \"2\"], [\"The Crunch Bird\", \"1971\", \"1\", \"1\"], [\"The Hellstrom Chronicle\", \"1971\", \"1\", \"1\"], [\"Patton\", \"1970\", \"7\", \"10\"], [\"Ryan's Daughter\", \"1970\", \"2\", \"4\"], [\"Airport\", \"1970\", \"1\", \"10\"], [\"Love Story\", \"1970\", \"1\", \"7\"], [\"M*A*S*H\", \"1970\", \"1\", \"5\"], [\"Tora! Tora! Tora!\", \"1970\", \"1\", \"5\"], [\"Women in Love\", \"1970\", \"1\", \"4\"], [\"Lovers and Other Strangers\", \"1970\", \"1\", \"3\"], [\"Woodstock\", \"1970\", \"1\", \"3\"], [\"Cromwell\", \"1970\", \"1\", \"2\"], [\"Investigation of a Citizen Above Suspicion (Indagine su un cittadino al di sopra di ogni sospetto)\", \"1970\", \"1\", \"2\"], [\"Interviews with My Lai Veterans\", \"1970\", \"1\", \"1\"], [\"Is It Always Right to Be Right?\", \"1970\", \"1\", \"1\"], [\"Let It Be\", \"1970\", \"1\", \"1\"], [\"The Resurrection of Broncho Billy\", \"1970\", \"1\", \"1\"], [\"Midnight Cowboy\", \"1969\", \"3\", \"7\"], [\"Butch Cassidy and the Sundance Kid\", \"1969\", \"4\", \"7\"], [\"Hello, Dolly!\", \"1969\", \"3\", \"7\"], [\"Z\", \"1969\", \"2\", \"5\"], [\"Anne of the Thousand Days\", \"1969\", \"1\", \"10\"], [\"They Shoot Horses, Don't They?\", \"1969\", \"1\", \"9\"], [\"Marooned\", \"1969\", \"1\", \"3\"], [\"The Magic Machines\", \"1969\", \"1\", \"2\"], [\"The Prime of Miss Jean Brodie\", \"1969\", \"1\", \"2\"], [\"True Grit\", \"1969\", \"1\", \"2\"], [\"Arthur Rubinstein \\u2013 The Love of Life (L'amour de la vie - Artur Rubinstein)\", \"1969\", \"1\", \"1\"], [\"Cactus Flower\", \"1969\", \"1\", \"1\"], [\"Czechoslovakia 1968\", \"1969\", \"1\", \"1\"], [\"It's Tough to Be a Bird\", \"1969\", \"1\", \"1\"], [\"Oliver!\", \"1968\", \"5 (1)\", \"11\"], [\"The Lion in Winter\", \"1968\", \"3\", \"7\"], [\"Romeo and Juliet\", \"1968\", \"2\", \"4\"], [\"Funny Girl\", \"1968\", \"1\", \"8\"], [\"2001: A Space Odyssey\", \"1968\", \"1\", \"4\"], [\"Bullitt\", \"1968\", \"1\", \"2\"], [\"The Producers\", \"1967\", \"1\", \"2\"], [\"Rosemary's Baby\", \"1968\", \"1\", \"2\"], [\"The Subject Was Roses\", \"1968\", \"1\", \"2\"], [\"The Thomas Crown Affair\", \"1968\", \"1\", \"2\"], [\"War and Peace (Voyna i mir)\", \"1968\", \"1\", \"2\"], [\"Charly\", \"1968\", \"1\", \"1\"], [\"Journey into Self\", \"1968\", \"1\", \"1\"], [\"Robert Kennedy Remembered\", \"1968\", \"1\", \"1\"], [\"Why Man Creates\", \"1968\", \"1\", \"1\"], [\"Winnie the Pooh and the Blustery Day\", \"1968\", \"1\", \"1\"], [\"Planet of the Apes\", \"1968\", \"0 (1)\", \"2\"], [\"In the Heat of the Night\", \"1967\", \"5\", \"7\"], [\"Camelot\", \"1967\", \"3\", \"5\"], [\"Bonnie and Clyde\", \"1967\", \"2\", \"10\"], [\"Guess Who's Coming to Dinner\", \"1967\", \"2\", \"10\"], [\"Doctor Dolittle\", \"1967\", \"2\", \"9\"], [\"The Graduate\", \"1967\", \"1\", \"7\"], [\"Thoroughly Modern Millie\", \"1967\", \"1\", \"7\"], [\"Cool Hand Luke\", \"1967\", \"1\", \"4\"], [\"The Dirty Dozen\", \"1967\", \"1\", \"4\"], [\"A Place to Stand\", \"1967\", \"1\", \"2\"], [\"The Anderson Platoon (La Section Anderson)\", \"1967\", \"1\", \"1\"], [\"The Box\", \"1967\", \"1\", \"1\"], [\"Closely Watched Trains (Ostre sledovan\\u00e9 vlaky)\", \"1967\", \"1\", \"1\"], [\"The Redwoods\", \"1967\", \"1\", \"1\"], [\"A Man for All Seasons\", \"1966\", \"6\", \"8\"], [\"Who's Afraid of Virginia Woolf?\", \"1966\", \"5\", \"13\"], [\"Grand Prix\", \"1966\", \"3\", \"3\"], [\"Fantastic Voyage\", \"1966\", \"2\", \"5\"], [\"A Man and a Woman\", \"1966\", \"2\", \"4\"], [\"Born Free\", \"1966\", \"2\", \"2\"], [\"The Fortune Cookie\", \"1966\", \"1\", \"4\"], [\"A Funny Thing Happened on the Way to the Forum\", \"1966\", \"1\", \"1\"], [\"A Herb Alpert and the Tijuana Brass Double Feature\", \"1966\", \"1\", \"1\"], [\"The War Game\", \"1966\", \"1\", \"1\"], [\"Wild Wings\", \"1966\", \"1\", \"1\"], [\"A Year Toward Tomorrow\", \"1966\", \"1\", \"1\"], [\"The Sound of Music\", \"1965\", \"5\", \"10\"], [\"Doctor Zhivago\", \"1965\", \"5\", \"10\"], [\"Darling\", \"1965\", \"3\", \"5\"], [\"Ship of Fools\", \"1965\", \"2\", \"8\"], [\"Cat Ballou\", \"1965\", \"1\", \"5\"], [\"The Great Race\", \"1965\", \"1\", \"5\"], [\"A Patch of Blue\", \"1965\", \"1\", \"5\"], [\"A Thousand Clowns\", \"1965\", \"1\", \"4\"], [\"The Shop on Main Street (Obchod na korze)\", \"1965\", \"1\", \"2\"], [\"The Sandpiper\", \"1965\", \"1\", \"1\"], [\"The Eleanor Roosevelt Story\", \"1965\", \"1\", \"1\"], [\"To Be Alive!\", \"1965\", \"1\", \"1\"], [\"7 Faces of Dr. Lao\", \"1964\", \"0 (1)\", \"1\"], [\"7th Heaven\", \"1927/28\", \"3\", \"5\"], [\"20,000 Leagues Under the Sea\", \"1954\", \"2\", \"3\"], [\"Adventures of Don Juan\", \"1949\", \"1\", \"2\"], [\"The Adventures of Robin Hood\", \"1938\", \"3\", \"4\"], [\"The African Queen\", \"1951\", \"1\", \"4\"], [\"Air Force\", \"1943\", \"1\", \"4\"], [\"The Alamo\", \"1960\", \"1\", \"7\"], [\"The Alaskan Eskimo\", \"1953\", \"1\", \"1\"], [\"Albert Schweitzer\", \"1957\", \"1\", \"1\"], [\"Alexander's Ragtime Band\", \"1938\", \"1\", \"6\"], [\"All About Eve\", \"1950\", \"6\", \"14\"], [\"All Quiet on the Western Front\", \"1929/30\", \"2\", \"4\"], [\"All That Money Can Buy\", \"1941\", \"1\", \"2\"], [\"All the King's Men\", \"1949\", \"3\", \"7\"], [\"Ama Girls\", \"1958\", \"1\", \"1\"], [\"America America\", \"1963\", \"1\", \"4\"], [\"An American in Paris\", \"1951\", \"6\", \"8\"], [\"Amphibious Fighters\", \"1943\", \"1\", \"1\"], [\"Anastasia\", \"1956\", \"1\", \"2\"], [\"Anchors Aweigh\", \"1945\", \"1\", \"5\"], [\"Anna and the King of Siam\", \"1946\", \"2\", \"5\"], [\"Annie Get Your Gun\", \"1950\", \"1\", \"4\"], [\"Anthony Adverse\", \"1936\", \"4\", \"7\"], [\"The Apartment\", \"1960\", \"5\", \"10\"], [\"Aquatic House Party\", \"1949\", \"1\", \"1\"], [\"Arise, My Love\", \"1940\", \"1\", \"4\"], [\"Around the World in 80 Days\", \"1956\", \"5\", \"8\"], [\"The Awful Truth\", \"1937\", \"1\", \"6\"], [\"The Bachelor and the Bobby-Soxer\", \"1947\", \"1\", \"1\"], [\"The Bad and the Beautiful\", \"1952\", \"5\", \"6\"], [\"Bad Girl\", \"1931/32\", \"2\", \"3\"], [\"The Barefoot Contessa\", \"1954\", \"1\", \"2\"], [\"The Battle of Midway\", \"1942\", \"1\", \"1\"], [\"Battleground\", \"1949\", \"2\", \"6\"], [\"Bear Country\", \"1953\", \"1\", \"1\"], [\"Becket\", \"1964\", \"1\", \"12\"], [\"The Bells of St. Mary's\", \"1945\", \"1\", \"8\"], [\"Ben-Hur\", \"1959\", \"11\", \"12\"], [\"Benjy\", \"1951\", \"1\", \"1\"], [\"The Bespoke Overcoat\", \"1956\", \"1\", \"1\"], [\"The Best Years of Our Lives\", \"1946\", \"7 (1)\", \"8\"], [\"Beyond the Line of Duty\", \"1942\", \"1\", \"1\"], [\"Bicycle Thieves\", \"1949\", \"0 (1)\", \"1\"], [\"The Big Broadcast of 1938\", \"1938\", \"1\", \"1\"], [\"The Big Country\", \"1958\", \"1\", \"2\"], [\"The Big House\", \"1929/30\", \"2\", \"4\"], [\"Bill and Coo\", \"1948\", \"0 (1)\", \"0\"], [\"Birds Anonymous\", \"1957\", \"1\", \"1\"], [\"The Bishop's Wife\", \"1947\", \"1\", \"5\"], [\"Black Fox: The Rise and Fall of Adolf Hitler (The Black Fox)\", \"1962\", \"1\", \"1\"], [\"Black Narcissus\", \"1947\", \"2\", \"2\"], [\"Black Orpheus (Orfeu Negro)\", \"1959\", \"1\", \"1\"], [\"The Black Swan\", \"1942\", \"1\", \"3\"], [\"Blithe Spirit\", \"1946\", \"1\", \"1\"], [\"Blood and Sand\", \"1941\", \"1\", \"2\"], [\"Blood on the Sun\", \"1945\", \"1\", \"1\"], [\"Blossoms in the Dust\", \"1941\", \"1\", \"4\"], [\"Body and Soul\", \"1947\", \"1\", \"3\"], [\"Bored of Education\", \"1936\", \"1\", \"1\"], [\"Born Yesterday\", \"1950\", \"1\", \"5\"], [\"A Boy and His Dog\", \"1946\", \"1\", \"1\"], [\"Boys Town\", \"1938\", \"2\", \"5\"], [\"The Brave One\", \"1956\", \"1\", \"3\"], [\"Breakfast at Tiffany's\", \"1961\", \"2\", \"5\"], [\"Breaking the Sound Barrier\", \"1952\", \"1\", \"2\"], [\"The Bridge of San Luis Rey\", \"1928/29\", \"1\", \"1\"], [\"The Bridge on the River Kwai\", \"1957\", \"7\", \"8\"], [\"The Bridges at Toko-Ri\", \"1955\", \"1\", \"2\"], [\"Broadway Melody of 1936\", \"1935\", \"1\", \"3\"], [\"The Broadway Melody\", \"1928/29\", \"1\", \"3\"], [\"Broken Lance\", \"1954\", \"1\", \"2\"], [\"Busy Little Bears\", \"1939\", \"1\", \"1\"], [\"BUtterfield 8\", \"1960\", \"1\", \"2\"], [\"Calamity Jane\", \"1953\", \"1\", \"3\"], [\"Call Me Madam\", \"1953\", \"1\", \"2\"], [\"Captain Carey, U.S.A.\", \"1950\", \"1\", \"1\"], [\"Captains Courageous\", \"1937\", \"1\", \"4\"], [\"Casablanca\", \"1943\", \"3\", \"8\"], [\"Casals Conducts: 1964\", \"1964\", \"1\", \"1\"], [\"The Cat Concerto\", \"1946\", \"1\", \"1\"], [\"Cavalcade\", \"1932/33\", \"3\", \"4\"], [\"Chagall\", \"1963\", \"1\", \"1\"], [\"The Champ\", \"1931/32\", \"2\", \"4\"], [\"Champion\", \"1949\", \"1\", \"6\"], [\"A Chance to Live\", \"1949\", \"1\", \"1\"], [\"The Charge of the Light Brigade\", \"1936\", \"1\", \"3\"], [\"The Chicken (Le Poulet)\", \"1965\", \"1\", \"1\"], [\"Churchill's Island\", \"1941\", \"1\", \"1\"], [\"Cimarron\", \"1930/31\", \"3\", \"7\"], [\"The Circus\", \"1927/28\", \"0 (1)\", \"0\"], [\"Citizen Kane\", \"1941\", \"1\", \"9\"], [\"City of Wax\", \"1934\", \"1\", \"1\"], [\"Cleopatra\", \"1934\", \"1\", \"5\"], [\"Cleopatra\", \"1963\", \"4\", \"9\"], [\"Climbing the Matterhorn\", \"1947\", \"1\", \"1\"], [\"Come and Get It\", \"1936\", \"1\", \"2\"], [\"Come Back, Little Sheba\", \"1952\", \"1\", \"3\"], [\"Coquette\", \"1928/29\", \"1\", \"1\"], [\"The Country Cousin\", \"1936\", \"1\", \"1\"], [\"The Country Girl\", \"1954\", \"2\", \"7\"], [\"Cover Girl\", \"1944\", \"1\", \"5\"], [\"The Cowboy and the Lady\", \"1938\", \"1\", \"3\"], [\"Crash Dive\", \"1943\", \"1\", \"1\"], [\"Crashing the Water Barrier\", \"1956\", \"1\", \"1\"], [\"The Critic\", \"1963\", \"1\", \"1\"], [\"La Cucaracha\", \"1934\", \"1\", \"1\"], [\"Cyrano de Bergerac\", \"1950\", \"1\", \"1\"], [\"A Damsel in Distress\", \"1937\", \"1\", \"2\"], [\"Dangerous\", \"1935\", \"1\", \"1\"], [\"The Dark Angel\", \"1935\", \"1\", \"3\"], [\"The Dawn Patrol\", \"1930/31\", \"1\", \"1\"], [\"Day of the Painter\", \"1960\", \"1\", \"1\"], [\"Daybreak in Udi\", \"1949\", \"1\", \"1\"], [\"Days of Wine and Roses\", \"1962\", \"1\", \"5\"], [\"December 7th\", \"1943\", \"1\", \"1\"], [\"Declaration of Independence\", \"1938\", \"1\", \"1\"], [\"The Defiant Ones\", \"1958\", \"2\", \"9\"], [\"Der Fuehrer's Face\", \"1942\", \"1\", \"1\"], [\"Desert Victory\", \"1943\", \"1\", \"1\"], [\"Design for Death\", \"1947\", \"1\", \"1\"], [\"Designing Woman\", \"1957\", \"1\", \"1\"], [\"Destination Moon\", \"1950\", \"1\", \"2\"], [\"The Diary of Anne Frank\", \"1959\", \"3\", \"8\"], [\"Disraeli\", \"1929/30\", \"1\", \"3\"], [\"The Divine Lady\", \"1928/29\", \"1\", \"3\"], [\"Divorce Italian Style\", \"1962\", \"1\", \"3\"], [\"The Divorcee\", \"1929/30\", \"1\", \"4\"], [\"Dodsworth\", \"1936\", \"1\", \"7\"], [\"The Dot and the Line (The Dot and the Line: A Romance in Lower Mathematics)\", \"1965\", \"1\", \"1\"], [\"A Double Life\", \"1947\", \"2\", \"4\"], [\"The Dove\", \"1927/28\", \"1\", \"1\"], [\"Dr. Jekyll and Mr. Hyde\", \"1931/32\", \"1\", \"3\"], [\"Dumbo\", \"1941\", \"1\", \"2\"], [\"Dylan Thomas\", \"1962\", \"1\", \"1\"], [\"East of Eden\", \"1955\", \"1\", \"4\"], [\"Easter Parade\", \"1948\", \"1\", \"1\"], [\"Elmer Gantry\", \"1960\", \"3\", \"5\"], [\"The Enemy Below\", \"1957\", \"1\", \"1\"], [\"Eskimo\", \"1934\", \"1\", \"1\"], [\"Exodus\", \"1960\", \"1\", \"3\"], [\"The Face of Lincoln\", \"1955\", \"1\", \"2\"], [\"Facing Your Danger\", \"1946\", \"1\", \"1\"], [\"The Facts of Life\", \"1960\", \"1\", \"5\"], [\"Fantasia\", \"1940\", \"0 (2)\", \"0\"], [\"A Farewell to Arms\", \"1932/33\", \"2\", \"4\"], [\"The Farmer's Daughter\", \"1947\", \"1\", \"2\"], [\"Father Goose\", \"1964\", \"1\", \"3\"], [\"Federico Fellini's 8\\u00bd\", \"1963\", \"2\", \"5\"], [\"Ferdinand the Bull\", \"1938\", \"1\", \"1\"], [\"The Fighting Lady\", \"1944\", \"1\", \"1\"], [\"First Steps\", \"1947\", \"1\", \"1\"], [\"Flowers and Trees\", \"1931/32\", \"1\", \"1\"], [\"Folies Bergere\", \"1935\", \"1\", \"1\"], [\"For Scent-imental Reasons\", \"1949\", \"1\", \"1\"], [\"For Whom the Bell Tolls\", \"1943\", \"1\", \"9\"], [\"Forbidden Games\", \"1952\", \"0 (1)\", \"1\"], [\"A Force in Readiness\", \"1961\", \"0 (1)\", \"0\"], [\"A Free Soul\", \"1930/31\", \"1\", \"3\"], [\"Frenchman's Creek\", \"1945\", \"1\", \"1\"], [\"From Here to Eternity\", \"1953\", \"8\", \"13\"], [\"The Garden of Allah\", \"1936\", \"0 (1)\", \"2\"], [\"Gaslight\", \"1944\", \"2\", \"7\"], [\"Gate of Hell (Jigokumon)\", \"1954\", \"1 (1)\", \"1\"], [\"The Gay Divorcee\", \"1934\", \"1\", \"5\"], [\"Gentleman's Agreement\", \"1947\", \"3\", \"8\"], [\"Gerald McBoing-Boing\", \"1950\", \"1\", \"1\"], [\"Giant\", \"1956\", \"1\", \"10\"], [\"Gigi\", \"1958\", \"9\", \"9\"], [\"Giuseppina\", \"1960\", \"1\", \"1\"], [\"Give Me Liberty\", \"1936\", \"1\", \"1\"], [\"Glass (Glas)\", \"1959\", \"1\", \"1\"], [\"The Glenn Miller Story\", \"1954\", \"1\", \"3\"], [\"Going My Way\", \"1944\", \"7\", \"10\"], [\"Gold Diggers of 1935\", \"1935\", \"1\", \"2\"], [\"The Golden Fish (Histoire d'un poisson rouge)\", \"1959\", \"1\", \"1\"], [\"Goldfinger\", \"1964\", \"1\", \"1\"], [\"Gone with the Wind\", \"1939\", \"8 (2)\", \"13\"], [\"The Good Earth\", \"1937\", \"2\", \"5\"], [\"Goodbye, Miss Turlock\", \"1947\", \"1\", \"1\"], [\"Goodbye, Mr. Chips\", \"1939\", \"1\", \"7\"], [\"Grand Canyon\", \"1958\", \"1\", \"1\"], [\"Grand Hotel\", \"1931/32\", \"1\", \"1\"], [\"Grandad of Races\", \"1950\", \"1\", \"1\"], [\"The Grapes of Wrath\", \"1940\", \"2\", \"7\"], [\"The Great Caruso\", \"1951\", \"1\", \"3\"], [\"Great Expectations\", \"1947\", \"2\", \"5\"], [\"The Great Lie\", \"1941\", \"1\", \"1\"], [\"The Great McGinty\", \"1940\", \"1\", \"1\"], [\"The Great Waltz\", \"1938\", \"1\", \"3\"], [\"The Great Ziegfeld\", \"1936\", \"3\", \"7\"], [\"The Greatest Show on Earth\", \"1952\", \"2\", \"5\"], [\"Green Dolphin Street\", \"1947\", \"1\", \"4\"], [\"The Guns of Navarone\", \"1961\", \"1\", \"7\"], [\"Hamlet\", \"1948\", \"4\", \"7\"], [\"Happy Anniversary (Heureux Anniversaire)\", \"1962\", \"1\", \"1\"], [\"Harvey\", \"1950\", \"1\", \"2\"], [\"The Harvey Girls\", \"1946\", \"1\", \"2\"], [\"Heavenly Music\", \"1943\", \"1\", \"1\"], [\"The Heiress\", \"1949\", \"4\", \"8\"], [\"Helen Keller in Her Story (The Unconquered)\", \"1955\", \"1\", \"1\"], [\"Hello, Frisco, Hello\", \"1943\", \"1\", \"2\"], [\"Henry V\", \"1946\", \"0 (1)\", \"4\"], [\"Here Comes Mr. Jordan\", \"1941\", \"2\", \"7\"], [\"Here Comes the Groom\", \"1951\", \"1\", \"2\"], [\"The High and the Mighty\", \"1954\", \"1\", \"6\"], [\"High Noon\", \"1952\", \"4\", \"7\"], [\"Hitler Lives\", \"1945\", \"1\", \"1\"], [\"A Hole in the Head\", \"1959\", \"1\", \"1\"], [\"The Hole\", \"1962\", \"1\", \"1\"], [\"Holiday Inn\", \"1942\", \"1\", \"3\"], [\"The Horse with the Flying Tail\", \"1960\", \"1\", \"1\"], [\"The House I Live In\", \"1945\", \"0 (1)\", \"0\"], [\"The House on 92nd Street\", \"1945\", \"1\", \"1\"], [\"How Green Was My Valley\", \"1941\", \"5\", \"10\"], [\"How the West Was Won\", \"1963\", \"3\", \"8\"], [\"How to Sleep\", \"1935\", \"1\", \"1\"], [\"Hud\", \"1963\", \"3\", \"7\"], [\"The Human Comedy\", \"1943\", \"1\", \"5\"], [\"The Hurricane\", \"1937\", \"1\", \"3\"], [\"The Hustler\", \"1961\", \"2\", \"9\"], [\"I Want to Live!\", \"1958\", \"1\", \"6\"], [\"I Wanted Wings\", \"1941\", \"1\", \"1\"], [\"I Won't Play\", \"1944\", \"1\", \"1\"], [\"I'll Cry Tomorrow\", \"1955\", \"1\", \"4\"], [\"In Beaver Valley\", \"1950\", \"1\", \"1\"], [\"In Old Arizona\", \"1928/29\", \"1\", \"5\"], [\"In Old Chicago\", \"1937\", \"2\", \"6\"], [\"In Which We Serve\", \"1942\", \"0 (1)\", \"2\"], [\"The Informer\", \"1935\", \"4\", \"6\"], [\"Interrupted Melody\", \"1955\", \"1\", \"3\"], [\"The Invaders\", \"1942\", \"1\", \"3\"], [\"Irma la Douce\", \"1963\", \"1\", \"3\"], [\"It Happened One Night\", \"1934\", \"5\", \"5\"], [\"It's a Mad, Mad, Mad, Mad World\", \"1963\", \"1\", \"6\"], [\"The Jazz Singer\", \"1927/28\", \"0 (1)\", \"1\"], [\"Jezebel\", \"1938\", \"2\", \"5\"], [\"Joan of Arc\", \"1948\", \"2 (1)\", \"7\"], [\"Johann Mouse\", \"1952\", \"1\", \"1\"], [\"Johnny Belinda\", \"1948\", \"1\", \"12\"], [\"Johnny Eager\", \"1942\", \"1\", \"1\"], [\"The Joker Is Wild\", \"1957\", \"1\", \"1\"], [\"The Jolson Story\", \"1946\", \"2\", \"6\"], [\"Judgment at Nuremberg\", \"1961\", \"2\", \"11\"], [\"Julius Caesar\", \"1953\", \"1\", \"5\"], [\"Kentucky\", \"1938\", \"1\", \"1\"], [\"Key Largo\", \"1948\", \"1\", \"1\"], [\"The King and I\", \"1956\", \"5\", \"9\"], [\"King of Jazz\", \"1929/30\", \"1\", \"1\"], [\"King Solomon's Mines\", \"1950\", \"2\", \"3\"], [\"Kitty Foyle (Kitty Foyle: The Natural History of a Woman)\", \"1940\", \"1\", \"5\"], [\"Knighty Knight Bugs\", \"1958\", \"1\", \"1\"], [\"Kokoda Front Line!\", \"1942\", \"1\", \"1\"], [\"Kon-Tiki\", \"1950\", \"1\", \"1\"], [\"Krakatoa\", \"1932/33\", \"1\", \"1\"], [\"Kukan\", \"1941\", \"0 (1)\", \"0\"], [\"La Strada (The Road)\", \"1956\", \"1\", \"2\"], [\"La Dolce Vita\", \"1961\", \"1\", \"4\"], [\"Lady Be Good\", \"1941\", \"1\", \"1\"], [\"The Last Command\", \"1927/28\", \"1\", \"2\"], [\"Laura\", \"1944\", \"1\", \"5\"], [\"The Lavender Hill Mob\", \"1952\", \"1\", \"2\"], [\"Lawrence of Arabia\", \"1962\", \"7\", \"10\"], [\"Leave Her to Heaven\", \"1945\", \"1\", \"4\"], [\"Lend a Paw\", \"1941\", \"1\", \"1\"], [\"Les Girls\", \"1957\", \"1\", \"3\"], [\"A Letter to Three Wives\", \"1949\", \"2\", \"3\"], [\"The Life of Emile Zola\", \"1937\", \"3\", \"10\"], [\"Light in the Window\", \"1952\", \"1\", \"1\"], [\"Lili\", \"1953\", \"1\", \"6\"], [\"Lilies of the Field\", \"1963\", \"1\", \"5\"], [\"The Little Kidnappers (The Kidnappers)\", \"1954\", \"0 (2)\", \"0\"], [\"The Little Orphan\", \"1948\", \"1\", \"1\"], [\"Little Women\", \"1932/33\", \"1\", \"3\"], [\"Little Women\", \"1949\", \"1\", \"2\"], [\"The Lives of a Bengal Lancer\", \"1935\", \"1\", \"7\"], [\"The Living Desert\", \"1953\", \"1\", \"1\"], [\"The Longest Day\", \"1962\", \"2\", \"5\"], [\"Lost Horizon\", \"1937\", \"2\", \"7\"], [\"The Lost Weekend\", \"1945\", \"4\", \"7\"], [\"Love Is a Many-Splendored Thing\", \"1955\", \"3\", \"8\"], [\"Love Me or Leave Me\", \"1955\", \"1\", \"6\"], [\"Lust for Life\", \"1956\", \"1\", \"4\"], [\"Magoo's Puddle Jumper\", \"1956\", \"1\", \"1\"], [\"Main Street on the March!\", \"1941\", \"1\", \"1\"], [\"The Man Who Knew Too Much\", \"1956\", \"1\", \"1\"], [\"Manhattan Melodrama\", \"1934\", \"1\", \"1\"], [\"Marie-Louise\", \"1945\", \"1\", \"1\"], [\"Marty\", \"1955\", \"4\", \"8\"], [\"Mary Poppins\", \"1964\", \"5\", \"13\"], [\"Men Against the Arctic\", \"1955\", \"1\", \"1\"], [\"The Merry Widow\", \"1934\", \"1\", \"1\"], [\"A Midsummer Night's Dream\", \"1935\", \"2\", \"4[7]\"], [\"Mighty Joe Young\", \"1949\", \"1\", \"1\"], [\"Mildred Pierce\", \"1945\", \"1\", \"6\"], [\"The Milky Way\", \"1940\", \"1\", \"1\"], [\"Min and Bill\", \"1930/31\", \"1\", \"1\"], [\"Miracle on 34th Street\", \"1947\", \"3\", \"4\"], [\"The Miracle Worker\", \"1962\", \"2\", \"5\"], [\"Mister Roberts\", \"1955\", \"1\", \"3\"], [\"Monsieur Vincent\", \"1948\", \"0 (1)\", \"0\"], [\"Moonbird\", \"1959\", \"1\", \"1\"], [\"The More the Merrier\", \"1943\", \"1\", \"6\"], [\"Morning Glory\", \"1932/33\", \"1\", \"1\"], [\"Moscow Strikes Back\", \"1942\", \"1\", \"1\"], [\"Mother Wore Tights\", \"1947\", \"1\", \"3\"], [\"Moulin Rouge\", \"1952\", \"2\", \"7\"], [\"Mouse Trouble\", \"1944\", \"1\", \"1\"], [\"Mr. Deeds Goes to Town\", \"1936\", \"1\", \"5\"], [\"Mr. Smith Goes to Washington\", \"1939\", \"1\", \"11\"], [\"Mrs. Miniver\", \"1942\", \"6\", \"12\"], [\"Munro\", \"1960\", \"1\", \"1\"], [\"The Music Box\", \"1931/32\", \"1\", \"1\"], [\"The Music Man\", \"1962\", \"1\", \"6\"], [\"Mutiny on the Bounty\", \"1935\", \"1\", \"8\"], [\"My Fair Lady\", \"1964\", \"8\", \"12\"], [\"My Uncle (Mon oncle)\", \"1958\", \"1\", \"1\"], [\"My Gal Sal\", \"1942\", \"1\", \"2\"], [\"The Naked City\", \"1948\", \"2\", \"3\"], [\"National Velvet\", \"1945\", \"2\", \"5\"], [\"Nature's Half Acre\", \"1951\", \"1\", \"1\"], [\"Naughty Marietta\", \"1935\", \"1\", \"2\"], [\"Neighbours\", \"1952\", \"1\", \"2\"], [\"Neptune's Daughter\", \"1949\", \"1\", \"1\"], [\"Never on Sunday (Pote tin Kyriaki)\", \"1960\", \"1\", \"5\"], [\"The Night of the Iguana\", \"1964\", \"1\", \"4\"], [\"Nights of Cabiria (Le Notti di Cabiria)\", \"1957\", \"1\", \"1\"], [\"Nine from Little Rock\", \"1964\", \"1\", \"1\"], [\"None But the Lonely Heart\", \"1944\", \"1\", \"4\"], [\"North West Mounted Police\", \"1940\", \"1\", \"5\"], [\"Now, Voyager\", \"1942\", \"1\", \"3\"], [\"An Occurrence at Owl Creek Bridge\", \"1963\", \"1\", \"1\"], [\"Of Pups and Puzzles\", \"1941\", \"1\", \"1\"], [\"Oklahoma!\", \"1955\", \"2\", \"4\"], [\"The Old Man and the Sea\", \"1958\", \"1\", \"3\"], [\"The Old Mill\", \"1937\", \"1\", \"1\"], [\"On the Town\", \"1949\", \"1\", \"1\"], [\"On the Waterfront\", \"1954\", \"8\", \"12\"], [\"One Hundred Men and a Girl\", \"1937\", \"1\", \"5\"], [\"One Night of Love\", \"1934\", \"2\", \"6\"], [\"One Way Passage\", \"1932/33\", \"1\", \"1\"], [\"Overture to The Merry Wives of Windsor\", \"1953\", \"1\", \"1\"], [\"The Paleface\", \"1948\", \"1\", \"1\"], [\"Panic in the Streets\", \"1950\", \"1\", \"1\"], [\"Papa's Delicate Condition\", \"1963\", \"1\", \"1\"], [\"The Patriot\", \"1928/29\", \"1\", \"5\"], [\"Penny Wisdom\", \"1937\", \"1\", \"1\"], [\"Phantom of the Opera\", \"1943\", \"2\", \"4\"], [\"The Philadelphia Story\", \"1940\", \"2\", \"6\"], [\"Picnic\", \"1955\", \"2\", \"6\"], [\"The Picture of Dorian Gray\", \"1945\", \"1\", \"3\"], [\"Pillow Talk\", \"1959\", \"1\", \"5\"], [\"The Pink Phink\", \"1964\", \"1\", \"1\"], [\"Pinocchio\", \"1940\", \"2\", \"2\"], [\"A Place in the Sun\", \"1951\", \"6\", \"9\"], [\"Plymouth Adventure\", \"1952\", \"1\", \"1\"], [\"Pollyanna\", \"1960\", \"0 (1)\", \"0\"], [\"Porgy and Bess\", \"1959\", \"1\", \"4\"], [\"Portrait of Jennie\", \"1948\", \"1\", \"2\"], [\"Prelude to War\", \"1942\", \"1\", \"1\"], [\"Pride and Prejudice\", \"1940\", \"1\", \"1\"], [\"The Pride of the Yankees\", \"1942\", \"1\", \"11\"], [\"Princess O'Rourke\", \"1943\", \"1\", \"1\"], [\"The Private Life of Henry VIII\", \"1932/33\", \"1\", \"2\"], [\"The Private Life of the Gannets\", \"1937\", \"1\", \"1\"], [\"Project Hope\", \"1961\", \"1\", \"1\"], [\"The Public Pays\", \"1936\", \"1\", \"1\"], [\"Pygmalion\", \"1938\", \"1\", \"4\"], [\"Quicker'n a Wink\", \"1940\", \"1\", \"1\"], [\"The Quiet Man\", \"1952\", \"2\", \"7\"], [\"Quiet Please!\", \"1945\", \"1\", \"1\"], [\"The Rains Came\", \"1939\", \"1\", \"6[8]\"], [\"Rashomon\", \"1951\", \"0 (1)\", \"1\"], [\"The Razor's Edge\", \"1946\", \"1\", \"4\"], [\"Reap the Wild Wind\", \"1942\", \"1\", \"3\"], [\"Rebecca\", \"1940\", \"2\", \"11\"], [\"The Red Balloon (Le ballon rouge)\", \"1956\", \"1\", \"1\"], [\"The Red Shoes\", \"1948\", \"2\", \"5\"], [\"The Robe\", \"1953\", \"2\", \"5\"], [\"Robert Frost: A Lover's Quarrel with the World\", \"1963\", \"1\", \"1\"], [\"Roman Holiday\", \"1953\", \"3\", \"10\"], [\"Room at the Top\", \"1959\", \"2\", \"6\"], [\"The Rose Tattoo\", \"1955\", \"3\", \"8\"], [\"Sabrina\", \"1954\", \"1\", \"6\"], [\"Samson and Delilah\", \"1950\", \"2\", \"5\"], [\"Samurai I: Musashi Miyamoto (Miyamoto Musashi)\", \"1955\", \"0 (1)\", \"0\"], [\"San Francisco\", \"1936\", \"1\", \"6\"], [\"Sayonara\", \"1957\", \"4\", \"10\"], [\"The Scoundrel\", \"1935\", \"1\", \"1\"], [\"The Sea Around Us\", \"1952\", \"1\", \"1\"], [\"Seal Island\", \"1948\", \"1\", \"1\"], [\"The Search\", \"1948\", \"1 (1)\", \"4\"], [\"Seawards the Great Ships\", \"1961\", \"1\", \"1\"], [\"The Secret Land\", \"1948\", \"1\", \"1\"], [\"Seeds of Destiny\", \"1946\", \"1\", \"1\"], [\"Separate Tables\", \"1958\", \"2\", \"7\"], [\"Serengeti Shall Not Die (Serengeti darf nicht sterben)\", \"1959\", \"1\", \"1\"], [\"Sergeant York\", \"1941\", \"2\", \"11\"], [\"Seven Brides for Seven Brothers\", \"1954\", \"1\", \"5\"], [\"Seven Days to Noon\", \"1951\", \"1\", \"1\"], [\"The Seventh Veil\", \"1946\", \"1\", \"1\"], [\"Shane\", \"1953\", \"1\", \"6\"], [\"Shanghai Express\", \"1931/32\", \"1\", \"3\"], [\"She Wore a Yellow Ribbon\", \"1949\", \"1\", \"1\"], [\"Shoeshine (Sciusci\\u00e0)\", \"1947\", \"0 (1)\", \"1\"], [\"The Silent World (Le Monde du silence)\", \"1956\", \"1\", \"1\"], [\"The Sin of Madelon Claudet\", \"1931/32\", \"1\", \"1\"], [\"Since You Went Away\", \"1944\", \"1\", \"9\"], [\"Skippy\", \"1930/31\", \"1\", \"4\"], [\"Sky Above and Mud Beneath (Le Ciel et la boue)\", \"1961\", \"1\", \"1\"], [\"The Snake Pit\", \"1948\", \"1\", \"6\"], [\"Snow White and the Seven Dwarfs\", \"1937\", \"0 (1)\", \"1\"], [\"So Much for So Little\", \"1949\", \"1\", \"1\"], [\"So This Is Harris!\", \"1932/33\", \"1\", \"1\"], [\"The Solid Gold Cadillac\", \"1956\", \"1\", \"2\"], [\"Some Like It Hot\", \"1959\", \"1\", \"6\"], [\"Somebody Up There Likes Me\", \"1956\", \"2\", \"3\"], [\"The Song of Bernadette\", \"1943\", \"4\", \"12\"], [\"Song of the South\", \"1947\", \"1 (1)\", \"2\"], [\"Song Without End\", \"1960\", \"1\", \"1\"], [\"Sons and Lovers\", \"1960\", \"1\", \"7\"], [\"Sons of Liberty\", \"1939\", \"1\", \"1\"], [\"South Pacific\", \"1958\", \"1\", \"3\"], [\"Spartacus\", \"1960\", \"4\", \"6\"], [\"Spawn of the North\", \"1938\", \"0 (1)\", \"0\"], [\"Speaking of Animals and Their Families\", \"1942\", \"1\", \"1\"], [\"Speedy Gonzales\", \"1955\", \"1\", \"1\"], [\"Spellbound\", \"1945\", \"1\", \"6\"], [\"Splendor in the Grass\", \"1961\", \"1\", \"2\"], [\"Stagecoach\", \"1939\", \"2\", \"7\"], [\"Stairway to Light\", \"1945\", \"1\", \"1\"], [\"Stalag 17\", \"1953\", \"1\", \"3\"], [\"Star in the Night\", \"1945\", \"1\", \"1\"], [\"A Star Is Born\", \"1937\", \"1 (1)\", \"7\"], [\"State Fair\", \"1945\", \"1\", \"2\"], [\"The Story of Louis Pasteur\", \"1936\", \"3\", \"4\"], [\"The Stratton Story\", \"1949\", \"1\", \"1\"], [\"Street Angel\", \"1927/28\", \"1\", \"3\"], [\"A Streetcar Named Desire\", \"1951\", \"4\", \"12\"], [\"Strike Up the Band\", \"1940\", \"1\", \"3\"], [\"The Substitute\", \"1961\", \"1\", \"1\"], [\"Sundays and Cybele (Le Dimanches de Ville d'Avray)\", \"1962\", \"1\", \"3\"], [\"Sunrise\", \"1927/28\", \"3\", \"4[9]\"], [\"Sunset Boulevard\", \"1950\", \"3\", \"11\"], [\"Survival City\", \"1955\", \"1\", \"1\"], [\"Suspicion\", \"1941\", \"1\", \"3\"], [\"Sweet Bird of Youth\", \"1962\", \"1\", \"3\"], [\"Sweethearts\", \"1938\", \"0 (1)\", \"2\"], [\"Swing Time\", \"1936\", \"1\", \"2\"], [\"Symphony of a City\", \"1948\", \"1\", \"1\"], [\"Tabu\", \"1930/31\", \"1\", \"1\"], [\"Target for Tonight\", \"1941\", \"0 (1)\", \"0\"], [\"Teddy, the Rough Rider\", \"1940\", \"1\", \"1\"], [\"Tempest\", \"1927/28\", \"1\", \"1\"], [\"The Ten Commandments\", \"1956\", \"1\", \"7\"], [\"That Hamilton Woman\", \"1941\", \"1\", \"4\"], [\"That Mothers Might Live\", \"1938\", \"1\", \"1\"], [\"The Thief of Bagdad\", \"1940\", \"3\", \"4\"], [\"The Third Man\", \"1950\", \"1\", \"3\"], [\"Thirty Seconds Over Tokyo\", \"1944\", \"1\", \"2\"], [\"This Above All\", \"1942\", \"1\", \"4\"], [\"This Is the Army\", \"1943\", \"1\", \"3\"], [\"This Land Is Mine\", \"1943\", \"1\", \"1\"], [\"This Mechanical Age\", \"1954\", \"1\", \"1\"], [\"Three Coins in the Fountain\", \"1954\", \"2\", \"3\"], [\"The Three Faces of Eve\", \"1957\", \"1\", \"1\"], [\"Three Little Pigs\", \"1932/33\", \"1\", \"1\"], [\"Three Orphan Kittens\", \"1935\", \"1\", \"1\"], [\"Through a Glass Darkly (S\\u00e5som i en spegel)\", \"1961\", \"1\", \"2\"], [\"Thunderball\", \"1965\", \"1\", \"1\"], [\"Thursday's Children\", \"1954\", \"1\", \"1\"], [\"The Time Machine\", \"1960\", \"1\", \"1\"], [\"A Time Out of War\", \"1954\", \"1\", \"1\"], [\"Tin Pan Alley\", \"1940\", \"1\", \"1\"], [\"The Titan: Story of Michelangelo\", \"1950\", \"1\", \"1\"], [\"Titanic\", \"1953\", \"1\", \"2\"], [\"To Catch a Thief\", \"1955\", \"1\", \"3\"], [\"To Each His Own\", \"1946\", \"1\", \"2\"], [\"To Kill a Mockingbird\", \"1962\", \"3\", \"8\"], [\"Tom Jones\", \"1963\", \"4\", \"10\"], [\"tom thumb\", \"1958\", \"1\", \"1\"], [\"Toot, Whistle, Plunk and Boom\", \"1953\", \"1\", \"1\"], [\"Topkapi\", \"1964\", \"1\", \"1\"], [\"The Tortoise and the Hare\", \"1934\", \"1\", \"1\"], [\"Torture Money\", \"1937\", \"1\", \"1\"], [\"Toward Independence\", \"1948\", \"1\", \"1\"], [\"Transatlantic\", \"1931/32\", \"1\", \"1\"], [\"The Treasure of the Sierra Madre\", \"1948\", \"3\", \"4\"], [\"A Tree Grows in Brooklyn\", \"1945\", \"1\", \"2\"], [\"The True Glory\", \"1945\", \"1\", \"1\"], [\"The True Story of the Civil War\", \"1956\", \"1\", \"1\"], [\"Tweetie Pie\", \"1947\", \"1\", \"1\"], [\"Twelve O'Clock High\", \"1949\", \"2\", \"4\"], [\"Two Arabian Knights\", \"1927/28\", \"1\", \"1\"], [\"The Two Mouseketeers\", \"1951\", \"1\", \"1\"], [\"Two Women (La Ciociara)\", \"1961\", \"1\", \"1\"], [\"The Ugly Duckling\", \"1939\", \"1\", \"1\"], [\"Underworld\", \"1927/28\", \"1\", \"1\"], [\"The V.I.P.s\", \"1963\", \"1\", \"1\"], [\"Vacation from Marriage (UK title Perfect Strangers)\", \"1946\", \"1\", \"1\"], [\"Van Gogh\", \"1949\", \"1\", \"1\"], [\"The Vanishing Prairie\", \"1954\", \"1\", \"1\"], [\"The Virgin Spring (Jungfruk\\u00e4llan)\", \"1960\", \"1\", \"2\"], [\"Viva Villa!\", \"1934\", \"1\", \"4\"], [\"Viva Zapata!\", \"1952\", \"1\", \"5\"], [\"Waikiki Wedding\", \"1937\", \"1\", \"2\"], [\"The Walls of Malapaga\", \"1950\", \"0 (1)\", \"0\"], [\"The War of the Worlds\", \"1953\", \"1\", \"3\"], [\"Watch on the Rhine\", \"1943\", \"1\", \"4\"], [\"Water Birds\", \"1952\", \"1\", \"1\"], [\"The Way of All Flesh\", \"1927/28\", \"1\", \"1\"], [\"West Side Story\", \"1961\", \"10\", \"11\"], [\"The Westerner\", \"1940\", \"1\", \"3\"], [\"The Wetback Hound\", \"1957\", \"1\", \"1\"], [\"What Ever Happened to Baby Jane?\", \"1962\", \"1\", \"5\"], [\"When Tomorrow Comes\", \"1939\", \"1\", \"1\"], [\"When Magoo Flew\", \"1954\", \"1\", \"1\"], [\"When Worlds Collide\", \"1951\", \"1\", \"2\"], [\"White Shadows in the South Seas\", \"1928/29\", \"1\", \"1\"], [\"White Wilderness\", \"1958\", \"1\", \"2\"], [\"Who's Who in Animal Land\", \"1944\", \"1\", \"1\"], [\"Why Korea?\", \"1950\", \"1\", \"1\"], [\"Wilson\", \"1944\", \"5\", \"10\"], [\"Wings\", \"1927/28\", \"2\", \"2\"], [\"Wings Over Everest\", \"1935\", \"1\", \"1\"], [\"With a Song in My Heart\", \"1952\", \"1\", \"5\"], [\"With Byrd at the South Pole\", \"1929/30\", \"1\", \"1\"], [\"With the Marines at Tarawa\", \"1944\", \"1\", \"1\"], [\"The Wizard of Oz\", \"1939\", \"2\", \"6[10]\"], [\"Woman of the Year\", \"1942\", \"1\", \"2\"], [\"Wonder Man\", \"1945\", \"1\", \"4\"], [\"The Wonderful World of the Brothers Grimm\", \"1962\", \"1\", \"4\"], [\"World of Kids\", \"1951\", \"1\", \"1\"], [\"World Without Sun (Le Monde sans soleil)\", \"1964\", \"1\", \"1\"], [\"Wrestling Swordfish\", \"1931/32\", \"1\", \"1\"], [\"Written on the Wind\", \"1956\", \"1\", \"3\"], [\"Wuthering Heights\", \"1939\", \"1\", \"8\"], [\"Yankee Doodle Dandy\", \"1942\", \"3\", \"8\"], [\"The Yankee Doodle Mouse\", \"1943\", \"1\", \"1\"], [\"The Yearling\", \"1946\", \"2\", \"7\"], [\"Yesterday, Today and Tomorrow (Ieri, oggi, domani)\", \"1964\", \"1\", \"1\"], [\"You Can't Take It with You\", \"1938\", \"2\", \"7\"], [\"Zorba the Greek (Alexis Zorbas)\", \"1964\", \"3\", \"7\"]];\n",
       "\n",
       "        // Define the dt_args\n",
       "        let dt_args = {\"layout\": {\"topStart\": \"pageLength\", \"topEnd\": \"search\", \"bottomStart\": \"info\", \"bottomEnd\": \"paging\"}, \"order\": []};\n",
       "        dt_args[\"data\"] = data;\n",
       "\n",
       "        \n",
       "        new DataTable(table, dt_args);\n",
       "    });\n",
       "</script>\n"
      ],
      "text/plain": [
       "<IPython.core.display.HTML object>"
      ]
     },
     "metadata": {},
     "output_type": "display_data"
    }
   ],
   "source": [
    "my_website = \"https://en.wikipedia.org/wiki/List_of_Academy_Award%E2%80%93winning_films\"\n",
    "DF = pd.read_html(my_website)\n",
    "DF_raw = DF[0]\n",
    "show(DF_raw)"
   ]
  },
  {
   "cell_type": "code",
   "execution_count": 205,
   "id": "ddd62d4d-675f-4706-9b79-993e5b5ad343",
   "metadata": {},
   "outputs": [
    {
     "data": {
      "text/html": [
       "<div>\n",
       "<style scoped>\n",
       "    .dataframe tbody tr th:only-of-type {\n",
       "        vertical-align: middle;\n",
       "    }\n",
       "\n",
       "    .dataframe tbody tr th {\n",
       "        vertical-align: top;\n",
       "    }\n",
       "\n",
       "    .dataframe thead th {\n",
       "        text-align: right;\n",
       "    }\n",
       "</style>\n",
       "<table border=\"1\" class=\"dataframe\">\n",
       "  <thead>\n",
       "    <tr style=\"text-align: right;\">\n",
       "      <th></th>\n",
       "      <th>Year</th>\n",
       "      <th>count</th>\n",
       "    </tr>\n",
       "  </thead>\n",
       "  <tbody>\n",
       "    <tr>\n",
       "      <th>0</th>\n",
       "      <td>1945</td>\n",
       "      <td>21</td>\n",
       "    </tr>\n",
       "    <tr>\n",
       "      <th>1</th>\n",
       "      <td>1949</td>\n",
       "      <td>20</td>\n",
       "    </tr>\n",
       "    <tr>\n",
       "      <th>2</th>\n",
       "      <td>1942</td>\n",
       "      <td>20</td>\n",
       "    </tr>\n",
       "    <tr>\n",
       "      <th>3</th>\n",
       "      <td>1950</td>\n",
       "      <td>19</td>\n",
       "    </tr>\n",
       "    <tr>\n",
       "      <th>4</th>\n",
       "      <td>1948</td>\n",
       "      <td>19</td>\n",
       "    </tr>\n",
       "    <tr>\n",
       "      <th>...</th>\n",
       "      <td>...</td>\n",
       "      <td>...</td>\n",
       "    </tr>\n",
       "    <tr>\n",
       "      <th>91</th>\n",
       "      <td>1931</td>\n",
       "      <td>10</td>\n",
       "    </tr>\n",
       "    <tr>\n",
       "      <th>92</th>\n",
       "      <td>1932</td>\n",
       "      <td>9</td>\n",
       "    </tr>\n",
       "    <tr>\n",
       "      <th>93</th>\n",
       "      <td>1928</td>\n",
       "      <td>7</td>\n",
       "    </tr>\n",
       "    <tr>\n",
       "      <th>94</th>\n",
       "      <td>1929</td>\n",
       "      <td>6</td>\n",
       "    </tr>\n",
       "    <tr>\n",
       "      <th>95</th>\n",
       "      <td>1930</td>\n",
       "      <td>6</td>\n",
       "    </tr>\n",
       "  </tbody>\n",
       "</table>\n",
       "<p>96 rows × 2 columns</p>\n",
       "</div>"
      ],
      "text/plain": [
       "    Year  count\n",
       "0   1945     21\n",
       "1   1949     20\n",
       "2   1942     20\n",
       "3   1950     19\n",
       "4   1948     19\n",
       "..   ...    ...\n",
       "91  1931     10\n",
       "92  1932      9\n",
       "93  1928      7\n",
       "94  1929      6\n",
       "95  1930      6\n",
       "\n",
       "[96 rows x 2 columns]"
      ]
     },
     "execution_count": 205,
     "metadata": {},
     "output_type": "execute_result"
    }
   ],
   "source": [
    "# Here is some helper code\n",
    "# This is code that will read in the data and then fix the Year column\n",
    "my_website = \"https://en.wikipedia.org/wiki/List_of_Academy_Award%E2%80%93winning_films\"\n",
    "DF = pd.read_html(my_website)\n",
    "DF_raw = DF[0]\n",
    "DF_raw['Year'] = DF_raw['Year'].apply(lambda x: int(x.split('/')[0]))\n",
    "DF_raw['Year'].value_counts().reset_index().rename(columns={\"index\": \"value\", 0: \"count\"})"
   ]
  },
  {
   "cell_type": "markdown",
   "id": "4c70b364-4c59-4631-87a4-552d7abaac2a",
   "metadata": {},
   "source": [
    "**Q4** Following along with the lecture notes or video, fix the data in the 'Awards' column."
   ]
  },
  {
   "cell_type": "code",
   "execution_count": 183,
   "id": "5d2ba9d3-404b-4319-a11e-5f49bcbde5b2",
   "metadata": {},
   "outputs": [
    {
     "data": {
      "text/plain": [
       "Film           object\n",
       "Year            int64\n",
       "Awards         object\n",
       "Nominations    object\n",
       "dtype: object"
      ]
     },
     "execution_count": 183,
     "metadata": {},
     "output_type": "execute_result"
    }
   ],
   "source": [
    "DF_raw.dtypes"
   ]
  },
  {
   "cell_type": "code",
   "execution_count": 209,
   "id": "e51c0742-d796-4f63-a3e9-c98cdec76247",
   "metadata": {},
   "outputs": [],
   "source": [
    "# Your code here\n",
    "DF_raw['Awards'] = DF_raw['Awards'].apply(lambda x: int(x.split('(')[0]))"
   ]
  },
  {
   "cell_type": "code",
   "execution_count": 213,
   "id": "18f6cd27-c24c-4815-a664-80736825be60",
   "metadata": {},
   "outputs": [
    {
     "data": {
      "text/html": [
       "<div>\n",
       "<style scoped>\n",
       "    .dataframe tbody tr th:only-of-type {\n",
       "        vertical-align: middle;\n",
       "    }\n",
       "\n",
       "    .dataframe tbody tr th {\n",
       "        vertical-align: top;\n",
       "    }\n",
       "\n",
       "    .dataframe thead th {\n",
       "        text-align: right;\n",
       "    }\n",
       "</style>\n",
       "<table border=\"1\" class=\"dataframe\">\n",
       "  <thead>\n",
       "    <tr style=\"text-align: right;\">\n",
       "      <th></th>\n",
       "      <th>Awards</th>\n",
       "      <th>count</th>\n",
       "    </tr>\n",
       "  </thead>\n",
       "  <tbody>\n",
       "    <tr>\n",
       "      <th>0</th>\n",
       "      <td>1</td>\n",
       "      <td>987</td>\n",
       "    </tr>\n",
       "    <tr>\n",
       "      <th>1</th>\n",
       "      <td>2</td>\n",
       "      <td>157</td>\n",
       "    </tr>\n",
       "    <tr>\n",
       "      <th>2</th>\n",
       "      <td>3</td>\n",
       "      <td>78</td>\n",
       "    </tr>\n",
       "    <tr>\n",
       "      <th>3</th>\n",
       "      <td>4</td>\n",
       "      <td>48</td>\n",
       "    </tr>\n",
       "    <tr>\n",
       "      <th>4</th>\n",
       "      <td>0</td>\n",
       "      <td>36</td>\n",
       "    </tr>\n",
       "    <tr>\n",
       "      <th>5</th>\n",
       "      <td>5</td>\n",
       "      <td>26</td>\n",
       "    </tr>\n",
       "    <tr>\n",
       "      <th>6</th>\n",
       "      <td>7</td>\n",
       "      <td>13</td>\n",
       "    </tr>\n",
       "    <tr>\n",
       "      <th>7</th>\n",
       "      <td>6</td>\n",
       "      <td>13</td>\n",
       "    </tr>\n",
       "    <tr>\n",
       "      <th>8</th>\n",
       "      <td>8</td>\n",
       "      <td>8</td>\n",
       "    </tr>\n",
       "    <tr>\n",
       "      <th>9</th>\n",
       "      <td>11</td>\n",
       "      <td>3</td>\n",
       "    </tr>\n",
       "    <tr>\n",
       "      <th>10</th>\n",
       "      <td>9</td>\n",
       "      <td>3</td>\n",
       "    </tr>\n",
       "    <tr>\n",
       "      <th>11</th>\n",
       "      <td>10</td>\n",
       "      <td>1</td>\n",
       "    </tr>\n",
       "  </tbody>\n",
       "</table>\n",
       "</div>"
      ],
      "text/plain": [
       "    Awards  count\n",
       "0        1    987\n",
       "1        2    157\n",
       "2        3     78\n",
       "3        4     48\n",
       "4        0     36\n",
       "5        5     26\n",
       "6        7     13\n",
       "7        6     13\n",
       "8        8      8\n",
       "9       11      3\n",
       "10       9      3\n",
       "11      10      1"
      ]
     },
     "execution_count": 213,
     "metadata": {},
     "output_type": "execute_result"
    }
   ],
   "source": [
    "award_data = DF_raw['Awards'].value_counts()\n",
    "DF_award = award_data.reset_index().rename(columns={\"index\": \"value\", 0: \"count\"})\n",
    "DF_award"
   ]
  },
  {
   "cell_type": "markdown",
   "id": "ada5ce86-e820-481b-a8c8-ab5f063b0ad5",
   "metadata": {},
   "source": [
    "**Q5** Now try to fix the data in the \"Nominations\" column - see if you can do it without looking at the answer."
   ]
  },
  {
   "cell_type": "code",
   "execution_count": 215,
   "id": "57571cc2-dbca-4354-b0db-676b03005f3c",
   "metadata": {},
   "outputs": [
    {
     "data": {
      "text/plain": [
       "Film           object\n",
       "Year            int64\n",
       "Awards          int64\n",
       "Nominations    object\n",
       "dtype: object"
      ]
     },
     "execution_count": 215,
     "metadata": {},
     "output_type": "execute_result"
    }
   ],
   "source": [
    "# Your code here\n",
    "DF_raw.dtypes"
   ]
  },
  {
   "cell_type": "code",
   "execution_count": 248,
   "id": "d8bb64b7-33f0-4c87-97da-dbcd1cfeaf12",
   "metadata": {},
   "outputs": [
    {
     "ename": "AttributeError",
     "evalue": "'int' object has no attribute 'split'",
     "output_type": "error",
     "traceback": [
      "\u001b[0;31m---------------------------------------------------------------------------\u001b[0m",
      "\u001b[0;31mAttributeError\u001b[0m                            Traceback (most recent call last)",
      "Cell \u001b[0;32mIn[248], line 1\u001b[0m\n\u001b[0;32m----> 1\u001b[0m DF_raw[\u001b[38;5;124m'\u001b[39m\u001b[38;5;124mNominations\u001b[39m\u001b[38;5;124m'\u001b[39m] \u001b[38;5;241m=\u001b[39m DF_raw[\u001b[38;5;124m'\u001b[39m\u001b[38;5;124mNominations\u001b[39m\u001b[38;5;124m'\u001b[39m]\u001b[38;5;241m.\u001b[39mapply(\u001b[38;5;28;01mlambda\u001b[39;00m x: \u001b[38;5;28mint\u001b[39m(x\u001b[38;5;241m.\u001b[39msplit(\u001b[38;5;124m'\u001b[39m\u001b[38;5;124m[\u001b[39m\u001b[38;5;124m'\u001b[39m)[\u001b[38;5;241m0\u001b[39m]))\n",
      "File \u001b[0;32m/opt/anaconda3/lib/python3.12/site-packages/pandas/core/series.py:4924\u001b[0m, in \u001b[0;36mSeries.apply\u001b[0;34m(self, func, convert_dtype, args, by_row, **kwargs)\u001b[0m\n\u001b[1;32m   4789\u001b[0m \u001b[38;5;28;01mdef\u001b[39;00m \u001b[38;5;21mapply\u001b[39m(\n\u001b[1;32m   4790\u001b[0m     \u001b[38;5;28mself\u001b[39m,\n\u001b[1;32m   4791\u001b[0m     func: AggFuncType,\n\u001b[0;32m   (...)\u001b[0m\n\u001b[1;32m   4796\u001b[0m     \u001b[38;5;241m*\u001b[39m\u001b[38;5;241m*\u001b[39mkwargs,\n\u001b[1;32m   4797\u001b[0m ) \u001b[38;5;241m-\u001b[39m\u001b[38;5;241m>\u001b[39m DataFrame \u001b[38;5;241m|\u001b[39m Series:\n\u001b[1;32m   4798\u001b[0m \u001b[38;5;250m    \u001b[39m\u001b[38;5;124;03m\"\"\"\u001b[39;00m\n\u001b[1;32m   4799\u001b[0m \u001b[38;5;124;03m    Invoke function on values of Series.\u001b[39;00m\n\u001b[1;32m   4800\u001b[0m \n\u001b[0;32m   (...)\u001b[0m\n\u001b[1;32m   4915\u001b[0m \u001b[38;5;124;03m    dtype: float64\u001b[39;00m\n\u001b[1;32m   4916\u001b[0m \u001b[38;5;124;03m    \"\"\"\u001b[39;00m\n\u001b[1;32m   4917\u001b[0m     \u001b[38;5;28;01mreturn\u001b[39;00m SeriesApply(\n\u001b[1;32m   4918\u001b[0m         \u001b[38;5;28mself\u001b[39m,\n\u001b[1;32m   4919\u001b[0m         func,\n\u001b[1;32m   4920\u001b[0m         convert_dtype\u001b[38;5;241m=\u001b[39mconvert_dtype,\n\u001b[1;32m   4921\u001b[0m         by_row\u001b[38;5;241m=\u001b[39mby_row,\n\u001b[1;32m   4922\u001b[0m         args\u001b[38;5;241m=\u001b[39margs,\n\u001b[1;32m   4923\u001b[0m         kwargs\u001b[38;5;241m=\u001b[39mkwargs,\n\u001b[0;32m-> 4924\u001b[0m     )\u001b[38;5;241m.\u001b[39mapply()\n",
      "File \u001b[0;32m/opt/anaconda3/lib/python3.12/site-packages/pandas/core/apply.py:1427\u001b[0m, in \u001b[0;36mSeriesApply.apply\u001b[0;34m(self)\u001b[0m\n\u001b[1;32m   1424\u001b[0m     \u001b[38;5;28;01mreturn\u001b[39;00m \u001b[38;5;28mself\u001b[39m\u001b[38;5;241m.\u001b[39mapply_compat()\n\u001b[1;32m   1426\u001b[0m \u001b[38;5;66;03m# self.func is Callable\u001b[39;00m\n\u001b[0;32m-> 1427\u001b[0m \u001b[38;5;28;01mreturn\u001b[39;00m \u001b[38;5;28mself\u001b[39m\u001b[38;5;241m.\u001b[39mapply_standard()\n",
      "File \u001b[0;32m/opt/anaconda3/lib/python3.12/site-packages/pandas/core/apply.py:1507\u001b[0m, in \u001b[0;36mSeriesApply.apply_standard\u001b[0;34m(self)\u001b[0m\n\u001b[1;32m   1501\u001b[0m \u001b[38;5;66;03m# row-wise access\u001b[39;00m\n\u001b[1;32m   1502\u001b[0m \u001b[38;5;66;03m# apply doesn't have a `na_action` keyword and for backward compat reasons\u001b[39;00m\n\u001b[1;32m   1503\u001b[0m \u001b[38;5;66;03m# we need to give `na_action=\"ignore\"` for categorical data.\u001b[39;00m\n\u001b[1;32m   1504\u001b[0m \u001b[38;5;66;03m# TODO: remove the `na_action=\"ignore\"` when that default has been changed in\u001b[39;00m\n\u001b[1;32m   1505\u001b[0m \u001b[38;5;66;03m#  Categorical (GH51645).\u001b[39;00m\n\u001b[1;32m   1506\u001b[0m action \u001b[38;5;241m=\u001b[39m \u001b[38;5;124m\"\u001b[39m\u001b[38;5;124mignore\u001b[39m\u001b[38;5;124m\"\u001b[39m \u001b[38;5;28;01mif\u001b[39;00m \u001b[38;5;28misinstance\u001b[39m(obj\u001b[38;5;241m.\u001b[39mdtype, CategoricalDtype) \u001b[38;5;28;01melse\u001b[39;00m \u001b[38;5;28;01mNone\u001b[39;00m\n\u001b[0;32m-> 1507\u001b[0m mapped \u001b[38;5;241m=\u001b[39m obj\u001b[38;5;241m.\u001b[39m_map_values(\n\u001b[1;32m   1508\u001b[0m     mapper\u001b[38;5;241m=\u001b[39mcurried, na_action\u001b[38;5;241m=\u001b[39maction, convert\u001b[38;5;241m=\u001b[39m\u001b[38;5;28mself\u001b[39m\u001b[38;5;241m.\u001b[39mconvert_dtype\n\u001b[1;32m   1509\u001b[0m )\n\u001b[1;32m   1511\u001b[0m \u001b[38;5;28;01mif\u001b[39;00m \u001b[38;5;28mlen\u001b[39m(mapped) \u001b[38;5;129;01mand\u001b[39;00m \u001b[38;5;28misinstance\u001b[39m(mapped[\u001b[38;5;241m0\u001b[39m], ABCSeries):\n\u001b[1;32m   1512\u001b[0m     \u001b[38;5;66;03m# GH#43986 Need to do list(mapped) in order to get treated as nested\u001b[39;00m\n\u001b[1;32m   1513\u001b[0m     \u001b[38;5;66;03m#  See also GH#25959 regarding EA support\u001b[39;00m\n\u001b[1;32m   1514\u001b[0m     \u001b[38;5;28;01mreturn\u001b[39;00m obj\u001b[38;5;241m.\u001b[39m_constructor_expanddim(\u001b[38;5;28mlist\u001b[39m(mapped), index\u001b[38;5;241m=\u001b[39mobj\u001b[38;5;241m.\u001b[39mindex)\n",
      "File \u001b[0;32m/opt/anaconda3/lib/python3.12/site-packages/pandas/core/base.py:921\u001b[0m, in \u001b[0;36mIndexOpsMixin._map_values\u001b[0;34m(self, mapper, na_action, convert)\u001b[0m\n\u001b[1;32m    918\u001b[0m \u001b[38;5;28;01mif\u001b[39;00m \u001b[38;5;28misinstance\u001b[39m(arr, ExtensionArray):\n\u001b[1;32m    919\u001b[0m     \u001b[38;5;28;01mreturn\u001b[39;00m arr\u001b[38;5;241m.\u001b[39mmap(mapper, na_action\u001b[38;5;241m=\u001b[39mna_action)\n\u001b[0;32m--> 921\u001b[0m \u001b[38;5;28;01mreturn\u001b[39;00m algorithms\u001b[38;5;241m.\u001b[39mmap_array(arr, mapper, na_action\u001b[38;5;241m=\u001b[39mna_action, convert\u001b[38;5;241m=\u001b[39mconvert)\n",
      "File \u001b[0;32m/opt/anaconda3/lib/python3.12/site-packages/pandas/core/algorithms.py:1743\u001b[0m, in \u001b[0;36mmap_array\u001b[0;34m(arr, mapper, na_action, convert)\u001b[0m\n\u001b[1;32m   1741\u001b[0m values \u001b[38;5;241m=\u001b[39m arr\u001b[38;5;241m.\u001b[39mastype(\u001b[38;5;28mobject\u001b[39m, copy\u001b[38;5;241m=\u001b[39m\u001b[38;5;28;01mFalse\u001b[39;00m)\n\u001b[1;32m   1742\u001b[0m \u001b[38;5;28;01mif\u001b[39;00m na_action \u001b[38;5;129;01mis\u001b[39;00m \u001b[38;5;28;01mNone\u001b[39;00m:\n\u001b[0;32m-> 1743\u001b[0m     \u001b[38;5;28;01mreturn\u001b[39;00m lib\u001b[38;5;241m.\u001b[39mmap_infer(values, mapper, convert\u001b[38;5;241m=\u001b[39mconvert)\n\u001b[1;32m   1744\u001b[0m \u001b[38;5;28;01melse\u001b[39;00m:\n\u001b[1;32m   1745\u001b[0m     \u001b[38;5;28;01mreturn\u001b[39;00m lib\u001b[38;5;241m.\u001b[39mmap_infer_mask(\n\u001b[1;32m   1746\u001b[0m         values, mapper, mask\u001b[38;5;241m=\u001b[39misna(values)\u001b[38;5;241m.\u001b[39mview(np\u001b[38;5;241m.\u001b[39muint8), convert\u001b[38;5;241m=\u001b[39mconvert\n\u001b[1;32m   1747\u001b[0m     )\n",
      "File \u001b[0;32mlib.pyx:2972\u001b[0m, in \u001b[0;36mpandas._libs.lib.map_infer\u001b[0;34m()\u001b[0m\n",
      "Cell \u001b[0;32mIn[248], line 1\u001b[0m, in \u001b[0;36m<lambda>\u001b[0;34m(x)\u001b[0m\n\u001b[0;32m----> 1\u001b[0m DF_raw[\u001b[38;5;124m'\u001b[39m\u001b[38;5;124mNominations\u001b[39m\u001b[38;5;124m'\u001b[39m] \u001b[38;5;241m=\u001b[39m DF_raw[\u001b[38;5;124m'\u001b[39m\u001b[38;5;124mNominations\u001b[39m\u001b[38;5;124m'\u001b[39m]\u001b[38;5;241m.\u001b[39mapply(\u001b[38;5;28;01mlambda\u001b[39;00m x: \u001b[38;5;28mint\u001b[39m(x\u001b[38;5;241m.\u001b[39msplit(\u001b[38;5;124m'\u001b[39m\u001b[38;5;124m[\u001b[39m\u001b[38;5;124m'\u001b[39m)[\u001b[38;5;241m0\u001b[39m]))\n",
      "\u001b[0;31mAttributeError\u001b[0m: 'int' object has no attribute 'split'"
     ]
    }
   ],
   "source": [
    "DF_raw['Nominations'] = DF_raw['Nominations'].apply(lambda x: int(x.split('[')[0]))\n"
   ]
  },
  {
   "cell_type": "code",
   "execution_count": 242,
   "id": "17b3dcd7-4fdb-4ef6-9af8-096fd6220fc3",
   "metadata": {},
   "outputs": [
    {
     "data": {
      "text/html": [
       "<div>\n",
       "<style scoped>\n",
       "    .dataframe tbody tr th:only-of-type {\n",
       "        vertical-align: middle;\n",
       "    }\n",
       "\n",
       "    .dataframe tbody tr th {\n",
       "        vertical-align: top;\n",
       "    }\n",
       "\n",
       "    .dataframe thead th {\n",
       "        text-align: right;\n",
       "    }\n",
       "</style>\n",
       "<table border=\"1\" class=\"dataframe\">\n",
       "  <thead>\n",
       "    <tr style=\"text-align: right;\">\n",
       "      <th></th>\n",
       "      <th>Nominations</th>\n",
       "      <th>count</th>\n",
       "    </tr>\n",
       "  </thead>\n",
       "  <tbody>\n",
       "    <tr>\n",
       "      <th>0</th>\n",
       "      <td>1</td>\n",
       "      <td>553</td>\n",
       "    </tr>\n",
       "    <tr>\n",
       "      <th>1</th>\n",
       "      <td>2</td>\n",
       "      <td>141</td>\n",
       "    </tr>\n",
       "    <tr>\n",
       "      <th>2</th>\n",
       "      <td>4</td>\n",
       "      <td>115</td>\n",
       "    </tr>\n",
       "    <tr>\n",
       "      <th>3</th>\n",
       "      <td>5</td>\n",
       "      <td>104</td>\n",
       "    </tr>\n",
       "    <tr>\n",
       "      <th>4</th>\n",
       "      <td>3</td>\n",
       "      <td>104</td>\n",
       "    </tr>\n",
       "    <tr>\n",
       "      <th>5</th>\n",
       "      <td>6</td>\n",
       "      <td>80</td>\n",
       "    </tr>\n",
       "    <tr>\n",
       "      <th>6</th>\n",
       "      <td>7</td>\n",
       "      <td>75</td>\n",
       "    </tr>\n",
       "    <tr>\n",
       "      <th>7</th>\n",
       "      <td>8</td>\n",
       "      <td>61</td>\n",
       "    </tr>\n",
       "    <tr>\n",
       "      <th>8</th>\n",
       "      <td>10</td>\n",
       "      <td>40</td>\n",
       "    </tr>\n",
       "    <tr>\n",
       "      <th>9</th>\n",
       "      <td>9</td>\n",
       "      <td>31</td>\n",
       "    </tr>\n",
       "    <tr>\n",
       "      <th>10</th>\n",
       "      <td>11</td>\n",
       "      <td>24</td>\n",
       "    </tr>\n",
       "    <tr>\n",
       "      <th>11</th>\n",
       "      <td>12</td>\n",
       "      <td>17</td>\n",
       "    </tr>\n",
       "    <tr>\n",
       "      <th>12</th>\n",
       "      <td>0</td>\n",
       "      <td>14</td>\n",
       "    </tr>\n",
       "    <tr>\n",
       "      <th>13</th>\n",
       "      <td>13</td>\n",
       "      <td>11</td>\n",
       "    </tr>\n",
       "    <tr>\n",
       "      <th>14</th>\n",
       "      <td>14</td>\n",
       "      <td>3</td>\n",
       "    </tr>\n",
       "  </tbody>\n",
       "</table>\n",
       "</div>"
      ],
      "text/plain": [
       "    Nominations  count\n",
       "0             1    553\n",
       "1             2    141\n",
       "2             4    115\n",
       "3             5    104\n",
       "4             3    104\n",
       "5             6     80\n",
       "6             7     75\n",
       "7             8     61\n",
       "8            10     40\n",
       "9             9     31\n",
       "10           11     24\n",
       "11           12     17\n",
       "12            0     14\n",
       "13           13     11\n",
       "14           14      3"
      ]
     },
     "execution_count": 242,
     "metadata": {},
     "output_type": "execute_result"
    }
   ],
   "source": [
    "nomination_data = DF_raw['Nominations'].value_counts()\n",
    "DF_award = nomination_data.reset_index().rename(columns={\"index\": \"value\", 0: \"count\"})\n",
    "DF_award"
   ]
  },
  {
   "cell_type": "code",
   "execution_count": 244,
   "id": "feadc4bb-9d85-43d7-8f58-3aeaf321ef5b",
   "metadata": {},
   "outputs": [
    {
     "data": {
      "text/plain": [
       "Film           object\n",
       "Year            int64\n",
       "Awards          int64\n",
       "Nominations     int64\n",
       "dtype: object"
      ]
     },
     "execution_count": 244,
     "metadata": {},
     "output_type": "execute_result"
    }
   ],
   "source": [
    "DF_raw.dtypes"
   ]
  },
  {
   "cell_type": "markdown",
   "id": "8f1c8227-7b3e-4067-9b49-bd9c58752402",
   "metadata": {},
   "source": [
    "## Problem 1\n",
    "\n",
    "Your homework today will be to see if you can find some data of your own. This can be the first steps you take toward your final project. \n",
    "\n",
    "You should:\n",
    "\n",
    "* Find some data online\n",
    "* Read that data into Python using the Pandas commands we learned\n",
    "* Look at the DataFrame - number of variables, number of observations, AND the dtypes. Comment on what you see.\n",
    "* Try to do summary statistics (.describe()). Does it work like expected?\n",
    "* Attempt to fix any data, or explain why the data does not need to be fixed.\n",
    "* Make some sort of graph using columns in your data."
   ]
  },
  {
   "cell_type": "markdown",
   "id": "1ea59e01-c1eb-4843-bbd4-e86afee80d70",
   "metadata": {},
   "source": [
    "https://en.wikipedia.org/wiki/Tony_Award_for_Best_Musical"
   ]
  },
  {
   "cell_type": "code",
   "execution_count": 257,
   "id": "578ad570-5dfa-46a0-86c8-f4610bacaf36",
   "metadata": {},
   "outputs": [
    {
     "data": {
      "text/html": [
       "<table id=\"itables_aaf8f043_a5aa_4fd4_bd29_13af3937b2e8\" class=\"display nowrap\" data-quarto-disable-processing=\"true\" style=\"table-layout:auto;width:auto;margin:auto;caption-side:bottom\">\n",
       "<thead>\n",
       "    <tr style=\"text-align: right;\">\n",
       "      \n",
       "      <th>Year</th>\n",
       "      <th>Musical</th>\n",
       "      <th>Producer(s)</th>\n",
       "    </tr>\n",
       "  </thead><tbody><tr>\n",
       "<td style=\"vertical-align:middle; text-align:left\">\n",
       "<div style=\"float:left; margin-right: 10px;\">\n",
       "<a href=https://mwouts.github.io/itables/><svg class=\"main-svg\" xmlns=\"http://www.w3.org/2000/svg\" xmlns:xlink=\"http://www.w3.org/1999/xlink\"\n",
       "width=\"64\" viewBox=\"0 0 500 400\" style=\"font-family: 'Droid Sans', sans-serif;\">\n",
       "    <g style=\"fill:#d9d7fc\">\n",
       "        <path d=\"M100,400H500V357H100Z\" />\n",
       "        <path d=\"M100,300H400V257H100Z\" />\n",
       "        <path d=\"M0,200H400V157H0Z\" />\n",
       "        <path d=\"M100,100H500V57H100Z\" />\n",
       "        <path d=\"M100,350H500V307H100Z\" />\n",
       "        <path d=\"M100,250H400V207H100Z\" />\n",
       "        <path d=\"M0,150H400V107H0Z\" />\n",
       "        <path d=\"M100,50H500V7H100Z\" />\n",
       "    </g>\n",
       "    <g style=\"fill:#1a1366;stroke:#1a1366;\">\n",
       "   <rect x=\"100\" y=\"7\" width=\"400\" height=\"43\">\n",
       "    <animate\n",
       "      attributeName=\"width\"\n",
       "      values=\"0;400;0\"\n",
       "      dur=\"5s\"\n",
       "      repeatCount=\"indefinite\" />\n",
       "      <animate\n",
       "      attributeName=\"x\"\n",
       "      values=\"100;100;500\"\n",
       "      dur=\"5s\"\n",
       "      repeatCount=\"indefinite\" />\n",
       "  </rect>\n",
       "        <rect x=\"0\" y=\"107\" width=\"400\" height=\"43\">\n",
       "    <animate\n",
       "      attributeName=\"width\"\n",
       "      values=\"0;400;0\"\n",
       "      dur=\"3.5s\"\n",
       "      repeatCount=\"indefinite\" />\n",
       "    <animate\n",
       "      attributeName=\"x\"\n",
       "      values=\"0;0;400\"\n",
       "      dur=\"3.5s\"\n",
       "      repeatCount=\"indefinite\" />\n",
       "  </rect>\n",
       "        <rect x=\"100\" y=\"207\" width=\"300\" height=\"43\">\n",
       "    <animate\n",
       "      attributeName=\"width\"\n",
       "      values=\"0;300;0\"\n",
       "      dur=\"3s\"\n",
       "      repeatCount=\"indefinite\" />\n",
       "    <animate\n",
       "      attributeName=\"x\"\n",
       "      values=\"100;100;400\"\n",
       "      dur=\"3s\"\n",
       "      repeatCount=\"indefinite\" />\n",
       "  </rect>\n",
       "        <rect x=\"100\" y=\"307\" width=\"400\" height=\"43\">\n",
       "    <animate\n",
       "      attributeName=\"width\"\n",
       "      values=\"0;400;0\"\n",
       "      dur=\"4s\"\n",
       "      repeatCount=\"indefinite\" />\n",
       "      <animate\n",
       "      attributeName=\"x\"\n",
       "      values=\"100;100;500\"\n",
       "      dur=\"4s\"\n",
       "      repeatCount=\"indefinite\" />\n",
       "  </rect>\n",
       "        <g style=\"fill:transparent;stroke-width:8; stroke-linejoin:round\" rx=\"5\">\n",
       "            <g transform=\"translate(45 50) rotate(-45)\">\n",
       "                <circle r=\"33\" cx=\"0\" cy=\"0\" />\n",
       "                <rect x=\"-8\" y=\"32\" width=\"16\" height=\"30\" />\n",
       "            </g>\n",
       "\n",
       "            <g transform=\"translate(450 152)\">\n",
       "                <polyline points=\"-15,-20 -35,-20 -35,40 25,40 25,20\" />\n",
       "                <rect x=\"-15\" y=\"-40\" width=\"60\" height=\"60\" />\n",
       "            </g>\n",
       "\n",
       "            <g transform=\"translate(50 352)\">\n",
       "                <polygon points=\"-35,-5 0,-40 35,-5\" />\n",
       "                <polygon points=\"-35,10 0,45 35,10\" />\n",
       "            </g>\n",
       "\n",
       "            <g transform=\"translate(75 250)\">\n",
       "                <polyline points=\"-30,30 -60,0 -30,-30\" />\n",
       "                <polyline points=\"0,30 -30,0 0,-30\" />\n",
       "            </g>\n",
       "\n",
       "            <g transform=\"translate(425 250) rotate(180)\">\n",
       "                <polyline points=\"-30,30 -60,0 -30,-30\" />\n",
       "                <polyline points=\"0,30 -30,0 0,-30\" />\n",
       "            </g>\n",
       "        </g>\n",
       "    </g>\n",
       "</svg>\n",
       "</a>\n",
       "</div>\n",
       "<div>\n",
       "Loading ITables v2.1.4 from the internet...\n",
       "(need <a href=https://mwouts.github.io/itables/troubleshooting.html>help</a>?)</td>\n",
       "</div>\n",
       "</tr></tbody>\n",
       "\n",
       "</table>\n",
       "<link href=\"https://www.unpkg.com/dt_for_itables@2.0.11/dt_bundle.css\" rel=\"stylesheet\">\n",
       "<script type=\"module\">\n",
       "    import {DataTable, jQuery as $} from 'https://www.unpkg.com/dt_for_itables@2.0.11/dt_bundle.js';\n",
       "\n",
       "    document.querySelectorAll(\"#itables_aaf8f043_a5aa_4fd4_bd29_13af3937b2e8:not(.dataTable)\").forEach(table => {\n",
       "        // Define the table data\n",
       "        const data = [[\"1960 (14th) [6]\", \"NaN\", \"NaN\"], [\"1960 (14th) [6]\", \"The Sound of Music Book by Howard Lindsay and Russel Crouse, Music by Richard Rodgers, Lyrics by Oscar Hammerstein II\", \"Leland Hayward, Richard Halliday, Richard Rodgers, & Oscar Hammerstein II (posthumous)\"], [\"1960 (14th) [6]\", \"Fiorello! Book by George Abbott and Jerome Weidman, Music by Jerry Bock, Lyrics by Sheldon Harnick\", \"Robert E. Griffith & Harold Prince\"], [\"1960 (14th) [6]\", \"Gypsy  Book by Arthur Laurents, Music by Jule Styne, Lyrics by Stephen Sondheim\", \"David Merrick and Leland Hayward\"], [\"1960 (14th) [6]\", \"Once Upon a Mattress  Book by Marshall Barer, Dean Fuller, and Jay Thompson, Music by Mary Rodgers, Lyrics by Barer\", \"T. Edward Hambleton, Norris Houghton, William and Jean Eckart\"], [\"1960 (14th) [6]\", \"Take Me Along  Book by Bob Russell and Joseph Stein, Music & Lyrics by Bob Merrill\", \"David Merrick\"], [\"1961 (15th) [7]\", \"NaN\", \"NaN\"], [\"1961 (15th) [7]\", \"Bye Bye Birdie Book by Michael Stewart, Music by Charles Strouse, Lyrics by Lee Adams\", \"Edward Padula in association with L. Slade Brown\"], [\"1961 (15th) [7]\", \"Do Re Mi Book by Garson Kanin, Music by Jule Styne, Lyrics by Betty Comden and Adolph Green\", \"David Merrick\"], [\"1961 (15th) [7]\", \"Irma La Douce Book & Lyrics by Alexandre Breffort, Music by Marguerite Monnot English Book & Lyrics by David Heneker, Julian More, and Monty Norman\", \"David Merrick in association with Donald Albery, H. M. Tennent Ltd.\"], [\"1962 (16th) [8]\", \"NaN\", \"NaN\"], [\"1962 (16th) [8]\", \"How to Succeed in Business Without Really Trying Book by Abe Burrows, Willie Gilbert, and Jack Weinstock, Music & Lyrics by Frank Loesser\", \"Cy Feuer & Ernest H. Martin\"], [\"1962 (16th) [8]\", \"Carnival! Book by Helen Deutsch and Michael Stewart, Music & lyrics by Bob Merrill\", \"David Merrick\"], [\"1962 (16th) [8]\", \"Milk and Honey Book by Don Appell, Music & Lyrics by Jerry Herman\", \"Gerard Oestreicher\"], [\"1962 (16th) [8]\", \"No Strings Book by Samuel A. Taylor, Music & Lyrics by Richard Rodgers\", \"Richard Rodgers in association with Samuel Taylor\"], [\"1963 (17th) [9]\", \"NaN\", \"NaN\"], [\"1963 (17th) [9]\", \"A Funny Thing Happened on the Way to the Forum Book by Larry Gelbart and Burt Shevelove, Music & Lyrics by Stephen Sondheim\", \"Harold Prince\"], [\"1963 (17th) [9]\", \"Little Me  Book by Neil Simon, Music by Cy Coleman, Lyrics by Carolyn Leigh\", \"Cy Feuer & Ernest H. Martin\"], [\"1963 (17th) [9]\", \"Oliver! Book, Music, & Lyrics by Lionel Bart\", \"David Merrick and Donald Albery\"], [\"1963 (17th) [9]\", \"Stop the World \\u2013 I Want to Get Off Book, Music & Lyrics by Leslie Bricusse and Anthony Newley\", \"David Merrick in association with Bernard Delfont\"], [\"1964 (18th) [10]\", \"NaN\", \"NaN\"], [\"1964 (18th) [10]\", \"Hello, Dolly! Book by Michael Stewart, Music & Lyrics by Jerry Herman\", \"David Merrick\"], [\"1964 (18th) [10]\", \"Funny Girl Book by Isobel Lennart, Music by Jule Styne, Lyrics by Bob Merrill\", \"Ray Stark\"], [\"1964 (18th) [10]\", \"High Spirits Book, Music & Lyrics by Timothy Gray and Hugh Martin\", \"Lester Osterman, Robert Fletcher, and Richard Horner\"], [\"1964 (18th) [10]\", \"She Loves Me Book by Joe Masteroff, Music by Jerry Bock, Lyrics by Sheldon Harnick\", \"Harold Prince in association with Lawrence Kasha and Philip C. McKenna\"], [\"1965 (19th) [11]\", \"NaN\", \"NaN\"], [\"1965 (19th) [11]\", \"Fiddler on the Roof Book by Joseph Stein, Music by Jerry Bock, Lyrics by Sheldon Harnick\", \"Harold Prince\"], [\"1965 (19th) [11]\", \"Golden Boy Book by William Gibson and Clifford Odets, Music by Charles Strouse, Lyrics by Lee Adams\", \"Hillard Elkins\"], [\"1965 (19th) [11]\", \"Half a Sixpence Book by Beverley Cross, Music & Lyrics by David Heneker\", \"Allen Hodgdon, Stevens Productions, Harold Fielding\"], [\"1965 (19th) [11]\", \"Oh, What a Lovely War! Book by Joan Littlewood and Theatre Workshop, Music & Lyrics by Various Artists\", \"David Merrick and Gerry Raffles\"], [\"1966 (20th) [12]\", \"NaN\", \"NaN\"], [\"1966 (20th) [12]\", \"Man of La Mancha  Book by Dale Wasserman, Music by Mitch Leigh, Lyrics by Joe Darion\", \"Albert W. Seldon and Hal James\"], [\"1966 (20th) [12]\", \"Mame Book by Jerome Lawrence and Robert E. Lee, Music & Lyrics by Jerry Herman\", \"Sylvia and Joseph Harris, Robert Fryer and Lawrence Carr\"], [\"1966 (20th) [12]\", \"Skyscraper Book by Peter Stone, Music by Jimmy Van Heusen, Lyrics by Sammy Cahn\", \"Cy Feuer & Ernest H. Martin\"], [\"1966 (20th) [12]\", \"Sweet Charity Book by Neil Simon, Music by Cy Coleman, Lyrics by Dorothy Fields\", \"Sylvia and Joseph Harris, Robert Fryer and Lawrence Carr\"], [\"1967 (21st) [13]\", \"NaN\", \"NaN\"], [\"1967 (21st) [13]\", \"Cabaret Book by Joe Masteroff, Music by John Kander, Lyrics by Fred Ebb\", \"Harold Prince in association with Ruth Mitchell\"], [\"1967 (21st) [13]\", \"I Do! I Do! Book & Lyrics by Tom Jones, Music by Harvey Schmidt\", \"David Merrick\"], [\"1967 (21st) [13]\", \"The Apple Tree Book by Jerry Bock and Sheldon Harnick, and Jerome Coopersmith, Music by Bock, Lyrics by Harnick\", \"Stuart Ostrow\"], [\"1967 (21st) [13]\", \"Walking Happy Book by Ketti Frings and Roger O. Hirson, Music by Jimmy Van Heusen, Lyrics by Sammy Cahn\", \"Cy Feuer & Ernest H. Martin\"], [\"1968 (22nd) [14]\", \"NaN\", \"NaN\"], [\"1968 (22nd) [14]\", \"Hallelujah, Baby! Book by Arthur Laurents, Music by Jule Styne, Lyrics by Betty Comden and Adolph Green\", \"Albert Selden, Hal James, Jane C. Nusbaum and Harry Rigby\"], [\"1968 (22nd) [14]\", \"The Happy Time Book by N. Richard Nash, Music by John Kander, Lyrics by Fred Ebb\", \"David Merrick\"], [\"1968 (22nd) [14]\", \"How Now, Dow Jones Book by Max Shulman, Music by Elmer Bernstein, Lyrics by Carolyn Leigh\", \"David Merrick\"], [\"1968 (22nd) [14]\", \"Illya Darling Book by Jules Dassin, Music by Manos Hatzidakis, Lyrics by Joe Darion\", \"Kermit Bloomgarden\"], [\"1969 (23rd) [15]\", \"NaN\", \"NaN\"], [\"1969 (23rd) [15]\", \"1776 Book by Peter Stone, Music & Lyrics by Sherman Edwards\", \"Stuart Ostrow\"], [\"1969 (23rd) [15]\", \"Hair Book by James Rado and Gerome Ragni, Music by Galt MacDermot, Lyrics by Rado\", \"Michael Butler\"], [\"1969 (23rd) [15]\", \"Promises, Promises Book by Neil Simon, Music by Burt Bacharach, Lyrics by Hal David\", \"David Merrick\"], [\"1969 (23rd) [15]\", \"Zorba Book by Joseph Stein, Music by John Kander, Lyrics by Fred Ebb\", \"Harold Prince\"]];\n",
       "\n",
       "        // Define the dt_args\n",
       "        let dt_args = {\"layout\": {\"topStart\": \"pageLength\", \"topEnd\": \"search\", \"bottomStart\": \"info\", \"bottomEnd\": \"paging\"}, \"order\": []};\n",
       "        dt_args[\"data\"] = data;\n",
       "\n",
       "        \n",
       "        new DataTable(table, dt_args);\n",
       "    });\n",
       "</script>\n"
      ],
      "text/plain": [
       "<IPython.core.display.HTML object>"
      ]
     },
     "metadata": {},
     "output_type": "display_data"
    }
   ],
   "source": [
    "my_website = \"https://en.wikipedia.org/wiki/Tony_Award_for_Best_Musical\"\n",
    "DF = pd.read_html(my_website)\n",
    "DF_raw = DF[3]\n",
    "show(DF_raw)"
   ]
  },
  {
   "cell_type": "code",
   "execution_count": null,
   "id": "7e7f05ff-96d7-4696-9ca7-de6e0d3e5573",
   "metadata": {},
   "outputs": [],
   "source": []
  }
 ],
 "metadata": {
  "kernelspec": {
   "display_name": "Python 3 (ipykernel)",
   "language": "python",
   "name": "python3"
  },
  "language_info": {
   "codemirror_mode": {
    "name": "ipython",
    "version": 3
   },
   "file_extension": ".py",
   "mimetype": "text/x-python",
   "name": "python",
   "nbconvert_exporter": "python",
   "pygments_lexer": "ipython3",
   "version": "3.12.2"
  }
 },
 "nbformat": 4,
 "nbformat_minor": 5
}
